{
 "cells": [
  {
   "cell_type": "code",
   "execution_count": 114,
   "metadata": {},
   "outputs": [],
   "source": [
    "import pickle\n",
    "import pandas as pd\n",
    "import numpy as np\n",
    "import torch\n",
    "import torch.nn as nn\n",
    "import torch.optim as optim\n",
    "import torch.utils.data as data\n",
    "from torch.utils.data import DataLoader, TensorDataset\n",
    "import math\n",
    "import copy\n",
    "import matplotlib.pyplot as plt\n",
    "import wandb\n",
    "import os"
   ]
  },
  {
   "attachments": {},
   "cell_type": "markdown",
   "metadata": {},
   "source": [
    "## Load data"
   ]
  },
  {
   "cell_type": "code",
   "execution_count": 151,
   "metadata": {},
   "outputs": [],
   "source": [
    "data = pickle.load(open(r'../Data/deltaQ_cycles.pkl', 'rb'))"
   ]
  },
  {
   "cell_type": "code",
   "execution_count": 231,
   "metadata": {},
   "outputs": [],
   "source": [
    "y = np.zeros(124)\n",
    "\n",
    "x = np.zeros((124, 30, 3))\n",
    "for i, cell in enumerate(data.keys()):\n",
    "    x[i, :, 0] = data[cell][\"DeltaQ_logVars\"][19:]\n",
    "    x[i, :, 1] = np.log10(-data[cell][\"DeltaQ_mins\"][19:])\n",
    "    x[i, :, 2] = data[cell][\"DeltaQ_means\"][19:]\n",
    "    y[i] = np.log10(data[cell][\"cycle_life\"])"
   ]
  },
  {
   "cell_type": "code",
   "execution_count": 232,
   "metadata": {},
   "outputs": [],
   "source": [
    "# convert to tensors and concatenate features and labels\n",
    "x = torch.Tensor(x)\n",
    "y = torch.Tensor(y)"
   ]
  },
  {
   "cell_type": "code",
   "execution_count": 154,
   "metadata": {},
   "outputs": [],
   "source": [
    "test_ind = np.array([ 0,  2,  4,  6,  8, 10, 12, 14, 16, 18, 20, 22, 24, 26, 28, 30, 32,\n",
    "       34, 36, 38, 40, 42, 44, 46, 48, 50, 52, 54, 56, 58, 60, 62, 64, 66,\n",
    "       68, 70, 72, 74, 76, 78, 80, 82, 83])\n",
    "\n",
    "train_ind = np.array([ 1,  5,  7,  9, 11, 13, 15, 19, 21, 23, 25, 27, 29, 31, 33,\n",
    "       35, 37, 39, 41, 43, 45, 47, 49, 51, 53, 55, 57, 59, 61, 63, 65, 67,\n",
    "       69, 71, 73, 75, 77, 79, 81])\n",
    "\n",
    "secondary_ind = np.array([ 84,  85,  86,  87,  88,  89,  90,  91,  92,  93,  94,  95,  96,\n",
    "        97,  98,  99, 100, 101, 102, 103, 104, 105, 106, 107, 108, 109,\n",
    "       110, 111, 112, 113, 114, 115, 116, 117, 118, 119, 120, 121, 122,\n",
    "       123])"
   ]
  },
  {
   "cell_type": "code",
   "execution_count": 297,
   "metadata": {},
   "outputs": [],
   "source": [
    "train = TensorDataset(torch.Tensor(x[train_ind]),torch.Tensor(y[train_ind]))\n",
    "test = TensorDataset(torch.Tensor(x[test_ind]),torch.Tensor(y[test_ind]))\n",
    "stest = TensorDataset(torch.Tensor(x[secondary_ind]),torch.Tensor(y[secondary_ind]))"
   ]
  },
  {
   "attachments": {},
   "cell_type": "markdown",
   "metadata": {},
   "source": [
    "## Transformer Model"
   ]
  },
  {
   "cell_type": "code",
   "execution_count": 156,
   "metadata": {},
   "outputs": [],
   "source": [
    "class PositionalEncoding(nn.Module):\n",
    "\n",
    "    def __init__(self, d_model, dropout=0.1, max_len=1024):\n",
    "        super(PositionalEncoding, self).__init__()\n",
    "        self.dropout = nn.Dropout(p=dropout)\n",
    "        self.pe = nn.Parameter(torch.empty(max_len, 1, d_model))  # requires_grad automatically set to True\n",
    "        nn.init.uniform_(self.pe, -0.02, 0.02)\n",
    "\n",
    "    def forward(self, x):\n",
    "        x = x + self.pe[:x.size(0), :]\n",
    "        return self.dropout(x)"
   ]
  },
  {
   "cell_type": "code",
   "execution_count": 179,
   "metadata": {},
   "outputs": [],
   "source": [
    "class FullModel(torch.nn.Module):\n",
    "\n",
    "    def __init__(self, feat_dim, max_len, d_model, n_heads, num_layers, dim_feedforward,\n",
    "                 dropout=0.0, freeze=False):\n",
    "        super(FullModel, self).__init__()\n",
    "\n",
    "        self.max_len = max_len\n",
    "        self.d_model = d_model\n",
    "        self.n_heads = n_heads\n",
    "\n",
    "        self.project_inp = nn.Linear(feat_dim, d_model)\n",
    "        self.pos_enc = PositionalEncoding(d_model, dropout=dropout*(1.0 - freeze), max_len=max_len)\n",
    "\n",
    "        encoder_layer = nn.TransformerEncoderLayer(d_model, self.n_heads, dim_feedforward, dropout*(1.0 - freeze))\n",
    "        self.transformer_encoder = nn.TransformerEncoder(encoder_layer, num_layers)\n",
    "\n",
    "        self.dropout1 = nn.Dropout(dropout)\n",
    "\n",
    "        self.feat_dim = feat_dim\n",
    "        self.output_layer = self.build_output_module(d_model, max_len)\n",
    "\n",
    "    def build_output_module(self, d_model, max_len):\n",
    "        output_layer = nn.Linear(d_model * max_len, 1)\n",
    "        return output_layer\n",
    "\n",
    "    def forward(self, X):\n",
    "        \"\"\"\n",
    "        Args:\n",
    "            X: (batch_size, seq_length, feat_dim) torch tensor of masked features (input)\n",
    "        Returns:\n",
    "            output: (batch_size, num_classes)\n",
    "        \"\"\"\n",
    "\n",
    "        # permute because pytorch convention for transformers is [seq_length, batch_size, feat_dim]. padding_masks [batch_size, feat_dim]\n",
    "        inp = X.permute(1, 0, 2)\n",
    "        inp = self.project_inp(inp) * math.sqrt(\n",
    "            self.d_model)  # [seq_length, batch_size, d_model] project input vectors to d_model dimensional space\n",
    "        inp = self.pos_enc(inp)  # add positional encoding\n",
    "        output = self.transformer_encoder(inp)  # (seq_length, batch_size, d_model)\n",
    "        #output = self.act(output)  # the output transformer encoder/decoder embeddings don't include non-linearity\n",
    "        output = output.permute(1, 0, 2)  # (batch_size, seq_length, d_model)\n",
    "        #output = self.dropout1(output)\n",
    "\n",
    "        # Output\n",
    "        output = output.reshape(output.shape[0], -1)  # (batch_size, seq_length * d_model)\n",
    "        output = self.output_layer(output)  # (batch_size, num_classes)\n",
    "\n",
    "        return output"
   ]
  },
  {
   "attachments": {},
   "cell_type": "markdown",
   "metadata": {},
   "source": [
    "## Train"
   ]
  },
  {
   "cell_type": "code",
   "execution_count": 294,
   "metadata": {},
   "outputs": [],
   "source": [
    "use_cuda = torch.cuda.is_available()\n",
    "device = torch.device(\"cuda\" if use_cuda else \"cpu\")\n",
    "\n",
    "feat_dim = 3\n",
    "max_len = 30\n",
    "d_model = 12\n",
    "dim_feedforward = 12\n",
    "num_layers = 2\n",
    "n_heads = 1\n",
    "dropout = 0.0\n",
    "\n",
    "nepoch = 300\n",
    "batch_size = 1\n",
    "lr = 0.0001"
   ]
  },
  {
   "cell_type": "code",
   "execution_count": 159,
   "metadata": {},
   "outputs": [],
   "source": [
    "os.environ['WANDB_NOTEBOOK_NAME'] = \"transformer_multivariate.ipynb\""
   ]
  },
  {
   "cell_type": "code",
   "execution_count": 270,
   "metadata": {},
   "outputs": [
    {
     "data": {
      "text/html": [
       "wandb version 0.15.5 is available!  To upgrade, please run:\n",
       " $ pip install wandb --upgrade"
      ],
      "text/plain": [
       "<IPython.core.display.HTML object>"
      ]
     },
     "metadata": {},
     "output_type": "display_data"
    },
    {
     "data": {
      "text/html": [
       "Tracking run with wandb version 0.15.4"
      ],
      "text/plain": [
       "<IPython.core.display.HTML object>"
      ]
     },
     "metadata": {},
     "output_type": "display_data"
    },
    {
     "data": {
      "text/html": [
       "Run data is saved locally in <code>c:\\Users\\kyan3\\Documents\\toyota-rips\\transformer\\wandb\\run-20230706_141802-28ea7bkz</code>"
      ],
      "text/plain": [
       "<IPython.core.display.HTML object>"
      ]
     },
     "metadata": {},
     "output_type": "display_data"
    },
    {
     "data": {
      "text/html": [
       "Syncing run <strong><a href='https://wandb.ai/rips_toyota/rips_toyota/runs/28ea7bkz' target=\"_blank\">transformer_karena_8</a></strong> to <a href='https://wandb.ai/rips_toyota/rips_toyota' target=\"_blank\">Weights & Biases</a> (<a href='https://wandb.me/run' target=\"_blank\">docs</a>)<br/>"
      ],
      "text/plain": [
       "<IPython.core.display.HTML object>"
      ]
     },
     "metadata": {},
     "output_type": "display_data"
    },
    {
     "data": {
      "text/html": [
       " View project at <a href='https://wandb.ai/rips_toyota/rips_toyota' target=\"_blank\">https://wandb.ai/rips_toyota/rips_toyota</a>"
      ],
      "text/plain": [
       "<IPython.core.display.HTML object>"
      ]
     },
     "metadata": {},
     "output_type": "display_data"
    },
    {
     "data": {
      "text/html": [
       " View run at <a href='https://wandb.ai/rips_toyota/rips_toyota/runs/28ea7bkz' target=\"_blank\">https://wandb.ai/rips_toyota/rips_toyota/runs/28ea7bkz</a>"
      ],
      "text/plain": [
       "<IPython.core.display.HTML object>"
      ]
     },
     "metadata": {},
     "output_type": "display_data"
    },
    {
     "data": {
      "text/html": [
       "<button onClick=\"this.nextSibling.style.display='block';this.style.display='none';\">Display W&B run</button><iframe src='https://wandb.ai/rips_toyota/rips_toyota/runs/28ea7bkz?jupyter=true' style='border:none;width:100%;height:420px;display:none;'></iframe>"
      ],
      "text/plain": [
       "<wandb.sdk.wandb_run.Run at 0x200c23574c0>"
      ]
     },
     "execution_count": 270,
     "metadata": {},
     "output_type": "execute_result"
    }
   ],
   "source": [
    "wandb.init(\n",
    "    # set the wandb project where this run will be logged\n",
    "    project=\"rips_toyota\",\n",
    "    name=\"transformer_karena_8\", \n",
    "    # track hyperparameters and run metadata\n",
    "    config={\n",
    "    \"learning_rate\": lr,\n",
    "    \"epochs\": nepoch,\n",
    "    \"architecture\": \"transformer multivariate\",\n",
    "    \"features\": \"partial logVar(DeltaQ), logmin(DeltaQ), mean(DeltaQ) timeseries\",\n",
    "    \"target\": \"loglifetime\",\n",
    "    \"d_model\": d_model,\n",
    "    \"num_layers\": num_layers,\n",
    "    \"num_heads\": n_heads,\n",
    "    \"dropout\": dropout,\n",
    "    \"batch_size\": batch_size\n",
    "    }\n",
    ")"
   ]
  },
  {
   "cell_type": "code",
   "execution_count": 295,
   "metadata": {},
   "outputs": [
    {
     "name": "stderr",
     "output_type": "stream",
     "text": [
      "c:\\Users\\kyan3\\miniconda3\\envs\\toyota\\lib\\site-packages\\torch\\nn\\modules\\loss.py:536: UserWarning: Using a target size (torch.Size([1])) that is different to the input size (torch.Size([1, 1])). This will likely lead to incorrect results due to broadcasting. Please ensure they have the same size.\n",
      "  return F.mse_loss(input, target, reduction=self.reduction)\n"
     ]
    },
    {
     "name": "stdout",
     "output_type": "stream",
     "text": [
      "Epochs: 10 | rmse:  316.500 | rmse_test:  555.638 | rmse_stest:  563.142\n",
      "Epochs: 20 | rmse:  328.509 | rmse_test:  407.946 | rmse_stest:  440.162\n",
      "Epochs: 30 | rmse:  300.357 | rmse_test:  381.187 | rmse_stest:  417.129\n",
      "Epochs: 40 | rmse:  300.078 | rmse_test:  456.368 | rmse_stest:  473.639\n",
      "Epochs: 50 | rmse:  283.033 | rmse_test:  451.963 | rmse_stest:  467.904\n",
      "Epochs: 60 | rmse:  305.416 | rmse_test:  428.040 | rmse_stest:  446.322\n",
      "Epochs: 70 | rmse:  258.636 | rmse_test:  563.962 | rmse_stest:  563.977\n",
      "Epochs: 80 | rmse:  245.463 | rmse_test:  370.880 | rmse_stest:  396.402\n",
      "Epochs: 90 | rmse:  295.839 | rmse_test:  589.499 | rmse_stest:  586.827\n",
      "Epochs: 100 | rmse:  230.399 | rmse_test:  364.457 | rmse_stest:  384.317\n",
      "Epochs: 110 | rmse:  211.895 | rmse_test:  372.057 | rmse_stest:  386.848\n",
      "Epochs: 120 | rmse:  217.502 | rmse_test:  403.068 | rmse_stest:  411.171\n",
      "Epochs: 130 | rmse:  204.111 | rmse_test:  289.340 | rmse_stest:  316.120\n",
      "Epochs: 140 | rmse:  208.688 | rmse_test:  338.785 | rmse_stest:  350.958\n",
      "Epochs: 150 | rmse:  201.154 | rmse_test:  310.725 | rmse_stest:  326.576\n",
      "Epochs: 160 | rmse:  175.465 | rmse_test:  363.280 | rmse_stest:  365.560\n",
      "Epochs: 170 | rmse:  184.599 | rmse_test:  292.061 | rmse_stest:  304.349\n",
      "Epochs: 180 | rmse:  182.966 | rmse_test:  264.056 | rmse_stest:  289.891\n",
      "Epochs: 190 | rmse:  150.441 | rmse_test:  373.340 | rmse_stest:  364.662\n",
      "Epochs: 200 | rmse:  154.106 | rmse_test:  282.866 | rmse_stest:  285.741\n"
     ]
    }
   ],
   "source": [
    "# Load nodel, loss function, and optimizer\n",
    "model = FullModel(feat_dim=feat_dim, max_len=max_len, d_model=d_model, n_heads=n_heads,\n",
    "                  num_layers=num_layers, dim_feedforward=dim_feedforward, dropout=dropout).to(device)\n",
    "criterion = nn.MSELoss().to(device)\n",
    "optimizer = torch.optim.Adam(model.parameters(), lr=lr)\n",
    "\n",
    "\n",
    "model.train()\n",
    "\n",
    "# Training loop\n",
    "for i in range(nepoch):\n",
    "    total_loss_train = 0.0\n",
    "    total_loss_test = 0.0\n",
    "    total_loss_stest = 0.0\n",
    "\n",
    "    train_batched = DataLoader(train,batch_size=batch_size,shuffle=True)\n",
    "    test_batched = DataLoader(test,batch_size=1)\n",
    "    stest_batched = DataLoader(stest,batch_size=1)\n",
    "\n",
    "    for j,batch in enumerate(train_batched):\n",
    "        optimizer.zero_grad()\n",
    "        train_input, train_label = batch\n",
    "        output = model(train_input.to(device))\n",
    "        loss = criterion(10**output, 10**train_label)\n",
    "        total_loss_train += loss.item()\n",
    "\n",
    "        loss.backward()\n",
    "        optimizer.step()\n",
    "\n",
    "    for cell in test_batched:\n",
    "        test_input, test_label = cell\n",
    "        test_output = model(test_input.to(device))\n",
    "        test_loss = criterion(10**test_output, 10**test_label)\n",
    "\n",
    "        total_loss_test += test_loss.item()\n",
    "\n",
    "    for cell in stest_batched:\n",
    "        stest_input, stest_label = cell\n",
    "        stest_output = model(stest_input.to(device))\n",
    "        stest_loss = criterion(10**stest_output, 10**stest_label)\n",
    "        \n",
    "\n",
    "        # print(i, output, train_label, loss)\n",
    "        total_loss_stest += stest_loss.item()\n",
    "\n",
    "    rmse_train = np.sqrt(total_loss_train / (j+1))\n",
    "    rmse_test = np.sqrt(total_loss_test / len(test))\n",
    "    rmse_stest = np.sqrt(total_loss_stest / len(stest))\n",
    "    #wandb.log({\"Epoch\": i+1, \"RMSE_train\": rmse_train, \"RMSE_test\": rmse_test, \"RMSE_stest\": rmse_stest})\n",
    "    if (i+1)%10 == 0: \n",
    "        print(f'Epochs: {i + 1} | rmse: {rmse_train: .3f} | rmse_test: {rmse_test: .3f} | rmse_stest: {rmse_stest: .3f}')\n",
    "\n",
    "#wandb.finish()"
   ]
  },
  {
   "cell_type": "code",
   "execution_count": 296,
   "metadata": {},
   "outputs": [
    {
     "data": {
      "text/plain": [
       "[<matplotlib.lines.Line2D at 0x200c206e050>]"
      ]
     },
     "execution_count": 296,
     "metadata": {},
     "output_type": "execute_result"
    },
    {
     "data": {
      "image/png": "[encoded data removed]",
      "text/plain": [
       "<Figure size 640x480 with 1 Axes>"
      ]
     },
     "metadata": {},
     "output_type": "display_data"
    }
   ],
   "source": [
    "fig,ax = plt.subplots()\n",
    "colors = [\"blue\",\"red\",\"orange\"]\n",
    "for i,dataset in enumerate([train,test,stest]):\n",
    "    predicted =[]\n",
    "    labels = []\n",
    "    for cell in dataset:\n",
    "        input, label = cell\n",
    "        predicted.append(10**model(input[None,:].to(device)).detach().numpy()[0,0])\n",
    "        labels.append(10**label)\n",
    "\n",
    "    ax.plot(labels, predicted, \".\",color=colors[i])\n",
    "    ax.set_xlabel(\"Truth\")\n",
    "    ax.set_ylabel(\"Predicted\")\n",
    "\n",
    "ax.plot(np.linspace(250,2250),np.linspace(250,2250),color=\"black\")"
   ]
  },
  {
   "cell_type": "code",
   "execution_count": null,
   "metadata": {},
   "outputs": [],
   "source": []
  }
 ],
 "metadata": {
  "kernelspec": {
   "display_name": "toyota",
   "language": "python",
   "name": "python3"
  },
  "language_info": {
   "codemirror_mode": {
    "name": "ipython",
    "version": 3
   },
   "file_extension": ".py",
   "mimetype": "text/x-python",
   "name": "python",
   "nbconvert_exporter": "python",
   "pygments_lexer": "ipython3",
   "version": "3.10.11"
  },
  "orig_nbformat": 4
 },
 "nbformat": 4,
 "nbformat_minor": 2
}
