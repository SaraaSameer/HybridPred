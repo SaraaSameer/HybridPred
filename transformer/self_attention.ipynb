{
 "cells": [
  {
   "cell_type": "code",
   "execution_count": 1,
   "metadata": {},
   "outputs": [],
   "source": [
    "import pickle\n",
    "import pandas as pd\n",
    "import numpy as np\n",
    "import torch\n",
    "import torch.nn as nn\n",
    "import torch.optim as optim\n",
    "import torch.utils.data as data\n",
    "from torch.utils.data import DataLoader, TensorDataset\n",
    "import math\n",
    "import copy\n",
    "import matplotlib.pyplot as plt\n",
    "import wandb\n",
    "import os"
   ]
  },
  {
   "attachments": {},
   "cell_type": "markdown",
   "metadata": {},
   "source": [
    "## Load data"
   ]
  },
  {
   "cell_type": "code",
   "execution_count": 2,
   "metadata": {},
   "outputs": [],
   "source": [
    "data = pickle.load(open(r'../Data/deltaQ_cycles_v2.pkl', 'rb'))"
   ]
  },
  {
   "cell_type": "code",
   "execution_count": 119,
   "metadata": {},
   "outputs": [],
   "source": [
    "y = np.zeros(124)\n",
    "\n",
    "x = np.zeros((124, 98, 1))\n",
    "for i, cell in enumerate(data.keys()):\n",
    "    x[i, :, 0] = data[cell][\"DeltaQ_logVars\"][:]\n",
    "    #x[i, :, 1] = np.log10(-data[cell][\"DeltaQ_mins\"][:])\n",
    "    #x[i, :, 1] = data[cell][\"DeltaQ_means\"][:]\n",
    "    #x[i, :, 2] = data[cell][\"DeltaTmax\"][:]\n",
    "    #x[i, :, 3] = data[cell][\"DeltaT_logVars\"][:]\n",
    "    #x[i, :, 3] = data[cell][\"DeltaQ_skews\"][19:]\n",
    "    #x[i, :, 4] = data[cell][\"DeltaQ_kurts\"][19:]\n",
    "    y[i] = np.log10(data[cell][\"cycle_life\"])"
   ]
  },
  {
   "cell_type": "code",
   "execution_count": 120,
   "metadata": {},
   "outputs": [],
   "source": [
    "# convert to tensors and concatenate features and labels\n",
    "x = torch.Tensor(x)\n",
    "y = torch.Tensor(y)"
   ]
  },
  {
   "cell_type": "code",
   "execution_count": 121,
   "metadata": {},
   "outputs": [],
   "source": [
    "test_ind = np.array([ 0,  2,  4,  6,  8, 10, 12, 14, 16, 18, 20, 22, 24, 26, 28, 30, 32,\n",
    "       34, 36, 38, 40, 42, 44, 46, 48, 50, 52, 54, 56, 58, 60, 62, 64, 66,\n",
    "       68, 70, 72, 74, 76, 78, 80, 82, 83])\n",
    "# was missing 3, 17 before\n",
    "train_ind = np.array([ 1,  3, 5,  7,  9, 11, 13, 15, 17, 19, 21, 23, 25, 27, 29, 31, 33,\n",
    "       35, 37, 39, 41, 43, 45, 47, 49, 51, 53, 55, 57, 59, 61, 63, 65, 67,\n",
    "       69, 71, 73, 75, 77, 79, 81])\n",
    "\n",
    "secondary_ind = np.array([ 84,  85,  86,  87,  88,  89,  90,  91,  92,  93,  94,  95,  96,\n",
    "        97,  98,  99, 100, 101, 102, 103, 104, 105, 106, 107, 108, 109,\n",
    "       110, 111, 112, 113, 114, 115, 116, 117, 118, 119, 120, 121, 122,\n",
    "       123])"
   ]
  },
  {
   "cell_type": "code",
   "execution_count": 122,
   "metadata": {},
   "outputs": [],
   "source": [
    "train = TensorDataset(torch.Tensor(x[train_ind]),torch.Tensor(y[train_ind]))\n",
    "test = TensorDataset(torch.Tensor(x[test_ind]),torch.Tensor(y[test_ind]))\n",
    "stest = TensorDataset(torch.Tensor(x[secondary_ind]),torch.Tensor(y[secondary_ind]))"
   ]
  },
  {
   "attachments": {},
   "cell_type": "markdown",
   "metadata": {},
   "source": [
    "## Transformer Model"
   ]
  },
  {
   "cell_type": "code",
   "execution_count": 63,
   "metadata": {},
   "outputs": [],
   "source": [
    "class AttentionModel(torch.nn.Module):\n",
    "    def __init__(self, d_model, feat_dim, vdim=1, num_heads=1):\n",
    "        super(AttentionModel, self).__init__()\n",
    "\n",
    "        self.W_q = nn.Linear(feat_dim, d_model)\n",
    "        self.W_k = nn.Linear(feat_dim, d_model)\n",
    "        self.W_v = nn.Linear(feat_dim, vdim)\n",
    "        self.d_model = d_model\n",
    "\n",
    "    def reshape_input(self,X):\n",
    "        return X.reshape(X.shape[0], -1)\n",
    "\n",
    "    def scaled_dot_product_attention(self, Q, K, V):\n",
    "        attn_scores = torch.matmul(Q, K.transpose(-2, -1)) / math.sqrt(self.d_model)\n",
    "        attn_probs = torch.softmax(attn_scores, dim=-1)\n",
    "        output = torch.matmul(attn_probs, V)\n",
    "        return output\n",
    "    \n",
    "    def forward(self, X):\n",
    "        X = self.reshape_input(X)\n",
    "        Q = self.W_q(X)\n",
    "        K = self.W_k(X)\n",
    "        V = self.W_v(X)\n",
    "\n",
    "        attn_output = self.scaled_dot_product_attention(Q, K, V)\n",
    "        return attn_output"
   ]
  },
  {
   "attachments": {},
   "cell_type": "markdown",
   "metadata": {},
   "source": [
    "## Train"
   ]
  },
  {
   "cell_type": "code",
   "execution_count": 152,
   "metadata": {},
   "outputs": [],
   "source": [
    "# parameters\n",
    "lr = 0.0001\n",
    "feat_dim = 98\n",
    "d_model = 16\n",
    "nepoch = 300\n",
    "batch_size = 1"
   ]
  },
  {
   "cell_type": "code",
   "execution_count": 153,
   "metadata": {},
   "outputs": [],
   "source": [
    "use_cuda = torch.cuda.is_available()\n",
    "device = torch.device(\"cuda\" if use_cuda else \"cpu\")"
   ]
  },
  {
   "cell_type": "code",
   "execution_count": 154,
   "metadata": {},
   "outputs": [
    {
     "name": "stdout",
     "output_type": "stream",
     "text": [
      "Epochs: 50 | rmse:  163.845 | rmse_test:  194.558 | rmse_stest:  320.352\n",
      "Epochs: 100 | rmse:  142.992 | rmse_test:  221.773 | rmse_stest:  293.299\n",
      "Epochs: 150 | rmse:  173.349 | rmse_test:  235.754 | rmse_stest:  283.143\n",
      "Epochs: 200 | rmse:  139.085 | rmse_test:  200.499 | rmse_stest:  370.164\n",
      "Epochs: 250 | rmse:  127.168 | rmse_test:  213.440 | rmse_stest:  384.961\n",
      "Epochs: 300 | rmse:  122.738 | rmse_test:  192.352 | rmse_stest:  327.505\n"
     ]
    }
   ],
   "source": [
    "# Load nodel, loss function, and optimizer\n",
    "model = AttentionModel(feat_dim=feat_dim,d_model=d_model)\n",
    "criterion = nn.MSELoss().to(device)\n",
    "optimizer = torch.optim.Adam(model.parameters(), lr=lr)\n",
    "\n",
    "\n",
    "model.train()\n",
    "\n",
    "# Training loop\n",
    "for i in range(nepoch):\n",
    "    total_loss_train = 0.0\n",
    "    total_loss_test = 0.0\n",
    "    total_loss_stest = 0.0\n",
    "\n",
    "    train_batched = DataLoader(train,batch_size=batch_size,shuffle=True)\n",
    "    test_batched = DataLoader(test,batch_size=1)\n",
    "    stest_batched = DataLoader(stest,batch_size=1)\n",
    "\n",
    "    for j,batch in enumerate(train_batched):\n",
    "        optimizer.zero_grad()\n",
    "        train_input, train_label = batch\n",
    "        output = model(train_input.to(device))\n",
    "        loss = criterion(10**output, 10**train_label)\n",
    "        total_loss_train += loss.item()\n",
    "\n",
    "        loss.backward()\n",
    "        optimizer.step()\n",
    "\n",
    "    for cell in test_batched:\n",
    "        test_input, test_label = cell\n",
    "        test_output = model(test_input.to(device))\n",
    "        test_loss = criterion(10**test_output, 10**test_label)\n",
    "\n",
    "        total_loss_test += test_loss.item()\n",
    "\n",
    "    for cell in stest_batched:\n",
    "        stest_input, stest_label = cell\n",
    "        stest_output = model(stest_input.to(device))\n",
    "        stest_loss = criterion(10**stest_output, 10**stest_label)\n",
    "        \n",
    "\n",
    "        # print(i, output, train_label, loss)\n",
    "        total_loss_stest += stest_loss.item()\n",
    "\n",
    "    rmse_train = np.sqrt(total_loss_train / (j+1))\n",
    "    rmse_test = np.sqrt(total_loss_test / len(test))\n",
    "    rmse_stest = np.sqrt(total_loss_stest / len(stest))\n",
    "    #wandb.log({\"Epoch\": i+1, \"RMSE_train\": rmse_train, \"RMSE_test\": rmse_test, \"RMSE_stest\": rmse_stest})\n",
    "    if (i+1)%50 == 0: \n",
    "        print(f'Epochs: {i + 1} | rmse: {rmse_train: .3f} | rmse_test: {rmse_test: .3f} | rmse_stest: {rmse_stest: .3f}')\n",
    "\n",
    "#wandb.finish()"
   ]
  },
  {
   "cell_type": "code",
   "execution_count": 94,
   "metadata": {},
   "outputs": [],
   "source": [
    "plt.style.use(\"seaborn-v0_8\")\n",
    "from matplotlib.patches import Patch"
   ]
  },
  {
   "cell_type": "code",
   "execution_count": 155,
   "metadata": {},
   "outputs": [
    {
     "data": {
      "text/plain": [
       "<matplotlib.legend.Legend at 0x1fe9f9de980>"
      ]
     },
     "execution_count": 155,
     "metadata": {},
     "output_type": "execute_result"
    },
    {
     "data": {
      "image/png": "[encoded data removed]",
      "text/plain": [
       "<Figure size 800x550 with 1 Axes>"
      ]
     },
     "metadata": {},
     "output_type": "display_data"
    }
   ],
   "source": [
    "fig,ax = plt.subplots()\n",
    "colors = [\"blue\",\"red\",\"orange\"]\n",
    "for i,dataset in enumerate([train,test,stest]):\n",
    "    predicted =[]\n",
    "    labels = []\n",
    "    for cell in dataset:\n",
    "        input, label = cell\n",
    "        predicted.append(10**model(input[None,:].to(device)).detach().numpy()[0,0])\n",
    "        labels.append(10**label)\n",
    "\n",
    "    ax.plot(labels, predicted, \".\",color=colors[i])\n",
    "    ax.set_xlabel(\"Truth\")\n",
    "    ax.set_ylabel(\"Predicted\")\n",
    "\n",
    "ax.plot(np.linspace(250,2250),np.linspace(250,2250),color=\"black\")\n",
    "ax.set_title(\"Battery Life Predictions by Transformer\",fontweight=\"semibold\")\n",
    "\n",
    "legend_elements = [Patch(facecolor='blue', label='Train'),\n",
    "                   Patch(facecolor='red', label='Test'),\n",
    "                   Patch(facecolor='orange', label='Secondary test')]\n",
    "ax.legend(handles=legend_elements)\n",
    "#plt.savefig(\"../images/transformer_output.png\",dpi=300)"
   ]
  },
  {
   "cell_type": "code",
   "execution_count": null,
   "metadata": {},
   "outputs": [],
   "source": []
  }
 ],
 "metadata": {
  "kernelspec": {
   "display_name": "toyota",
   "language": "python",
   "name": "python3"
  },
  "language_info": {
   "codemirror_mode": {
    "name": "ipython",
    "version": 3
   },
   "file_extension": ".py",
   "mimetype": "text/x-python",
   "name": "python",
   "nbconvert_exporter": "python",
   "pygments_lexer": "ipython3",
   "version": "3.10.11"
  },
  "orig_nbformat": 4
 },
 "nbformat": 4,
 "nbformat_minor": 2
}
