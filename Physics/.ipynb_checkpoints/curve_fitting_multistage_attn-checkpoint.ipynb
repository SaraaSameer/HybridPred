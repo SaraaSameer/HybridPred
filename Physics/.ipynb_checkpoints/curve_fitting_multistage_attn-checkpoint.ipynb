{
 "cells": [
  {
   "cell_type": "code",
   "execution_count": 1,
   "id": "29879ba2",
   "metadata": {},
   "outputs": [],
   "source": [
    "import numpy as np\n",
    "import matplotlib.pyplot as plt\n",
    "import pickle\n",
    "import math\n",
    "from scipy.optimize import curve_fit\n",
    "import torch\n",
    "import torch.nn as nn\n",
    "from torch.utils.data import DataLoader, TensorDataset\n",
    "import copy"
   ]
  },
  {
   "cell_type": "markdown",
   "id": "b3012a8c",
   "metadata": {},
   "source": [
    "## Load data to fit \"ground truth\" curves"
   ]
  },
  {
   "cell_type": "code",
   "execution_count": 2,
   "id": "53ab7ef4",
   "metadata": {},
   "outputs": [],
   "source": [
    "bat_dict = pickle.load(open(r'../Data/bat_dict_small.pkl', 'rb'))"
   ]
  },
  {
   "cell_type": "code",
   "execution_count": 3,
   "id": "3af288cd",
   "metadata": {},
   "outputs": [],
   "source": [
    "def func(x, a, b, c):\n",
    "    #return np.exp(a/temps)*x**b + c\n",
    "    return np.exp(a)*x**b + c"
   ]
  },
  {
   "cell_type": "code",
   "execution_count": 4,
   "id": "c0efead4",
   "metadata": {},
   "outputs": [],
   "source": [
    "params = []\n",
    "cycle_lives = []\n",
    "#pred_cycle_lives = []\n",
    "for id in bat_dict.keys():\n",
    "    bat = bat_dict[id]\n",
    "    #temps = np.mean(bat['summary']['Tavg'][1:cutoff])+273\n",
    "    Y = 1-bat['summary']['QD'][1:]/1.1\n",
    "    length = len(bat['summary']['QD'][1:])\n",
    "    x = np.arange(1,length+1)\n",
    "    param = curve_fit(func, x, Y, maxfev = 4000)[0]\n",
    "\n",
    "    alpha = param[0]\n",
    "    beta = param[1]\n",
    "    gamma = param[2]\n",
    "    params.append([alpha,beta,gamma])\n",
    "\n",
    "    cycle_lives.append(bat[\"cycle_life\"][0])\n",
    "    #pred_cycle_lives.append([np.power(np.exp(-alpha)*(0.2-gamma),1/beta)])\n",
    "params = np.array(params)\n",
    "cycle_lives = np.array(cycle_lives)\n",
    "#pred_cycle_lives = np.array(pred_cycle_lives)"
   ]
  },
  {
   "cell_type": "code",
   "execution_count": 5,
   "id": "0101187f",
   "metadata": {},
   "outputs": [],
   "source": [
    "# visualize curve fits\n",
    "fig,axs=plt.subplots(nrows=12,ncols=11,figsize=(14,14))\n",
    "for ix,id in enumerate(bat_dict.keys()):\n",
    "    ax = axs[int(ix/11)][ix%11]\n",
    "    length = len(bat_dict[id]['summary']['QD'][1:])\n",
    "    x = np.arange(1,length+1)\n",
    "    Y = 1-bat_dict[id]['summary']['QD'][1:]/1.1\n",
    "    ax.plot(x, Y)\n",
    "\n",
    "    alpha = params[ix][0]\n",
    "    beta = params[ix][1]\n",
    "    gamma = params[ix][2]\n",
    "    ax.plot(x, func(x,alpha,beta,gamma), linestyle=\"-\")"
   ]
  },
  {
   "cell_type": "markdown",
   "id": "d7988a1d",
   "metadata": {},
   "source": [
    "## Load data for predictive model"
   ]
  },
  {
   "cell_type": "code",
   "execution_count": 6,
   "id": "73e1542b",
   "metadata": {},
   "outputs": [],
   "source": [
    "# features4 uses Severson interpolated data AND takes the log of all statistical features\n",
    "# can try features3, which still uses Severson data but without the log of min, mean, skew kurtosis\n",
    "data = np.loadtxt('./../Data/features4.csv',delimiter=',',skiprows=1) # skip row for column names"
   ]
  },
  {
   "cell_type": "code",
   "execution_count": 7,
   "id": "f91cc0f8",
   "metadata": {},
   "outputs": [],
   "source": [
    "test_ind = np.array([ 0,  2,  4,  6,  8, 10, 12, 14, 16, 18, 20, 22, 24, 26, 28, 30, 32,\n",
    "       34, 36, 38, 40, 42, 44, 46, 48, 50, 52, 54, 56, 58, 60, 62, 64, 66,\n",
    "       68, 70, 72, 74, 76, 78, 80, 82, 83])\n",
    "\n",
    "train_ind = np.array([ 1,  3,  5,  7,  9, 11, 13, 15, 17, 19, 21, 23, 25, 27, 29, 31, 33,\n",
    "       35, 37, 39, 41, 43, 45, 47, 49, 51, 53, 55, 57, 59, 61, 63, 65, 67,\n",
    "       69, 71, 73, 75, 77, 79, 81])\n",
    "\n",
    "secondary_ind = np.array([ 84,  85,  86,  87,  88,  89,  90,  91,  92,  93,  94,  95,  96,\n",
    "        97,  98,  99, 100, 101, 102, 103, 104, 105, 106, 107, 108, 109,\n",
    "       110, 111, 112, 113, 114, 115, 116, 117, 118, 119, 120, 121, 122])"
   ]
  },
  {
   "cell_type": "code",
   "execution_count": 8,
   "id": "5ffcedde",
   "metadata": {},
   "outputs": [],
   "source": [
    "# logVar, logMean, logMin, logSkew, logKurtosis\n",
    "x_train = data[:,1:6][train_ind]\n",
    "y_train = params[train_ind]\n",
    "life_train = cycle_lives[train_ind]\n",
    "\n",
    "x_test = data[:,1:6][test_ind]\n",
    "y_test = params[test_ind]\n",
    "life_test = cycle_lives[test_ind]\n",
    "\n",
    "x_stest = data[:,1:6][secondary_ind]\n",
    "y_stest = params[secondary_ind]\n",
    "life_stest = cycle_lives[secondary_ind]"
   ]
  },
  {
   "cell_type": "code",
   "execution_count": 9,
   "id": "55ad8003",
   "metadata": {},
   "outputs": [],
   "source": [
    "train = TensorDataset(torch.Tensor(x_train),torch.Tensor(y_train),torch.Tensor(life_train))\n",
    "test = TensorDataset(torch.Tensor(x_test),torch.Tensor(y_test),torch.Tensor(life_test))\n",
    "stest = TensorDataset(torch.Tensor(x_stest),torch.Tensor(y_stest),torch.Tensor(life_stest))"
   ]
  },
  {
   "cell_type": "code",
   "execution_count": 10,
   "id": "7d43799c",
   "metadata": {},
   "outputs": [],
   "source": [
    "class AttentionModel(torch.nn.Module):\n",
    "    def __init__(self, d_model, feat_dim, n_cycle, vdim=1, num_heads=1, attn_model=\"softmax\", beta=1, skip_connect=0):\n",
    "        super(AttentionModel, self).__init__()\n",
    "        '''d_model: embedding dimension; can be chosen independently of input data dimensions\n",
    "           feat_dim: number of features in a cycle\n",
    "           n_cycle: number of \"cycles\" outputted by the encoder / number of tokens, each of which has feat_dim features\n",
    "           vdim: dimension of output, 1 for our regression problem\n",
    "           num_heads: default 1\n",
    "           attn_model: default softmax; code also supports batch normalized attention with keyword \"batch_norm\"\n",
    "           beta: if using batch normalized attention, beta is the weight placed on the mean\n",
    "           skip_connect: whether or not to add a skip connection. If 0, no skip connection. If 1, H=AV+B where B\n",
    "           is a trainable projection of the input X. If 2, H=AV+V'''\n",
    "        assert d_model % num_heads == 0, \"Embedding dimension (d_model) must be divisible by number of attention heads (num_heads).\"\n",
    "        \n",
    "        self.W_q = nn.Linear(feat_dim, d_model)\n",
    "        self.W_k = nn.Linear(feat_dim, d_model)\n",
    "        self.W_v = nn.Linear(feat_dim, vdim)\n",
    "        self.W_b = nn.Linear(feat_dim, vdim)\n",
    "\n",
    "        #self.create_output = nn.Linear(n_cycle,1) # final linear layer to collapse output\n",
    "\n",
    "        self.d_model = d_model\n",
    "        self.vdim = vdim\n",
    "        self.num_heads = num_heads\n",
    "        #self.head_dim = d_model // num_heads\n",
    "        \n",
    "        self.attn_model = attn_model\n",
    "        self.beta = beta\n",
    "        self.skip_connect = skip_connect\n",
    "\n",
    "    def scaled_dot_product_attention(self, Q, K, V, B): \n",
    "        '''softmax attention'''\n",
    "        attn_scores = torch.matmul(Q, K.transpose(-2, -1)) / math.sqrt(self.d_model // self.num_heads)\n",
    "        attn_probs = torch.softmax(attn_scores, dim=-1) # attention matrix, dimensionality (batch size, n_cycle, n_cycle)\n",
    "        output = torch.matmul(attn_probs, V) # dimensionality (batch size, n_cycle, vdim)\n",
    "        if self.skip_connect == 1:\n",
    "            output = output + B\n",
    "        elif self.skip_connect == 2:\n",
    "            output = output + V\n",
    "        return output\n",
    "    \n",
    "    def batch_normalized_attention(self, Q, K, V, B):\n",
    "        '''batch normalized attention'''\n",
    "        mu = torch.mean(K,0)\n",
    "        s = torch.std(K,0,correction=0)\n",
    "        attn_scores = torch.matmul(torch.mul(Q-self.beta*mu,s), torch.mul(K-self.beta*mu,s).transpose(-2,-1)) / math.sqrt(self.d_model)\n",
    "        attn_probs = torch.softmax(attn_scores, dim=-1) # attention matrix, dimensionality (batch size, batch size)\n",
    "        output = torch.matmul(attn_probs, V)\n",
    "        if self.skip_connect == 1:\n",
    "            output = output + B\n",
    "        elif self.skip_connect == 2:\n",
    "            output = output + V\n",
    "        return output\n",
    "    \n",
    "    def forward(self, X):\n",
    "        if len(X.size()) < 3:\n",
    "            X = X[...,None] # add a feature dimension if there is none\n",
    "        Q = self.W_q(X) # create query matrix, dimensionality (batch size, n_cycle, d_model)\n",
    "        K = self.W_k(X) # create key matrix, dimensionality (batch size, n_cycle, d_model)\n",
    "        V = self.W_v(X) # create value matrix, dimensionality (batch size, n_cycle, vdim)\n",
    "        B = self.W_b(X) # create matrix for skip connection, dimensionality (batch size, n_cycle, vdim)\n",
    "\n",
    "        # replaced final linear layer with just an averaging layer (gave better results earlier, can try putting linear layer back) \n",
    "        if self.attn_model==\"softmax\": attn_output = self.scaled_dot_product_attention(Q, K, V, B)\n",
    "        elif self.attn_model==\"batch_norm\": attn_output = self.batch_normalized_attention(Q, K, V, B)\n",
    "        # attn_output has dimensionality (batch_size, n_cycle, vdim)\n",
    "        output = torch.mean(attn_output.transpose(-2,-1),dim=-1) # dimensionality (batch_size, vdim)\n",
    "        #output = self.create_output(attn_output.transpose(-2,-1)) # dimensionality (batch size, 1, 1)\n",
    "        return output"
   ]
  },
  {
   "cell_type": "code",
   "execution_count": 11,
   "id": "7ba01746",
   "metadata": {},
   "outputs": [],
   "source": [
    "use_cuda = torch.cuda.is_available()\n",
    "device = torch.device(\"cuda\" if use_cuda else \"cpu\")"
   ]
  },
  {
   "cell_type": "markdown",
   "id": "1f5d489a",
   "metadata": {},
   "source": [
    "## First round of training (calc loss w/ model parameters)"
   ]
  },
  {
   "cell_type": "code",
   "execution_count": 74,
   "id": "88daf5fe",
   "metadata": {},
   "outputs": [],
   "source": [
    "d_model = 2\n",
    "feat_dim = 1\n",
    "n_cycle = np.shape(x_train)[1]\n",
    "attn_model = \"softmax\"\n",
    "skip_connect = 0\n",
    "nepoch = 500\n",
    "lr = 1e-3\n",
    "batch_size = 1"
   ]
  },
  {
   "cell_type": "code",
   "execution_count": 96,
   "id": "429edfd7",
   "metadata": {},
   "outputs": [
    {
     "name": "stdout",
     "output_type": "stream",
     "text": [
      "Epochs: 50 | rmse:  14.209 | rmse_test:  13.922 | rmse_stest:  17.050\n",
      "Epochs: 100 | rmse:  9.306 | rmse_test:  9.091 | rmse_stest:  11.703\n",
      "Epochs: 150 | rmse:  5.874 | rmse_test:  5.830 | rmse_stest:  7.898\n",
      "Epochs: 200 | rmse:  3.966 | rmse_test:  4.257 | rmse_stest:  5.595\n",
      "Epochs: 250 | rmse:  3.511 | rmse_test:  4.032 | rmse_stest:  4.798\n",
      "Epochs: 300 | rmse:  3.476 | rmse_test:  4.056 | rmse_stest:  4.636\n",
      "Epochs: 350 | rmse:  3.474 | rmse_test:  4.067 | rmse_stest:  4.606\n",
      "Epochs: 400 | rmse:  3.473 | rmse_test:  4.069 | rmse_stest:  4.600\n",
      "Epochs: 450 | rmse:  3.469 | rmse_test:  4.064 | rmse_stest:  4.599\n",
      "Epochs: 500 | rmse:  3.465 | rmse_test:  4.063 | rmse_stest:  4.586\n"
     ]
    }
   ],
   "source": [
    "model = AttentionModel(d_model=d_model,feat_dim=feat_dim,n_cycle=n_cycle,vdim=3,attn_model=attn_model,skip_connect=skip_connect)\n",
    "criterion = nn.MSELoss().to(device)\n",
    "optimizer = torch.optim.Adam(model.parameters(), lr=lr)\n",
    "\n",
    "model.train()\n",
    "\n",
    "# Training loop\n",
    "for i in range(nepoch):\n",
    "    total_loss_train = 0.0\n",
    "    total_loss_test = 0.0\n",
    "    total_loss_stest = 0.0\n",
    "\n",
    "    train_batched = DataLoader(train,batch_size=batch_size,shuffle=True)\n",
    "    test_batched = DataLoader(test,batch_size=1)\n",
    "    stest_batched = DataLoader(stest,batch_size=1)\n",
    "\n",
    "    for j,batch in enumerate(train_batched):\n",
    "        optimizer.zero_grad()\n",
    "        train_input, train_label, _ = batch\n",
    "        output = model(train_input.to(device))\n",
    "        \n",
    "        loss = criterion(output, train_label)\n",
    "        total_loss_train += loss.item()\n",
    "\n",
    "        loss.backward()\n",
    "        optimizer.step()\n",
    "\n",
    "    for cell in test_batched:\n",
    "        test_input, test_label, _ = cell\n",
    "        test_output = model(test_input.to(device))\n",
    "        test_loss = criterion(test_output, test_label)\n",
    "\n",
    "        total_loss_test += test_loss.item()\n",
    "\n",
    "    for cell in stest_batched:\n",
    "        stest_input, stest_label, _ = cell\n",
    "        stest_output = model(stest_input.to(device))\n",
    "        stest_loss = criterion(stest_output, stest_label)\n",
    "        \n",
    "        # print(i, output, train_label, loss)\n",
    "        total_loss_stest += stest_loss.item()\n",
    "\n",
    "    rmse_train = np.sqrt(total_loss_train / (j+1))\n",
    "    rmse_test = np.sqrt(total_loss_test / len(test))\n",
    "    rmse_stest = np.sqrt(total_loss_stest / len(stest))\n",
    "    #wandb.log({\"Epoch\": i+1, \"RMSE_train\": rmse_train, \"RMSE_test\": rmse_test, \"RMSE_stest\": rmse_stest})\n",
    "    if (i+1)%50 == 0: \n",
    "        print(f'Epochs: {i + 1} | rmse: {rmse_train: .3f} | rmse_test: {rmse_test: .3f} | rmse_stest: {rmse_stest: .3f}')"
   ]
  },
  {
   "cell_type": "code",
   "execution_count": 97,
   "id": "cd7f925b",
   "metadata": {},
   "outputs": [
    {
     "name": "stdout",
     "output_type": "stream",
     "text": [
      "338.44254743893674\n",
      "408.5440086192533\n",
      "388.35111944282045\n"
     ]
    },
    {
     "data": {
      "text/plain": [
       "<matplotlib.legend.Legend at 0x12e4fa832e0>"
      ]
     },
     "execution_count": 97,
     "metadata": {},
     "output_type": "execute_result"
    },
    {
     "data": {
      "image/png": "[encoded data removed]",
      "text/plain": [
       "<Figure size 800x550 with 1 Axes>"
      ]
     },
     "metadata": {},
     "output_type": "display_data"
    }
   ],
   "source": [
    "plt.style.use(\"seaborn-v0_8\")\n",
    "from matplotlib.patches import Patch\n",
    "\n",
    "fig,ax = plt.subplots()\n",
    "colors = [\"blue\",\"red\",\"orange\"]\n",
    "for i,dataset in enumerate([train,test,stest]):\n",
    "    predicted =[]\n",
    "    labels = []\n",
    "    for cell in dataset:\n",
    "        input, label, true_life = cell\n",
    "        pred = model(input[None,:].to(device)).detach().numpy()[0]\n",
    "        pred_life = np.power(np.exp(-pred[0])*(0.2-pred[2]),1/pred[1])\n",
    "        #true_life = np.power(np.exp(-label[0])*(0.2-label[2]),1/label[1])\n",
    "\n",
    "        predicted.append(pred_life)\n",
    "        labels.append(true_life[0])\n",
    "    print(np.sqrt(np.mean(np.power(np.array(predicted)-np.array(labels),2))))\n",
    "\n",
    "    ax.plot(labels, predicted, \".\",color=colors[i])\n",
    "    ax.set_xlabel(\"Truth\")\n",
    "    ax.set_ylabel(\"Predicted\")\n",
    "\n",
    "ax.plot(np.linspace(250,2250),np.linspace(250,2250),color=\"black\")\n",
    "ax.set_ylim([0,2500])\n",
    "ax.set_title(\"Battery Life Predictions by Transformer\",fontweight=\"semibold\")\n",
    "\n",
    "legend_elements = [Patch(facecolor='blue', label='Train'),\n",
    "                   Patch(facecolor='red', label='Test'),\n",
    "                   Patch(facecolor='orange', label='Secondary test')]\n",
    "ax.legend(handles=legend_elements)"
   ]
  },
  {
   "cell_type": "markdown",
   "id": "c1dc5ce9",
   "metadata": {},
   "source": [
    "## Second round of training (calc loss w/ cycle lifetime)"
   ]
  },
  {
   "cell_type": "code",
   "execution_count": 108,
   "id": "262d1815",
   "metadata": {},
   "outputs": [],
   "source": [
    "# create a deep copy of model to fine tune\n",
    "#model2 = copy.deepcopy(model)"
   ]
  },
  {
   "cell_type": "code",
   "execution_count": 98,
   "id": "32c75338",
   "metadata": {},
   "outputs": [],
   "source": [
    "# low learning rate and many epochs for fine-tuning\n",
    "lr_fine = 1e-5\n",
    "optimizer_fine = torch.optim.Adam(model.parameters(), lr=lr_fine)\n",
    "nepoch = 3000"
   ]
  },
  {
   "cell_type": "code",
   "execution_count": 118,
   "id": "6392ad88",
   "metadata": {},
   "outputs": [
    {
     "name": "stderr",
     "output_type": "stream",
     "text": [
      "c:\\Users\\kyan3\\miniconda3\\envs\\toyota\\lib\\site-packages\\torch\\nn\\modules\\loss.py:536: UserWarning: Using a target size (torch.Size([1, 1])) that is different to the input size (torch.Size([1])). This will likely lead to incorrect results due to broadcasting. Please ensure they have the same size.\n",
      "  return F.mse_loss(input, target, reduction=self.reduction)\n"
     ]
    },
    {
     "name": "stdout",
     "output_type": "stream",
     "text": [
      "Epochs: 100 | rmse:  115.511 | rmse_test:  141.208 | rmse_stest:  197.391\n",
      "Epochs: 200 | rmse:  114.174 | rmse_test:  138.945 | rmse_stest:  197.436\n",
      "Epochs: 300 | rmse:  113.260 | rmse_test:  136.962 | rmse_stest:  197.590\n",
      "Epochs: 400 | rmse:  112.403 | rmse_test:  135.281 | rmse_stest:  197.771\n",
      "Epochs: 500 | rmse:  111.768 | rmse_test:  133.863 | rmse_stest:  198.278\n",
      "Epochs: 600 | rmse:  111.349 | rmse_test:  132.731 | rmse_stest:  198.511\n",
      "Epochs: 700 | rmse:  111.261 | rmse_test:  131.838 | rmse_stest:  198.839\n",
      "Epochs: 800 | rmse:  110.931 | rmse_test:  131.136 | rmse_stest:  198.992\n",
      "Epochs: 900 | rmse:  110.723 | rmse_test:  130.612 | rmse_stest:  199.327\n",
      "Epochs: 1000 | rmse:  110.629 | rmse_test:  130.201 | rmse_stest:  199.589\n",
      "Epochs: 1100 | rmse:  110.519 | rmse_test:  129.886 | rmse_stest:  199.697\n",
      "Epochs: 1200 | rmse:  110.496 | rmse_test:  129.656 | rmse_stest:  199.935\n",
      "Epochs: 1300 | rmse:  110.446 | rmse_test:  129.438 | rmse_stest:  199.925\n",
      "Epochs: 1400 | rmse:  110.240 | rmse_test:  129.275 | rmse_stest:  199.951\n",
      "Epochs: 1500 | rmse:  110.446 | rmse_test:  129.190 | rmse_stest:  200.379\n",
      "Epochs: 1600 | rmse:  110.157 | rmse_test:  129.046 | rmse_stest:  200.074\n",
      "Epochs: 1700 | rmse:  110.070 | rmse_test:  128.953 | rmse_stest:  200.133\n",
      "Epochs: 1800 | rmse:  110.023 | rmse_test:  128.849 | rmse_stest:  199.843\n",
      "Epochs: 1900 | rmse:  110.014 | rmse_test:  128.789 | rmse_stest:  199.912\n",
      "Epochs: 2000 | rmse:  109.931 | rmse_test:  128.713 | rmse_stest:  199.890\n",
      "Epochs: 2100 | rmse:  109.846 | rmse_test:  128.671 | rmse_stest:  200.120\n",
      "Epochs: 2200 | rmse:  109.857 | rmse_test:  128.610 | rmse_stest:  200.007\n",
      "Epochs: 2300 | rmse:  109.834 | rmse_test:  128.552 | rmse_stest:  199.887\n",
      "Epochs: 2400 | rmse:  109.692 | rmse_test:  128.482 | rmse_stest:  199.777\n",
      "Epochs: 2500 | rmse:  109.678 | rmse_test:  128.477 | rmse_stest:  200.115\n",
      "Epochs: 2600 | rmse:  109.642 | rmse_test:  128.399 | rmse_stest:  199.752\n",
      "Epochs: 2700 | rmse:  109.602 | rmse_test:  128.359 | rmse_stest:  199.825\n",
      "Epochs: 2800 | rmse:  109.503 | rmse_test:  128.323 | rmse_stest:  199.891\n",
      "Epochs: 2900 | rmse:  109.468 | rmse_test:  128.278 | rmse_stest:  199.780\n",
      "Epochs: 3000 | rmse:  109.817 | rmse_test:  128.275 | rmse_stest:  200.085\n"
     ]
    }
   ],
   "source": [
    "# Training loop\n",
    "for i in range(nepoch):\n",
    "    total_loss_train = 0.0\n",
    "    total_loss_test = 0.0\n",
    "    total_loss_stest = 0.0\n",
    "\n",
    "    train_batched = DataLoader(train,batch_size=batch_size,shuffle=True)\n",
    "    test_batched = DataLoader(test,batch_size=1)\n",
    "    stest_batched = DataLoader(stest,batch_size=1)\n",
    "\n",
    "    for j,batch in enumerate(train_batched):\n",
    "        optimizer_fine.zero_grad()\n",
    "        train_input, train_label, true_life = batch\n",
    "        output = model(train_input.to(device))\n",
    "\n",
    "        # calculate lifetime using closed-form equation\n",
    "        pred_life = torch.pow(torch.exp(-output[:,0])*(0.2-output[:,2]),1/output[:,1])\n",
    "        #true_life = torch.pow(torch.exp(-train_label[:,0])*(0.2-train_label[:,2]),1/train_label[:,1])\n",
    "        if torch.isnan(pred_life): \n",
    "            print(output)\n",
    "            break\n",
    "\n",
    "        #loss = criterion(output, train_label)\n",
    "        loss = criterion(pred_life,true_life)\n",
    "        total_loss_train += loss.item()\n",
    "\n",
    "        loss.backward()\n",
    "        optimizer_fine.step()\n",
    "\n",
    "    for cell in test_batched:\n",
    "        test_input, test_label, true_life = cell\n",
    "        test_output = model(test_input.to(device))\n",
    "        #test_loss = criterion(test_output, test_label)\n",
    "        pred_life = torch.pow(torch.exp(-test_output[:,0])*(0.2-test_output[:,2]),1/test_output[:,1])\n",
    "        #true_life = torch.pow(torch.exp(-test_label[:,0])*(0.2-test_label[:,2]),1/test_label[:,1])\n",
    "\n",
    "        test_loss = criterion(pred_life,true_life)\n",
    "\n",
    "        total_loss_test += test_loss.item()\n",
    "\n",
    "    for cell in stest_batched:\n",
    "        stest_input, stest_label, true_life = cell\n",
    "        stest_output = model(stest_input.to(device))\n",
    "        #stest_loss = criterion(stest_output, stest_label)\n",
    "\n",
    "        pred_life = torch.pow(torch.exp(-stest_output[:,0])*(0.2-stest_output[:,2]),1/stest_output[:,1])\n",
    "        #true_life = torch.pow(torch.exp(-stest_label[:,0])*(0.2-stest_label[:,2]),1/stest_label[:,1])\n",
    "\n",
    "        stest_loss = criterion(pred_life,true_life)\n",
    "        \n",
    "        # print(i, output, train_label, loss)\n",
    "        total_loss_stest += stest_loss.item()\n",
    "\n",
    "    rmse_train = np.sqrt(total_loss_train / (j+1))\n",
    "    rmse_test = np.sqrt(total_loss_test / len(test))\n",
    "    rmse_stest = np.sqrt(total_loss_stest / len(stest))\n",
    "    #wandb.log({\"Epoch\": i+1, \"RMSE_train\": rmse_train, \"RMSE_test\": rmse_test, \"RMSE_stest\": rmse_stest})\n",
    "    if (i+1)%100 == 0: \n",
    "        print(f'Epochs: {i + 1} | rmse: {rmse_train: .3f} | rmse_test: {rmse_test: .3f} | rmse_stest: {rmse_stest: .3f}')"
   ]
  },
  {
   "cell_type": "code",
   "execution_count": 120,
   "id": "a6cf3c32",
   "metadata": {},
   "outputs": [
    {
     "name": "stdout",
     "output_type": "stream",
     "text": [
      "109.34979004471083\n",
      "128.2753064947772\n",
      "200.08470336237153\n"
     ]
    },
    {
     "data": {
      "image/png": "[encoded data removed]",
      "text/plain": [
       "<Figure size 800x550 with 1 Axes>"
      ]
     },
     "metadata": {},
     "output_type": "display_data"
    }
   ],
   "source": [
    "plt.style.use(\"seaborn-v0_8\")\n",
    "from matplotlib.patches import Patch\n",
    "\n",
    "fig,ax = plt.subplots()\n",
    "colors = [\"blue\",\"red\",\"orange\"]\n",
    "for i,dataset in enumerate([train,test,stest]):\n",
    "    predicted =[]\n",
    "    labels = []\n",
    "    for cell in dataset:\n",
    "        input, label, true_life = cell\n",
    "        pred = model(input[None,:].to(device)).detach().numpy()[0]\n",
    "        pred_life = np.power(np.exp(-pred[0])*(0.2-pred[2]),1/pred[1])\n",
    "        #true_life = np.power(np.exp(-label[0])*(0.2-label[2]),1/label[1])\n",
    "\n",
    "        predicted.append(pred_life)\n",
    "        labels.append(true_life[0])\n",
    "    print(np.sqrt(np.mean(np.power(np.array(predicted)-np.array(labels),2))))\n",
    "\n",
    "    ax.plot(labels, predicted, \".\",color=colors[i])\n",
    "    ax.set_xlabel(\"Truth\")\n",
    "    ax.set_ylabel(\"Predicted\")\n",
    "\n",
    "ax.plot(np.linspace(250,2250),np.linspace(250,2250),color=\"black\")\n",
    "ax.set_ylim([0,2500])\n",
    "ax.set_title(\"Battery Life Predictions by Transformer\",fontweight=\"semibold\")\n",
    "\n",
    "legend_elements = [Patch(facecolor='blue', label='Train'),\n",
    "                   Patch(facecolor='red', label='Test'),\n",
    "                   Patch(facecolor='orange', label='Secondary test')]\n",
    "ax.legend(handles=legend_elements)\n",
    "plt.savefig('greaterror.png')"
   ]
  },
  {
   "cell_type": "code",
   "execution_count": null,
   "id": "20f0dfed",
   "metadata": {},
   "outputs": [],
   "source": []
  }
 ],
 "metadata": {
  "kernelspec": {
   "display_name": "Python 3 (ipykernel)",
   "language": "python",
   "name": "python3"
  },
  "language_info": {
   "codemirror_mode": {
    "name": "ipython",
    "version": 3
   },
   "file_extension": ".py",
   "mimetype": "text/x-python",
   "name": "python",
   "nbconvert_exporter": "python",
   "pygments_lexer": "ipython3",
   "version": "3.8.8"
  }
 },
 "nbformat": 4,
 "nbformat_minor": 5
}
