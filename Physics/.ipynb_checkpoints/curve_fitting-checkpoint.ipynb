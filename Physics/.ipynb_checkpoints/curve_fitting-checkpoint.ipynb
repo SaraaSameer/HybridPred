{
 "cells": [
  {
   "cell_type": "code",
   "execution_count": 15,
   "id": "5d3727db",
   "metadata": {},
   "outputs": [],
   "source": [
    "import numpy as np\n",
    "import matplotlib.pyplot as plt\n",
    "import pickle"
   ]
  },
  {
   "cell_type": "markdown",
   "id": "8a02fcc9",
   "metadata": {},
   "source": [
    "## Load and combine raw data from all three batches"
   ]
  },
  {
   "cell_type": "code",
   "execution_count": 16,
   "id": "cc7a06ee",
   "metadata": {},
   "outputs": [],
   "source": [
    "batch1 = pickle.load(open(r'../Data/batch1.pkl', 'rb'))\n",
    "#remove batteries that do not reach 80% capacity\n",
    "del batch1['b1c8']\n",
    "del batch1['b1c10']\n",
    "del batch1['b1c12']\n",
    "del batch1['b1c13']\n",
    "del batch1['b1c22']"
   ]
  },
  {
   "cell_type": "code",
   "execution_count": 17,
   "id": "30e69c07",
   "metadata": {},
   "outputs": [
    {
     "data": {
      "text/plain": [
       "41"
      ]
     },
     "execution_count": 17,
     "metadata": {},
     "output_type": "execute_result"
    }
   ],
   "source": [
    "numBat1 = len(batch1.keys())\n",
    "numBat1"
   ]
  },
  {
   "cell_type": "code",
   "execution_count": 18,
   "id": "b8ca2a83",
   "metadata": {},
   "outputs": [],
   "source": [
    "batch2 = pickle.load(open(r'../Data/batch2.pkl','rb'))"
   ]
  },
  {
   "cell_type": "code",
   "execution_count": 19,
   "id": "98d70234",
   "metadata": {},
   "outputs": [],
   "source": [
    "# There are four cells from batch1 that carried into batch2, we'll remove the data from batch2\n",
    "# and put it with the correct cell from batch1\n",
    "batch2_keys = ['b2c7', 'b2c8', 'b2c9', 'b2c15', 'b2c16']\n",
    "batch1_keys = ['b1c0', 'b1c1', 'b1c2', 'b1c3', 'b1c4']\n",
    "add_len = [662, 981, 1060, 208, 482];"
   ]
  },
  {
   "cell_type": "code",
   "execution_count": 20,
   "id": "0b846af5",
   "metadata": {},
   "outputs": [],
   "source": [
    "for i, bk in enumerate(batch1_keys):\n",
    "    batch1[bk]['cycle_life'] = batch1[bk]['cycle_life'] + add_len[i]\n",
    "    for j in batch1[bk]['summary'].keys():\n",
    "        if j == 'cycle':\n",
    "            batch1[bk]['summary'][j] = np.hstack((batch1[bk]['summary'][j], batch2[batch2_keys[i]]['summary'][j] + len(batch1[bk]['summary'][j])))\n",
    "        else:\n",
    "            batch1[bk]['summary'][j] = np.hstack((batch1[bk]['summary'][j], batch2[batch2_keys[i]]['summary'][j]))\n",
    "    last_cycle = len(batch1[bk]['cycles'].keys())\n",
    "    for j, jk in enumerate(batch2[batch2_keys[i]]['cycles'].keys()):\n",
    "        batch1[bk]['cycles'][str(last_cycle + j)] = batch2[batch2_keys[i]]['cycles'][jk]"
   ]
  },
  {
   "cell_type": "code",
   "execution_count": 21,
   "id": "a3d47ccf",
   "metadata": {},
   "outputs": [],
   "source": [
    "del batch2['b2c7']\n",
    "del batch2['b2c8']\n",
    "del batch2['b2c9']\n",
    "del batch2['b2c15']\n",
    "del batch2['b2c16']"
   ]
  },
  {
   "cell_type": "code",
   "execution_count": 22,
   "id": "985f6cc8",
   "metadata": {},
   "outputs": [
    {
     "data": {
      "text/plain": [
       "43"
      ]
     },
     "execution_count": 22,
     "metadata": {},
     "output_type": "execute_result"
    }
   ],
   "source": [
    "numBat2 = len(batch2.keys())\n",
    "numBat2"
   ]
  },
  {
   "cell_type": "code",
   "execution_count": 23,
   "id": "be754e79",
   "metadata": {},
   "outputs": [],
   "source": [
    "batch3 = pickle.load(open(r'../Data/batch3.pkl','rb'))\n",
    "# remove noisy channels from batch3\n",
    "del batch3['b3c37']\n",
    "del batch3['b3c2']\n",
    "del batch3['b3c23']\n",
    "del batch3['b3c32']\n",
    "del batch3['b3c42']\n",
    "del batch3['b3c43']"
   ]
  },
  {
   "cell_type": "code",
   "execution_count": 24,
   "id": "e1e0795e",
   "metadata": {},
   "outputs": [
    {
     "data": {
      "text/plain": [
       "40"
      ]
     },
     "execution_count": 24,
     "metadata": {},
     "output_type": "execute_result"
    }
   ],
   "source": [
    "numBat3 = len(batch3.keys())\n",
    "numBat3"
   ]
  },
  {
   "cell_type": "code",
   "execution_count": 25,
   "id": "a0b23d20",
   "metadata": {},
   "outputs": [
    {
     "data": {
      "text/plain": [
       "124"
      ]
     },
     "execution_count": 25,
     "metadata": {},
     "output_type": "execute_result"
    }
   ],
   "source": [
    "numBat = numBat1 + numBat2 + numBat3\n",
    "numBat"
   ]
  },
  {
   "cell_type": "code",
   "execution_count": 26,
   "id": "987c513f",
   "metadata": {},
   "outputs": [],
   "source": [
    "bat_dict = {**batch1, **batch2, **batch3}"
   ]
  },
  {
   "cell_type": "code",
   "execution_count": 497,
   "id": "df94e137",
   "metadata": {},
   "outputs": [
    {
     "name": "stdout",
     "output_type": "stream",
     "text": [
      "306.1107050104389\n"
     ]
    },
    {
     "data": {
      "image/png": "[encoded data removed]",
      "text/plain": [
       "<Figure size 640x480 with 1 Axes>"
      ]
     },
     "metadata": {},
     "output_type": "display_data"
    }
   ],
   "source": [
    "bat = bat_dict['b1c20']\n",
    "\n",
    "temps = np.mean(bat['summary']['Tavg'][1:])+273\n",
    "Y = 1-bat['summary']['QC'][1:]/1.1\n",
    "length = len(bat['summary']['QD'][1:])\n",
    "x = np.arange(1,length+1)\n",
    "plt.plot(x,bat['summary']['QD'][1:])\n",
    "print(temps)\n",
    "\n",
    "A = np.ones((length, 3))\n",
    "A[:,1] = 1/temps\n",
    "A[:,2] = np.log(x)"
   ]
  },
  {
   "cell_type": "code",
   "execution_count": 498,
   "id": "047c97e8",
   "metadata": {},
   "outputs": [
    {
     "name": "stdout",
     "output_type": "stream",
     "text": [
      "[[534.]]\n"
     ]
    }
   ],
   "source": [
    "print(bat['cycle_life'])"
   ]
  },
  {
   "cell_type": "code",
   "execution_count": 504,
   "id": "7422de80",
   "metadata": {},
   "outputs": [
    {
     "name": "stdout",
     "output_type": "stream",
     "text": [
      "-0.06540662976964029\n"
     ]
    }
   ],
   "source": [
    "from scipy.optimize import curve_fit\n",
    "\n",
    "def func(x, a, b, c):\n",
    "    return np.exp(a/temps)*x**b+c*np.log(x)\n",
    "\n",
    "param = curve_fit(func, x, Y, maxfev = 4000)[0]\n",
    "\n",
    "alpha = param[0]\n",
    "beta = param[1]\n",
    "gamma = param[2]\n",
    "print(gamma)"
   ]
  },
  {
   "cell_type": "code",
   "execution_count": 505,
   "id": "4fce52d9",
   "metadata": {},
   "outputs": [
    {
     "data": {
      "text/plain": [
       "[<matplotlib.lines.Line2D at 0x7fd783cd5e20>]"
      ]
     },
     "execution_count": 505,
     "metadata": {},
     "output_type": "execute_result"
    },
    {
     "data": {
      "image/png": "[encoded data removed]",
      "text/plain": [
       "<Figure size 640x480 with 1 Axes>"
      ]
     },
     "metadata": {},
     "output_type": "display_data"
    }
   ],
   "source": [
    "plt.plot(x, Y)\n",
    "plt.plot(x, np.exp(alpha/temps)*np.power(x,beta) + gamma * np.log(x))\n"
   ]
  },
  {
   "cell_type": "code",
   "execution_count": 507,
   "id": "d3b38817",
   "metadata": {},
   "outputs": [],
   "source": [
    "params = []\n",
    "for i in bat_dict.keys():\n",
    "    bat = bat_dict[i]\n",
    "    temps = np.mean(bat['summary']['Tavg'][1:])+273\n",
    "    Y = 1-bat['summary']['QC'][1:]/1.1\n",
    "    length = len(bat['summary']['QD'][1:])\n",
    "    x = np.arange(1,length+1)\n",
    "    param = curve_fit(func, x, Y, maxfev = 4000)[0]\n",
    "\n",
    "    alpha = param[0]\n",
    "    beta = param[1]\n",
    "    gamma = param[2]\n",
    "    params.append([alpha,beta,gamma])\n",
    "params = np.array(params)"
   ]
  },
  {
   "cell_type": "code",
   "execution_count": 518,
   "id": "4b7a0ce9",
   "metadata": {},
   "outputs": [],
   "source": [
    "from sklearn.svm import SVR\n",
    "from sklearn.linear_model import ElasticNet\n",
    "from sklearn.metrics import make_scorer\n",
    "from sklearn.model_selection import *\n",
    "\n",
    "data = np.loadtxt('./../Data/features4.csv',delimiter=',',skiprows=1) # skip row for column names"
   ]
  },
  {
   "cell_type": "code",
   "execution_count": 519,
   "id": "5c4381ea",
   "metadata": {},
   "outputs": [],
   "source": [
    "test_ind = np.array([ 0,  2,  4,  6,  8, 10, 12, 14, 16, 18, 20, 22, 24, 26, 28, 30, 32,\n",
    "       34, 36, 38, 40, 42, 44, 46, 48, 50, 52, 54, 56, 58, 60, 62, 64, 66,\n",
    "       68, 70, 72, 74, 76, 78, 80, 82, 83])\n",
    "\n",
    "train_ind = np.array([ 1,  3,  5,  7,  9, 11, 13, 15, 17, 19, 21, 23, 25, 27, 29, 31, 33,\n",
    "       35, 37, 39, 41, 43, 45, 47, 49, 51, 53, 55, 57, 59, 61, 63, 65, 67,\n",
    "       69, 71, 73, 75, 77, 79, 81])\n",
    "\n",
    "secondary_ind = np.array([ 84,  85,  86,  87,  88,  89,  90,  91,  92,  93,  94,  95,  96,\n",
    "        97,  98,  99, 100, 101, 102, 103, 104, 105, 106, 107, 108, 109,\n",
    "       110, 111, 112, 113, 114, 115, 116, 117, 118, 119, 120, 121, 122])"
   ]
  },
  {
   "cell_type": "code",
   "execution_count": 520,
   "id": "4f78c957",
   "metadata": {},
   "outputs": [],
   "source": [
    "x_train = data[:,1:][train_ind]\n",
    "y_train = params[train_ind]\n",
    "\n",
    "x_test = data[:,1:][test_ind]\n",
    "y_test = params[test_ind]\n",
    "\n",
    "x_stest = data[:,1:][secondary_ind]\n",
    "y_stest = params[secondary_ind]"
   ]
  },
  {
   "cell_type": "code",
   "execution_count": 521,
   "id": "57727fb7",
   "metadata": {},
   "outputs": [
    {
     "name": "stdout",
     "output_type": "stream",
     "text": [
      "[[-5.01395962e+00 -1.95845666e+00 -1.95845666e+00 -3.67163344e-01\n",
      "   1.24643310e-02 -1.57280000e-04  5.54000000e-06  1.08096458e+00\n",
      "  -4.13000000e-05  1.08476700e+00  1.07530120e+00  9.28830000e-03\n",
      "   1.08062970e+00  1.34091500e+01  3.47122650e+01  2.92306370e+01\n",
      "   3.07029608e+03  1.70388310e-02  0.00000000e+00 -4.20000000e-05]\n",
      " [-4.44261336e+00 -1.72214930e+00 -1.72214930e+00 -3.57485561e-01\n",
      "   3.95790200e-02  1.82040000e-04  1.71000000e-05  1.08407502e+00\n",
      "  -3.68000000e-06  1.08513109e+00  1.07972290e+00  6.53010000e-03\n",
      "   1.08474980e+00  1.20251397e+01  3.16914140e+01  2.90236190e+01\n",
      "   2.93443884e+03  1.63697040e-02  0.00000000e+00  3.86000000e-05]\n",
      " [-4.17887796e+00 -1.59896533e+00 -1.59896533e+00 -8.25794342e-01\n",
      "   8.90308840e-02  2.37111000e-04  1.12000000e-05  1.07975479e+00\n",
      "  -2.32000000e-05  1.08208500e+00  1.07612660e+00  5.94380000e-03\n",
      "   1.07977940e+00  1.09678497e+01  3.46546670e+01  2.89148120e+01\n",
      "   3.03004035e+03  1.64375790e-02  1.59227850e-02 -1.11867000e-04]\n",
      " [-3.81348608e+00 -1.41755723e+00 -1.41755723e+00 -4.77012756e-01\n",
      "   4.94257770e-02 -2.34385000e-04 -6.43000000e-06  1.09725427e+00\n",
      "  -4.06000000e-05  1.09984062e+00  1.09386440e+00  4.10420000e-03\n",
      "   1.09576250e+00  1.00250817e+01  3.60539280e+01  2.93680950e+01\n",
      "   3.13485275e+03  1.63111710e-02  0.00000000e+00 -3.84000000e-05]\n",
      " [-4.14689653e+00 -1.62540720e+00 -1.62540720e+00 -2.25594077e-01\n",
      "   8.11871970e-02 -3.53000000e-06  2.18000000e-05  1.05897161e+00\n",
      "  -1.16000000e-05  1.06111752e+00  1.05377860e+00  9.46040000e-03\n",
      "   1.05997190e+00  1.16688760e+01  3.71289670e+01  2.98778100e+01\n",
      "   3.21058077e+03  1.65750780e-02  0.00000000e+00 -3.03578000e-04]\n",
      " [-4.01794910e+00 -1.53843313e+00 -1.53843313e+00 -3.16954268e-01\n",
      "   9.70684100e-02 -1.88699000e-04  2.90000000e-05  1.06617537e+00\n",
      "  -2.44000000e-05  1.07017013e+00  1.06112360e+00  8.21510000e-03\n",
      "   1.06774970e+00  1.07977057e+01  3.84761700e+01  2.94413800e+01\n",
      "   3.24823374e+03  1.71680470e-02  1.65429390e-02 -2.53296000e-04]\n",
      " [-3.97015945e+00 -1.50768716e+00 -1.50768716e+00 -5.91780484e-01\n",
      "   1.10826083e-01 -4.39000000e-05  1.79000000e-05  1.07619404e+00\n",
      "  -1.27000000e-05  1.07826640e+00  1.07205200e+00  7.17380000e-03\n",
      "   1.07697630e+00  1.01468807e+01  3.72084050e+01  2.91822280e+01\n",
      "   3.14492296e+03  1.67786390e-02  1.62382890e-02  2.22000000e-05]\n",
      " [-3.61990683e+00 -1.33825645e+00 -1.33825645e+00 -5.63163903e-01\n",
      "   1.05651445e-01 -1.51000000e-06 -1.04000000e-05  1.08889662e+00\n",
      "  -3.33000000e-05  1.09031394e+00  1.08511470e+00  4.19070000e-03\n",
      "   1.08708510e+00  9.92473833e+00  3.74908600e+01  2.99186500e+01\n",
      "   3.23842448e+03  1.64497270e-02  1.62051510e-02 -6.61000000e-05]\n",
      " [-3.35033805e+00 -1.18895973e+00 -1.18895973e+00 -1.04495406e+00\n",
      "   5.80775110e-02 -3.98000000e-05 -8.18000000e-05  1.08639750e+00\n",
      "  -1.59053000e-04  1.09264929e+00  1.08243880e+00  3.48740000e-03\n",
      "   1.07672910e+00  8.96470633e+00  3.76155590e+01  2.99486430e+01\n",
      "   3.24753520e+03  1.53487740e-02  0.00000000e+00 -2.03807000e-04]\n",
      " [-3.93866252e+00 -1.49699783e+00 -1.49699783e+00 -4.69975711e-01\n",
      "   1.05233575e-01 -1.98152000e-04  2.02000000e-06  1.07792995e+00\n",
      "  -7.40000000e-05  1.08452312e+00  1.07453550e+00  4.53950000e-03\n",
      "   1.07763140e+00  1.21472160e+01  3.75962260e+01  3.03090800e+01\n",
      "   3.27117172e+03  1.66878310e-02  1.63905810e-02 -4.86000000e-06]\n",
      " [-3.79522000e+00 -1.41618420e+00 -1.41618420e+00 -9.31561192e-01\n",
      "   1.06078636e-01 -2.14482000e-04 -1.52000000e-05  1.09135002e+00\n",
      "  -9.83000000e-05  1.09862547e+00  1.08765140e+00  3.89480000e-03\n",
      "   1.08937130e+00  1.07648197e+01  3.70777170e+01  3.01895480e+01\n",
      "   3.24942510e+03  1.63763870e-02  1.61297430e-02  1.29000000e-05]\n",
      " [-3.84471181e+00 -1.42929971e+00 -1.42929971e+00 -8.45779952e-01\n",
      "   9.28898280e-02 -8.38000000e-06 -7.73000000e-06  1.08108969e+00\n",
      "  -3.48000000e-05  1.08317563e+00  1.07774750e+00  3.84700000e-03\n",
      "   1.07969470e+00  1.11299073e+01  3.83035130e+01  3.04212930e+01\n",
      "   3.30998551e+03  1.67420770e-02  1.64675120e-02  6.38000000e-05]\n",
      " [-3.74469922e+00 -1.38917610e+00 -1.38917610e+00 -5.44863539e-01\n",
      "   8.88416040e-02 -6.53000000e-05 -1.64000000e-05  1.08365850e+00\n",
      "  -3.75000000e-05  1.08515284e+00  1.07986370e+00  3.95450000e-03\n",
      "   1.08140740e+00  1.01301797e+01  3.74839940e+01  3.04576190e+01\n",
      "   3.28689912e+03  1.60723290e-02  1.58380050e-02  5.84000000e-05]\n",
      " [-3.64646350e+00 -1.34135637e+00 -1.34135637e+00 -8.07834047e-01\n",
      "   1.07022205e-01 -9.23000000e-05 -1.28000000e-05  1.08132304e+00\n",
      "  -3.84000000e-05  1.08322707e+00  1.07783660e+00  3.82010000e-03\n",
      "   1.07938040e+00  1.00964380e+01  3.71443600e+01  3.01935920e+01\n",
      "   3.24181426e+03  1.62394620e-02  1.59334950e-02  5.13000000e-05]\n",
      " [-3.84861616e+00 -1.42924531e+00 -1.42924531e+00 -8.21307408e-01\n",
      "   7.18452510e-02  1.38343000e-04 -3.13000000e-07  1.08008595e+00\n",
      "  -3.01000000e-05  1.08244998e+00  1.07661740e+00  4.86500000e-03\n",
      "   1.07941870e+00  1.10679370e+01  3.72409250e+01  2.97091480e+01\n",
      "   3.20118418e+03  1.69825000e-02  1.65676180e-02 -2.84000000e-05]\n",
      " [-3.66950134e+00 -1.35045675e+00 -1.35045675e+00 -1.61761570e+00\n",
      "   1.09824665e-01 -1.35000000e-05 -7.18000000e-06  1.08164290e+00\n",
      "  -4.10000000e-05  1.08432308e+00  1.07783150e+00  4.52780000e-03\n",
      "   1.08024110e+00  1.15248433e+01  3.48684460e+01  3.00283510e+01\n",
      "   3.14051447e+03  1.64806840e-02  1.62297690e-02  8.79000000e-05]\n",
      " [-3.43304817e+00 -1.24860081e+00 -1.24860081e+00 -1.19510838e+00\n",
      "   1.29801972e-01  8.84000000e-05 -9.44000000e-06  1.07628280e+00\n",
      "  -7.16000000e-06  1.07566449e+00  1.07295130e+00  3.64650000e-03\n",
      "   1.07497540e+00  1.02430667e+01  3.79957050e+01  3.02888160e+01\n",
      "   3.30200547e+03  1.62603540e-02  1.60666720e-02  8.90000000e-05]\n",
      " [-4.05521270e+00 -1.53617106e+00 -1.53617106e+00 -6.04665456e-01\n",
      "   9.39446670e-02 -2.31000000e-05 -8.20000000e-06  1.08734843e+00\n",
      "  -4.21000000e-05  1.08995228e+00  1.08330290e+00  4.50330000e-03\n",
      "   1.08573530e+00  1.20712227e+01  3.83885690e+01  3.00037330e+01\n",
      "   3.27907692e+03  1.67564680e-02  1.64807610e-02  6.66000000e-05]\n",
      " [-3.66585579e+00 -1.34959877e+00 -1.34959877e+00 -9.67808152e-01\n",
      "   1.19335705e-01 -3.98481000e-04  2.11000000e-06  1.08378139e+00\n",
      "  -3.26000000e-05  1.08650707e+00  1.07987250e+00  4.95950000e-03\n",
      "   1.08328210e+00  1.11710937e+01  3.83974230e+01  3.01258910e+01\n",
      "   3.29128553e+03  1.67679000e-02  1.65111140e-02  1.03314000e-04]\n",
      " [-3.42070001e+00 -1.23064430e+00 -1.23064430e+00 -8.56735788e-01\n",
      "   1.10348796e-01 -2.94607000e-04 -3.36000000e-05  1.08855646e+00\n",
      "  -5.14000000e-05  1.08985406e+00  1.08476820e+00  3.56240000e-03\n",
      "   1.08471020e+00  1.02711043e+01  3.68042830e+01  2.97472170e+01\n",
      "   3.19011304e+03  1.74363980e-02  1.71429530e-02  1.52771000e-04]\n",
      " [-2.74571314e+00 -8.68309264e-01 -8.68309264e-01 -3.10813309e-01\n",
      "  -5.43110000e-02  1.37331000e-04 -3.54731000e-04  1.07883863e+00\n",
      "  -6.96795000e-04  1.10873247e+00  1.07005410e+00  3.52960000e-03\n",
      "   1.03845200e+00  1.02441647e+01  3.39722180e+01  2.67349090e+01\n",
      "   2.94424891e+03  1.75054540e-02  1.64237510e-02 -2.12990000e-04]\n",
      " [-3.49325878e+00 -1.26309429e+00 -1.26309429e+00 -7.69043504e-01\n",
      "   1.08508492e-01 -4.20000000e-05 -1.28000000e-05  1.07867962e+00\n",
      "  -5.64000000e-05  1.08163786e+00  1.07353910e+00  6.42830000e-03\n",
      "   1.07599840e+00  1.00756150e+01  3.91987950e+01  2.88359360e+01\n",
      "   3.20914157e+03  1.78943970e-02  1.72093270e-02 -2.32082000e-04]\n",
      " [-3.35200505e+00 -1.19376458e+00 -1.19376458e+00 -7.95787759e-01\n",
      "   5.59018900e-02  1.36000000e-05 -1.06750000e-04  1.07733064e+00\n",
      "  -1.89493000e-04  1.08410579e+00  1.07289730e+00  2.74990000e-03\n",
      "   1.06509140e+00  1.01246550e+01  3.80228960e+01  2.97949350e+01\n",
      "   3.22446063e+03  1.69360540e-02  1.59977880e-02 -8.55160000e-04]\n",
      " [-3.24438955e+00 -1.13991871e+00 -1.13991871e+00 -3.61250728e-01\n",
      "   5.52526400e-03 -1.13000000e-05 -2.14386000e-04  1.07565824e+00\n",
      "  -2.90691000e-04  1.08121172e+00  1.06873910e+00  3.79210000e-03\n",
      "   1.05219920e+00  1.01946227e+01  3.82993510e+01  2.91889630e+01\n",
      "   3.21186457e+03  1.68292650e-02  1.56488720e-02 -1.02918900e-03]\n",
      " [-3.46271809e+00 -1.24802098e+00 -1.24802098e+00 -1.05543352e+00\n",
      "   8.25948090e-02 -9.84000000e-06 -4.15000000e-05  1.07632494e+00\n",
      "  -1.25932000e-04  1.08320886e+00  1.07170470e+00  4.22390000e-03\n",
      "   1.07051850e+00  1.01070760e+01  3.81322060e+01  3.01253910e+01\n",
      "   3.25420288e+03  1.76067910e-02  1.70360820e-02 -5.22740000e-04]\n",
      " [-3.18481801e+00 -1.11389311e+00 -1.11389311e+00 -1.29500066e+00\n",
      "   6.51569160e-02 -7.30000000e-05 -1.21204000e-04  1.08515431e+00\n",
      "  -1.86149000e-04  1.09023126e+00  1.08028500e+00  2.93180000e-03\n",
      "   1.07162450e+00  1.02309237e+01  3.90876880e+01  2.99837000e+01\n",
      "   3.26964283e+03  1.70872750e-02  1.64801180e-02 -4.97063000e-04]\n",
      " [-3.42899160e+00 -1.23792561e+00 -1.23792561e+00 -5.21854131e-01\n",
      "   9.97402600e-02  2.06836000e-04  2.06000000e-05  1.07353383e+00\n",
      "  -7.10000000e-05  1.08062420e+00  1.06564680e+00  1.10646000e-02\n",
      "   1.07383700e+00  1.01611910e+01  3.58063770e+01  2.83746970e+01\n",
      "   3.08012183e+03  1.77800640e-02  1.69748780e-02 -5.04403000e-04]\n",
      " [-3.31600488e+00 -1.19016492e+00 -1.19016492e+00 -1.41489203e+00\n",
      "   9.00620030e-02  4.19000000e-05 -1.78508000e-04  1.05127703e+00\n",
      "  -1.71432000e-04  1.04997176e+00  1.04803730e+00  1.64250000e-03\n",
      "   1.03284570e+00  1.03333770e+01  3.74024280e+01  2.92295340e+01\n",
      "   3.17877433e+03  1.79289390e-02  1.64349300e-02 -1.03486900e-03]\n",
      " [-3.52653635e+00 -1.23065050e+00 -1.23065050e+00 -8.92535530e-01\n",
      "   7.69529910e-02  6.97000000e-05 -4.40000000e-05  1.08213695e+00\n",
      "  -1.09075000e-04  1.08737625e+00  1.07687990e+00  5.13700000e-03\n",
      "   1.07664570e+00  1.01215760e+01  3.71637270e+01  2.91500130e+01\n",
      "   3.17116212e+03  1.76554120e-02  1.71655250e-02 -2.58873000e-04]\n",
      " [-3.52625914e+00 -1.28065081e+00 -1.28065081e+00 -5.72505163e-01\n",
      "   6.76933410e-02 -8.80000000e-05 -6.66000000e-05  1.07890117e+00\n",
      "  -1.25752000e-04  1.08380122e+00  1.07452090e+00  3.56000000e-03\n",
      "   1.07142350e+00  1.02507470e+01  3.69346850e+01  2.93817330e+01\n",
      "   3.16062853e+03  1.78770260e-02  1.69029700e-02 -8.25460000e-04]\n",
      " [-3.45246275e+00 -1.24454094e+00 -1.24454094e+00 -1.64845529e+00\n",
      "   1.02776378e-01  1.56000000e-05 -3.03000000e-05  1.07209363e+00\n",
      "  -1.26161000e-04  1.08020847e+00  1.06726740e+00  4.89710000e-03\n",
      "   1.06766950e+00  1.00419867e+01  3.39728470e+01  2.78698120e+01\n",
      "   2.92079842e+03  1.76784190e-02  1.69533570e-02 -5.53833000e-04]\n",
      " [-3.56180836e+00 -1.29886438e+00 -1.29886438e+00 -1.04200069e+00\n",
      "   1.02419048e-01  2.07000000e-05  4.95000000e-07  1.07059770e+00\n",
      "  -6.74000000e-05  1.07608451e+00  1.06584100e+00  5.94600000e-03\n",
      "   1.06935670e+00  1.01474093e+01  3.66239700e+01  2.91559890e+01\n",
      "   3.13615839e+03  1.76243240e-02  1.71414690e-02 -2.67010000e-04]\n",
      " [-3.70890303e+00 -1.38617937e+00 -1.38617937e+00 -5.43987343e-01\n",
      "   1.34322772e-01 -4.36000000e-05  3.28000000e-05  1.07657475e+00\n",
      "  -1.81000000e-05  1.08047904e+00  1.07250430e+00  6.83750000e-03\n",
      "   1.07879980e+00  1.01145810e+01  3.90107880e+01  3.00222300e+01\n",
      "   3.28183994e+03  1.71446480e-02  1.68376680e-02  4.10000000e-05]\n",
      " [-3.62706350e+00 -1.34314469e+00 -1.34314469e+00 -2.33781299e+00\n",
      "   1.33107305e-01 -4.87000000e-05  1.27000000e-05  1.07857364e+00\n",
      "  -5.83000000e-05  1.08438082e+00  1.07327930e+00  6.84580000e-03\n",
      "   1.07850810e+00  1.01468843e+01  3.55751040e+01  2.94305040e+01\n",
      "   3.11514467e+03  1.76886300e-02  1.74170140e-02 -3.72000000e-05]\n",
      " [-3.68362006e+00 -1.36479095e+00 -1.36479095e+00 -1.12658222e+00\n",
      "   1.31303618e-01  2.35851000e-04  2.07000000e-05  1.08352129e+00\n",
      "  -1.62000000e-05  1.08623669e+00  1.07905200e+00  6.54400000e-03\n",
      "   1.08479110e+00  1.01292483e+01  3.75537610e+01  2.99495140e+01\n",
      "   3.23144027e+03  1.76951360e-02  1.74064210e-02  9.91000000e-05]\n",
      " [-3.48817140e+00 -1.27205559e+00 -1.27205559e+00 -7.28436834e-01\n",
      "   1.39738367e-01 -8.48000000e-05 -2.80000000e-07  1.07335520e+00\n",
      "  -7.22000000e-05  1.07909550e+00  1.06872170e+00  5.76650000e-03\n",
      "   1.07184950e+00  1.01302933e+01  4.00313260e+01  3.00373900e+01\n",
      "   3.29615035e+03  1.74606130e-02  1.69695170e-02 -3.78346000e-04]\n",
      " [-3.52313729e+00 -1.29129275e+00 -1.29129275e+00 -9.48254492e-01\n",
      "   1.39515213e-01  1.18488000e-04  3.51000000e-05  1.07889607e+00\n",
      "  -3.18000000e-05  1.08437391e+00  1.07481660e+00  6.85740000e-03\n",
      "   1.08126500e+00  1.01146883e+01  3.64040300e+01  2.93678250e+01\n",
      "   3.13070406e+03  1.82263120e-02  1.79824900e-02  9.34000000e-05]\n",
      " [-3.50559781e+00 -1.28362245e+00 -1.28362245e+00 -1.29840745e+00\n",
      "   1.42137464e-01 -1.21559000e-04  3.19000000e-05  1.08428440e+00\n",
      "  -2.65000000e-05  1.08882999e+00  1.07846130e+00  8.42060000e-03\n",
      "   1.08631590e+00  1.01444793e+01  3.69030490e+01  2.93990060e+01\n",
      "   3.14865474e+03  1.81746720e-02  1.78821140e-02  7.45000000e-05]\n",
      " [-3.43908203e+00 -1.24733492e+00 -1.24733492e+00 -8.66600089e-01\n",
      "   1.40075548e-01  1.01814000e-04  1.66000000e-05  1.07388267e+00\n",
      "  -6.89000000e-05  1.08094920e+00  1.06820490e+00  7.90390000e-03\n",
      "   1.07369840e+00  1.01280363e+01  3.89229010e+01  2.94001050e+01\n",
      "   3.24668626e+03  1.79385000e-02  1.74913970e-02 -7.86000000e-05]\n",
      " [-3.39496836e+00 -1.22602927e+00 -1.22602927e+00 -1.99388362e+00\n",
      "   1.34111958e-01 -3.82000000e-05  1.25000000e-05  1.07897625e+00\n",
      "  -2.66000000e-05  1.08168061e+00  1.07356460e+00  7.07540000e-03\n",
      "   1.07907760e+00  1.01291743e+01  3.89052580e+01  2.96492960e+01\n",
      "   3.23522449e+03  1.81276800e-02  1.78797920e-02  9.04000000e-05]\n",
      " [-3.68841766e+00 -1.36135122e+00 -1.36135122e+00 -1.53969922e+00\n",
      "   1.13009868e-01 -5.25000000e-05 -7.06000000e-06  1.07486797e+00\n",
      "  -7.21000000e-05  1.08017046e+00  1.07047260e+00  5.18560000e-03\n",
      "   1.07304080e+00  1.00971140e+01  3.79333080e+01  2.93814070e+01\n",
      "   3.19629468e+03  1.71533470e-02  1.68379100e-02 -1.26906000e-04]]\n"
     ]
    }
   ],
   "source": [
    "print(x_train)"
   ]
  },
  {
   "cell_type": "code",
   "execution_count": 524,
   "id": "62948bf6",
   "metadata": {},
   "outputs": [
    {
     "name": "stdout",
     "output_type": "stream",
     "text": [
      "562.8537406230266\n"
     ]
    },
    {
     "data": {
      "image/png": "[encoded data removed]",
      "text/plain": [
       "<Figure size 640x480 with 1 Axes>"
      ]
     },
     "metadata": {},
     "output_type": "display_data"
    }
   ],
   "source": [
    "from sklearn.multioutput import MultiOutputRegressor\n",
    "from sklearn.linear_model import Ridge\n",
    "\n",
    "regr = MultiOutputRegressor(SVR()).fit(x_train, y_train)\n",
    "\n",
    "predicted = regr.predict(x_train)\n",
    "x=np.arange(1, 2500)\n",
    "cycle_lives = []\n",
    "for p in predicted:\n",
    "    plt.plot(x, 1.1*(1 - (np.exp(p[0]/temps)*np.power(x,p[1]) + p[2] * np.log(x))))\n",
    "    predicted_array = 1.1*(1 - (np.exp(p[0]/temps)*np.power(x,p[1]) + p[2] * np.log(x)))\n",
    "    cycle_life = np.sum(predicted_array > 0.8*1.1)\n",
    "    cycle_lives.append(cycle_life)\n",
    "plt.plot(x, 0.8*np.ones(len(x)), \":\")\n",
    "plt.ylim(0, 1.1)\n",
    "\n",
    "cycle_lives = np.array(cycle_lives)\n",
    "truths = data[:, 0][train_ind]\n",
    "rmse = np.sqrt(np.mean(np.abs(truths-cycle_lives)**2))\n",
    "print(rmse)"
   ]
  },
  {
   "cell_type": "code",
   "execution_count": null,
   "id": "a96e4832",
   "metadata": {},
   "outputs": [],
   "source": []
  }
 ],
 "metadata": {
  "kernelspec": {
   "display_name": "Python 3 (ipykernel)",
   "language": "python",
   "name": "python3"
  },
  "language_info": {
   "codemirror_mode": {
    "name": "ipython",
    "version": 3
   },
   "file_extension": ".py",
   "mimetype": "text/x-python",
   "name": "python",
   "nbconvert_exporter": "python",
   "pygments_lexer": "ipython3",
   "version": "3.8.8"
  }
 },
 "nbformat": 4,
 "nbformat_minor": 5
}
