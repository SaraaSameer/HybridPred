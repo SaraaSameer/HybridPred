{
 "cells": [
  {
   "cell_type": "code",
   "execution_count": 15,
   "id": "56a6f54b",
   "metadata": {},
   "outputs": [],
   "source": [
    "import numpy as np\n",
    "import matplotlib.pyplot as plt\n",
    "import pickle"
   ]
  },
  {
   "cell_type": "markdown",
   "id": "5e2b360a",
   "metadata": {},
   "source": [
    "## Load and combine raw data from all three batches"
   ]
  },
  {
   "cell_type": "code",
   "execution_count": 16,
   "id": "d976c361",
   "metadata": {},
   "outputs": [],
   "source": [
    "batch1 = pickle.load(open(r'../Data/batch1.pkl', 'rb'))\n",
    "#remove batteries that do not reach 80% capacity\n",
    "del batch1['b1c8']\n",
    "del batch1['b1c10']\n",
    "del batch1['b1c12']\n",
    "del batch1['b1c13']\n",
    "del batch1['b1c22']"
   ]
  },
  {
   "cell_type": "code",
   "execution_count": 17,
   "id": "fd753796",
   "metadata": {},
   "outputs": [
    {
     "data": {
      "text/plain": [
       "41"
      ]
     },
     "execution_count": 17,
     "metadata": {},
     "output_type": "execute_result"
    }
   ],
   "source": [
    "numBat1 = len(batch1.keys())\n",
    "numBat1"
   ]
  },
  {
   "cell_type": "code",
   "execution_count": 18,
   "id": "fe78d64c",
   "metadata": {},
   "outputs": [],
   "source": [
    "batch2 = pickle.load(open(r'../Data/batch2.pkl','rb'))"
   ]
  },
  {
   "cell_type": "code",
   "execution_count": 19,
   "id": "10cea751",
   "metadata": {},
   "outputs": [],
   "source": [
    "# There are four cells from batch1 that carried into batch2, we'll remove the data from batch2\n",
    "# and put it with the correct cell from batch1\n",
    "batch2_keys = ['b2c7', 'b2c8', 'b2c9', 'b2c15', 'b2c16']\n",
    "batch1_keys = ['b1c0', 'b1c1', 'b1c2', 'b1c3', 'b1c4']\n",
    "add_len = [662, 981, 1060, 208, 482];"
   ]
  },
  {
   "cell_type": "code",
   "execution_count": 20,
   "id": "395890f7",
   "metadata": {},
   "outputs": [],
   "source": [
    "for i, bk in enumerate(batch1_keys):\n",
    "    batch1[bk]['cycle_life'] = batch1[bk]['cycle_life'] + add_len[i]\n",
    "    for j in batch1[bk]['summary'].keys():\n",
    "        if j == 'cycle':\n",
    "            batch1[bk]['summary'][j] = np.hstack((batch1[bk]['summary'][j], batch2[batch2_keys[i]]['summary'][j] + len(batch1[bk]['summary'][j])))\n",
    "        else:\n",
    "            batch1[bk]['summary'][j] = np.hstack((batch1[bk]['summary'][j], batch2[batch2_keys[i]]['summary'][j]))\n",
    "    last_cycle = len(batch1[bk]['cycles'].keys())\n",
    "    for j, jk in enumerate(batch2[batch2_keys[i]]['cycles'].keys()):\n",
    "        batch1[bk]['cycles'][str(last_cycle + j)] = batch2[batch2_keys[i]]['cycles'][jk]"
   ]
  },
  {
   "cell_type": "code",
   "execution_count": 21,
   "id": "51e195d2",
   "metadata": {},
   "outputs": [],
   "source": [
    "del batch2['b2c7']\n",
    "del batch2['b2c8']\n",
    "del batch2['b2c9']\n",
    "del batch2['b2c15']\n",
    "del batch2['b2c16']"
   ]
  },
  {
   "cell_type": "code",
   "execution_count": 22,
   "id": "f34a7e2f",
   "metadata": {},
   "outputs": [
    {
     "data": {
      "text/plain": [
       "43"
      ]
     },
     "execution_count": 22,
     "metadata": {},
     "output_type": "execute_result"
    }
   ],
   "source": [
    "numBat2 = len(batch2.keys())\n",
    "numBat2"
   ]
  },
  {
   "cell_type": "code",
   "execution_count": 23,
   "id": "ff31f1c6",
   "metadata": {},
   "outputs": [],
   "source": [
    "batch3 = pickle.load(open(r'../Data/batch3.pkl','rb'))\n",
    "# remove noisy channels from batch3\n",
    "del batch3['b3c37']\n",
    "del batch3['b3c2']\n",
    "del batch3['b3c23']\n",
    "del batch3['b3c32']\n",
    "del batch3['b3c42']\n",
    "del batch3['b3c43']"
   ]
  },
  {
   "cell_type": "code",
   "execution_count": 24,
   "id": "5d052ac2",
   "metadata": {},
   "outputs": [
    {
     "data": {
      "text/plain": [
       "40"
      ]
     },
     "execution_count": 24,
     "metadata": {},
     "output_type": "execute_result"
    }
   ],
   "source": [
    "numBat3 = len(batch3.keys())\n",
    "numBat3"
   ]
  },
  {
   "cell_type": "code",
   "execution_count": 25,
   "id": "5b3e4759",
   "metadata": {},
   "outputs": [
    {
     "data": {
      "text/plain": [
       "124"
      ]
     },
     "execution_count": 25,
     "metadata": {},
     "output_type": "execute_result"
    }
   ],
   "source": [
    "numBat = numBat1 + numBat2 + numBat3\n",
    "numBat"
   ]
  },
  {
   "cell_type": "code",
   "execution_count": 26,
   "id": "b7645594",
   "metadata": {},
   "outputs": [],
   "source": [
    "bat_dict = {**batch1, **batch2, **batch3}"
   ]
  },
  {
   "cell_type": "code",
   "execution_count": 1127,
   "id": "62d80442",
   "metadata": {},
   "outputs": [
    {
     "data": {
      "text/plain": [
       "[<matplotlib.lines.Line2D at 0x7fd5c3e3d1c0>]"
      ]
     },
     "execution_count": 1127,
     "metadata": {},
     "output_type": "execute_result"
    },
    {
     "data": {
      "image/png": "[encoded data removed]",
      "text/plain": [
       "<Figure size 640x480 with 1 Axes>"
      ]
     },
     "metadata": {},
     "output_type": "display_data"
    }
   ],
   "source": [
    "bat = bat_dict['b1c5']\n",
    "\n",
    "Y = 1-bat['summary']['QC'][1:]/1.1\n",
    "length = len(bat['summary']['QD'][1:])\n",
    "x = np.arange(1,length+1)\n",
    "plt.plot(x,bat['summary']['QD'][1:])"
   ]
  },
  {
   "cell_type": "code",
   "execution_count": 1128,
   "id": "f793086f",
   "metadata": {},
   "outputs": [
    {
     "name": "stdout",
     "output_type": "stream",
     "text": [
      "[[1074.]]\n"
     ]
    }
   ],
   "source": [
    "print(bat['cycle_life'])"
   ]
  },
  {
   "cell_type": "code",
   "execution_count": 1136,
   "id": "fd882a45",
   "metadata": {},
   "outputs": [
    {
     "name": "stdout",
     "output_type": "stream",
     "text": [
      "4.866126759458796\n"
     ]
    }
   ],
   "source": [
    "from scipy.optimize import curve_fit\n",
    "\n",
    "def func(x, a, b, c):\n",
    "    return np.exp(a)*x**b + c\n",
    "\n",
    "param = curve_fit(func, x, Y, maxfev = 4000)[0]\n",
    "\n",
    "alpha = param[0]\n",
    "beta = param[1]\n",
    "gamma = param[2]\n",
    "print(beta)"
   ]
  },
  {
   "cell_type": "code",
   "execution_count": 1134,
   "id": "bc8b6504",
   "metadata": {},
   "outputs": [
    {
     "data": {
      "text/plain": [
       "[<matplotlib.lines.Line2D at 0x7fd7d95b1190>]"
      ]
     },
     "execution_count": 1134,
     "metadata": {},
     "output_type": "execute_result"
    },
    {
     "data": {
      "image/png": "[encoded data removed]",
      "text/plain": [
       "<Figure size 640x480 with 1 Axes>"
      ]
     },
     "metadata": {},
     "output_type": "display_data"
    }
   ],
   "source": [
    "\n",
    "#print(np.exp(alpha/temps)*np.power(x,beta) + gamma * np.log(x))\n",
    "plt.plot(x, Y)\n",
    "plt.plot(x, np.exp(alpha)*np.power(x,beta) +gamma)\n"
   ]
  },
  {
   "cell_type": "code",
   "execution_count": 1116,
   "id": "a5898740",
   "metadata": {},
   "outputs": [],
   "source": [
    "params = []\n",
    "for i in bat_dict.keys():\n",
    "    bat = bat_dict[i]\n",
    "    Y = 1-bat['summary']['QC'][1:cutoff]/1.1\n",
    "    length = len(bat['summary']['QD'][1:cutoff])\n",
    "    x = np.arange(1,length+1)\n",
    "    param = curve_fit(func, x, Y, maxfev = 4000)[0]\n",
    "\n",
    "    alpha = param[0]\n",
    "    beta = param[1]\n",
    "    gamma = param[2]\n",
    "    params.append([alpha,beta,gamma])\n",
    "params = np.array(params)"
   ]
  },
  {
   "cell_type": "code",
   "execution_count": 1117,
   "id": "65ee9304",
   "metadata": {},
   "outputs": [],
   "source": [
    "from sklearn.svm import SVR\n",
    "from sklearn.linear_model import ElasticNet\n",
    "from sklearn.metrics import make_scorer\n",
    "from sklearn.model_selection import *\n",
    "\n",
    "data = np.loadtxt('./../Data/features4.csv',delimiter=',',skiprows=1) # skip row for column names"
   ]
  },
  {
   "cell_type": "code",
   "execution_count": 1118,
   "id": "295c7a5b",
   "metadata": {},
   "outputs": [],
   "source": [
    "test_ind = np.array([ 0,  2,  4,  6,  8, 10, 12, 14, 16, 18, 20, 22, 24, 26, 28, 30, 32,\n",
    "       34, 36, 38, 40, 42, 44, 46, 48, 50, 52, 54, 56, 58, 60, 62, 64, 66,\n",
    "       68, 70, 72, 74, 76, 78, 80, 82, 83])\n",
    "\n",
    "train_ind = np.array([ 1,  3,  5,  7,  9, 11, 13, 15, 17, 19, 21, 23, 25, 27, 29, 31, 33,\n",
    "       35, 37, 39, 41, 43, 45, 47, 49, 51, 53, 55, 57, 59, 61, 63, 65, 67,\n",
    "       69, 71, 73, 75, 77, 79, 81])\n",
    "\n",
    "secondary_ind = np.array([ 84,  85,  86,  87,  88,  89,  90,  91,  92,  93,  94,  95,  96,\n",
    "        97,  98,  99, 100, 101, 102, 103, 104, 105, 106, 107, 108, 109,\n",
    "       110, 111, 112, 113, 114, 115, 116, 117, 118, 119, 120, 121, 122])"
   ]
  },
  {
   "cell_type": "code",
   "execution_count": 1143,
   "id": "52f396ad",
   "metadata": {},
   "outputs": [],
   "source": [
    "x_train = data[:,1:7][train_ind]\n",
    "y_train = params[train_ind]\n",
    "\n",
    "x_test = data[:,1:7][test_ind]\n",
    "y_test = params[test_ind]\n",
    "\n",
    "x_stest = data[:,1:7][secondary_ind]\n",
    "y_stest = params[secondary_ind]"
   ]
  },
  {
   "cell_type": "code",
   "execution_count": 1144,
   "id": "7585478c",
   "metadata": {},
   "outputs": [
    {
     "name": "stdout",
     "output_type": "stream",
     "text": [
      "[[-5.01395962e+00 -1.95845666e+00 -1.95845666e+00 -3.67163344e-01\n",
      "   1.24643310e-02 -1.57280000e-04]\n",
      " [-4.44261336e+00 -1.72214930e+00 -1.72214930e+00 -3.57485561e-01\n",
      "   3.95790200e-02  1.82040000e-04]\n",
      " [-4.17887796e+00 -1.59896533e+00 -1.59896533e+00 -8.25794342e-01\n",
      "   8.90308840e-02  2.37111000e-04]\n",
      " [-3.81348608e+00 -1.41755723e+00 -1.41755723e+00 -4.77012756e-01\n",
      "   4.94257770e-02 -2.34385000e-04]\n",
      " [-4.14689653e+00 -1.62540720e+00 -1.62540720e+00 -2.25594077e-01\n",
      "   8.11871970e-02 -3.53000000e-06]\n",
      " [-4.01794910e+00 -1.53843313e+00 -1.53843313e+00 -3.16954268e-01\n",
      "   9.70684100e-02 -1.88699000e-04]\n",
      " [-3.97015945e+00 -1.50768716e+00 -1.50768716e+00 -5.91780484e-01\n",
      "   1.10826083e-01 -4.39000000e-05]\n",
      " [-3.61990683e+00 -1.33825645e+00 -1.33825645e+00 -5.63163903e-01\n",
      "   1.05651445e-01 -1.51000000e-06]\n",
      " [-3.35033805e+00 -1.18895973e+00 -1.18895973e+00 -1.04495406e+00\n",
      "   5.80775110e-02 -3.98000000e-05]\n",
      " [-3.93866252e+00 -1.49699783e+00 -1.49699783e+00 -4.69975711e-01\n",
      "   1.05233575e-01 -1.98152000e-04]\n",
      " [-3.79522000e+00 -1.41618420e+00 -1.41618420e+00 -9.31561192e-01\n",
      "   1.06078636e-01 -2.14482000e-04]\n",
      " [-3.84471181e+00 -1.42929971e+00 -1.42929971e+00 -8.45779952e-01\n",
      "   9.28898280e-02 -8.38000000e-06]\n",
      " [-3.74469922e+00 -1.38917610e+00 -1.38917610e+00 -5.44863539e-01\n",
      "   8.88416040e-02 -6.53000000e-05]\n",
      " [-3.64646350e+00 -1.34135637e+00 -1.34135637e+00 -8.07834047e-01\n",
      "   1.07022205e-01 -9.23000000e-05]\n",
      " [-3.84861616e+00 -1.42924531e+00 -1.42924531e+00 -8.21307408e-01\n",
      "   7.18452510e-02  1.38343000e-04]\n",
      " [-3.66950134e+00 -1.35045675e+00 -1.35045675e+00 -1.61761570e+00\n",
      "   1.09824665e-01 -1.35000000e-05]\n",
      " [-3.43304817e+00 -1.24860081e+00 -1.24860081e+00 -1.19510838e+00\n",
      "   1.29801972e-01  8.84000000e-05]\n",
      " [-4.05521270e+00 -1.53617106e+00 -1.53617106e+00 -6.04665456e-01\n",
      "   9.39446670e-02 -2.31000000e-05]\n",
      " [-3.66585579e+00 -1.34959877e+00 -1.34959877e+00 -9.67808152e-01\n",
      "   1.19335705e-01 -3.98481000e-04]\n",
      " [-3.42070001e+00 -1.23064430e+00 -1.23064430e+00 -8.56735788e-01\n",
      "   1.10348796e-01 -2.94607000e-04]\n",
      " [-2.74571314e+00 -8.68309264e-01 -8.68309264e-01 -3.10813309e-01\n",
      "  -5.43110000e-02  1.37331000e-04]\n",
      " [-3.49325878e+00 -1.26309429e+00 -1.26309429e+00 -7.69043504e-01\n",
      "   1.08508492e-01 -4.20000000e-05]\n",
      " [-3.35200505e+00 -1.19376458e+00 -1.19376458e+00 -7.95787759e-01\n",
      "   5.59018900e-02  1.36000000e-05]\n",
      " [-3.24438955e+00 -1.13991871e+00 -1.13991871e+00 -3.61250728e-01\n",
      "   5.52526400e-03 -1.13000000e-05]\n",
      " [-3.46271809e+00 -1.24802098e+00 -1.24802098e+00 -1.05543352e+00\n",
      "   8.25948090e-02 -9.84000000e-06]\n",
      " [-3.18481801e+00 -1.11389311e+00 -1.11389311e+00 -1.29500066e+00\n",
      "   6.51569160e-02 -7.30000000e-05]\n",
      " [-3.42899160e+00 -1.23792561e+00 -1.23792561e+00 -5.21854131e-01\n",
      "   9.97402600e-02  2.06836000e-04]\n",
      " [-3.31600488e+00 -1.19016492e+00 -1.19016492e+00 -1.41489203e+00\n",
      "   9.00620030e-02  4.19000000e-05]\n",
      " [-3.52653635e+00 -1.23065050e+00 -1.23065050e+00 -8.92535530e-01\n",
      "   7.69529910e-02  6.97000000e-05]\n",
      " [-3.52625914e+00 -1.28065081e+00 -1.28065081e+00 -5.72505163e-01\n",
      "   6.76933410e-02 -8.80000000e-05]\n",
      " [-3.45246275e+00 -1.24454094e+00 -1.24454094e+00 -1.64845529e+00\n",
      "   1.02776378e-01  1.56000000e-05]\n",
      " [-3.56180836e+00 -1.29886438e+00 -1.29886438e+00 -1.04200069e+00\n",
      "   1.02419048e-01  2.07000000e-05]\n",
      " [-3.70890303e+00 -1.38617937e+00 -1.38617937e+00 -5.43987343e-01\n",
      "   1.34322772e-01 -4.36000000e-05]\n",
      " [-3.62706350e+00 -1.34314469e+00 -1.34314469e+00 -2.33781299e+00\n",
      "   1.33107305e-01 -4.87000000e-05]\n",
      " [-3.68362006e+00 -1.36479095e+00 -1.36479095e+00 -1.12658222e+00\n",
      "   1.31303618e-01  2.35851000e-04]\n",
      " [-3.48817140e+00 -1.27205559e+00 -1.27205559e+00 -7.28436834e-01\n",
      "   1.39738367e-01 -8.48000000e-05]\n",
      " [-3.52313729e+00 -1.29129275e+00 -1.29129275e+00 -9.48254492e-01\n",
      "   1.39515213e-01  1.18488000e-04]\n",
      " [-3.50559781e+00 -1.28362245e+00 -1.28362245e+00 -1.29840745e+00\n",
      "   1.42137464e-01 -1.21559000e-04]\n",
      " [-3.43908203e+00 -1.24733492e+00 -1.24733492e+00 -8.66600089e-01\n",
      "   1.40075548e-01  1.01814000e-04]\n",
      " [-3.39496836e+00 -1.22602927e+00 -1.22602927e+00 -1.99388362e+00\n",
      "   1.34111958e-01 -3.82000000e-05]\n",
      " [-3.68841766e+00 -1.36135122e+00 -1.36135122e+00 -1.53969922e+00\n",
      "   1.13009868e-01 -5.25000000e-05]]\n"
     ]
    }
   ],
   "source": [
    "print(x_train)"
   ]
  },
  {
   "cell_type": "code",
   "execution_count": null,
   "id": "573ff321",
   "metadata": {},
   "outputs": [],
   "source": [
    "from sklearn.multioutput import MultiOutputRegressor\n",
    "from sklearn.ensemble import ExtraTreesRegressor, RandomForestRegressor\n",
    "from sklearn.linear_model import RANSACRegressor\n",
    "\n",
    "regr = MultiOutputRegressor(RANSACRegressor(estimator = RandomForestRegressor(n_estimators=5000), min_samples=0.8)).fit(x_train, y_train)\n",
    "\n",
    "predicted = regr.predict(x_stest)\n",
    "x=np.arange(1, 2500)\n",
    "cycle_lives = []\n",
    "for p in predicted:\n",
    "    plt.plot(x, 1.1*(1 - (np.exp(p[0])*np.power(x,p[1]) + p[2])))\n",
    "    predicted_array = 1.1*(1 - (np.exp(p[0])*np.power(x,p[1]) + p[2]))\n",
    "    cycle_life = np.sum(predicted_array > 0.8*1.1)\n",
    "    cycle_lives.append(cycle_life)\n",
    "plt.plot(x, 0.8*np.ones(len(x)), \":\")\n",
    "plt.ylim(0, 1.1)\n",
    "\n",
    "cycle_lives = np.array(cycle_lives)\n",
    "truths = data[:, 0][secondary_ind]\n",
    "print(cycle_lives)\n",
    "print(truths)\n",
    "rmse = np.sqrt(np.mean(np.abs(truths-cycle_lives)**2))\n",
    "print(rmse)"
   ]
  },
  {
   "cell_type": "code",
   "execution_count": null,
   "id": "1234f06a",
   "metadata": {},
   "outputs": [],
   "source": []
  }
 ],
 "metadata": {
  "kernelspec": {
   "display_name": "Python 3 (ipykernel)",
   "language": "python",
   "name": "python3"
  },
  "language_info": {
   "codemirror_mode": {
    "name": "ipython",
    "version": 3
   },
   "file_extension": ".py",
   "mimetype": "text/x-python",
   "name": "python",
   "nbconvert_exporter": "python",
   "pygments_lexer": "ipython3",
   "version": "3.8.8"
  }
 },
 "nbformat": 4,
 "nbformat_minor": 5
}
