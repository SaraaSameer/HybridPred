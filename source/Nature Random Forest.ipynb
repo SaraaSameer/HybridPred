{
 "cells": [
  {
   "cell_type": "code",
   "execution_count": 9,
   "id": "a115b5ca",
   "metadata": {},
   "outputs": [],
   "source": [
    "import numpy as np\n",
    "import matplotlib.pyplot as plt\n",
    "from sklearn.model_selection import *\n",
    "from sklearn import preprocessing\n",
    "from sklearn.ensemble import RandomForestRegressor"
   ]
  },
  {
   "cell_type": "markdown",
   "id": "74d55269",
   "metadata": {},
   "source": [
    "# One Feature"
   ]
  },
  {
   "cell_type": "code",
   "execution_count": 2,
   "id": "a355f2e0",
   "metadata": {},
   "outputs": [],
   "source": [
    "data = np.loadtxt('../Data/vardQ_.6f.csv',delimiter=',') # skip row for column names"
   ]
  },
  {
   "cell_type": "code",
   "execution_count": 3,
   "id": "62c2ae4d",
   "metadata": {},
   "outputs": [],
   "source": [
    "test_ind = np.array([ 0,  2,  4,  6,  8, 10, 12, 14, 16, 18, 20, 22, 24, 26, 28, 30, 32,\n",
    "       34, 36, 38, 40, 42, 44, 46, 48, 50, 52, 54, 56, 58, 60, 62, 64, 66,\n",
    "       68, 70, 72, 74, 76, 78, 80, 82, 83])\n",
    "\n",
    "train_ind = np.array([ 1,  3,  5,  7,  9, 11, 13, 15, 17, 19, 21, 23, 25, 27, 29, 31, 33,\n",
    "       35, 37, 39, 41, 43, 45, 47, 49, 51, 53, 55, 57, 59, 61, 63, 65, 67,\n",
    "       69, 71, 73, 75, 77, 79, 81])\n",
    "\n",
    "secondary_ind = np.array([ 84,  85,  86,  87,  88,  89,  90,  91,  92,  93,  94,  95,  96,\n",
    "        97,  98,  99, 100, 101, 102, 103, 104, 105, 106, 107, 108, 109,\n",
    "       110, 111, 112, 113, 114, 115, 116, 117, 118, 119, 120, 121, 122,\n",
    "       123])"
   ]
  },
  {
   "cell_type": "code",
   "execution_count": 10,
   "id": "898b83dc",
   "metadata": {},
   "outputs": [],
   "source": [
    "x_train = data[:, 0][train_ind]\n",
    "y_train = data[:, 1][train_ind]\n",
    "\n",
    "x_test = data[:, 0][test_ind]\n",
    "y_test = data[:, 1][test_ind]\n",
    "\n",
    "x_stest = data[:, 0][secondary_ind]\n",
    "y_stest = data[:, 1][secondary_ind]\n",
    "\n",
    "regressor = RandomForestRegressor()\n",
    "# regressor.fit(x_train.reshape(-1, 1),y_train)"
   ]
  },
  {
   "cell_type": "code",
   "execution_count": 33,
   "id": "1465b924",
   "metadata": {},
   "outputs": [
    {
     "name": "stdout",
     "output_type": "stream",
     "text": [
      "[3.334454 3.156549 3.031004 2.939519 2.896526 2.856729 2.932981 2.896526\n",
      " 2.747412 3.007321 2.939519 2.934498 2.850646 2.863917 2.870404 2.847573\n",
      " 2.790285 2.984977 2.846337 2.789581 2.477121 2.641474 2.647383 2.708421\n",
      " 2.678518 2.683947 2.693727 2.663701 2.689309 2.721811 2.663701 2.670246\n",
      " 2.697229 2.691965 2.716003 2.665581 2.679428 2.661813 2.632457 2.664642\n",
      " 2.687529]\n",
      "RandomizedSearchCV(cv=KFold(n_splits=4, random_state=42, shuffle=True),\n",
      "                   estimator=RandomForestRegressor(max_features='sqrt',\n",
      "                                                   n_estimators=68),\n",
      "                   n_iter=250, n_jobs=-1,\n",
      "                   param_distributions={'max_depth': array([5, 8, 12, 16, 20, None], dtype=object),\n",
      "                                        'max_features': ['auto', 'sqrt'],\n",
      "                                        'min_samples_leaf': [1, 2, 4],\n",
      "                                        'min_samples_split': [2, 5, 10],\n",
      "                                        'n_estimators': [5, 12, 19, 26, 33, 40,\n",
      "                                                         47, 54, 61, 68, 75, 82,\n",
      "                                                         89, 96, 103, 110, 117,\n",
      "                                                         124, 131, 138, 145,\n",
      "                                                         152, 159, 166, 173,\n",
      "                                                         181, 188, 195, 202,\n",
      "                                                         209, ...]},\n",
      "                   random_state=42, return_train_score=True,\n",
      "                   scoring='neg_mean_squared_error', verbose=2)\n",
      "Fitting 4 folds for each of 250 candidates, totalling 1000 fits\n"
     ]
    },
    {
     "data": {
      "text/plain": [
       "RandomizedSearchCV(cv=KFold(n_splits=4, random_state=42, shuffle=True),\n",
       "                   estimator=RandomForestRegressor(max_features='sqrt',\n",
       "                                                   n_estimators=68),\n",
       "                   n_iter=250, n_jobs=-1,\n",
       "                   param_distributions={'max_depth': array([5, 8, 12, 16, 20, None], dtype=object),\n",
       "                                        'max_features': ['auto', 'sqrt'],\n",
       "                                        'min_samples_leaf': [1, 2, 4],\n",
       "                                        'min_samples_split': [2, 5, 10],\n",
       "                                        'n_estimators': [5, 12, 19, 26, 33, 40,\n",
       "                                                         47, 54, 61, 68, 75, 82,\n",
       "                                                         89, 96, 103, 110, 117,\n",
       "                                                         124, 131, 138, 145,\n",
       "                                                         152, 159, 166, 173,\n",
       "                                                         181, 188, 195, 202,\n",
       "                                                         209, ...]},\n",
       "                   random_state=42, return_train_score=True,\n",
       "                   scoring='neg_mean_squared_error', verbose=2)"
      ]
     },
     "execution_count": 33,
     "metadata": {},
     "output_type": "execute_result"
    }
   ],
   "source": [
    "# Create the random grid\n",
    "param_grid = {'n_estimators': [int(x) for x in np.linspace(5,350,50)], \n",
    "              'max_features': ['auto', 'sqrt'],\n",
    "              'max_depth': np.concatenate(([int(x) for x in np.linspace(5, 20, 5)], [None])),\n",
    "              'min_samples_split': [2, 5, 10],\n",
    "              'min_samples_leaf': [1, 2, 4]\n",
    "             } \n",
    "print(y_train)\n",
    "folds = KFold(n_splits = 4, shuffle = True, random_state = 42)\n",
    "model= RandomizedSearchCV(estimator= regressor, n_iter = 250, cv=folds, param_distributions = param_grid ,scoring=\"neg_mean_squared_error\", random_state=42,verbose=2, return_train_score=True, n_jobs = -1)\n",
    "print(model)\n",
    "model.fit(x_train.reshape(-1, 1),y_train)"
   ]
  },
  {
   "cell_type": "code",
   "execution_count": 34,
   "id": "6268d933",
   "metadata": {},
   "outputs": [
    {
     "data": {
      "text/plain": [
       "[<matplotlib.lines.Line2D at 0x7f806f1289d0>]"
      ]
     },
     "execution_count": 34,
     "metadata": {},
     "output_type": "execute_result"
    },
    {
     "data": {
      "image/png": "[encoded data removed]",
      "text/plain": [
       "<Figure size 432x288 with 1 Axes>"
      ]
     },
     "metadata": {
      "needs_background": "light"
     },
     "output_type": "display_data"
    }
   ],
   "source": [
    "plt.scatter(x_train,y_train)\n",
    "plt.plot(x_train, model.predict(x_train.reshape(-1,1)))"
   ]
  },
  {
   "cell_type": "code",
   "execution_count": 35,
   "id": "c7aa006a",
   "metadata": {},
   "outputs": [
    {
     "name": "stdout",
     "output_type": "stream",
     "text": [
      "Best RMS score:  -0.008933881088455668\n",
      "Best hyperparameters:  {'n_estimators': 82, 'min_samples_split': 2, 'min_samples_leaf': 1, 'max_features': 'auto', 'max_depth': 8}\n"
     ]
    }
   ],
   "source": [
    "print(\"Best RMS score: \", model.best_score_)\n",
    "print(\"Best hyperparameters: \", model.best_params_)"
   ]
  },
  {
   "cell_type": "code",
   "execution_count": 36,
   "id": "f2c8da18",
   "metadata": {},
   "outputs": [
    {
     "data": {
      "text/plain": [
       "RandomForestRegressor(n_estimators=82)"
      ]
     },
     "execution_count": 36,
     "metadata": {},
     "output_type": "execute_result"
    }
   ],
   "source": [
    "regressor = RandomForestRegressor(max_features=model.best_params_['max_features'],\n",
    "                min_samples_leaf=model.best_params_['min_samples_leaf'], \n",
    "                min_samples_split = model.best_params_['min_samples_split'], \n",
    "                n_estimators=model.best_params_['n_estimators'])\n",
    "regressor.fit(x_train.reshape(-1, 1),y_train)"
   ]
  },
  {
   "cell_type": "code",
   "execution_count": 37,
   "id": "534d96c7",
   "metadata": {},
   "outputs": [
    {
     "name": "stdout",
     "output_type": "stream",
     "text": [
      "RMSE:  158.2301873843011\n"
     ]
    }
   ],
   "source": [
    "print(\"RMSE: \", np.sqrt(np.average((10**regressor.predict(x_test.reshape(-1,1)) - 10**y_test)**2))) "
   ]
  },
  {
   "cell_type": "code",
   "execution_count": 38,
   "id": "047443a6",
   "metadata": {},
   "outputs": [
    {
     "name": "stdout",
     "output_type": "stream",
     "text": [
      "RMSE:  226.77140786901603\n"
     ]
    }
   ],
   "source": [
    "print(\"RMSE: \", np.sqrt(np.average((10**regressor.predict(x_stest.reshape(-1,1)) - 10**y_stest)**2)))"
   ]
  },
  {
   "cell_type": "markdown",
   "id": "98bcc54b",
   "metadata": {},
   "source": [
    "# Multiple features"
   ]
  },
  {
   "cell_type": "code",
   "execution_count": 39,
   "id": "365d860c",
   "metadata": {},
   "outputs": [],
   "source": [
    "data = np.loadtxt('../Data/features.csv',delimiter=',', skiprows=1) # skip row for column names"
   ]
  },
  {
   "cell_type": "code",
   "execution_count": 50,
   "id": "08a23bbf",
   "metadata": {},
   "outputs": [],
   "source": [
    "cycle_life = np.log10(data[:,0])\n",
    "DeltaQ_logVar = data[:,1]\n",
    "DeltaQ_Min = data[:, 2]\n",
    "DeltaQ_Skew = data[:, 3]\n",
    "DeltaQ_Kurt = data[:, 4]\n",
    "QD_Max_2 = data[:, 5]\n",
    "QD_2 = data[:, 6]\n",
    "slope_capacity_fade_2_100 = data[:, 7]\n",
    "intercept_capacity_fade_2_100 = data[:, 8]\n",
    "slope_capacity_fade_91_100 = data[:, 9]\n",
    "intercept_capacity_91_100 = data[:, 10]\n",
    "init_avg_charge_time = data[:, 11]\n",
    "avg_T = data[:, 12]\n",
    "min_IR = data[:, 13]\n",
    "IR_100_2 = data[:, 14]"
   ]
  },
  {
   "cell_type": "code",
   "execution_count": 57,
   "id": "6680738e",
   "metadata": {},
   "outputs": [
    {
     "data": {
      "text/plain": [
       "<matplotlib.collections.PathCollection at 0x7f806f550af0>"
      ]
     },
     "execution_count": 57,
     "metadata": {},
     "output_type": "execute_result"
    },
    {
     "data": {
      "image/png": "[encoded data removed]",
      "text/plain": [
       "<Figure size 432x288 with 1 Axes>"
      ]
     },
     "metadata": {
      "needs_background": "light"
     },
     "output_type": "display_data"
    }
   ],
   "source": [
    "plt.scatter(cycle_life, QD_2)"
   ]
  },
  {
   "cell_type": "code",
   "execution_count": 64,
   "id": "a03fee64",
   "metadata": {},
   "outputs": [
    {
     "name": "stdout",
     "output_type": "stream",
     "text": [
      "-3.8331870629274194\n"
     ]
    }
   ],
   "source": [
    "X = np.array([DeltaQ_logVar, DeltaQ_Min, DeltaQ_Skew, DeltaQ_Kurt, QD_Max_2, QD_2]).transpose()\n",
    "\n",
    "x_train = X[train_ind]\n",
    "y_train = cycle_life[train_ind]\n",
    "\n",
    "x_test = X[test_ind]\n",
    "y_test = cycle_life[test_ind]\n",
    "\n",
    "x_stest = X[secondary_ind]\n",
    "y_stest = cycle_life[secondary_ind]\n",
    "\n",
    "print(np.average(X[:,0]))"
   ]
  },
  {
   "cell_type": "code",
   "execution_count": null,
   "id": "2ff7e489",
   "metadata": {},
   "outputs": [
    {
     "name": "stdout",
     "output_type": "stream",
     "text": [
      "[3.33445375 3.15654915 3.03100428 2.93951925 2.89652622 2.85672889\n",
      " 2.93298082 2.89652622 2.74741181 3.00732095 2.93951925 2.93449845\n",
      " 2.85064624 2.86391738 2.87040391 2.84757266 2.79028516 2.98497713\n",
      " 2.84633711 2.78958071 2.47712125 2.64147411 2.64738297 2.7084209\n",
      " 2.67851838 2.68394713 2.69372695 2.66370093 2.68930886 2.72181062\n",
      " 2.66370093 2.67024585 2.69722934 2.6919651  2.71600334 2.66558099\n",
      " 2.6794279  2.66181269 2.63245729 2.66464198 2.68752896]\n",
      "RandomizedSearchCV(cv=KFold(n_splits=4, random_state=42, shuffle=True),\n",
      "                   estimator=RandomForestRegressor(min_samples_leaf=2,\n",
      "                                                   n_estimators=969),\n",
      "                   n_iter=100, n_jobs=-1,\n",
      "                   param_distributions={'max_depth': [5, 6, 7, 8, 9, 10, 11, 12,\n",
      "                                                      13, 14, 15, None],\n",
      "                                        'max_features': ['auto', 'sqrt'],\n",
      "                                        'min_samples_leaf': [1, 2, 4],\n",
      "                                        'min_samples_split': [2, 5, 10],\n",
      "                                        'n_estimators': [5, 15, 25, 35, 45, 55,\n",
      "                                                         65, 75, 85, 95, 105,\n",
      "                                                         115, 125, 135, 145,\n",
      "                                                         155, 165, 175, 185,\n",
      "                                                         195, 206, 216, 226,\n",
      "                                                         236, 246, 256, 266,\n",
      "                                                         276, 286, 296, ...]},\n",
      "                   random_state=42, return_train_score=True,\n",
      "                   scoring='neg_mean_squared_error', verbose=2)\n",
      "Fitting 4 folds for each of 100 candidates, totalling 400 fits\n"
     ]
    }
   ],
   "source": [
    "# Create the random grid\n",
    "param_grid = {'n_estimators': [int(x) for x in np.linspace(5,1000,100)], \n",
    "              'max_features': ['auto', 'sqrt'],\n",
    "              'max_depth': [5,6,7,8,9,10, 11,12,13,14,15, None],\n",
    "              'min_samples_split': [2, 5, 10],\n",
    "              'min_samples_leaf': [1, 2, 4]\n",
    "             } \n",
    "print(y_train)\n",
    "folds = KFold(n_splits = 4, shuffle = True, random_state = 42)\n",
    "model= RandomizedSearchCV(estimator= regressor, n_iter = 100, cv=folds, param_distributions = param_grid ,scoring=\"neg_mean_squared_error\", random_state=42,verbose=2, return_train_score=True, n_jobs = -1)\n",
    "print(model)\n",
    "model.fit(x_train,y_train)"
   ]
  },
  {
   "cell_type": "code",
   "execution_count": 113,
   "id": "36597c82",
   "metadata": {},
   "outputs": [
    {
     "name": "stdout",
     "output_type": "stream",
     "text": [
      "Best RMS score:  -0.009074052677658682\n",
      "Best hyperparameters:  {'n_estimators': 969, 'min_samples_split': 2, 'min_samples_leaf': 2, 'max_features': 'auto', 'max_depth': 30}\n"
     ]
    }
   ],
   "source": [
    "print(\"Best RMS score: \", model.best_score_)\n",
    "print(\"Best hyperparameters: \", model.best_params_)"
   ]
  },
  {
   "cell_type": "code",
   "execution_count": 114,
   "id": "d9b6d7e7",
   "metadata": {},
   "outputs": [
    {
     "data": {
      "text/plain": [
       "RandomForestRegressor(min_samples_leaf=2, n_estimators=969)"
      ]
     },
     "execution_count": 114,
     "metadata": {},
     "output_type": "execute_result"
    }
   ],
   "source": [
    "regressor = RandomForestRegressor(max_features=model.best_params_['max_features'],\n",
    "                min_samples_leaf=model.best_params_['min_samples_leaf'], \n",
    "                min_samples_split = model.best_params_['min_samples_split'], \n",
    "                n_estimators=model.best_params_['n_estimators'])\n",
    "regressor.fit(x_train,y_train)"
   ]
  },
  {
   "cell_type": "code",
   "execution_count": 115,
   "id": "d46a6314",
   "metadata": {},
   "outputs": [
    {
     "name": "stdout",
     "output_type": "stream",
     "text": [
      "RMSE:  188.67479887283994\n"
     ]
    }
   ],
   "source": [
    "print(\"RMSE: \", np.sqrt(np.average((10**regressor.predict(x_test) - 10**y_test)**2))) \n"
   ]
  },
  {
   "cell_type": "code",
   "execution_count": 116,
   "id": "70a642ef",
   "metadata": {},
   "outputs": [
    {
     "name": "stdout",
     "output_type": "stream",
     "text": [
      "RMSE:  215.1651089452194\n"
     ]
    }
   ],
   "source": [
    "print(\"RMSE: \", np.sqrt(np.average((10**regressor.predict(x_stest) - 10**y_stest)**2))) \n"
   ]
  },
  {
   "cell_type": "code",
   "execution_count": null,
   "id": "b3b1dcd6",
   "metadata": {},
   "outputs": [],
   "source": []
  }
 ],
 "metadata": {
  "kernelspec": {
   "display_name": "Python 3",
   "language": "python",
   "name": "python3"
  },
  "language_info": {
   "codemirror_mode": {
    "name": "ipython",
    "version": 3
   },
   "file_extension": ".py",
   "mimetype": "text/x-python",
   "name": "python",
   "nbconvert_exporter": "python",
   "pygments_lexer": "ipython3",
   "version": "3.8.8"
  }
 },
 "nbformat": 4,
 "nbformat_minor": 5
}
