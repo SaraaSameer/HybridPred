{
 "cells": [
  {
   "cell_type": "code",
   "execution_count": 551,
   "id": "75d7b175",
   "metadata": {},
   "outputs": [],
   "source": [
    "from sklearn.svm import SVR\n",
    "import numpy as np\n",
    "import matplotlib.pyplot as plt\n",
    "from sklearn.model_selection import *\n",
    "from sklearn import preprocessing"
   ]
  },
  {
   "cell_type": "code",
   "execution_count": 158,
   "id": "3681a99d",
   "metadata": {},
   "outputs": [],
   "source": [
    "data = np.loadtxt('../Data/vardQ_.6f.csv',delimiter=',') # skip row for column names"
   ]
  },
  {
   "cell_type": "code",
   "execution_count": 180,
   "id": "d492cfe8",
   "metadata": {},
   "outputs": [],
   "source": [
    "test_ind = np.array([ 0,  2,  4,  6,  8, 10, 12, 14, 16, 18, 20, 22, 24, 26, 28, 30, 32,\n",
    "       34, 36, 38, 40, 42, 44, 46, 48, 50, 52, 54, 56, 58, 60, 62, 64, 66,\n",
    "       68, 70, 72, 74, 76, 78, 80, 82, 83])\n",
    "\n",
    "train_ind = np.array([ 1,  3,  5,  7,  9, 11, 13, 15, 17, 19, 21, 23, 25, 27, 29, 31, 33,\n",
    "       35, 37, 39, 41, 43, 45, 47, 49, 51, 53, 55, 57, 59, 61, 63, 65, 67,\n",
    "       69, 71, 73, 75, 77, 79, 81])\n",
    "\n",
    "secondary_ind = np.array([ 84,  85,  86,  87,  88,  89,  90,  91,  92,  93,  94,  95,  96,\n",
    "        97,  98,  99, 100, 101, 102, 103, 104, 105, 106, 107, 108, 109,\n",
    "       110, 111, 112, 113, 114, 115, 116, 117, 118, 119, 120, 121, 122,\n",
    "       123])"
   ]
  },
  {
   "cell_type": "code",
   "execution_count": 181,
   "id": "d9b4c8b3",
   "metadata": {},
   "outputs": [],
   "source": [
    "x_train = data[:, 0][train_ind]\n",
    "y_train = data[:, 1][train_ind]\n",
    "\n",
    "x_test = data[:, 0][test_ind]\n",
    "y_test = data[:, 1][test_ind]\n",
    "\n",
    "x_stest = data[:, 0][secondary_ind]\n",
    "y_stest = data[:, 1][secondary_ind]\n",
    "\n",
    "regressor = SVR()\n",
    "# regressor.fit(x_train.reshape(-1, 1),y_train)"
   ]
  },
  {
   "cell_type": "code",
   "execution_count": 182,
   "id": "61bf6a68",
   "metadata": {},
   "outputs": [
    {
     "name": "stdout",
     "output_type": "stream",
     "text": [
      "[3.334454 3.156549 3.031004 2.939519 2.896526 2.856729 2.932981 2.896526\n",
      " 2.747412 3.007321 2.939519 2.934498 2.850646 2.863917 2.870404 2.847573\n",
      " 2.790285 2.984977 2.846337 2.789581 2.477121 2.641474 2.647383 2.708421\n",
      " 2.678518 2.683947 2.693727 2.663701 2.689309 2.721811 2.663701 2.670246\n",
      " 2.697229 2.691965 2.716003 2.665581 2.679428 2.661813 2.632457 2.664642\n",
      " 2.687529]\n",
      "RandomizedSearchCV(cv=KFold(n_splits=3, random_state=42, shuffle=True),\n",
      "                   estimator=SVR(), n_iter=20000, n_jobs=-1,\n",
      "                   param_distributions={'C': array([ 10.        ,  10.49049049,  10.98098098,  11.47147147,\n",
      "        11.96196196,  12.45245245,  12.94294294,  13.43343343,\n",
      "        13.92392392,  14.41441441,  14.9049049 ,  15.3953954 ,\n",
      "        15.88588589,  16.37637638,  16.86686687,  17.35735736,\n",
      "        17.84784785,  18.33833834,  18.8...\n",
      "       9.84986486e-01, 9.85987387e-01, 9.86988288e-01, 9.87989189e-01,\n",
      "       9.88990090e-01, 9.89990991e-01, 9.90991892e-01, 9.91992793e-01,\n",
      "       9.92993694e-01, 9.93994595e-01, 9.94995495e-01, 9.95996396e-01,\n",
      "       9.96997297e-01, 9.97998198e-01, 9.98999099e-01, 1.00000000e+00]),\n",
      "                                        'kernel': ['linear', 'rbf', 'sigmoid']},\n",
      "                   random_state=42, return_train_score=True,\n",
      "                   scoring='neg_mean_squared_error', verbose=2)\n",
      "Fitting 3 folds for each of 20000 candidates, totalling 60000 fits\n"
     ]
    },
    {
     "data": {
      "text/plain": [
       "RandomizedSearchCV(cv=KFold(n_splits=3, random_state=42, shuffle=True),\n",
       "                   estimator=SVR(), n_iter=20000, n_jobs=-1,\n",
       "                   param_distributions={'C': array([ 10.        ,  10.49049049,  10.98098098,  11.47147147,\n",
       "        11.96196196,  12.45245245,  12.94294294,  13.43343343,\n",
       "        13.92392392,  14.41441441,  14.9049049 ,  15.3953954 ,\n",
       "        15.88588589,  16.37637638,  16.86686687,  17.35735736,\n",
       "        17.84784785,  18.33833834,  18.8...\n",
       "       9.84986486e-01, 9.85987387e-01, 9.86988288e-01, 9.87989189e-01,\n",
       "       9.88990090e-01, 9.89990991e-01, 9.90991892e-01, 9.91992793e-01,\n",
       "       9.92993694e-01, 9.93994595e-01, 9.94995495e-01, 9.95996396e-01,\n",
       "       9.96997297e-01, 9.97998198e-01, 9.98999099e-01, 1.00000000e+00]),\n",
       "                                        'kernel': ['linear', 'rbf', 'sigmoid']},\n",
       "                   random_state=42, return_train_score=True,\n",
       "                   scoring='neg_mean_squared_error', verbose=2)"
      ]
     },
     "execution_count": 182,
     "metadata": {},
     "output_type": "execute_result"
    }
   ],
   "source": [
    "# Create the random grid\n",
    "param_grid = {'C': np.linspace(10,500,1000), \n",
    "              'kernel': ['linear','rbf', 'sigmoid'],\n",
    "              'gamma': np.linspace(0.0001,1,1000),\n",
    "              'epsilon':np.linspace(0.0001,1,1000)} \n",
    "print(y_train)\n",
    "folds = KFold(n_splits = 4, shuffle = True, random_state = 42)\n",
    "model= RandomizedSearchCV(estimator= regressor, n_iter = 20000, cv=folds, param_distributions = param_grid ,scoring=\"neg_mean_squared_error\", random_state=42,verbose=2, return_train_score=True, n_jobs = -1)\n",
    "print(model)\n",
    "model.fit(x_train.reshape(-1, 1),y_train)"
   ]
  },
  {
   "cell_type": "code",
   "execution_count": 183,
   "id": "82118b92",
   "metadata": {},
   "outputs": [
    {
     "data": {
      "text/plain": [
       "[<matplotlib.lines.Line2D at 0x7fb7c8547a00>]"
      ]
     },
     "execution_count": 183,
     "metadata": {},
     "output_type": "execute_result"
    },
    {
     "data": {
      "image/png": "[encoded data removed]",
      "text/plain": [
       "<Figure size 432x288 with 1 Axes>"
      ]
     },
     "metadata": {
      "needs_background": "light"
     },
     "output_type": "display_data"
    }
   ],
   "source": [
    "plt.scatter(x_train,y_train)\n",
    "plt.plot(x_train, model.predict(x_train.reshape(-1,1)))"
   ]
  },
  {
   "cell_type": "code",
   "execution_count": 184,
   "id": "eedcfa3d",
   "metadata": {},
   "outputs": [
    {
     "name": "stdout",
     "output_type": "stream",
     "text": [
      "Best RMS score:  -0.006279192699595593\n",
      "Best hyperparameters:  {'kernel': 'rbf', 'gamma': 0.04113693693693694, 'epsilon': 0.08217387387387387, 'C': 82.5925925925926}\n"
     ]
    }
   ],
   "source": [
    "print(\"Best RMS score: \", model.best_score_)\n",
    "print(\"Best hyperparameters: \", model.best_params_)"
   ]
  },
  {
   "cell_type": "code",
   "execution_count": 185,
   "id": "48a82e71",
   "metadata": {},
   "outputs": [
    {
     "data": {
      "text/plain": [
       "SVR(C=82.5925925925926, epsilon=0.08217387387387387, gamma=0.04113693693693694)"
      ]
     },
     "execution_count": 185,
     "metadata": {},
     "output_type": "execute_result"
    }
   ],
   "source": [
    "regressor = SVR(kernel='rbf',epsilon=0.08217387387387387, gamma = 0.04113693693693694, C=82.5925925925926)\n",
    "regressor.fit(x_train.reshape(-1, 1),y_train)"
   ]
  },
  {
   "cell_type": "code",
   "execution_count": 186,
   "id": "ffd7b24f",
   "metadata": {},
   "outputs": [
    {
     "data": {
      "text/plain": [
       "[<matplotlib.lines.Line2D at 0x7fb7adb38a30>]"
      ]
     },
     "execution_count": 186,
     "metadata": {},
     "output_type": "execute_result"
    },
    {
     "data": {
      "image/png": "[encoded data removed]",
      "text/plain": [
       "<Figure size 432x288 with 1 Axes>"
      ]
     },
     "metadata": {
      "needs_background": "light"
     },
     "output_type": "display_data"
    }
   ],
   "source": [
    "plt.scatter(x_stest,y_stest)\n",
    "plt.plot(x_stest, model.predict(x_stest.reshape(-1,1)))"
   ]
  },
  {
   "cell_type": "code",
   "execution_count": 187,
   "id": "b2a4cbea",
   "metadata": {},
   "outputs": [
    {
     "name": "stdout",
     "output_type": "stream",
     "text": [
      "RMSE:  126.29321797480753\n"
     ]
    }
   ],
   "source": [
    "print(\"RMSE: \", np.sqrt(np.average((10**regressor.predict(x_test.reshape(-1,1)) - 10**y_test)**2))) # 1 is the best score"
   ]
  },
  {
   "cell_type": "code",
   "execution_count": 188,
   "id": "788ce26c",
   "metadata": {},
   "outputs": [
    {
     "name": "stdout",
     "output_type": "stream",
     "text": [
      "RMSE:  205.76221965781912\n"
     ]
    }
   ],
   "source": [
    "print(\"RMSE: \", np.sqrt(np.average((10**regressor.predict(x_stest.reshape(-1,1)) - 10**y_stest)**2))) # 1 is the best score"
   ]
  },
  {
   "cell_type": "code",
   "execution_count": 510,
   "id": "13c70b3a",
   "metadata": {},
   "outputs": [],
   "source": [
    "data = np.loadtxt('../Data/features.csv',delimiter=',', skiprows=1) # skip row for column names"
   ]
  },
  {
   "cell_type": "code",
   "execution_count": 623,
   "id": "4b8e6230",
   "metadata": {},
   "outputs": [],
   "source": [
    "cycle_life = np.log10(data[:,0])\n",
    "DeltaQ_logVar = data[:,1]\n",
    "DeltaQ_Min = data[:, 2]\n",
    "DeltaQ_Skew = data[:, 3]\n",
    "DeltaQ_Kurt = data[:, 4]\n",
    "QD_Max_2 = data[:, 5]\n",
    "QD_2 = data[:, 6]\n",
    "slope_capacity_fade_2_100 = data[:, 7]\n",
    "intercept_capacity_fade_2_100 = data[:, 8]\n",
    "slope_capacity_fade_91_100 = data[:, 9]\n",
    "intercept_capacity_91_100 = data[:, 10]\n",
    "init_avg_charge_time = data[:, 11]\n",
    "avg_T = data[:, 12]\n",
    "min_IR = data[:, 13]\n",
    "IR_100_2 = data[:, 14]"
   ]
  },
  {
   "cell_type": "code",
   "execution_count": 624,
   "id": "b498d089",
   "metadata": {},
   "outputs": [
    {
     "data": {
      "text/plain": [
       "<matplotlib.collections.PathCollection at 0x7fb7a0409550>"
      ]
     },
     "execution_count": 624,
     "metadata": {},
     "output_type": "execute_result"
    },
    {
     "data": {
      "image/png": "[encoded data removed]",
      "text/plain": [
       "<Figure size 432x288 with 1 Axes>"
      ]
     },
     "metadata": {
      "needs_background": "light"
     },
     "output_type": "display_data"
    }
   ],
   "source": [
    "plt.scatter(cycle_life, DeltaQ_Kurt)"
   ]
  },
  {
   "cell_type": "code",
   "execution_count": 636,
   "id": "f2b158cc",
   "metadata": {},
   "outputs": [
    {
     "name": "stdout",
     "output_type": "stream",
     "text": [
      "1.0\n"
     ]
    }
   ],
   "source": [
    "X = np.array([DeltaQ_logVar, DeltaQ_Min, DeltaQ_Kurt, DeltaQ_Skew, QD_Max_2, QD_2, IR_100_2])\n",
    "\n",
    "scaler = preprocessing.StandardScaler().fit(X)\n",
    "X = scaler.transform(X)\n",
    "\n",
    "x_train = X[:,train_ind]\n",
    "y_train = cycle_life[train_ind]\n",
    "\n",
    "x_test = X[:,test_ind]\n",
    "y_test = cycle_life[test_ind]\n",
    "\n",
    "x_stest = X[:,secondary_ind]\n",
    "y_stest = cycle_life[secondary_ind]\n",
    "\n",
    "print(np.var(x_stest))\n",
    "\n",
    "regressor = SVR()"
   ]
  },
  {
   "cell_type": "code",
   "execution_count": 637,
   "id": "1589050b",
   "metadata": {},
   "outputs": [
    {
     "name": "stdout",
     "output_type": "stream",
     "text": [
      "[3.33445375 3.15654915 3.03100428 2.93951925 2.89652622 2.85672889\n",
      " 2.93298082 2.89652622 2.74741181 3.00732095 2.93951925 2.93449845\n",
      " 2.85064624 2.86391738 2.87040391 2.84757266 2.79028516 2.98497713\n",
      " 2.84633711 2.78958071 2.47712125 2.64147411 2.64738297 2.7084209\n",
      " 2.67851838 2.68394713 2.69372695 2.66370093 2.68930886 2.72181062\n",
      " 2.66370093 2.67024585 2.69722934 2.6919651  2.71600334 2.66558099\n",
      " 2.6794279  2.66181269 2.63245729 2.66464198 2.68752896]\n",
      "RandomizedSearchCV(cv=KFold(n_splits=4, random_state=42, shuffle=True),\n",
      "                   estimator=SVR(), n_iter=10000, n_jobs=-1,\n",
      "                   param_distributions={'C': array([  10.        ,   18.31932773,   26.63865546,   34.95798319,\n",
      "         43.27731092,   51.59663866,   59.91596639,   68.23529412,\n",
      "         76.55462185,   84.87394958,   93.19327731,  101.51260504,\n",
      "        109.83193277,  118.1512605 ,  126.47058824,  134.78991597,\n",
      "        143.1092437 ,  151.428571...\n",
      "       6.53095918e-01, 6.73502041e-01, 6.93908163e-01, 7.14314286e-01,\n",
      "       7.34720408e-01, 7.55126531e-01, 7.75532653e-01, 7.95938776e-01,\n",
      "       8.16344898e-01, 8.36751020e-01, 8.57157143e-01, 8.77563265e-01,\n",
      "       8.97969388e-01, 9.18375510e-01, 9.38781633e-01, 9.59187755e-01,\n",
      "       9.79593878e-01, 1.00000000e+00]),\n",
      "                                        'kernel': ['linear', 'rbf', 'sigmoid']},\n",
      "                   random_state=42, return_train_score=True,\n",
      "                   scoring='neg_mean_squared_error', verbose=2)\n",
      "Fitting 4 folds for each of 10000 candidates, totalling 40000 fits\n"
     ]
    },
    {
     "data": {
      "text/plain": [
       "RandomizedSearchCV(cv=KFold(n_splits=4, random_state=42, shuffle=True),\n",
       "                   estimator=SVR(), n_iter=10000, n_jobs=-1,\n",
       "                   param_distributions={'C': array([  10.        ,   18.31932773,   26.63865546,   34.95798319,\n",
       "         43.27731092,   51.59663866,   59.91596639,   68.23529412,\n",
       "         76.55462185,   84.87394958,   93.19327731,  101.51260504,\n",
       "        109.83193277,  118.1512605 ,  126.47058824,  134.78991597,\n",
       "        143.1092437 ,  151.428571...\n",
       "       6.53095918e-01, 6.73502041e-01, 6.93908163e-01, 7.14314286e-01,\n",
       "       7.34720408e-01, 7.55126531e-01, 7.75532653e-01, 7.95938776e-01,\n",
       "       8.16344898e-01, 8.36751020e-01, 8.57157143e-01, 8.77563265e-01,\n",
       "       8.97969388e-01, 9.18375510e-01, 9.38781633e-01, 9.59187755e-01,\n",
       "       9.79593878e-01, 1.00000000e+00]),\n",
       "                                        'kernel': ['linear', 'rbf', 'sigmoid']},\n",
       "                   random_state=42, return_train_score=True,\n",
       "                   scoring='neg_mean_squared_error', verbose=2)"
      ]
     },
     "execution_count": 637,
     "metadata": {},
     "output_type": "execute_result"
    }
   ],
   "source": [
    "# Create the random grid\n",
    "param_grid = {'C': np.linspace(10,1000,120), \n",
    "              'kernel': ['linear','rbf', 'sigmoid'],\n",
    "              'gamma': np.linspace(0.0001,1,50),\n",
    "              'epsilon':np.linspace(0.0001,1,50)} \n",
    "print(y_train)\n",
    "folds = KFold(n_splits = 4, shuffle = True, random_state = 42)\n",
    "model= RandomizedSearchCV(estimator= regressor, n_iter = 10000, cv=folds, param_distributions = param_grid ,scoring=\"neg_mean_squared_error\", random_state=42,verbose=2, return_train_score=True, n_jobs = -1)\n",
    "print(model)\n",
    "model.fit(x_train.transpose(),y_train)"
   ]
  },
  {
   "cell_type": "code",
   "execution_count": 638,
   "id": "61f7ab8f",
   "metadata": {},
   "outputs": [
    {
     "name": "stdout",
     "output_type": "stream",
     "text": [
      "Best RMS score:  -0.008152392967517555\n",
      "Best hyperparameters:  {'kernel': 'sigmoid', 'gamma': 0.2041612244897959, 'epsilon': 0.04091224489795919, 'C': 193.02521008403363}\n"
     ]
    }
   ],
   "source": [
    "print(\"Best RMS score: \", model.best_score_)\n",
    "print(\"Best hyperparameters: \", model.best_params_)"
   ]
  },
  {
   "cell_type": "code",
   "execution_count": 639,
   "id": "3c697d36",
   "metadata": {},
   "outputs": [
    {
     "data": {
      "text/plain": [
       "SVR(C=193.02521008403363, epsilon=0.04091224489795919, gamma=0.2041612244897959,\n",
       "    kernel='sigmoid')"
      ]
     },
     "execution_count": 639,
     "metadata": {},
     "output_type": "execute_result"
    }
   ],
   "source": [
    "regressor = SVR(kernel=model.best_params_['kernel'],epsilon=model.best_params_['epsilon'], \n",
    "                gamma = model.best_params_['gamma'], C=model.best_params_['C'])\n",
    "regressor.fit(x_train.transpose(),y_train)"
   ]
  },
  {
   "cell_type": "code",
   "execution_count": 640,
   "id": "2195c4ef",
   "metadata": {},
   "outputs": [
    {
     "name": "stdout",
     "output_type": "stream",
     "text": [
      "RMSE:  313.0842922823122\n"
     ]
    }
   ],
   "source": [
    "print(\"RMSE: \", np.sqrt(np.average((10**regressor.predict(x_test.transpose()) - 10**y_test)**2))) \n",
    "# 1 is the best score"
   ]
  },
  {
   "cell_type": "code",
   "execution_count": 641,
   "id": "ec511cfc",
   "metadata": {},
   "outputs": [
    {
     "name": "stdout",
     "output_type": "stream",
     "text": [
      "RMSE:  298.8211992027462\n"
     ]
    }
   ],
   "source": [
    "print(\"RMSE: \", np.sqrt(np.average((10**regressor.predict(x_stest.transpose()) - 10**y_stest)**2))) \n",
    "# 1 is the best score"
   ]
  },
  {
   "cell_type": "code",
   "execution_count": null,
   "id": "90c11ee2",
   "metadata": {},
   "outputs": [],
   "source": []
  }
 ],
 "metadata": {
  "kernelspec": {
   "display_name": "Python 3",
   "language": "python",
   "name": "python3"
  },
  "language_info": {
   "codemirror_mode": {
    "name": "ipython",
    "version": 3
   },
   "file_extension": ".py",
   "mimetype": "text/x-python",
   "name": "python",
   "nbconvert_exporter": "python",
   "pygments_lexer": "ipython3",
   "version": "3.8.8"
  }
 },
 "nbformat": 4,
 "nbformat_minor": 5
}
