{
 "cells": [
  {
   "cell_type": "code",
   "execution_count": 1405,
   "id": "75d7b175",
   "metadata": {},
   "outputs": [],
   "source": [
    "from sklearn.svm import SVR\n",
    "from sklearn.svm import LinearSVR\n",
    "import numpy as np\n",
    "import matplotlib.pyplot as plt\n",
    "from sklearn.model_selection import *\n",
    "from sklearn import preprocessing\n",
    "from sklearn.metrics import make_scorer\n"
   ]
  },
  {
   "cell_type": "code",
   "execution_count": 976,
   "id": "3681a99d",
   "metadata": {},
   "outputs": [],
   "source": [
    "data = np.loadtxt('../Data/vardQ_.6f.csv',delimiter=',') # skip row for column names"
   ]
  },
  {
   "cell_type": "code",
   "execution_count": 977,
   "id": "d492cfe8",
   "metadata": {},
   "outputs": [],
   "source": [
    "test_ind = np.array([ 0,  2,  4,  6,  8, 10, 12, 14, 16, 18, 20, 22, 24, 26, 28, 30, 32,\n",
    "       34, 36, 38, 40, 42, 44, 46, 48, 50, 52, 54, 56, 58, 60, 62, 64, 66,\n",
    "       68, 70, 72, 74, 76, 78, 80, 82, 83])\n",
    "\n",
    "train_ind = np.array([ 1,  3,  5,  7,  9, 11, 13, 15, 17, 19, 21, 23, 25, 27, 29, 31, 33,\n",
    "       35, 37, 39, 41, 43, 45, 47, 49, 51, 53, 55, 57, 59, 61, 63, 65, 67,\n",
    "       69, 71, 73, 75, 77, 79, 81])\n",
    "\n",
    "secondary_ind = np.array([ 84,  85,  86,  87,  88,  89,  90,  91,  92,  93,  94,  95,  96,\n",
    "        97,  98,  99, 100, 101, 102, 103, 104, 105, 106, 107, 108, 109,\n",
    "       110, 111, 112, 113, 114, 115, 116, 117, 118, 119, 120, 121, 122,\n",
    "       123])"
   ]
  },
  {
   "cell_type": "code",
   "execution_count": 978,
   "id": "d9b4c8b3",
   "metadata": {},
   "outputs": [],
   "source": [
    "x_train = data[:, 0][train_ind]\n",
    "y_train = data[:, 1][train_ind]\n",
    "\n",
    "x_test = data[:, 0][test_ind]\n",
    "y_test = data[:, 1][test_ind]\n",
    "\n",
    "x_stest = data[:, 0][secondary_ind]\n",
    "y_stest = data[:, 1][secondary_ind]\n",
    "\n",
    "regressor = SVR()\n",
    "# regressor.fit(x_train.reshape(-1, 1),y_train)"
   ]
  },
  {
   "cell_type": "code",
   "execution_count": 986,
   "id": "61bf6a68",
   "metadata": {},
   "outputs": [
    {
     "name": "stdout",
     "output_type": "stream",
     "text": [
      "[3.334454 3.156549 3.031004 2.939519 2.896526 2.856729 2.932981 2.896526\n",
      " 2.747412 3.007321 2.939519 2.934498 2.850646 2.863917 2.870404 2.847573\n",
      " 2.790285 2.984977 2.846337 2.789581 2.477121 2.641474 2.647383 2.708421\n",
      " 2.678518 2.683947 2.693727 2.663701 2.689309 2.721811 2.663701 2.670246\n",
      " 2.697229 2.691965 2.716003 2.665581 2.679428 2.661813 2.632457 2.664642\n",
      " 2.687529]\n",
      "RandomizedSearchCV(cv=KFold(n_splits=4, random_state=42, shuffle=True),\n",
      "                   estimator=SVR(C=82.5925925925926,\n",
      "                                 epsilon=0.08217387387387387,\n",
      "                                 gamma=0.04113693693693694),\n",
      "                   n_iter=10000, n_jobs=-1,\n",
      "                   param_distributions={'C': array([1.00000000e-05, 1.01159111e-05, 1.02331658e-05, 1.03517796e-05,\n",
      "       1.04717682e-05, 1.05931476e-05, 1.07159340e-05, 1.08401436e-05,\n",
      "       1.09657929e-05, 1.1...\n",
      "       1.84206997e-02, 2.32995181e-02, 2.94705170e-02, 3.72759372e-02,\n",
      "       4.71486636e-02, 5.96362332e-02, 7.54312006e-02, 9.54095476e-02,\n",
      "       1.20679264e-01, 1.52641797e-01, 1.93069773e-01, 2.44205309e-01,\n",
      "       3.08884360e-01, 3.90693994e-01, 4.94171336e-01, 6.25055193e-01,\n",
      "       7.90604321e-01, 1.00000000e+00]),\n",
      "                                        'kernel': ['linear', 'rbf', 'sigmoid']},\n",
      "                   random_state=42, return_train_score=True,\n",
      "                   scoring='neg_mean_squared_error', verbose=2)\n",
      "Fitting 4 folds for each of 10000 candidates, totalling 40000 fits\n"
     ]
    },
    {
     "data": {
      "text/plain": [
       "RandomizedSearchCV(cv=KFold(n_splits=4, random_state=42, shuffle=True),\n",
       "                   estimator=SVR(C=82.5925925925926,\n",
       "                                 epsilon=0.08217387387387387,\n",
       "                                 gamma=0.04113693693693694),\n",
       "                   n_iter=10000, n_jobs=-1,\n",
       "                   param_distributions={'C': array([1.00000000e-05, 1.01159111e-05, 1.02331658e-05, 1.03517796e-05,\n",
       "       1.04717682e-05, 1.05931476e-05, 1.07159340e-05, 1.08401436e-05,\n",
       "       1.09657929e-05, 1.1...\n",
       "       1.84206997e-02, 2.32995181e-02, 2.94705170e-02, 3.72759372e-02,\n",
       "       4.71486636e-02, 5.96362332e-02, 7.54312006e-02, 9.54095476e-02,\n",
       "       1.20679264e-01, 1.52641797e-01, 1.93069773e-01, 2.44205309e-01,\n",
       "       3.08884360e-01, 3.90693994e-01, 4.94171336e-01, 6.25055193e-01,\n",
       "       7.90604321e-01, 1.00000000e+00]),\n",
       "                                        'kernel': ['linear', 'rbf', 'sigmoid']},\n",
       "                   random_state=42, return_train_score=True,\n",
       "                   scoring='neg_mean_squared_error', verbose=2)"
      ]
     },
     "execution_count": 986,
     "metadata": {},
     "output_type": "execute_result"
    }
   ],
   "source": [
    "# Create the random grid\n",
    "param_grid = {'C': np.logspace(-5, 0, base=10, num=1000), \n",
    "              'kernel': ['linear','rbf', 'sigmoid'],\n",
    "              'gamma': np.logspace(-5, 0, base=10, num=50),\n",
    "              'epsilon': np.logspace(-5, 0, base=10, num=50)} \n",
    "print(y_train)\n",
    "folds = KFold(n_splits = 4, shuffle = True, random_state = 42)\n",
    "model= RandomizedSearchCV(estimator= regressor, n_iter = 10000, cv=folds, param_distributions = param_grid ,scoring=\"neg_mean_squared_error\", random_state=42,verbose=2, return_train_score=True, n_jobs = -1)\n",
    "print(model)\n",
    "model.fit(x_train.reshape(-1, 1),y_train)"
   ]
  },
  {
   "cell_type": "code",
   "execution_count": 987,
   "id": "82118b92",
   "metadata": {},
   "outputs": [
    {
     "data": {
      "text/plain": [
       "[<matplotlib.lines.Line2D at 0x7fb779f357c0>]"
      ]
     },
     "execution_count": 987,
     "metadata": {},
     "output_type": "execute_result"
    },
    {
     "data": {
      "image/png": "[encoded data removed]",
      "text/plain": [
       "<Figure size 432x288 with 1 Axes>"
      ]
     },
     "metadata": {
      "needs_background": "light"
     },
     "output_type": "display_data"
    }
   ],
   "source": [
    "plt.scatter(x_train,y_train)\n",
    "plt.plot(x_train, model.predict(x_train.reshape(-1,1)))"
   ]
  },
  {
   "cell_type": "code",
   "execution_count": 988,
   "id": "eedcfa3d",
   "metadata": {},
   "outputs": [
    {
     "name": "stdout",
     "output_type": "stream",
     "text": [
      "Best RMS score:  -0.006469022324891943\n",
      "Best hyperparameters:  {'kernel': 'linear', 'gamma': 0.000339322177189533, 'epsilon': 0.05963623316594643, 'C': 0.29817722900196736}\n"
     ]
    }
   ],
   "source": [
    "print(\"Best RMS score: \", model.best_score_)\n",
    "print(\"Best hyperparameters: \", model.best_params_)"
   ]
  },
  {
   "cell_type": "code",
   "execution_count": 989,
   "id": "48a82e71",
   "metadata": {},
   "outputs": [
    {
     "data": {
      "text/plain": [
       "SVR(C=82.5925925925926, epsilon=0.08217387387387387, gamma=0.04113693693693694)"
      ]
     },
     "execution_count": 989,
     "metadata": {},
     "output_type": "execute_result"
    }
   ],
   "source": [
    "regressor = SVR(kernel='rbf',epsilon=0.08217387387387387, gamma = 0.04113693693693694, C=82.5925925925926)\n",
    "regressor.fit(x_train.reshape(-1, 1),y_train)"
   ]
  },
  {
   "cell_type": "code",
   "execution_count": 990,
   "id": "ffd7b24f",
   "metadata": {},
   "outputs": [
    {
     "data": {
      "text/plain": [
       "[<matplotlib.lines.Line2D at 0x7fb77c593550>]"
      ]
     },
     "execution_count": 990,
     "metadata": {},
     "output_type": "execute_result"
    },
    {
     "data": {
      "image/png": "[encoded data removed]",
      "text/plain": [
       "<Figure size 432x288 with 1 Axes>"
      ]
     },
     "metadata": {
      "needs_background": "light"
     },
     "output_type": "display_data"
    }
   ],
   "source": [
    "plt.scatter(x_stest,y_stest)\n",
    "plt.plot(x_stest, model.predict(x_stest.reshape(-1,1)))"
   ]
  },
  {
   "cell_type": "code",
   "execution_count": 991,
   "id": "b2a4cbea",
   "metadata": {},
   "outputs": [
    {
     "name": "stdout",
     "output_type": "stream",
     "text": [
      "RMSE:  126.29321797480753\n"
     ]
    }
   ],
   "source": [
    "print(\"RMSE: \", np.sqrt(np.average((10**regressor.predict(x_test.reshape(-1,1)) - 10**y_test)**2))) # 1 is the best score"
   ]
  },
  {
   "cell_type": "code",
   "execution_count": 992,
   "id": "788ce26c",
   "metadata": {},
   "outputs": [
    {
     "name": "stdout",
     "output_type": "stream",
     "text": [
      "RMSE:  205.76221965781912\n"
     ]
    }
   ],
   "source": [
    "print(\"RMSE: \", np.sqrt(np.average((10**regressor.predict(x_stest.reshape(-1,1)) - 10**y_stest)**2))) # 1 is the best score"
   ]
  },
  {
   "cell_type": "code",
   "execution_count": 1406,
   "id": "9ab2f3d8",
   "metadata": {},
   "outputs": [],
   "source": [
    "data = np.loadtxt('../Data/features.csv',delimiter=',', skiprows=1) # skip row for column names"
   ]
  },
  {
   "cell_type": "code",
   "execution_count": 1543,
   "id": "6a84dda0",
   "metadata": {},
   "outputs": [],
   "source": [
    "cycle_life = np.log10(data[:,0])\n",
    "DeltaQ_logVar = data[:,1]\n",
    "DeltaQ_Min = np.log10(-data[:, 2])\n",
    "DeltaQ_Skew = data[:, 3]\n",
    "DeltaQ_Kurt = data[:, 4]\n",
    "QD_Max_2 = data[:, 5]\n",
    "QD_2 = data[:, 6]\n",
    "slope_capacity_fade_2_100 = data[:, 7]\n",
    "intercept_capacity_fade_2_100 = data[:, 8]\n",
    "slope_capacity_fade_91_100 = data[:, 9]\n",
    "intercept_capacity_91_100 = data[:, 10]\n",
    "init_avg_charge_time = data[:, 11]\n",
    "avg_T = data[:, 12]\n",
    "min_IR = data[:, 13]\n",
    "IR_100_2 = data[:, 14]"
   ]
  },
  {
   "cell_type": "code",
   "execution_count": 1548,
   "id": "45e10a00",
   "metadata": {},
   "outputs": [
    {
     "data": {
      "text/plain": [
       "<matplotlib.collections.PathCollection at 0x7fb76de13e80>"
      ]
     },
     "execution_count": 1548,
     "metadata": {},
     "output_type": "execute_result"
    },
    {
     "data": {
      "image/png": "[encoded data removed]",
      "text/plain": [
       "<Figure size 432x288 with 1 Axes>"
      ]
     },
     "metadata": {
      "needs_background": "light"
     },
     "output_type": "display_data"
    }
   ],
   "source": [
    "plt.scatter(cycle_life, slope_capacity_fade_2_100)"
   ]
  },
  {
   "cell_type": "code",
   "execution_count": 1549,
   "id": "72b47544",
   "metadata": {},
   "outputs": [
    {
     "name": "stdout",
     "output_type": "stream",
     "text": [
      "-3.8331870629274194\n"
     ]
    }
   ],
   "source": [
    "X = np.array([DeltaQ_logVar, DeltaQ_Min, IR_100_2, slope_capacity_fade_2_100]).transpose()\n",
    "\n",
    "x_train = X[train_ind]\n",
    "y_train = cycle_life[train_ind]\n",
    "\n",
    "\n",
    "scaler = preprocessing.StandardScaler().fit(x_train)\n",
    "x_train = scaler.transform(x_train)\n",
    "\n",
    "x_test = X[test_ind]\n",
    "y_test = cycle_life[test_ind]\n",
    "\n",
    "x_test = scaler.transform(x_test)\n",
    "\n",
    "x_stest = X[secondary_ind]\n",
    "y_stest = cycle_life[secondary_ind]\n",
    "\n",
    "x_stest = scaler.transform(x_stest)\n",
    "\n",
    "\n",
    "print(np.average(X[:,0]))"
   ]
  },
  {
   "cell_type": "code",
   "execution_count": null,
   "id": "c83d0005",
   "metadata": {},
   "outputs": [
    {
     "name": "stdout",
     "output_type": "stream",
     "text": [
      "[3.33445375 3.15654915 3.03100428 2.93951925 2.89652622 2.85672889\n",
      " 2.93298082 2.89652622 2.74741181 3.00732095 2.93951925 2.93449845\n",
      " 2.85064624 2.86391738 2.87040391 2.84757266 2.79028516 2.98497713\n",
      " 2.84633711 2.78958071 2.47712125 2.64147411 2.64738297 2.7084209\n",
      " 2.67851838 2.68394713 2.69372695 2.66370093 2.68930886 2.72181062\n",
      " 2.66370093 2.67024585 2.69722934 2.6919651  2.71600334 2.66558099\n",
      " 2.6794279  2.66181269 2.63245729 2.66464198 2.68752896]\n",
      "RandomizedSearchCV(cv=KFold(n_splits=4, random_state=42, shuffle=True),\n",
      "                   estimator=SVR(), n_iter=10000, n_jobs=-1,\n",
      "                   param_distributions={'C': array([1.00000000e-04, 1.00926219e-04, 1.01861017e-04, 1.02804473e-04,\n",
      "       1.03756668e-04, 1.04717682e-04, 1.05687597e-04, 1.06666496e-04,\n",
      "       1.07654461e-04, 1.08651577e-04, 1.09657929e-04, 1.10673602e-04,\n",
      "       1.11698682e-04, 1.12733256e-04,...\n",
      "       2.78448412, 2.79928455, 2.81416365, 2.82912184, 2.84415954,\n",
      "       2.85927717, 2.87447515, 2.88975392, 2.90511389, 2.92055551,\n",
      "       2.93607921, 2.95168542, 2.96737458, 2.98314714, 2.99900353,\n",
      "       3.0149442 , 3.03096961, 3.04708019, 3.06327641, 3.07955871,\n",
      "       3.09592756, 3.11238342, 3.12892674, 3.145558  , 3.16227766]),\n",
      "                                        'kernel': ['rbf']},\n",
      "                   random_state=42, return_train_score=True,\n",
      "                   scoring=make_scorer(loss, greater_is_better=False),\n",
      "                   verbose=2)\n",
      "Fitting 4 folds for each of 10000 candidates, totalling 40000 fits\n"
     ]
    }
   ],
   "source": [
    "# Create the random grid\n",
    "\n",
    "def loss(ground_truth, predictions):\n",
    "    diff = np.sqrt(np.mean((10**ground_truth - 10**predictions)**2))\n",
    "    return diff\n",
    "\n",
    "my_scorer = make_scorer(loss, greater_is_better=False)\n",
    "\n",
    "regressor = SVR()\n",
    "\n",
    "param_grid = {'C': np.logspace(-4, 0, base=10, num=1000), \n",
    "              'kernel': ['rbf'],\n",
    "              'gamma': np.logspace(-1.8, 0.5, base=10, num=1000),\n",
    "              'epsilon':np.logspace(-8, 1, base=10, num=1000)} \n",
    "print(y_train)\n",
    "folds = KFold(n_splits = 4, shuffle = True, random_state = 42)\n",
    "model= RandomizedSearchCV(estimator= regressor, n_iter = 10000, cv=folds, param_distributions = param_grid ,scoring=my_scorer, random_state=42,verbose=2, return_train_score=True, n_jobs = -1)\n",
    "print(model)\n",
    "model.fit(x_train,y_train)"
   ]
  },
  {
   "cell_type": "code",
   "execution_count": 1759,
   "id": "97000b7d",
   "metadata": {},
   "outputs": [
    {
     "name": "stdout",
     "output_type": "stream",
     "text": [
      "Best RMS score:  -103.42334282025644\n",
      "Best hyperparameters:  {'kernel': 'rbf', 'gamma': 0.012490982404784539, 'epsilon': 0.040983836717572615, 'C': 6.4537154016467015}\n"
     ]
    }
   ],
   "source": [
    "print(\"Best RMS score: \", model.best_score_)\n",
    "print(\"Best hyperparameters: \", model.best_params_)"
   ]
  },
  {
   "cell_type": "markdown",
   "id": "6ecc5352",
   "metadata": {},
   "source": [
    "For [DeltaQ_logVar, DeltaQ_Skew, DeltaQ_Kurt], best hyperparameters are:\n",
    "\n",
    "Best hyperparameters:  {'kernel': 'rbf', 'gamma': 0.002332044179521815, 'epsilon': 0.09503810972990007, 'C': 583.4136656680623}\n",
    "\n",
    "X_train RMSE:  122.93807464710723\n",
    "\n",
    "X_test RMSE:  188.2157241807487\n",
    "\n",
    "X_stest RMSE:  305.2093728940464\n",
    "\n",
    "X_test Percent error:  0.1738866614282433\n",
    "\n",
    "X_stest Percent error:  0.187566947019498\n",
    "\n",
    "For [DeltaQ_logVar, DeltaQ_Kurt, init_avg_charge_time, avg_T]: \n",
    "\n",
    "Best hyperparameters:  {'kernel': 'linear', 'gamma': 2.719157943036019e-06, 'epsilon': 0.04717084690917017, 'C': 4738.879609717651}\n",
    "\n",
    "X_train RMSE:  107.90036461783839\n",
    "\n",
    "X_test RMSE:  120.15175624430397\n",
    "\n",
    "X_stest RMSE:  258.49048964866546\n",
    "\n",
    "For [DeltaQ_logVar, DeltaQ_Min, IR_100_2]:\n",
    "\n",
    "Best hyperparameters:  {'kernel': 'rbf', 'gamma': 0.008277856966198472, 'epsilon': 1.622595287078087e-05, 'C': 4.609604486828429}\n",
    "\n",
    "X_train RMSE:  102.35978749051387\n",
    "\n",
    "X_test RMSE:  124.01634371313186\n",
    "\n",
    "X_stest RMSE:  187.05903826103471\n",
    "\n",
    "X_test Percent error:  0.149976342387015\n",
    "\n",
    "X_stest Percent error:  0.11370736614699026"
   ]
  },
  {
   "cell_type": "code",
   "execution_count": 1760,
   "id": "786dee32",
   "metadata": {},
   "outputs": [
    {
     "data": {
      "text/plain": [
       "SVR(C=6.4537154016467015, epsilon=0.040983836717572615,\n",
       "    gamma=0.012490982404784539)"
      ]
     },
     "execution_count": 1760,
     "metadata": {},
     "output_type": "execute_result"
    }
   ],
   "source": [
    "# Best hyperparameters:  {'kernel': 'rbf', 'gamma': 0.0071968567300115215, 'epsilon': 0.001757510624854793, 'C': 6.513490946272796}\n",
    "\n",
    "regressor = SVR(kernel=model.best_params_['kernel'],epsilon=model.best_params_['epsilon'], \n",
    "                gamma = model.best_params_['gamma'], C=model.best_params_['C'])\n",
    "regressor.fit(x_train,y_train)"
   ]
  },
  {
   "cell_type": "code",
   "execution_count": 1761,
   "id": "1f4908a9",
   "metadata": {},
   "outputs": [
    {
     "name": "stdout",
     "output_type": "stream",
     "text": [
      "RMSE:  85.80280925792026\n"
     ]
    }
   ],
   "source": [
    "print(\"RMSE: \", np.sqrt(np.average((10**regressor.predict(x_train) - 10**y_train)**2))) "
   ]
  },
  {
   "cell_type": "code",
   "execution_count": 1762,
   "id": "24a059c8",
   "metadata": {},
   "outputs": [
    {
     "name": "stdout",
     "output_type": "stream",
     "text": [
      "RMSE:  199.2938476162443\n"
     ]
    }
   ],
   "source": [
    "print(\"RMSE: \", np.sqrt(np.average((10**regressor.predict(x_test) - 10**y_test)**2))) \n",
    "# 1 is the best score"
   ]
  },
  {
   "cell_type": "code",
   "execution_count": 1763,
   "id": "0ce4359b",
   "metadata": {},
   "outputs": [
    {
     "name": "stdout",
     "output_type": "stream",
     "text": [
      "RMSE:  201.84871912821072\n"
     ]
    }
   ],
   "source": [
    "print(\"RMSE: \", np.sqrt(np.average((10**regressor.predict(x_stest) - 10**y_stest)**2))) \n",
    "# 1 is the best score"
   ]
  },
  {
   "cell_type": "code",
   "execution_count": 1614,
   "id": "e7aafe42",
   "metadata": {},
   "outputs": [
    {
     "name": "stdout",
     "output_type": "stream",
     "text": [
      "Percent error:  0.12760129804905945\n",
      "Percent error:  0.17381580773638558\n",
      "Percent error:  0.13027419028066198\n"
     ]
    }
   ],
   "source": [
    "print(\"Percent error: \", np.average(np.abs((10**regressor.predict(x_train) - 10**y_train)) / (10**y_train)))\n",
    "print(\"Percent error: \", np.average(np.abs((10**regressor.predict(x_test) - 10**y_test)) / (10**y_test)))\n",
    "print(\"Percent error: \", np.average(np.abs((10**regressor.predict(x_stest) - 10**y_stest)) / (10**y_stest)))"
   ]
  },
  {
   "cell_type": "code",
   "execution_count": 1520,
   "id": "2919bd82",
   "metadata": {},
   "outputs": [
    {
     "data": {
      "text/plain": [
       "[<matplotlib.lines.Line2D at 0x7fb7874ac760>]"
      ]
     },
     "execution_count": 1520,
     "metadata": {},
     "output_type": "execute_result"
    },
    {
     "data": {
      "image/png": "[encoded data removed]",
      "text/plain": [
       "<Figure size 432x288 with 1 Axes>"
      ]
     },
     "metadata": {
      "needs_background": "light"
     },
     "output_type": "display_data"
    }
   ],
   "source": [
    "fig,ax=plt.subplots()\n",
    "ax.scatter(10**regressor.predict(x_train),10**y_train,c=\"blue\")\n",
    "ax.scatter(10**regressor.predict(x_test),10**y_test,c=\"red\")\n",
    "ax.scatter(10**regressor.predict(x_stest),10**y_stest,c=\"orange\")\n",
    "ax.set_xlim([0,2100])\n",
    "ax.set_ylim([0,2100])\n",
    "ax.plot(np.linspace(0,2000),np.linspace(0,2000),color='black')"
   ]
  },
  {
   "cell_type": "code",
   "execution_count": null,
   "id": "f37d07dc",
   "metadata": {},
   "outputs": [],
   "source": []
  }
 ],
 "metadata": {
  "kernelspec": {
   "display_name": "Python 3",
   "language": "python",
   "name": "python3"
  },
  "language_info": {
   "codemirror_mode": {
    "name": "ipython",
    "version": 3
   },
   "file_extension": ".py",
   "mimetype": "text/x-python",
   "name": "python",
   "nbconvert_exporter": "python",
   "pygments_lexer": "ipython3",
   "version": "3.8.8"
  }
 },
 "nbformat": 4,
 "nbformat_minor": 5
}
