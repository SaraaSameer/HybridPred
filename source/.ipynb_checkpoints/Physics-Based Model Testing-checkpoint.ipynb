{
 "cells": [
  {
   "cell_type": "code",
   "execution_count": 27,
   "id": "45e7ad32",
   "metadata": {},
   "outputs": [],
   "source": [
    "import numpy as np\n",
    "import matplotlib.pyplot as plt\n",
    "from sklearn.svm import SVR\n",
    "from sklearn.model_selection import *\n",
    "from sklearn import preprocessing\n",
    "from sklearn.metrics import make_scorer"
   ]
  },
  {
   "cell_type": "code",
   "execution_count": 4,
   "id": "e54b0f97",
   "metadata": {},
   "outputs": [],
   "source": [
    "data = np.loadtxt('../Data/features.csv',delimiter=',',skiprows=1)"
   ]
  },
  {
   "cell_type": "code",
   "execution_count": 56,
   "id": "89444450",
   "metadata": {},
   "outputs": [],
   "source": [
    "cycle_life = data[:,0]\n",
    "DeltaQ_logVar = data[:,1]\n",
    "DeltaQ_Min = np.log10(-data[:, 2])\n",
    "DeltaQ_Skew = data[:, 3]\n",
    "DeltaQ_Kurt = data[:, 4]\n",
    "QD_Max_2 = data[:, 5]\n",
    "QD_2 = data[:, 6]\n",
    "slope_capacity_fade_2_100 = data[:, 7]\n",
    "intercept_capacity_fade_2_100 = data[:, 8]\n",
    "slope_capacity_fade_91_100 = data[:, 9]\n",
    "intercept_capacity_91_100 = data[:, 10]\n",
    "init_avg_charge_time = data[:, 11]\n",
    "avg_T = data[:, 12]\n",
    "min_IR = data[:, 13]\n",
    "IR_100_2 = data[:, 14]"
   ]
  },
  {
   "cell_type": "code",
   "execution_count": 57,
   "id": "2462b119",
   "metadata": {},
   "outputs": [
    {
     "data": {
      "text/plain": [
       "<matplotlib.collections.PathCollection at 0x7fa005afe970>"
      ]
     },
     "execution_count": 57,
     "metadata": {},
     "output_type": "execute_result"
    },
    {
     "data": {
      "image/png": "[encoded data removed]",
      "text/plain": [
       "<Figure size 640x480 with 1 Axes>"
      ]
     },
     "metadata": {},
     "output_type": "display_data"
    }
   ],
   "source": [
    "\n",
    "plt.scatter(cycle_life, slope_capacity_fade_91_100)"
   ]
  },
  {
   "cell_type": "code",
   "execution_count": 22,
   "id": "5a93e145",
   "metadata": {},
   "outputs": [],
   "source": [
    "test_ind = np.array([ 0,  2,  4,  6,  8, 10, 12, 14, 16, 18, 20, 22, 24, 26, 28, 30, 32,\n",
    "       34, 36, 38, 40, 42, 44, 46, 48, 50, 52, 54, 56, 58, 60, 62, 64, 66,\n",
    "       68, 70, 72, 74, 76, 78, 80, 82, 83])\n",
    "\n",
    "train_ind = np.array([ 1,  3,  5,  7,  9, 11, 13, 15, 17, 19, 21, 23, 25, 27, 29, 31, 33,\n",
    "       35, 37, 39, 41, 43, 45, 47, 49, 51, 53, 55, 57, 59, 61, 63, 65, 67,\n",
    "       69, 71, 73, 75, 77, 79, 81])\n",
    "\n",
    "secondary_ind = np.array([ 84,  85,  86,  87,  88,  89,  90,  91,  92,  93,  94,  95,  96,\n",
    "        97,  98,  99, 100, 101, 102, 103, 104, 105, 106, 107, 108, 109,\n",
    "       110, 111, 112, 113, 114, 115, 116, 117, 118, 119, 120, 121, 122])"
   ]
  },
  {
   "cell_type": "code",
   "execution_count": 58,
   "id": "c1abeef6",
   "metadata": {},
   "outputs": [],
   "source": [
    "x_train = data[train_ind,9]\n",
    "y_train = data[train_ind,0]\n",
    "y_train = np.log10(y_train) #tried with np.log10 as well\n",
    "\n",
    "scaler = preprocessing.StandardScaler().fit(x_train.reshape(-1, 1))\n",
    "x_train = scaler.transform(x_train.reshape(-1, 1)-1)\n",
    "\n",
    "x_test = data[test_ind,9]\n",
    "y_test = data[test_ind,0]\n",
    "y_test = np.log10(y_test)\n",
    "x_test = scaler.transform(x_test.reshape(-1, 1)-1)\n",
    "\n",
    "x_stest = data[secondary_ind,9]\n",
    "y_stest = data[secondary_ind,0]\n",
    "y_stest = np.log10(y_stest)\n",
    "x_stest = scaler.transform(x_stest.reshape(-1, 1)-1)\n"
   ]
  },
  {
   "cell_type": "code",
   "execution_count": 60,
   "id": "f85a4f96",
   "metadata": {},
   "outputs": [
    {
     "name": "stdout",
     "output_type": "stream",
     "text": [
      "[3.33445375 3.15654915 3.03100428 2.93951925 2.89652622 2.85672889\n",
      " 2.93298082 2.89652622 2.74741181 3.00732095 2.93951925 2.93449845\n",
      " 2.85064624 2.86391738 2.87040391 2.84757266 2.79028516 2.98497713\n",
      " 2.84633711 2.78958071 2.47712125 2.64147411 2.64738297 2.7084209\n",
      " 2.67851838 2.68394713 2.69372695 2.66370093 2.68930886 2.72181062\n",
      " 2.66370093 2.67024585 2.69722934 2.6919651  2.71600334 2.66558099\n",
      " 2.6794279  2.66181269 2.63245729 2.66464198 2.68752896]\n",
      "RandomizedSearchCV(cv=KFold(n_splits=4, random_state=42, shuffle=True),\n",
      "                   estimator=SVR(), n_iter=5000, n_jobs=-1,\n",
      "                   param_distributions={'C': array([1.00000000e-06, 1.01626509e-06, 1.03279473e-06, 1.04959323e-06,\n",
      "       1.06666496e-06, 1.08401436e-06, 1.10164595e-06, 1.11956432e-06,\n",
      "       1.13777413e-06, 1.15628013e-06, 1.17508713e-06, 1.19420003e-06,\n",
      "       1.21362380e-06, 1.23336350e-06, 1...\n",
      "       2.43998630e+01, 2.48253223e+01, 2.52582003e+01, 2.56986263e+01,\n",
      "       2.61467321e+01, 2.66026515e+01, 2.70665207e+01, 2.75384784e+01,\n",
      "       2.80186656e+01, 2.85072258e+01, 2.90043049e+01, 2.95100517e+01,\n",
      "       3.00246171e+01, 3.05481550e+01, 3.10808217e+01, 3.16227766e+01]),\n",
      "                                        'kernel': ['rbf', 'linear']},\n",
      "                   random_state=42, return_train_score=True,\n",
      "                   scoring=make_scorer(loss, greater_is_better=False),\n",
      "                   verbose=2)\n",
      "Fitting 4 folds for each of 5000 candidates, totalling 20000 fits\n"
     ]
    },
    {
     "name": "stderr",
     "output_type": "stream",
     "text": [
      "\n",
      "KeyboardInterrupt\n",
      "\n"
     ]
    }
   ],
   "source": [
    "regressor = SVR()\n",
    "def loss(ground_truth, predictions):\n",
    "    diff = np.sqrt(np.mean((10**ground_truth - 10**predictions)**2))\n",
    "    return diff\n",
    "\n",
    "my_scorer = make_scorer(loss, greater_is_better=False)\n",
    "\n",
    "param_grid = {'C': np.logspace(-6, 1, base=10, num=1000),\n",
    "              'kernel': ['rbf', 'linear'],\n",
    "              'gamma': np.logspace(-6, 1.5, base=10, num=1000),  #changed from -5,1\n",
    "              'epsilon': np.logspace(-6, 1, base=10, num=1000)} #changed from #-5,1\n",
    "print(y_train)\n",
    "folds = KFold(n_splits = 4, shuffle = True, random_state = 42)\n",
    "model= RandomizedSearchCV(estimator= regressor, n_iter = 5000, cv=folds, param_distributions = param_grid ,scoring=my_scorer, random_state=42,verbose=2, return_train_score=True, n_jobs = -1)\n",
    "print(model)\n",
    "model.fit(x_train.reshape(-1,1),y_train)"
   ]
  },
  {
   "cell_type": "code",
   "execution_count": 43,
   "id": "fe1f8f78",
   "metadata": {},
   "outputs": [
    {
     "name": "stdout",
     "output_type": "stream",
     "text": [
      "Best RMS score:  -259.6203275213109\n",
      "Best hyperparameters:  {'kernel': 'rbf', 'gamma': 0.019306977288832496, 'epsilon': 0.0013894954943731374, 'C': 6.064329395408062}\n"
     ]
    }
   ],
   "source": [
    "print(\"Best RMS score: \", model.best_score_)\n",
    "print(\"Best hyperparameters: \", model.best_params_)"
   ]
  },
  {
   "cell_type": "code",
   "execution_count": 44,
   "id": "803ccd10",
   "metadata": {},
   "outputs": [
    {
     "data": {
      "text/html": [
       "<style>#sk-container-id-6 {color: black;background-color: white;}#sk-container-id-6 pre{padding: 0;}#sk-container-id-6 div.sk-toggleable {background-color: white;}#sk-container-id-6 label.sk-toggleable__label {cursor: pointer;display: block;width: 100%;margin-bottom: 0;padding: 0.3em;box-sizing: border-box;text-align: center;}#sk-container-id-6 label.sk-toggleable__label-arrow:before {content: \"▸\";float: left;margin-right: 0.25em;color: #696969;}#sk-container-id-6 label.sk-toggleable__label-arrow:hover:before {color: black;}#sk-container-id-6 div.sk-estimator:hover label.sk-toggleable__label-arrow:before {color: black;}#sk-container-id-6 div.sk-toggleable__content {max-height: 0;max-width: 0;overflow: hidden;text-align: left;background-color: #f0f8ff;}#sk-container-id-6 div.sk-toggleable__content pre {margin: 0.2em;color: black;border-radius: 0.25em;background-color: #f0f8ff;}#sk-container-id-6 input.sk-toggleable__control:checked~div.sk-toggleable__content {max-height: 200px;max-width: 100%;overflow: auto;}#sk-container-id-6 input.sk-toggleable__control:checked~label.sk-toggleable__label-arrow:before {content: \"▾\";}#sk-container-id-6 div.sk-estimator input.sk-toggleable__control:checked~label.sk-toggleable__label {background-color: #d4ebff;}#sk-container-id-6 div.sk-label input.sk-toggleable__control:checked~label.sk-toggleable__label {background-color: #d4ebff;}#sk-container-id-6 input.sk-hidden--visually {border: 0;clip: rect(1px 1px 1px 1px);clip: rect(1px, 1px, 1px, 1px);height: 1px;margin: -1px;overflow: hidden;padding: 0;position: absolute;width: 1px;}#sk-container-id-6 div.sk-estimator {font-family: monospace;background-color: #f0f8ff;border: 1px dotted black;border-radius: 0.25em;box-sizing: border-box;margin-bottom: 0.5em;}#sk-container-id-6 div.sk-estimator:hover {background-color: #d4ebff;}#sk-container-id-6 div.sk-parallel-item::after {content: \"\";width: 100%;border-bottom: 1px solid gray;flex-grow: 1;}#sk-container-id-6 div.sk-label:hover label.sk-toggleable__label {background-color: #d4ebff;}#sk-container-id-6 div.sk-serial::before {content: \"\";position: absolute;border-left: 1px solid gray;box-sizing: border-box;top: 0;bottom: 0;left: 50%;z-index: 0;}#sk-container-id-6 div.sk-serial {display: flex;flex-direction: column;align-items: center;background-color: white;padding-right: 0.2em;padding-left: 0.2em;position: relative;}#sk-container-id-6 div.sk-item {position: relative;z-index: 1;}#sk-container-id-6 div.sk-parallel {display: flex;align-items: stretch;justify-content: center;background-color: white;position: relative;}#sk-container-id-6 div.sk-item::before, #sk-container-id-6 div.sk-parallel-item::before {content: \"\";position: absolute;border-left: 1px solid gray;box-sizing: border-box;top: 0;bottom: 0;left: 50%;z-index: -1;}#sk-container-id-6 div.sk-parallel-item {display: flex;flex-direction: column;z-index: 1;position: relative;background-color: white;}#sk-container-id-6 div.sk-parallel-item:first-child::after {align-self: flex-end;width: 50%;}#sk-container-id-6 div.sk-parallel-item:last-child::after {align-self: flex-start;width: 50%;}#sk-container-id-6 div.sk-parallel-item:only-child::after {width: 0;}#sk-container-id-6 div.sk-dashed-wrapped {border: 1px dashed gray;margin: 0 0.4em 0.5em 0.4em;box-sizing: border-box;padding-bottom: 0.4em;background-color: white;}#sk-container-id-6 div.sk-label label {font-family: monospace;font-weight: bold;display: inline-block;line-height: 1.2em;}#sk-container-id-6 div.sk-label-container {text-align: center;}#sk-container-id-6 div.sk-container {/* jupyter's `normalize.less` sets `[hidden] { display: none; }` but bootstrap.min.css set `[hidden] { display: none !important; }` so we also need the `!important` here to be able to override the default hidden behavior on the sphinx rendered scikit-learn.org. See: https://github.com/scikit-learn/scikit-learn/issues/21755 */display: inline-block !important;position: relative;}#sk-container-id-6 div.sk-text-repr-fallback {display: none;}</style><div id=\"sk-container-id-6\" class=\"sk-top-container\"><div class=\"sk-text-repr-fallback\"><pre>SVR(C=6.064329395408062, epsilon=0.0013894954943731374,\n",
       "    gamma=0.019306977288832496)</pre><b>In a Jupyter environment, please rerun this cell to show the HTML representation or trust the notebook. <br />On GitHub, the HTML representation is unable to render, please try loading this page with nbviewer.org.</b></div><div class=\"sk-container\" hidden><div class=\"sk-item\"><div class=\"sk-estimator sk-toggleable\"><input class=\"sk-toggleable__control sk-hidden--visually\" id=\"sk-estimator-id-12\" type=\"checkbox\" checked><label for=\"sk-estimator-id-12\" class=\"sk-toggleable__label sk-toggleable__label-arrow\">SVR</label><div class=\"sk-toggleable__content\"><pre>SVR(C=6.064329395408062, epsilon=0.0013894954943731374,\n",
       "    gamma=0.019306977288832496)</pre></div></div></div></div></div>"
      ],
      "text/plain": [
       "SVR(C=6.064329395408062, epsilon=0.0013894954943731374,\n",
       "    gamma=0.019306977288832496)"
      ]
     },
     "execution_count": 44,
     "metadata": {},
     "output_type": "execute_result"
    }
   ],
   "source": [
    "regressor = SVR(kernel='rbf',epsilon=model.best_params_['epsilon'], gamma = model.best_params_['gamma'], C=model.best_params_['C'] )\n",
    "regressor.fit(x_train.reshape(-1,1),y_train)"
   ]
  },
  {
   "cell_type": "code",
   "execution_count": 45,
   "id": "bf57be7b",
   "metadata": {},
   "outputs": [
    {
     "name": "stdout",
     "output_type": "stream",
     "text": [
      "RMSE on Train Data:  300.79553925081285\n"
     ]
    }
   ],
   "source": [
    "print(\"RMSE on Train Data: \", np.sqrt(np.mean((np.power(10,regressor.predict(x_train.reshape(-1,1)))-\n",
    "                                               np.power(10,y_train))**2) )) # 1 is the best score"
   ]
  },
  {
   "cell_type": "code",
   "execution_count": 46,
   "id": "5aa92486",
   "metadata": {},
   "outputs": [
    {
     "name": "stdout",
     "output_type": "stream",
     "text": [
      "RMSE on Primary Test:  361.07257116790635\n"
     ]
    }
   ],
   "source": [
    "print(\"RMSE on Primary Test: \", \n",
    "      np.sqrt(np.mean((np.power(10,regressor.predict(x_test.reshape(-1,1)))-np.power(10,y_test))**2) ))"
   ]
  },
  {
   "cell_type": "code",
   "execution_count": 47,
   "id": "20561545",
   "metadata": {},
   "outputs": [
    {
     "name": "stdout",
     "output_type": "stream",
     "text": [
      "RMSE on Secondary Test:  463.7521119979269\n"
     ]
    }
   ],
   "source": [
    "print(\"RMSE on Secondary Test: \", np.sqrt(np.mean((np.power(10,regressor.predict(x_stest.reshape(-1,1)))-\n",
    "                                                   np.power(10,y_stest))**2) ))"
   ]
  },
  {
   "cell_type": "code",
   "execution_count": null,
   "id": "f2eec3f3",
   "metadata": {},
   "outputs": [],
   "source": []
  }
 ],
 "metadata": {
  "kernelspec": {
   "display_name": "Python 3 (ipykernel)",
   "language": "python",
   "name": "python3"
  },
  "language_info": {
   "codemirror_mode": {
    "name": "ipython",
    "version": 3
   },
   "file_extension": ".py",
   "mimetype": "text/x-python",
   "name": "python",
   "nbconvert_exporter": "python",
   "pygments_lexer": "ipython3",
   "version": "3.8.8"
  }
 },
 "nbformat": 4,
 "nbformat_minor": 5
}
