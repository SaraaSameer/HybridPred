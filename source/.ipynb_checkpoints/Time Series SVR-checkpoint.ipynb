{
 "cells": [
  {
   "cell_type": "code",
   "execution_count": 186,
   "id": "b432b707",
   "metadata": {},
   "outputs": [],
   "source": [
    "from statsmodels.tsa.arima.model import ARIMA\n",
    "import pickle\n",
    "import pandas as pd\n",
    "import numpy as np\n",
    "from pmdarima.arima import ARIMA\n",
    "import matplotlib.pyplot as plt\n",
    "from sklearn.svm import SVR\n",
    "from sklearn import preprocessing\n",
    "from sklearn.metrics import make_scorer\n",
    "from sklearn.model_selection import *"
   ]
  },
  {
   "cell_type": "code",
   "execution_count": 28,
   "id": "73d6de4d",
   "metadata": {},
   "outputs": [],
   "source": [
    "data = pickle.load(open(r'../Data/deltaQ100-10.pkl', 'rb'))"
   ]
  },
  {
   "cell_type": "code",
   "execution_count": 395,
   "id": "90711e9d",
   "metadata": {},
   "outputs": [],
   "source": [
    "Y = []\n",
    "for elt in data.values():\n",
    "    y = np.log10(elt['cycle_life'])\n",
    "    Y.append(y)"
   ]
  },
  {
   "cell_type": "code",
   "execution_count": null,
   "id": "6dfb5dd1",
   "metadata": {},
   "outputs": [
    {
     "name": "stdout",
     "output_type": "stream",
     "text": [
      "Performing stepwise search to minimize aic\n",
      " ARIMA(1,1,1)(0,0,0)[0] intercept   : AIC=-16910.570, Time=0.37 sec\n",
      " ARIMA(0,1,0)(0,0,0)[0] intercept   : AIC=-14489.224, Time=0.09 sec\n",
      " ARIMA(1,1,0)(0,0,0)[0] intercept   : AIC=-16556.401, Time=0.12 sec\n",
      " ARIMA(0,1,1)(0,0,0)[0] intercept   : AIC=-14486.177, Time=0.31 sec\n",
      " ARIMA(0,1,0)(0,0,0)[0]             : AIC=-14488.631, Time=0.04 sec\n",
      " ARIMA(2,1,1)(0,0,0)[0] intercept   : AIC=-16901.745, Time=0.46 sec\n",
      " ARIMA(1,1,2)(0,0,0)[0] intercept   : AIC=-16913.079, Time=0.47 sec\n",
      " ARIMA(0,1,2)(0,0,0)[0] intercept   : AIC=-14484.556, Time=0.44 sec\n",
      " ARIMA(2,1,2)(0,0,0)[0] intercept   : AIC=-16924.869, Time=0.54 sec\n",
      " ARIMA(3,1,2)(0,0,0)[0] intercept   : AIC=-16926.500, Time=0.70 sec\n",
      " ARIMA(3,1,1)(0,0,0)[0] intercept   : AIC=-16911.058, Time=0.53 sec\n",
      " ARIMA(4,1,2)(0,0,0)[0] intercept   : AIC=-16924.958, Time=0.81 sec\n",
      " ARIMA(3,1,3)(0,0,0)[0] intercept   : AIC=-16923.157, Time=0.85 sec\n",
      " ARIMA(2,1,3)(0,0,0)[0] intercept   : AIC=-16924.845, Time=0.74 sec\n",
      " ARIMA(4,1,1)(0,0,0)[0] intercept   : AIC=-16869.520, Time=0.29 sec\n",
      " ARIMA(4,1,3)(0,0,0)[0] intercept   : AIC=-16918.240, Time=0.81 sec\n",
      " ARIMA(3,1,2)(0,0,0)[0]             : AIC=-16925.587, Time=0.18 sec\n",
      "\n",
      "Best model:  ARIMA(3,1,2)(0,0,0)[0] intercept\n",
      "Total fit time: 7.739 seconds\n",
      "Performing stepwise search to minimize aic\n",
      " ARIMA(1,1,1)(0,0,0)[0] intercept   : AIC=-17387.230, Time=0.37 sec\n",
      " ARIMA(0,1,0)(0,0,0)[0] intercept   : AIC=-15214.623, Time=0.08 sec\n",
      " ARIMA(1,1,0)(0,0,0)[0] intercept   : AIC=-17254.637, Time=0.30 sec\n",
      " ARIMA(0,1,1)(0,0,0)[0] intercept   : AIC=-15210.513, Time=0.31 sec\n",
      " ARIMA(0,1,0)(0,0,0)[0]             : AIC=-15215.826, Time=0.04 sec\n",
      " ARIMA(2,1,1)(0,0,0)[0] intercept   : AIC=-17419.800, Time=0.19 sec\n",
      " ARIMA(2,1,0)(0,0,0)[0] intercept   : AIC=-17415.515, Time=0.17 sec\n",
      " ARIMA(3,1,1)(0,0,0)[0] intercept   : AIC=-17409.128, Time=0.25 sec\n",
      " ARIMA(2,1,2)(0,0,0)[0] intercept   : AIC=-17377.368, Time=0.23 sec\n",
      " ARIMA(1,1,2)(0,0,0)[0] intercept   : AIC=-17399.197, Time=0.47 sec\n",
      " ARIMA(3,1,0)(0,0,0)[0] intercept   : AIC=-17417.190, Time=0.21 sec\n",
      " ARIMA(3,1,2)(0,0,0)[0] intercept   : AIC=-17428.842, Time=0.26 sec\n",
      " ARIMA(4,1,2)(0,0,0)[0] intercept   : AIC=-16970.189, Time=2.15 sec\n",
      " ARIMA(3,1,3)(0,0,0)[0] intercept   : AIC=-17425.944, Time=0.34 sec\n",
      " ARIMA(2,1,3)(0,0,0)[0] intercept   : AIC=-17421.351, Time=0.30 sec\n",
      " ARIMA(4,1,1)(0,0,0)[0] intercept   : AIC=-17420.165, Time=0.75 sec\n",
      " ARIMA(4,1,3)(0,0,0)[0] intercept   : AIC=-17431.597, Time=0.37 sec\n",
      " ARIMA(5,1,3)(0,0,0)[0] intercept   : AIC=-17426.241, Time=0.42 sec\n",
      " ARIMA(4,1,4)(0,0,0)[0] intercept   : AIC=-17436.132, Time=0.43 sec\n",
      " ARIMA(3,1,4)(0,0,0)[0] intercept   : AIC=-17438.736, Time=0.39 sec\n",
      " ARIMA(2,1,4)(0,0,0)[0] intercept   : AIC=-17440.740, Time=0.34 sec\n",
      " ARIMA(1,1,4)(0,0,0)[0] intercept   : AIC=-17410.328, Time=0.69 sec\n",
      " ARIMA(2,1,5)(0,0,0)[0] intercept   : AIC=-17444.520, Time=0.42 sec\n",
      " ARIMA(1,1,5)(0,0,0)[0] intercept   : AIC=-17413.584, Time=0.91 sec\n",
      " ARIMA(3,1,5)(0,0,0)[0] intercept   : AIC=-17445.144, Time=0.51 sec\n",
      " ARIMA(4,1,5)(0,0,0)[0] intercept   : AIC=-15191.277, Time=0.80 sec\n",
      " ARIMA(3,1,5)(0,0,0)[0]             : AIC=-17445.527, Time=0.41 sec\n",
      " ARIMA(2,1,5)(0,0,0)[0]             : AIC=-17418.319, Time=0.22 sec\n",
      " ARIMA(3,1,4)(0,0,0)[0]             : AIC=-17432.726, Time=0.63 sec\n",
      " ARIMA(4,1,5)(0,0,0)[0]             : AIC=-15197.829, Time=0.68 sec\n",
      " ARIMA(2,1,4)(0,0,0)[0]             : AIC=-17434.572, Time=0.55 sec\n",
      " ARIMA(4,1,4)(0,0,0)[0]             : AIC=-17429.421, Time=0.61 sec\n",
      "\n",
      "Best model:  ARIMA(3,1,5)(0,0,0)[0]          \n",
      "Total fit time: 14.819 seconds\n",
      "Performing stepwise search to minimize aic\n",
      " ARIMA(1,1,1)(0,0,0)[0] intercept   : AIC=-16546.147, Time=0.42 sec\n",
      " ARIMA(0,1,0)(0,0,0)[0] intercept   : AIC=-14645.020, Time=0.10 sec\n",
      " ARIMA(1,1,0)(0,0,0)[0] intercept   : AIC=-16504.864, Time=0.32 sec\n",
      " ARIMA(0,1,1)(0,0,0)[0] intercept   : AIC=-14642.206, Time=0.30 sec\n",
      " ARIMA(0,1,0)(0,0,0)[0]             : AIC=-14642.786, Time=0.04 sec\n",
      " ARIMA(2,1,1)(0,0,0)[0] intercept   : AIC=-16564.385, Time=0.47 sec\n",
      " ARIMA(2,1,0)(0,0,0)[0] intercept   : AIC=-16554.722, Time=0.41 sec\n",
      " ARIMA(3,1,1)(0,0,0)[0] intercept   : AIC=-16552.287, Time=0.23 sec\n",
      " ARIMA(2,1,2)(0,0,0)[0] intercept   : AIC=-16560.263, Time=0.57 sec\n",
      " ARIMA(1,1,2)(0,0,0)[0] intercept   : AIC=-16551.866, Time=0.48 sec\n",
      " ARIMA(3,1,0)(0,0,0)[0] intercept   : AIC=-16559.138, Time=0.20 sec\n",
      " ARIMA(3,1,2)(0,0,0)[0] intercept   : AIC=-16565.515, Time=0.60 sec\n",
      " ARIMA(4,1,2)(0,0,0)[0] intercept   : AIC=-16556.305, Time=0.80 sec\n",
      " ARIMA(3,1,3)(0,0,0)[0] intercept   : AIC=-16563.273, Time=0.85 sec\n",
      " ARIMA(2,1,3)(0,0,0)[0] intercept   : AIC=-16565.378, Time=0.74 sec\n",
      " ARIMA(4,1,1)(0,0,0)[0] intercept   : AIC=-16558.234, Time=0.31 sec\n",
      " ARIMA(4,1,3)(0,0,0)[0] intercept   : AIC=-16562.022, Time=1.00 sec\n",
      " ARIMA(3,1,2)(0,0,0)[0]             : AIC=-16558.990, Time=0.13 sec\n",
      "\n",
      "Best model:  ARIMA(3,1,2)(0,0,0)[0] intercept\n",
      "Total fit time: 7.970 seconds\n",
      "Performing stepwise search to minimize aic\n",
      " ARIMA(1,1,1)(0,0,0)[0] intercept   : AIC=-17978.533, Time=0.42 sec\n",
      " ARIMA(0,1,0)(0,0,0)[0] intercept   : AIC=-14415.548, Time=0.09 sec\n",
      " ARIMA(1,1,0)(0,0,0)[0] intercept   : AIC=-17684.329, Time=0.12 sec\n",
      " ARIMA(0,1,1)(0,0,0)[0] intercept   : AIC=-14412.271, Time=0.17 sec\n"
     ]
    },
    {
     "name": "stderr",
     "output_type": "stream",
     "text": [
      "/Users/nathansun/opt/anaconda3/lib/python3.8/site-packages/statsmodels/tsa/statespace/sarimax.py:1906: RuntimeWarning: divide by zero encountered in reciprocal\n",
      "  return np.roots(self.polynomial_reduced_ma)**-1\n"
     ]
    },
    {
     "name": "stdout",
     "output_type": "stream",
     "text": [
      " ARIMA(0,1,0)(0,0,0)[0]             : AIC=-14417.522, Time=0.04 sec\n",
      " ARIMA(2,1,1)(0,0,0)[0] intercept   : AIC=-18152.370, Time=0.53 sec\n",
      " ARIMA(2,1,0)(0,0,0)[0] intercept   : AIC=-18097.372, Time=0.42 sec\n",
      " ARIMA(3,1,1)(0,0,0)[0] intercept   : AIC=-18080.705, Time=0.24 sec\n",
      " ARIMA(2,1,2)(0,0,0)[0] intercept   : AIC=-10303.693, Time=1.72 sec\n",
      " ARIMA(1,1,2)(0,0,0)[0] intercept   : AIC=-17995.752, Time=0.55 sec\n",
      " ARIMA(3,1,0)(0,0,0)[0] intercept   : AIC=-18123.526, Time=0.19 sec\n",
      " ARIMA(3,1,2)(0,0,0)[0] intercept   : AIC=-18219.659, Time=0.27 sec\n",
      " ARIMA(4,1,2)(0,0,0)[0] intercept   : AIC=-18236.923, Time=0.35 sec\n",
      " ARIMA(4,1,1)(0,0,0)[0] intercept   : AIC=-18170.269, Time=0.33 sec\n",
      " ARIMA(5,1,2)(0,0,0)[0] intercept   : AIC=-18248.223, Time=0.42 sec\n",
      " ARIMA(5,1,1)(0,0,0)[0] intercept   : AIC=-18207.788, Time=0.38 sec\n",
      " ARIMA(5,1,3)(0,0,0)[0] intercept   : AIC=-18248.762, Time=0.44 sec\n",
      " ARIMA(4,1,3)(0,0,0)[0] intercept   : AIC=-18249.436, Time=0.37 sec\n",
      " ARIMA(3,1,3)(0,0,0)[0] intercept   : AIC=-18250.510, Time=0.35 sec\n",
      " ARIMA(2,1,3)(0,0,0)[0] intercept   : AIC=-18254.250, Time=0.30 sec\n",
      " ARIMA(1,1,3)(0,0,0)[0] intercept   : AIC=-18043.906, Time=0.71 sec\n",
      " ARIMA(2,1,4)(0,0,0)[0] intercept   : AIC=-18253.729, Time=0.37 sec\n",
      " ARIMA(1,1,4)(0,0,0)[0] intercept   : AIC=-18086.688, Time=0.85 sec\n",
      " ARIMA(3,1,4)(0,0,0)[0] intercept   : AIC=-18251.770, Time=0.40 sec\n",
      " ARIMA(2,1,3)(0,0,0)[0]             : AIC=-18235.668, Time=0.22 sec\n",
      "\n",
      "Best model:  ARIMA(2,1,3)(0,0,0)[0] intercept\n",
      "Total fit time: 10.238 seconds\n",
      "Performing stepwise search to minimize aic\n",
      " ARIMA(1,1,1)(0,0,0)[0] intercept   : AIC=-18103.675, Time=0.43 sec\n",
      " ARIMA(0,1,0)(0,0,0)[0] intercept   : AIC=-14961.483, Time=0.09 sec\n",
      " ARIMA(1,1,0)(0,0,0)[0] intercept   : AIC=-17727.756, Time=0.12 sec\n",
      " ARIMA(0,1,1)(0,0,0)[0] intercept   : AIC=-14956.721, Time=0.28 sec\n",
      " ARIMA(0,1,0)(0,0,0)[0]             : AIC=-14961.354, Time=0.04 sec\n",
      " ARIMA(2,1,1)(0,0,0)[0] intercept   : AIC=-18104.399, Time=0.54 sec\n",
      " ARIMA(2,1,0)(0,0,0)[0] intercept   : AIC=-18076.119, Time=0.17 sec\n",
      " ARIMA(3,1,1)(0,0,0)[0] intercept   : AIC=-18116.760, Time=0.15 sec\n",
      " ARIMA(3,1,0)(0,0,0)[0] intercept   : AIC=-18091.623, Time=0.21 sec\n",
      " ARIMA(4,1,1)(0,0,0)[0] intercept   : AIC=-18087.078, Time=0.19 sec\n",
      " ARIMA(3,1,2)(0,0,0)[0] intercept   : AIC=-18147.640, Time=0.61 sec\n",
      " ARIMA(2,1,2)(0,0,0)[0] intercept   : AIC=-18139.735, Time=0.51 sec\n",
      " ARIMA(4,1,2)(0,0,0)[0] intercept   : AIC=-18137.637, Time=0.74 sec\n",
      " ARIMA(3,1,3)(0,0,0)[0] intercept   : AIC=-18147.966, Time=0.73 sec\n",
      " ARIMA(2,1,3)(0,0,0)[0] intercept   : AIC=-18121.129, Time=0.68 sec\n",
      " ARIMA(4,1,3)(0,0,0)[0] intercept   : AIC=-18149.109, Time=0.87 sec\n",
      " ARIMA(5,1,3)(0,0,0)[0] intercept   : AIC=-18147.248, Time=1.07 sec\n",
      " ARIMA(4,1,4)(0,0,0)[0] intercept   : AIC=-18136.212, Time=1.03 sec\n",
      " ARIMA(3,1,4)(0,0,0)[0] intercept   : AIC=-18139.801, Time=0.88 sec\n"
     ]
    }
   ],
   "source": [
    "X = []\n",
    "for elt in data.values():\n",
    "    times = np.abs(elt['DeltaQ'])\n",
    "    \n",
    "    # training ARIMA\n",
    "\n",
    "    TEST_SIZE = 2\n",
    "    train, test = times[:-TEST_SIZE], times[-TEST_SIZE:]\n",
    "    x_train, x_test = np.array(range(train.shape[0])), np.array(range(train.shape[0], times.shape[0]))\n",
    "\n",
    "    model = auto_arima(train, start_p=1, start_q=1,\n",
    "                      test='adf',\n",
    "                      max_p=5, max_q=5,\n",
    "                      m=1,             \n",
    "                      d=1,          \n",
    "                      seasonal=False,   \n",
    "                      start_P=0, \n",
    "                      D=None, \n",
    "                      trace=True,\n",
    "                      error_action='ignore',  \n",
    "                      suppress_warnings=True, \n",
    "                      stepwise=True)\n",
    "\n",
    "    X.append(model.params())\n",
    "print(X)\n"
   ]
  },
  {
   "cell_type": "code",
   "execution_count": 389,
   "id": "c9c63ea9",
   "metadata": {},
   "outputs": [
    {
     "name": "stdout",
     "output_type": "stream",
     "text": [
      "Performing stepwise search to minimize aic\n",
      " ARIMA(1,1,1)(0,0,0)[0] intercept   : AIC=-18389.240, Time=0.34 sec\n",
      " ARIMA(0,1,0)(0,0,0)[0] intercept   : AIC=-13485.334, Time=0.08 sec\n",
      " ARIMA(1,1,0)(0,0,0)[0] intercept   : AIC=inf, Time=0.42 sec\n",
      " ARIMA(0,1,1)(0,0,0)[0] intercept   : AIC=-13483.335, Time=0.31 sec\n",
      " ARIMA(0,1,0)(0,0,0)[0]             : AIC=-13485.444, Time=0.03 sec\n",
      " ARIMA(2,1,1)(0,0,0)[0] intercept   : AIC=-19011.352, Time=0.18 sec\n",
      " ARIMA(2,1,0)(0,0,0)[0] intercept   : AIC=inf, Time=0.15 sec\n",
      " ARIMA(3,1,1)(0,0,0)[0] intercept   : AIC=-18703.980, Time=0.53 sec\n",
      " ARIMA(2,1,2)(0,0,0)[0] intercept   : AIC=-19009.971, Time=0.20 sec\n",
      " ARIMA(1,1,2)(0,0,0)[0] intercept   : AIC=-18382.485, Time=0.28 sec\n",
      " ARIMA(3,1,0)(0,0,0)[0] intercept   : AIC=-19015.382, Time=0.18 sec\n",
      " ARIMA(4,1,0)(0,0,0)[0] intercept   : AIC=-19016.276, Time=0.39 sec\n",
      " ARIMA(5,1,0)(0,0,0)[0] intercept   : AIC=-19011.466, Time=0.31 sec\n"
     ]
    },
    {
     "name": "stderr",
     "output_type": "stream",
     "text": [
      "/Users/nathansun/opt/anaconda3/lib/python3.8/site-packages/statsmodels/tsa/statespace/sarimax.py:1906: RuntimeWarning: divide by zero encountered in reciprocal\n",
      "  return np.roots(self.polynomial_reduced_ma)**-1\n"
     ]
    },
    {
     "name": "stdout",
     "output_type": "stream",
     "text": [
      " ARIMA(4,1,1)(0,0,0)[0] intercept   : AIC=-18963.704, Time=0.28 sec\n"
     ]
    },
    {
     "name": "stderr",
     "output_type": "stream",
     "text": [
      "/Users/nathansun/opt/anaconda3/lib/python3.8/site-packages/statsmodels/tsa/statespace/sarimax.py:1906: RuntimeWarning: divide by zero encountered in reciprocal\n",
      "  return np.roots(self.polynomial_reduced_ma)**-1\n"
     ]
    },
    {
     "name": "stdout",
     "output_type": "stream",
     "text": [
      " ARIMA(5,1,1)(0,0,0)[0] intercept   : AIC=-18955.491, Time=0.33 sec\n",
      " ARIMA(4,1,0)(0,0,0)[0]             : AIC=-20821.893, Time=0.22 sec\n",
      " ARIMA(3,1,0)(0,0,0)[0]             : AIC=inf, Time=nan sec\n",
      " ARIMA(5,1,0)(0,0,0)[0]             : AIC=-18957.027, Time=0.22 sec\n",
      " ARIMA(4,1,1)(0,0,0)[0]             : AIC=-19026.674, Time=0.16 sec\n"
     ]
    },
    {
     "name": "stderr",
     "output_type": "stream",
     "text": [
      "/Users/nathansun/opt/anaconda3/lib/python3.8/site-packages/statsmodels/tsa/statespace/sarimax.py:1906: RuntimeWarning: divide by zero encountered in reciprocal\n",
      "  return np.roots(self.polynomial_reduced_ma)**-1\n"
     ]
    },
    {
     "name": "stdout",
     "output_type": "stream",
     "text": [
      " ARIMA(3,1,1)(0,0,0)[0]             : AIC=-19006.616, Time=0.21 sec\n",
      " ARIMA(5,1,1)(0,0,0)[0]             : AIC=-18910.384, Time=0.18 sec\n",
      "\n",
      "Best model:  ARIMA(4,1,0)(0,0,0)[0]          \n",
      "Total fit time: 5.216 seconds\n"
     ]
    },
    {
     "name": "stderr",
     "output_type": "stream",
     "text": [
      "/Users/nathansun/opt/anaconda3/lib/python3.8/site-packages/statsmodels/tsa/statespace/sarimax.py:1906: RuntimeWarning: divide by zero encountered in reciprocal\n",
      "  return np.roots(self.polynomial_reduced_ma)**-1\n"
     ]
    },
    {
     "data": {
      "text/plain": [
       "<matplotlib.collections.PathCollection at 0x7f9bf7717610>"
      ]
     },
     "execution_count": 389,
     "metadata": {},
     "output_type": "execute_result"
    },
    {
     "data": {
      "image/png": "[encoded data removed]",
      "text/plain": [
       "<Figure size 640x480 with 1 Axes>"
      ]
     },
     "metadata": {},
     "output_type": "display_data"
    }
   ],
   "source": [
    "elt = list(data.values())[70]\n",
    "y = elt['cycle_life']\n",
    "times = elt['DeltaQ']\n",
    "\n",
    "# training ARIMA\n",
    "\n",
    "TEST_SIZE = 100\n",
    "train, test = times[:-TEST_SIZE], times[-TEST_SIZE:]\n",
    "X_train, X_test = np.array(range(train.shape[0])), np.array(range(train.shape[0], times.shape[0]))\n",
    "\n",
    "model = auto_arima(train, start_p=1, start_q=1,\n",
    "                      test='adf',\n",
    "                      max_p=5, max_q=5,\n",
    "                      m=1,             \n",
    "                      d=1,          \n",
    "                      seasonal=False,   \n",
    "                      start_P=0, \n",
    "                      D=None, \n",
    "                      trace=True,\n",
    "                      error_action='ignore',  \n",
    "                      suppress_warnings=True, \n",
    "                      stepwise=True)\n",
    "model.summary()\n",
    "\n",
    "prediction, confint = model.predict(n_periods=TEST_SIZE, return_conf_int=True)\n",
    "plt.scatter(X_train, train)\n",
    "plt.scatter(X_test,test, color='orange')\n",
    "plt.scatter(X_test, prediction, color = 'red')"
   ]
  },
  {
   "cell_type": "code",
   "execution_count": 390,
   "id": "3c2d9ff5",
   "metadata": {},
   "outputs": [
    {
     "name": "stdout",
     "output_type": "stream",
     "text": [
      "                               SARIMAX Results                                \n",
      "==============================================================================\n",
      "Dep. Variable:                      y   No. Observations:                  900\n",
      "Model:               SARIMAX(4, 1, 0)   Log Likelihood               10415.946\n",
      "Date:                Fri, 30 Jun 2023   AIC                         -20821.893\n",
      "Time:                        14:06:13   BIC                         -20797.886\n",
      "Sample:                             0   HQIC                        -20812.722\n",
      "                                - 900                                         \n",
      "Covariance Type:                  opg                                         \n",
      "==============================================================================\n",
      "                 coef    std err          z      P>|z|      [0.025      0.975]\n",
      "------------------------------------------------------------------------------\n",
      "ar.L1          2.9411      0.001   5805.853      0.000       2.940       2.942\n",
      "ar.L2         -3.0480      0.000  -1.58e+04      0.000      -3.048      -3.048\n",
      "ar.L3          1.2363      0.000   9050.812      0.000       1.236       1.237\n",
      "ar.L4         -0.1301      0.000   -284.745      0.000      -0.131      -0.129\n",
      "sigma2       1.08e-13   7.02e-11      0.002      0.999   -1.37e-10    1.38e-10\n",
      "===================================================================================\n",
      "Ljung-Box (L1) (Q):                 642.12   Jarque-Bera (JB):             14896.40\n",
      "Prob(Q):                              0.00   Prob(JB):                         0.00\n",
      "Heteroskedasticity (H):             142.66   Skew:                             0.20\n",
      "Prob(H) (two-sided):                  0.00   Kurtosis:                        22.94\n",
      "===================================================================================\n",
      "\n",
      "Warnings:\n",
      "[1] Covariance matrix calculated using the outer product of gradients (complex-step).\n",
      "[2] Covariance matrix is singular or near-singular, with condition number 2.41e+17. Standard errors may be unstable.\n"
     ]
    }
   ],
   "source": [
    "print(model.summary())"
   ]
  },
  {
   "cell_type": "code",
   "execution_count": 392,
   "id": "83f9307f",
   "metadata": {},
   "outputs": [],
   "source": [
    "test_ind = np.array([ 0,  2,  4,  6,  8, 10, 12, 14, 16, 18, 20, 22, 24, 26, 28, 30, 32,\n",
    "       34, 36, 38, 40, 42, 44, 46, 48, 50, 52, 54, 56, 58, 60, 62, 64, 66,\n",
    "       68, 70, 72, 74, 76, 78, 80, 82, 83])\n",
    "\n",
    "train_ind = np.array([ 1,  3,  5,  7,  9, 11, 13, 15, 17, 19, 21, 23, 25, 27, 29, 31, 33,\n",
    "       35, 37, 39, 41, 43, 45, 47, 49, 51, 53, 55, 57, 59, 61, 63, 65, 67,\n",
    "       69, 71, 73, 75, 77, 79, 81])\n",
    "\n",
    "secondary_ind = np.array([ 84,  85,  86,  87,  88,  89,  90,  91,  92,  93,  94,  95,  96,\n",
    "        97,  98,  99, 100, 101, 102, 103, 104, 105, 106, 107, 108, 109,\n",
    "       110, 111, 112, 113, 114, 115, 116, 117, 118, 119, 120, 121, 122,\n",
    "       123])"
   ]
  },
  {
   "cell_type": "code",
   "execution_count": 393,
   "id": "154a70c1",
   "metadata": {},
   "outputs": [
    {
     "ename": "ValueError",
     "evalue": "setting an array element with a sequence. The requested array has an inhomogeneous shape after 1 dimensions. The detected shape was (124,) + inhomogeneous part.",
     "output_type": "error",
     "traceback": [
      "\u001b[0;31m---------------------------------------------------------------------------\u001b[0m",
      "\u001b[0;31mValueError\u001b[0m                                Traceback (most recent call last)",
      "Cell \u001b[0;32mIn[393], line 1\u001b[0m\n\u001b[0;32m----> 1\u001b[0m X \u001b[38;5;241m=\u001b[39m \u001b[43mnp\u001b[49m\u001b[38;5;241;43m.\u001b[39;49m\u001b[43marray\u001b[49m\u001b[43m(\u001b[49m\u001b[43mX\u001b[49m\u001b[43m)\u001b[49m\n\u001b[1;32m      2\u001b[0m Y \u001b[38;5;241m=\u001b[39m np\u001b[38;5;241m.\u001b[39marray(Y)\n\u001b[1;32m      3\u001b[0m x_train \u001b[38;5;241m=\u001b[39m X[train_ind]\n",
      "\u001b[0;31mValueError\u001b[0m: setting an array element with a sequence. The requested array has an inhomogeneous shape after 1 dimensions. The detected shape was (124,) + inhomogeneous part."
     ]
    }
   ],
   "source": [
    "X = np.abs(np.array(X))\n",
    "Y = np.array(Y)\n",
    "x_train = X[train_ind]\n",
    "y_train = Y[train_ind]\n",
    "\n",
    "scaler = preprocessing.StandardScaler().fit(x_train)\n",
    "x_train = scaler.transform(x_train)\n",
    "\n",
    "x_test = X[test_ind]\n",
    "y_test = Y[test_ind]\n",
    "\n",
    "x_test = scaler.transform(x_test)\n",
    "\n",
    "\n",
    "x_stest = X[secondary_ind]\n",
    "y_stest = Y[secondary_ind]\n",
    "\n",
    "x_stest = scaler.transform(x_stest)\n",
    "\n",
    "# regressor.fit(x_train.reshape(-1, 1),y_train)"
   ]
  },
  {
   "cell_type": "code",
   "execution_count": 394,
   "id": "d3d30e3d",
   "metadata": {},
   "outputs": [
    {
     "name": "stdout",
     "output_type": "stream",
     "text": [
      "RandomizedSearchCV(cv=KFold(n_splits=4, random_state=42, shuffle=True),\n",
      "                   estimator=SVR(), n_iter=10000, n_jobs=-1,\n",
      "                   param_distributions={'C': array([1.00000000e-03, 1.00926219e-03, 1.01861017e-03, 1.02804473e-03,\n",
      "       1.03756668e-03, 1.04717682e-03, 1.05687597e-03, 1.06666496e-03,\n",
      "       1.07654461e-03, 1.08651577e-03, 1.09657929e-03, 1.10673602e-03,\n",
      "       1.11698682e-03, 1.12733256e-03,...\n",
      "       4.09491506e+00, 4.94171336e+00, 5.96362332e+00, 7.19685673e+00,\n",
      "       8.68511374e+00, 1.04811313e+01, 1.26485522e+01, 1.52641797e+01,\n",
      "       1.84206997e+01, 2.22299648e+01, 2.68269580e+01, 3.23745754e+01,\n",
      "       3.90693994e+01, 4.71486636e+01, 5.68986603e+01, 6.86648845e+01,\n",
      "       8.28642773e+01, 1.00000000e+02]),\n",
      "                                        'kernel': ['linear', 'rbf']},\n",
      "                   random_state=42, return_train_score=True,\n",
      "                   scoring=make_scorer(loss, greater_is_better=False),\n",
      "                   verbose=2)\n"
     ]
    },
    {
     "ename": "ValueError",
     "evalue": "Found input variables with inconsistent numbers of samples: [998, 41]",
     "output_type": "error",
     "traceback": [
      "\u001b[0;31m---------------------------------------------------------------------------\u001b[0m",
      "\u001b[0;31mValueError\u001b[0m                                Traceback (most recent call last)",
      "Cell \u001b[0;32mIn[394], line 17\u001b[0m\n\u001b[1;32m     15\u001b[0m model\u001b[38;5;241m=\u001b[39m RandomizedSearchCV(estimator\u001b[38;5;241m=\u001b[39m regressor, n_iter \u001b[38;5;241m=\u001b[39m \u001b[38;5;241m10000\u001b[39m, cv\u001b[38;5;241m=\u001b[39mfolds, param_distributions \u001b[38;5;241m=\u001b[39m param_grid ,scoring\u001b[38;5;241m=\u001b[39mmy_scorer, random_state\u001b[38;5;241m=\u001b[39m\u001b[38;5;241m42\u001b[39m,verbose\u001b[38;5;241m=\u001b[39m\u001b[38;5;241m2\u001b[39m, return_train_score\u001b[38;5;241m=\u001b[39m\u001b[38;5;28;01mTrue\u001b[39;00m, n_jobs \u001b[38;5;241m=\u001b[39m \u001b[38;5;241m-\u001b[39m\u001b[38;5;241m1\u001b[39m)\n\u001b[1;32m     16\u001b[0m \u001b[38;5;28mprint\u001b[39m(model)\n\u001b[0;32m---> 17\u001b[0m \u001b[43mmodel\u001b[49m\u001b[38;5;241;43m.\u001b[39;49m\u001b[43mfit\u001b[49m\u001b[43m(\u001b[49m\u001b[43mx_train\u001b[49m\u001b[43m,\u001b[49m\u001b[43my_train\u001b[49m\u001b[43m)\u001b[49m\n",
      "File \u001b[0;32m~/opt/anaconda3/lib/python3.8/site-packages/sklearn/model_selection/_search.py:782\u001b[0m, in \u001b[0;36mBaseSearchCV.fit\u001b[0;34m(self, X, y, groups, **fit_params)\u001b[0m\n\u001b[1;32m    779\u001b[0m     \u001b[38;5;28mself\u001b[39m\u001b[38;5;241m.\u001b[39m_check_refit_for_multimetric(scorers)\n\u001b[1;32m    780\u001b[0m     refit_metric \u001b[38;5;241m=\u001b[39m \u001b[38;5;28mself\u001b[39m\u001b[38;5;241m.\u001b[39mrefit\n\u001b[0;32m--> 782\u001b[0m X, y, groups \u001b[38;5;241m=\u001b[39m \u001b[43mindexable\u001b[49m\u001b[43m(\u001b[49m\u001b[43mX\u001b[49m\u001b[43m,\u001b[49m\u001b[43m \u001b[49m\u001b[43my\u001b[49m\u001b[43m,\u001b[49m\u001b[43m \u001b[49m\u001b[43mgroups\u001b[49m\u001b[43m)\u001b[49m\n\u001b[1;32m    783\u001b[0m fit_params \u001b[38;5;241m=\u001b[39m _check_fit_params(X, fit_params)\n\u001b[1;32m    785\u001b[0m cv_orig \u001b[38;5;241m=\u001b[39m check_cv(\u001b[38;5;28mself\u001b[39m\u001b[38;5;241m.\u001b[39mcv, y, classifier\u001b[38;5;241m=\u001b[39mis_classifier(estimator))\n",
      "File \u001b[0;32m~/opt/anaconda3/lib/python3.8/site-packages/sklearn/utils/validation.py:443\u001b[0m, in \u001b[0;36mindexable\u001b[0;34m(*iterables)\u001b[0m\n\u001b[1;32m    424\u001b[0m \u001b[38;5;250m\u001b[39m\u001b[38;5;124;03m\"\"\"Make arrays indexable for cross-validation.\u001b[39;00m\n\u001b[1;32m    425\u001b[0m \n\u001b[1;32m    426\u001b[0m \u001b[38;5;124;03mChecks consistent length, passes through None, and ensures that everything\u001b[39;00m\n\u001b[0;32m   (...)\u001b[0m\n\u001b[1;32m    439\u001b[0m \u001b[38;5;124;03m    sparse matrix, or dataframe) or `None`.\u001b[39;00m\n\u001b[1;32m    440\u001b[0m \u001b[38;5;124;03m\"\"\"\u001b[39;00m\n\u001b[1;32m    442\u001b[0m result \u001b[38;5;241m=\u001b[39m [_make_indexable(X) \u001b[38;5;28;01mfor\u001b[39;00m X \u001b[38;5;129;01min\u001b[39;00m iterables]\n\u001b[0;32m--> 443\u001b[0m \u001b[43mcheck_consistent_length\u001b[49m\u001b[43m(\u001b[49m\u001b[38;5;241;43m*\u001b[39;49m\u001b[43mresult\u001b[49m\u001b[43m)\u001b[49m\n\u001b[1;32m    444\u001b[0m \u001b[38;5;28;01mreturn\u001b[39;00m result\n",
      "File \u001b[0;32m~/opt/anaconda3/lib/python3.8/site-packages/sklearn/utils/validation.py:397\u001b[0m, in \u001b[0;36mcheck_consistent_length\u001b[0;34m(*arrays)\u001b[0m\n\u001b[1;32m    395\u001b[0m uniques \u001b[38;5;241m=\u001b[39m np\u001b[38;5;241m.\u001b[39munique(lengths)\n\u001b[1;32m    396\u001b[0m \u001b[38;5;28;01mif\u001b[39;00m \u001b[38;5;28mlen\u001b[39m(uniques) \u001b[38;5;241m>\u001b[39m \u001b[38;5;241m1\u001b[39m:\n\u001b[0;32m--> 397\u001b[0m     \u001b[38;5;28;01mraise\u001b[39;00m \u001b[38;5;167;01mValueError\u001b[39;00m(\n\u001b[1;32m    398\u001b[0m         \u001b[38;5;124m\"\u001b[39m\u001b[38;5;124mFound input variables with inconsistent numbers of samples: \u001b[39m\u001b[38;5;132;01m%r\u001b[39;00m\u001b[38;5;124m\"\u001b[39m\n\u001b[1;32m    399\u001b[0m         \u001b[38;5;241m%\u001b[39m [\u001b[38;5;28mint\u001b[39m(l) \u001b[38;5;28;01mfor\u001b[39;00m l \u001b[38;5;129;01min\u001b[39;00m lengths]\n\u001b[1;32m    400\u001b[0m     )\n",
      "\u001b[0;31mValueError\u001b[0m: Found input variables with inconsistent numbers of samples: [998, 41]"
     ]
    }
   ],
   "source": [
    "# Create the random grid\n",
    "def loss(ground_truth, predictions):\n",
    "    diff = np.sqrt(np.mean((10**ground_truth - 10**predictions)**2))\n",
    "    return diff\n",
    "\n",
    "my_scorer = make_scorer(loss, greater_is_better=False)\n",
    "\n",
    "regressor = SVR()\n",
    "\n",
    "param_grid = {'C': np.logspace(-3, 1, base=10, num=1000), \n",
    "              'kernel': ['linear','rbf'],\n",
    "              'gamma': np.logspace(-2, 2, base=10, num=50),\n",
    "              'epsilon': np.logspace(-5, 0, base=10, num=50)} \n",
    "folds = KFold(n_splits = 4, shuffle = True, random_state = 42)\n",
    "model= RandomizedSearchCV(estimator= regressor, n_iter = 10000, cv=folds, param_distributions = param_grid ,scoring=my_scorer, random_state=42,verbose=2, return_train_score=True, n_jobs = -1)\n",
    "print(model)\n",
    "model.fit(x_train,y_train)"
   ]
  },
  {
   "cell_type": "code",
   "execution_count": 363,
   "id": "14d84b6b",
   "metadata": {},
   "outputs": [
    {
     "name": "stdout",
     "output_type": "stream",
     "text": [
      "Best RMS score:  -213.29258986930438\n",
      "Best hyperparameters:  {'kernel': 'rbf', 'gamma': 15.264179671752318, 'epsilon': 0.09540954763499944, 'C': 6.543586018883236}\n"
     ]
    }
   ],
   "source": [
    "print(\"Best RMS score: \", model.best_score_)\n",
    "print(\"Best hyperparameters: \", model.best_params_)"
   ]
  },
  {
   "cell_type": "code",
   "execution_count": 364,
   "id": "2f40f6fc",
   "metadata": {},
   "outputs": [
    {
     "data": {
      "text/html": [
       "<style>#sk-container-id-78 {color: black;background-color: white;}#sk-container-id-78 pre{padding: 0;}#sk-container-id-78 div.sk-toggleable {background-color: white;}#sk-container-id-78 label.sk-toggleable__label {cursor: pointer;display: block;width: 100%;margin-bottom: 0;padding: 0.3em;box-sizing: border-box;text-align: center;}#sk-container-id-78 label.sk-toggleable__label-arrow:before {content: \"▸\";float: left;margin-right: 0.25em;color: #696969;}#sk-container-id-78 label.sk-toggleable__label-arrow:hover:before {color: black;}#sk-container-id-78 div.sk-estimator:hover label.sk-toggleable__label-arrow:before {color: black;}#sk-container-id-78 div.sk-toggleable__content {max-height: 0;max-width: 0;overflow: hidden;text-align: left;background-color: #f0f8ff;}#sk-container-id-78 div.sk-toggleable__content pre {margin: 0.2em;color: black;border-radius: 0.25em;background-color: #f0f8ff;}#sk-container-id-78 input.sk-toggleable__control:checked~div.sk-toggleable__content {max-height: 200px;max-width: 100%;overflow: auto;}#sk-container-id-78 input.sk-toggleable__control:checked~label.sk-toggleable__label-arrow:before {content: \"▾\";}#sk-container-id-78 div.sk-estimator input.sk-toggleable__control:checked~label.sk-toggleable__label {background-color: #d4ebff;}#sk-container-id-78 div.sk-label input.sk-toggleable__control:checked~label.sk-toggleable__label {background-color: #d4ebff;}#sk-container-id-78 input.sk-hidden--visually {border: 0;clip: rect(1px 1px 1px 1px);clip: rect(1px, 1px, 1px, 1px);height: 1px;margin: -1px;overflow: hidden;padding: 0;position: absolute;width: 1px;}#sk-container-id-78 div.sk-estimator {font-family: monospace;background-color: #f0f8ff;border: 1px dotted black;border-radius: 0.25em;box-sizing: border-box;margin-bottom: 0.5em;}#sk-container-id-78 div.sk-estimator:hover {background-color: #d4ebff;}#sk-container-id-78 div.sk-parallel-item::after {content: \"\";width: 100%;border-bottom: 1px solid gray;flex-grow: 1;}#sk-container-id-78 div.sk-label:hover label.sk-toggleable__label {background-color: #d4ebff;}#sk-container-id-78 div.sk-serial::before {content: \"\";position: absolute;border-left: 1px solid gray;box-sizing: border-box;top: 0;bottom: 0;left: 50%;z-index: 0;}#sk-container-id-78 div.sk-serial {display: flex;flex-direction: column;align-items: center;background-color: white;padding-right: 0.2em;padding-left: 0.2em;position: relative;}#sk-container-id-78 div.sk-item {position: relative;z-index: 1;}#sk-container-id-78 div.sk-parallel {display: flex;align-items: stretch;justify-content: center;background-color: white;position: relative;}#sk-container-id-78 div.sk-item::before, #sk-container-id-78 div.sk-parallel-item::before {content: \"\";position: absolute;border-left: 1px solid gray;box-sizing: border-box;top: 0;bottom: 0;left: 50%;z-index: -1;}#sk-container-id-78 div.sk-parallel-item {display: flex;flex-direction: column;z-index: 1;position: relative;background-color: white;}#sk-container-id-78 div.sk-parallel-item:first-child::after {align-self: flex-end;width: 50%;}#sk-container-id-78 div.sk-parallel-item:last-child::after {align-self: flex-start;width: 50%;}#sk-container-id-78 div.sk-parallel-item:only-child::after {width: 0;}#sk-container-id-78 div.sk-dashed-wrapped {border: 1px dashed gray;margin: 0 0.4em 0.5em 0.4em;box-sizing: border-box;padding-bottom: 0.4em;background-color: white;}#sk-container-id-78 div.sk-label label {font-family: monospace;font-weight: bold;display: inline-block;line-height: 1.2em;}#sk-container-id-78 div.sk-label-container {text-align: center;}#sk-container-id-78 div.sk-container {/* jupyter's `normalize.less` sets `[hidden] { display: none; }` but bootstrap.min.css set `[hidden] { display: none !important; }` so we also need the `!important` here to be able to override the default hidden behavior on the sphinx rendered scikit-learn.org. See: https://github.com/scikit-learn/scikit-learn/issues/21755 */display: inline-block !important;position: relative;}#sk-container-id-78 div.sk-text-repr-fallback {display: none;}</style><div id=\"sk-container-id-78\" class=\"sk-top-container\"><div class=\"sk-text-repr-fallback\"><pre>SVR(C=6.543586018883236, epsilon=0.09540954763499944, gamma=15.264179671752318)</pre><b>In a Jupyter environment, please rerun this cell to show the HTML representation or trust the notebook. <br />On GitHub, the HTML representation is unable to render, please try loading this page with nbviewer.org.</b></div><div class=\"sk-container\" hidden><div class=\"sk-item\"><div class=\"sk-estimator sk-toggleable\"><input class=\"sk-toggleable__control sk-hidden--visually\" id=\"sk-estimator-id-160\" type=\"checkbox\" checked><label for=\"sk-estimator-id-160\" class=\"sk-toggleable__label sk-toggleable__label-arrow\">SVR</label><div class=\"sk-toggleable__content\"><pre>SVR(C=6.543586018883236, epsilon=0.09540954763499944, gamma=15.264179671752318)</pre></div></div></div></div></div>"
      ],
      "text/plain": [
       "SVR(C=6.543586018883236, epsilon=0.09540954763499944, gamma=15.264179671752318)"
      ]
     },
     "execution_count": 364,
     "metadata": {},
     "output_type": "execute_result"
    }
   ],
   "source": [
    "# Best hyperparameters:  {'kernel': 'rbf', 'gamma': 0.0071968567300115215, 'epsilon': 0.001757510624854793, 'C': 6.513490946272796}\n",
    "\n",
    "regressor = SVR(kernel=model.best_params_['kernel'],epsilon=model.best_params_['epsilon'], \n",
    "                gamma = model.best_params_['gamma'], C=model.best_params_['C'])\n",
    "regressor.fit(x_train,y_train)"
   ]
  },
  {
   "cell_type": "code",
   "execution_count": 365,
   "id": "10c7fb9a",
   "metadata": {},
   "outputs": [
    {
     "name": "stdout",
     "output_type": "stream",
     "text": [
      "RMSE:  143.7628854774192\n",
      "RMSE:  564.8272137207788\n",
      "RMSE:  496.9150109632736\n"
     ]
    }
   ],
   "source": [
    "print(\"RMSE: \", np.sqrt(np.average((10**regressor.predict(x_train) - 10**y_train)**2))) \n",
    "print(\"RMSE: \", np.sqrt(np.average((10**regressor.predict(x_test) - 10**y_test)**2))) \n",
    "print(\"RMSE: \", np.sqrt(np.average((10**regressor.predict(x_stest) - 10**y_stest)**2))) "
   ]
  },
  {
   "cell_type": "code",
   "execution_count": 244,
   "id": "c481f357",
   "metadata": {},
   "outputs": [
    {
     "name": "stdout",
     "output_type": "stream",
     "text": [
      "[2.58760919 2.72007278 2.69757208 2.91114563 2.58640425 2.59868747\n",
      " 2.88240347 2.85663086 2.68408498 2.85663232 2.89153917 2.75825169\n",
      " 2.85663294 2.85663162 2.71343422 2.67179941 2.75457725 2.73856402\n",
      " 2.85663026 2.75629536 2.69244323 2.59278832 2.59082039 2.80175091\n",
      " 2.7489132  2.8566276  2.69772676 2.69527186 2.7242894  2.91235639\n",
      " 2.74196799 2.73176182 2.73582809 2.8566361  2.9575833  2.65667527\n",
      " 2.8165214  2.72432475 9.02100254 2.69681137 2.77941531 2.65099079\n",
      " 3.00825266]\n"
     ]
    }
   ],
   "source": [
    "print(regressor.predict(x_test))"
   ]
  },
  {
   "cell_type": "code",
   "execution_count": null,
   "id": "2dd16023",
   "metadata": {},
   "outputs": [],
   "source": []
  }
 ],
 "metadata": {
  "kernelspec": {
   "display_name": "Python 3 (ipykernel)",
   "language": "python",
   "name": "python3"
  },
  "language_info": {
   "codemirror_mode": {
    "name": "ipython",
    "version": 3
   },
   "file_extension": ".py",
   "mimetype": "text/x-python",
   "name": "python",
   "nbconvert_exporter": "python",
   "pygments_lexer": "ipython3",
   "version": "3.8.8"
  }
 },
 "nbformat": 4,
 "nbformat_minor": 5
}
