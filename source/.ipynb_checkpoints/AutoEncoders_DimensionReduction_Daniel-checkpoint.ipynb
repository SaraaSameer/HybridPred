{
 "cells": [
  {
   "cell_type": "code",
   "execution_count": 1,
   "metadata": {
    "id": "Mn9owhXdDrI0"
   },
   "outputs": [],
   "source": [
    "import numpy as np\n",
    "import math\n",
    "import matplotlib.pyplot as plt\n",
    "import pandas as pd\n",
    "import pickle\n",
    "import torch\n",
    "import torch.nn as nn\n",
    "from torch.utils.data import DataLoader, TensorDataset\n",
    "\n",
    "from models import *"
   ]
  },
  {
   "cell_type": "markdown",
   "metadata": {},
   "source": [
    "### **Autoencoders**"
   ]
  },
  {
   "cell_type": "markdown",
   "metadata": {
    "id": "qy0F9yvU_Uj6"
   },
   "source": [
    "## **Exploratory Data Analysis**"
   ]
  },
  {
   "cell_type": "code",
   "execution_count": 2,
   "metadata": {
    "colab": {
     "base_uri": "https://localhost:8080/",
     "height": 581
    },
    "id": "ElR9oLb-_FrV",
    "outputId": "a957e460-f278-40d7-b545-d2cba6bded97"
   },
   "outputs": [],
   "source": [
    "data = pickle.load(open(r'../Data/deltaQ_cycles.pkl', 'rb'))\n",
    "data2 = pickle.load(open(r'../Data/temp_features.pkl', 'rb'))"
   ]
  },
  {
   "cell_type": "code",
   "execution_count": 3,
   "metadata": {
    "colab": {
     "base_uri": "https://localhost:8080/"
    },
    "id": "UeTDticbIIme",
    "outputId": "e8e8124c-7799-4ca3-877d-4cf2a92cc52a"
   },
   "outputs": [],
   "source": [
    "y = np.zeros(124)\n",
    "\n",
    "x = np.zeros((124, 48*2))\n",
    "for i, cell in enumerate(data.keys()):\n",
    "    x[i, :48] = data[cell][\"DeltaQ_logVars\"][1:]\n",
    "    # x[i, :, 1] = np.log10(-data[cell][\"DeltaQ_mins\"][9:])\n",
    "    # x[i, 48:2*48] = data[cell][\"DeltaQ_means\"][1:]\n",
    "    # x[i, 2*48:3*48] = data2[cell][\"DeltaT_var\"][1:]\n",
    "    x[i, 48:2*48] = data2[cell][\"Delta_Tmax\"][1:]\n",
    "    y[i] = np.log10(data[cell][\"cycle_life\"])\n",
    "\n",
    "# convert to tensors and concatenate features and labels\n",
    "x = torch.Tensor(x)\n",
    "y = torch.Tensor(y)"
   ]
  },
  {
   "cell_type": "markdown",
   "metadata": {
    "id": "WeltHOGUd5mi"
   },
   "source": [
    "## **AutoEncoder: Dimensionality Reduction**"
   ]
  },
  {
   "cell_type": "markdown",
   "metadata": {
    "id": "FI6OX-BVf1h6"
   },
   "source": [
    "### **Train Test Split**"
   ]
  },
  {
   "cell_type": "code",
   "execution_count": 4,
   "metadata": {
    "id": "cr0v41SRfhBz"
   },
   "outputs": [],
   "source": [
    "test_ind = np.array([ 0,  2,  4,  6,  8, 10, 12, 14, 16, 18, 20, 22, 24, 26, 28, 30, 32,\n",
    "       34, 36, 38, 40, 42, 44, 46, 48, 50, 52, 54, 56, 58, 60, 62, 64, 66,\n",
    "       68, 70, 72, 74, 76, 78, 80, 82, 83])\n",
    "\n",
    "train_ind = np.array([ 1,  3,  5,  7,  9, 11, 13, 15, 17, 19, 21, 23, 25, 27, 29, 31, 33,\n",
    "       35, 37, 39, 41, 43, 45, 47, 49, 51, 53, 55, 57, 59, 61, 63, 65, 67,\n",
    "       69, 71, 73, 75, 77, 79, 81])\n",
    "\n",
    "secondary_ind = np.array([ 84,  85,  86,  87,  88,  89,  90,  91,  92,  93,  94,  95,  96,\n",
    "        97,  98,  99, 100, 101, 102, 103, 104, 105, 106, 107, 108, 109,\n",
    "       110, 111, 112, 113, 114, 115, 116, 117, 118, 119, 120, 121, 122,\n",
    "       123])\n"
   ]
  },
  {
   "cell_type": "code",
   "execution_count": 9,
   "metadata": {},
   "outputs": [
    {
     "name": "stdout",
     "output_type": "stream",
     "text": [
      "\n",
      "Stage 1:\n",
      "\n",
      "Epoch 300/3000, loss: 2942.09\n",
      "Epoch 600/3000, loss: 1914.48\n",
      "Epoch 900/3000, loss: 1239.99\n",
      "Epoch 1200/3000, loss: 864.71\n",
      "Epoch 1500/3000, loss: 654.37\n",
      "Epoch 1800/3000, loss: 501.88\n",
      "Epoch 2100/3000, loss: 381.21\n",
      "Epoch 2400/3000, loss: 289.12\n",
      "Epoch 2700/3000, loss: 220.50\n",
      "Epoch 3000/3000, loss: 171.30\n",
      "\n",
      "Stage 2:\n",
      "\n",
      "Epoch 100/1000, loss: 1.46\n",
      "Epoch 200/1000, loss: 1.42\n",
      "Epoch 300/1000, loss: 1.39\n",
      "Epoch 400/1000, loss: 1.36\n",
      "Epoch 500/1000, loss: 1.33\n",
      "Epoch 600/1000, loss: 1.30\n",
      "Epoch 700/1000, loss: 1.27\n",
      "Epoch 800/1000, loss: 1.24\n",
      "Epoch 900/1000, loss: 1.21\n",
      "Epoch 1000/1000, loss: 1.19\n"
     ]
    }
   ],
   "source": [
    "# del model\n",
    "\n",
    "train_policy = {\n",
    "    \"num_stages\": 2,\n",
    "    \"epochs\": [3000, 1000],\n",
    "    \"learning_rates\": [3e-5, 1e-5],\n",
    "    \"batch_sizes\": [64, 64],\n",
    "    \"prediction_weights\": [0.1, 0.0001],\n",
    "    \"decoding_weights\": [10, 1],\n",
    "    \"en_weights\": [1, 1]\n",
    "}\n",
    "\n",
    "\n",
    "\n",
    "model = AutoEncoder_ElasticNet(n_features=2, n_cycles=48, lr = 3e-5, epochs=3000, batch_size=64)\n",
    "train_dataset = TensorDataset(torch.Tensor(x[train_ind]),torch.Tensor(y[train_ind]))\n",
    "# model.fit(train_dataset, decoding_weight=10)\n",
    "# model.fit(train_dataset, prediction_weight=0.0001, decoding_weight=1, lr = 1e-5, epochs=1000)\n",
    "model.fit(train_dataset, train_policy)"
   ]
  },
  {
   "cell_type": "code",
   "execution_count": 10,
   "metadata": {},
   "outputs": [
    {
     "data": {
      "text/plain": [
       "[<matplotlib.lines.Line2D at 0x7f357b2b93d0>]"
      ]
     },
     "execution_count": 10,
     "metadata": {},
     "output_type": "execute_result"
    },
    {
     "data": {
      "image/png": "[encoded data removed]",
      "text/plain": [
       "<Figure size 640x480 with 1 Axes>"
      ]
     },
     "metadata": {},
     "output_type": "display_data"
    }
   ],
   "source": [
    "id = 20\n",
    "\n",
    "plt.plot(x[id].detach().numpy()[:48], model.forward(x[id]).detach().numpy()[:48], \".\")\n",
    "plt.plot(x[id].detach().numpy()[48:2*48], model.forward(x[id]).detach().numpy()[48:2*48], \".\")\n",
    "plt.plot(x[id].detach().numpy()[2*48:3*48], model.forward(x[id]).detach().numpy()[2*48:3*48], \".\")\n",
    "# plt.plot(x[id].detach().numpy()[3*48:4*48], model.forward(x[id]).detach().numpy()[3*48:4*48], \".\")\n",
    "\n",
    "plt.plot(np.linspace(-5.5, 1.5, 3), np.linspace(-5.5, 1.5, 3), \"k\", alpha = 0.5)"
   ]
  },
  {
   "cell_type": "code",
   "execution_count": 15,
   "metadata": {},
   "outputs": [
    {
     "data": {
      "text/plain": [
       "[<matplotlib.lines.Line2D at 0x7f357b2282d0>]"
      ]
     },
     "execution_count": 15,
     "metadata": {},
     "output_type": "execute_result"
    },
    {
     "data": {
      "image/png": "[encoded data removed]",
      "text/plain": [
       "<Figure size 640x480 with 1 Axes>"
      ]
     },
     "metadata": {},
     "output_type": "display_data"
    }
   ],
   "source": [
    "plt.plot(y[train_ind], model.elastic_net_predict(x[train_ind]).detach().numpy(), \".\")\n",
    "plt.plot(y[test_ind], model.elastic_net_predict(x[test_ind]).detach().numpy(), \".\")\n",
    "plt.plot(y[secondary_ind], model.elastic_net_predict(x[secondary_ind]).detach().numpy(), \".\")\n",
    "\n",
    "plt.plot(np.linspace(2.15, 3.4, 3), np.linspace(2.15, 3.4, 3), \"k\", alpha = 0.5)"
   ]
  },
  {
   "cell_type": "code",
   "execution_count": 23,
   "metadata": {},
   "outputs": [
    {
     "name": "stdout",
     "output_type": "stream",
     "text": [
      "train \t 27.134253\n",
      "test \t 136.24007\n",
      "sec \t 281.74707\n"
     ]
    }
   ],
   "source": [
    "mses = [0.0, 0.0, 0.0]\n",
    "for i in train_ind:\n",
    "    mses[0] += (10**model.elastic_net_predict(x[i]).detach().numpy() - 10**y[i].detach().numpy())**2\n",
    "for i in test_ind:\n",
    "    mses[1] += (10**model.elastic_net_predict(x[i]).detach().numpy() - 10**y[i].detach().numpy())**2\n",
    "for i in secondary_ind:\n",
    "    mses[2] += (10**model.elastic_net_predict(x[i]).detach().numpy() - 10**y[i].detach().numpy())**2\n",
    "\n",
    "mses[0] = np.sqrt(mses[0] / len(train_ind))\n",
    "mses[1] = np.sqrt(mses[1] / len(test_ind))\n",
    "mses[2] = np.sqrt(mses[2] / len(secondary_ind))\n",
    "\n",
    "for mse, label in zip(mses, [\"train\", \"test\", \"sec\"]):\n",
    "    print(label, \"\\t\", mse[0])"
   ]
  }
 ],
 "metadata": {
  "colab": {
   "provenance": []
  },
  "kernelspec": {
   "display_name": "Python 3 (ipykernel)",
   "language": "python",
   "name": "python3"
  },
  "language_info": {
   "codemirror_mode": {
    "name": "ipython",
    "version": 3
   },
   "file_extension": ".py",
   "mimetype": "text/x-python",
   "name": "python",
   "nbconvert_exporter": "python",
   "pygments_lexer": "ipython3",
   "version": "3.8.8"
  }
 },
 "nbformat": 4,
 "nbformat_minor": 1
}
