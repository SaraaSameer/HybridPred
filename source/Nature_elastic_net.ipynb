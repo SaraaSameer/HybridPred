{
 "cells": [
  {
   "cell_type": "code",
   "execution_count": 126,
   "metadata": {
    "id": "vsmOCcakAwLK"
   },
   "outputs": [],
   "source": [
    "from sklearn.svm import SVR\n",
    "import numpy as np\n",
    "import matplotlib.pyplot as plt\n",
    "from sklearn.model_selection import *\n",
    "from sklearn.linear_model import ElasticNet\n",
    "from sklearn.metrics import make_scorer\n"
   ]
  },
  {
   "cell_type": "code",
   "execution_count": 293,
   "metadata": {
    "id": "WNrX53H4AwLM"
   },
   "outputs": [],
   "source": [
    "data = np.loadtxt('../Data/features.csv',delimiter=',', skiprows=1) # skip row for column names"
   ]
  },
  {
   "cell_type": "code",
   "execution_count": 18,
   "metadata": {
    "colab": {
     "base_uri": "https://localhost:8080/"
    },
    "id": "zm0s5Ub7AwLM",
    "outputId": "f17c83db-fb3f-4c91-ae96-d76e92eaef8a"
   },
   "outputs": [
    {
     "data": {
      "text/plain": [
       "(124, 15)"
      ]
     },
     "execution_count": 18,
     "metadata": {},
     "output_type": "execute_result"
    }
   ],
   "source": [
    "np.shape(data)"
   ]
  },
  {
   "cell_type": "code",
   "execution_count": 19,
   "metadata": {
    "id": "SIHhstgtAwLN"
   },
   "outputs": [],
   "source": [
    "test_ind = np.array([ 0,  2,  4,  6,  8, 10, 12, 14, 16, 18, 20, 22, 24, 26, 28, 30, 32,\n",
    "       34, 36, 38, 40, 42, 44, 46, 48, 50, 52, 54, 56, 58, 60, 62, 64, 66,\n",
    "       68, 70, 72, 74, 76, 78, 80, 82, 83])\n",
    "\n",
    "train_ind = np.array([ 1,  3,  5,  7,  9, 11, 13, 15, 17, 19, 21, 23, 25, 27, 29, 31, 33,\n",
    "       35, 37, 39, 41, 43, 45, 47, 49, 51, 53, 55, 57, 59, 61, 63, 65, 67,\n",
    "       69, 71, 73, 75, 77, 79, 81])\n",
    "\n",
    "secondary_ind = np.array([ 84,  85,  86,  87,  88,  89,  90,  91,  92,  93,  94,  95,  96,\n",
    "        97,  98,  99, 100, 101, 102, 103, 104, 105, 106, 107, 108, 109,\n",
    "       110, 111, 112, 113, 114, 115, 116, 117, 118, 119, 120, 121, 122,\n",
    "       123])"
   ]
  },
  {
   "cell_type": "markdown",
   "metadata": {
    "id": "6wbXpTkwIGsY"
   },
   "source": [
    "## **Discharge Model**"
   ]
  },
  {
   "cell_type": "code",
   "execution_count": 20,
   "metadata": {
    "id": "7a9o_PdCAwLN"
   },
   "outputs": [],
   "source": [
    "# use indices [1:11] if only consdering variables from \"discharge model\"\n",
    "# use [1:] if considering variables from \"full model\"\n",
    "x_train = data[train_ind,1:11]\n",
    "y_train = data[train_ind,0]\n",
    "\n",
    "x_test = data[test_ind,1:11]\n",
    "y_test = data[test_ind,0]\n",
    "\n",
    "x_stest = data[secondary_ind,1:11]\n",
    "y_stest = data[secondary_ind,0]\n",
    "\n",
    "regressor = ElasticNet()"
   ]
  },
  {
   "cell_type": "code",
   "execution_count": 48,
   "metadata": {
    "colab": {
     "base_uri": "https://localhost:8080/",
     "height": 0
    },
    "id": "KVvGAQuEAwLN",
    "outputId": "6583c5a9-f78c-44d5-b5cd-a514feb14f47"
   },
   "outputs": [
    {
     "name": "stdout",
     "output_type": "stream",
     "text": [
      "[3.33445375 3.15654915 3.03100428 2.93951925 2.89652622 2.85672889\n",
      " 2.93298082 2.89652622 2.74741181 3.00732095 2.93951925 2.93449845\n",
      " 2.85064624 2.86391738 2.87040391 2.84757266 2.79028516 2.98497713\n",
      " 2.84633711 2.78958071 2.47712125 2.64147411 2.64738297 2.7084209\n",
      " 2.67851838 2.68394713 2.69372695 2.66370093 2.68930886 2.72181062\n",
      " 2.66370093 2.67024585 2.69722934 2.6919651  2.71600334 2.66558099\n",
      " 2.6794279  2.66181269 2.63245729 2.66464198 2.68752896]\n",
      "RandomizedSearchCV(cv=KFold(n_splits=4, random_state=42, shuffle=True),\n",
      "                   estimator=ElasticNet(l1_ratio=0.0037003700370037006),\n",
      "                   n_iter=20000, n_jobs=-1,\n",
      "                   param_distributions={'l1_ratio': array([0.00000000e+00, 1.00010001e-04, 2.00020002e-04, ...,\n",
      "       9.99799980e-01, 9.99899990e-01, 1.00000000e+00])},\n",
      "                   random_state=42, return_train_score=True,\n",
      "                   scoring='neg_mean_squared_error', verbose=2)\n",
      "Fitting 4 folds for each of 10000 candidates, totalling 40000 fits\n"
     ]
    },
    {
     "name": "stderr",
     "output_type": "stream",
     "text": [
      "/usr/local/lib/python3.10/dist-packages/sklearn/model_selection/_search.py:305: UserWarning: The total space of parameters 10000 is smaller than n_iter=20000. Running 10000 iterations. For exhaustive searches, use GridSearchCV.\n",
      "  warnings.warn(\n",
      "/usr/local/lib/python3.10/dist-packages/sklearn/linear_model/_coordinate_descent.py:631: ConvergenceWarning: Objective did not converge. You might want to increase the number of iterations, check the scale of the features or consider increasing regularisation. Duality gap: 4.828e-01, tolerance: 1.070e-04 Linear regression models with null weight for the l1 regularization term are more efficiently fitted using one of the solvers implemented in sklearn.linear_model.Ridge/RidgeCV instead.\n",
      "  model = cd_fast.enet_coordinate_descent(\n"
     ]
    },
    {
     "data": {
      "text/html": [
       "<style>#sk-container-id-7 {color: black;background-color: white;}#sk-container-id-7 pre{padding: 0;}#sk-container-id-7 div.sk-toggleable {background-color: white;}#sk-container-id-7 label.sk-toggleable__label {cursor: pointer;display: block;width: 100%;margin-bottom: 0;padding: 0.3em;box-sizing: border-box;text-align: center;}#sk-container-id-7 label.sk-toggleable__label-arrow:before {content: \"▸\";float: left;margin-right: 0.25em;color: #696969;}#sk-container-id-7 label.sk-toggleable__label-arrow:hover:before {color: black;}#sk-container-id-7 div.sk-estimator:hover label.sk-toggleable__label-arrow:before {color: black;}#sk-container-id-7 div.sk-toggleable__content {max-height: 0;max-width: 0;overflow: hidden;text-align: left;background-color: #f0f8ff;}#sk-container-id-7 div.sk-toggleable__content pre {margin: 0.2em;color: black;border-radius: 0.25em;background-color: #f0f8ff;}#sk-container-id-7 input.sk-toggleable__control:checked~div.sk-toggleable__content {max-height: 200px;max-width: 100%;overflow: auto;}#sk-container-id-7 input.sk-toggleable__control:checked~label.sk-toggleable__label-arrow:before {content: \"▾\";}#sk-container-id-7 div.sk-estimator input.sk-toggleable__control:checked~label.sk-toggleable__label {background-color: #d4ebff;}#sk-container-id-7 div.sk-label input.sk-toggleable__control:checked~label.sk-toggleable__label {background-color: #d4ebff;}#sk-container-id-7 input.sk-hidden--visually {border: 0;clip: rect(1px 1px 1px 1px);clip: rect(1px, 1px, 1px, 1px);height: 1px;margin: -1px;overflow: hidden;padding: 0;position: absolute;width: 1px;}#sk-container-id-7 div.sk-estimator {font-family: monospace;background-color: #f0f8ff;border: 1px dotted black;border-radius: 0.25em;box-sizing: border-box;margin-bottom: 0.5em;}#sk-container-id-7 div.sk-estimator:hover {background-color: #d4ebff;}#sk-container-id-7 div.sk-parallel-item::after {content: \"\";width: 100%;border-bottom: 1px solid gray;flex-grow: 1;}#sk-container-id-7 div.sk-label:hover label.sk-toggleable__label {background-color: #d4ebff;}#sk-container-id-7 div.sk-serial::before {content: \"\";position: absolute;border-left: 1px solid gray;box-sizing: border-box;top: 0;bottom: 0;left: 50%;z-index: 0;}#sk-container-id-7 div.sk-serial {display: flex;flex-direction: column;align-items: center;background-color: white;padding-right: 0.2em;padding-left: 0.2em;position: relative;}#sk-container-id-7 div.sk-item {position: relative;z-index: 1;}#sk-container-id-7 div.sk-parallel {display: flex;align-items: stretch;justify-content: center;background-color: white;position: relative;}#sk-container-id-7 div.sk-item::before, #sk-container-id-7 div.sk-parallel-item::before {content: \"\";position: absolute;border-left: 1px solid gray;box-sizing: border-box;top: 0;bottom: 0;left: 50%;z-index: -1;}#sk-container-id-7 div.sk-parallel-item {display: flex;flex-direction: column;z-index: 1;position: relative;background-color: white;}#sk-container-id-7 div.sk-parallel-item:first-child::after {align-self: flex-end;width: 50%;}#sk-container-id-7 div.sk-parallel-item:last-child::after {align-self: flex-start;width: 50%;}#sk-container-id-7 div.sk-parallel-item:only-child::after {width: 0;}#sk-container-id-7 div.sk-dashed-wrapped {border: 1px dashed gray;margin: 0 0.4em 0.5em 0.4em;box-sizing: border-box;padding-bottom: 0.4em;background-color: white;}#sk-container-id-7 div.sk-label label {font-family: monospace;font-weight: bold;display: inline-block;line-height: 1.2em;}#sk-container-id-7 div.sk-label-container {text-align: center;}#sk-container-id-7 div.sk-container {/* jupyter's `normalize.less` sets `[hidden] { display: none; }` but bootstrap.min.css set `[hidden] { display: none !important; }` so we also need the `!important` here to be able to override the default hidden behavior on the sphinx rendered scikit-learn.org. See: https://github.com/scikit-learn/scikit-learn/issues/21755 */display: inline-block !important;position: relative;}#sk-container-id-7 div.sk-text-repr-fallback {display: none;}</style><div id=\"sk-container-id-7\" class=\"sk-top-container\"><div class=\"sk-text-repr-fallback\"><pre>RandomizedSearchCV(cv=KFold(n_splits=4, random_state=42, shuffle=True),\n",
       "                   estimator=ElasticNet(l1_ratio=0.0037003700370037006),\n",
       "                   n_iter=20000, n_jobs=-1,\n",
       "                   param_distributions={&#x27;l1_ratio&#x27;: array([0.00000000e+00, 1.00010001e-04, 2.00020002e-04, ...,\n",
       "       9.99799980e-01, 9.99899990e-01, 1.00000000e+00])},\n",
       "                   random_state=42, return_train_score=True,\n",
       "                   scoring=&#x27;neg_mean_squared_error&#x27;, verbose=2)</pre><b>In a Jupyter environment, please rerun this cell to show the HTML representation or trust the notebook. <br />On GitHub, the HTML representation is unable to render, please try loading this page with nbviewer.org.</b></div><div class=\"sk-container\" hidden><div class=\"sk-item sk-dashed-wrapped\"><div class=\"sk-label-container\"><div class=\"sk-label sk-toggleable\"><input class=\"sk-toggleable__control sk-hidden--visually\" id=\"sk-estimator-id-13\" type=\"checkbox\" ><label for=\"sk-estimator-id-13\" class=\"sk-toggleable__label sk-toggleable__label-arrow\">RandomizedSearchCV</label><div class=\"sk-toggleable__content\"><pre>RandomizedSearchCV(cv=KFold(n_splits=4, random_state=42, shuffle=True),\n",
       "                   estimator=ElasticNet(l1_ratio=0.0037003700370037006),\n",
       "                   n_iter=20000, n_jobs=-1,\n",
       "                   param_distributions={&#x27;l1_ratio&#x27;: array([0.00000000e+00, 1.00010001e-04, 2.00020002e-04, ...,\n",
       "       9.99799980e-01, 9.99899990e-01, 1.00000000e+00])},\n",
       "                   random_state=42, return_train_score=True,\n",
       "                   scoring=&#x27;neg_mean_squared_error&#x27;, verbose=2)</pre></div></div></div><div class=\"sk-parallel\"><div class=\"sk-parallel-item\"><div class=\"sk-item\"><div class=\"sk-label-container\"><div class=\"sk-label sk-toggleable\"><input class=\"sk-toggleable__control sk-hidden--visually\" id=\"sk-estimator-id-14\" type=\"checkbox\" ><label for=\"sk-estimator-id-14\" class=\"sk-toggleable__label sk-toggleable__label-arrow\">estimator: ElasticNet</label><div class=\"sk-toggleable__content\"><pre>ElasticNet(l1_ratio=0.0037003700370037006)</pre></div></div></div><div class=\"sk-serial\"><div class=\"sk-item\"><div class=\"sk-estimator sk-toggleable\"><input class=\"sk-toggleable__control sk-hidden--visually\" id=\"sk-estimator-id-15\" type=\"checkbox\" ><label for=\"sk-estimator-id-15\" class=\"sk-toggleable__label sk-toggleable__label-arrow\">ElasticNet</label><div class=\"sk-toggleable__content\"><pre>ElasticNet(l1_ratio=0.0037003700370037006)</pre></div></div></div></div></div></div></div></div></div></div>"
      ],
      "text/plain": [
       "RandomizedSearchCV(cv=KFold(n_splits=4, random_state=42, shuffle=True),\n",
       "                   estimator=ElasticNet(l1_ratio=0.0037003700370037006),\n",
       "                   n_iter=20000, n_jobs=-1,\n",
       "                   param_distributions={'l1_ratio': array([0.00000000e+00, 1.00010001e-04, 2.00020002e-04, ...,\n",
       "       9.99799980e-01, 9.99899990e-01, 1.00000000e+00])},\n",
       "                   random_state=42, return_train_score=True,\n",
       "                   scoring='neg_mean_squared_error', verbose=2)"
      ]
     },
     "execution_count": 48,
     "metadata": {},
     "output_type": "execute_result"
    }
   ],
   "source": [
    "# Create the random grid\n",
    "param_grid = { 'l1_ratio': np.linspace(0,1,10000),\n",
    "              }\n",
    "print(y_train)\n",
    "folds = KFold(n_splits = 4, shuffle = True, random_state = 42)\n",
    "model= RandomizedSearchCV(estimator= regressor, n_iter = 20000, cv=folds, param_distributions = param_grid ,scoring=\"neg_mean_squared_error\", random_state=42,verbose=2, return_train_score=True, n_jobs = -1)\n",
    "print(model)\n",
    "model.fit(x_train,y_train)"
   ]
  },
  {
   "cell_type": "code",
   "execution_count": 9,
   "metadata": {
    "id": "asJr9q2WAwLO"
   },
   "outputs": [],
   "source": [
    "regressor = ElasticNet(l1_ratio=model.best_params_[\"l1_ratio\"])"
   ]
  },
  {
   "cell_type": "code",
   "execution_count": 10,
   "metadata": {
    "colab": {
     "base_uri": "https://localhost:8080/",
     "height": 75
    },
    "id": "0buSnOq8AwLO",
    "outputId": "5b97ef08-b9a3-4e5f-d894-0c9c56eba6e8"
   },
   "outputs": [
    {
     "data": {
      "text/html": [
       "<style>#sk-container-id-2 {color: black;background-color: white;}#sk-container-id-2 pre{padding: 0;}#sk-container-id-2 div.sk-toggleable {background-color: white;}#sk-container-id-2 label.sk-toggleable__label {cursor: pointer;display: block;width: 100%;margin-bottom: 0;padding: 0.3em;box-sizing: border-box;text-align: center;}#sk-container-id-2 label.sk-toggleable__label-arrow:before {content: \"▸\";float: left;margin-right: 0.25em;color: #696969;}#sk-container-id-2 label.sk-toggleable__label-arrow:hover:before {color: black;}#sk-container-id-2 div.sk-estimator:hover label.sk-toggleable__label-arrow:before {color: black;}#sk-container-id-2 div.sk-toggleable__content {max-height: 0;max-width: 0;overflow: hidden;text-align: left;background-color: #f0f8ff;}#sk-container-id-2 div.sk-toggleable__content pre {margin: 0.2em;color: black;border-radius: 0.25em;background-color: #f0f8ff;}#sk-container-id-2 input.sk-toggleable__control:checked~div.sk-toggleable__content {max-height: 200px;max-width: 100%;overflow: auto;}#sk-container-id-2 input.sk-toggleable__control:checked~label.sk-toggleable__label-arrow:before {content: \"▾\";}#sk-container-id-2 div.sk-estimator input.sk-toggleable__control:checked~label.sk-toggleable__label {background-color: #d4ebff;}#sk-container-id-2 div.sk-label input.sk-toggleable__control:checked~label.sk-toggleable__label {background-color: #d4ebff;}#sk-container-id-2 input.sk-hidden--visually {border: 0;clip: rect(1px 1px 1px 1px);clip: rect(1px, 1px, 1px, 1px);height: 1px;margin: -1px;overflow: hidden;padding: 0;position: absolute;width: 1px;}#sk-container-id-2 div.sk-estimator {font-family: monospace;background-color: #f0f8ff;border: 1px dotted black;border-radius: 0.25em;box-sizing: border-box;margin-bottom: 0.5em;}#sk-container-id-2 div.sk-estimator:hover {background-color: #d4ebff;}#sk-container-id-2 div.sk-parallel-item::after {content: \"\";width: 100%;border-bottom: 1px solid gray;flex-grow: 1;}#sk-container-id-2 div.sk-label:hover label.sk-toggleable__label {background-color: #d4ebff;}#sk-container-id-2 div.sk-serial::before {content: \"\";position: absolute;border-left: 1px solid gray;box-sizing: border-box;top: 0;bottom: 0;left: 50%;z-index: 0;}#sk-container-id-2 div.sk-serial {display: flex;flex-direction: column;align-items: center;background-color: white;padding-right: 0.2em;padding-left: 0.2em;position: relative;}#sk-container-id-2 div.sk-item {position: relative;z-index: 1;}#sk-container-id-2 div.sk-parallel {display: flex;align-items: stretch;justify-content: center;background-color: white;position: relative;}#sk-container-id-2 div.sk-item::before, #sk-container-id-2 div.sk-parallel-item::before {content: \"\";position: absolute;border-left: 1px solid gray;box-sizing: border-box;top: 0;bottom: 0;left: 50%;z-index: -1;}#sk-container-id-2 div.sk-parallel-item {display: flex;flex-direction: column;z-index: 1;position: relative;background-color: white;}#sk-container-id-2 div.sk-parallel-item:first-child::after {align-self: flex-end;width: 50%;}#sk-container-id-2 div.sk-parallel-item:last-child::after {align-self: flex-start;width: 50%;}#sk-container-id-2 div.sk-parallel-item:only-child::after {width: 0;}#sk-container-id-2 div.sk-dashed-wrapped {border: 1px dashed gray;margin: 0 0.4em 0.5em 0.4em;box-sizing: border-box;padding-bottom: 0.4em;background-color: white;}#sk-container-id-2 div.sk-label label {font-family: monospace;font-weight: bold;display: inline-block;line-height: 1.2em;}#sk-container-id-2 div.sk-label-container {text-align: center;}#sk-container-id-2 div.sk-container {/* jupyter's `normalize.less` sets `[hidden] { display: none; }` but bootstrap.min.css set `[hidden] { display: none !important; }` so we also need the `!important` here to be able to override the default hidden behavior on the sphinx rendered scikit-learn.org. See: https://github.com/scikit-learn/scikit-learn/issues/21755 */display: inline-block !important;position: relative;}#sk-container-id-2 div.sk-text-repr-fallback {display: none;}</style><div id=\"sk-container-id-2\" class=\"sk-top-container\"><div class=\"sk-text-repr-fallback\"><pre>ElasticNet(l1_ratio=1.0)</pre><b>In a Jupyter environment, please rerun this cell to show the HTML representation or trust the notebook. <br />On GitHub, the HTML representation is unable to render, please try loading this page with nbviewer.org.</b></div><div class=\"sk-container\" hidden><div class=\"sk-item\"><div class=\"sk-estimator sk-toggleable\"><input class=\"sk-toggleable__control sk-hidden--visually\" id=\"sk-estimator-id-4\" type=\"checkbox\" checked><label for=\"sk-estimator-id-4\" class=\"sk-toggleable__label sk-toggleable__label-arrow\">ElasticNet</label><div class=\"sk-toggleable__content\"><pre>ElasticNet(l1_ratio=1.0)</pre></div></div></div></div></div>"
      ],
      "text/plain": [
       "ElasticNet(l1_ratio=1.0)"
      ]
     },
     "execution_count": 10,
     "metadata": {},
     "output_type": "execute_result"
    }
   ],
   "source": [
    "regressor.fit(x_train,y_train)"
   ]
  },
  {
   "cell_type": "markdown",
   "metadata": {
    "id": "V2AjFupACyt_"
   },
   "source": [
    "### **Metric Evaluation**"
   ]
  },
  {
   "cell_type": "code",
   "execution_count": 11,
   "metadata": {
    "colab": {
     "base_uri": "https://localhost:8080/"
    },
    "id": "IknL2_lNAwLO",
    "outputId": "7dc98ac5-3763-4be0-b962-4adbf12b72f2"
   },
   "outputs": [
    {
     "data": {
      "text/plain": [
       "162.76587705783226"
      ]
     },
     "execution_count": 11,
     "metadata": {},
     "output_type": "execute_result"
    }
   ],
   "source": [
    "np.sqrt(np.mean((regressor.predict(x_test)-y_test)**2))"
   ]
  },
  {
   "cell_type": "code",
   "execution_count": 12,
   "metadata": {
    "colab": {
     "base_uri": "https://localhost:8080/"
    },
    "id": "yxpyMfRfAwLO",
    "outputId": "5dc23c37-0f5d-4725-a339-7f9d6262861a"
   },
   "outputs": [
    {
     "data": {
      "text/plain": [
       "197.39365048416727"
      ]
     },
     "execution_count": 12,
     "metadata": {},
     "output_type": "execute_result"
    }
   ],
   "source": [
    "np.sqrt(np.mean((regressor.predict(x_stest)-y_stest)**2))"
   ]
  },
  {
   "cell_type": "code",
   "execution_count": 13,
   "metadata": {
    "colab": {
     "base_uri": "https://localhost:8080/"
    },
    "id": "cGNy5XUiAwLP",
    "outputId": "471f8000-93ac-4011-c16c-f005e480aa7e"
   },
   "outputs": [
    {
     "data": {
      "text/plain": [
       "0.21006002955255068"
      ]
     },
     "execution_count": 13,
     "metadata": {},
     "output_type": "execute_result"
    }
   ],
   "source": [
    "np.mean((np.abs(regressor.predict(x_train)-y_train))/y_train)"
   ]
  },
  {
   "cell_type": "code",
   "execution_count": 14,
   "metadata": {
    "colab": {
     "base_uri": "https://localhost:8080/"
    },
    "id": "0ylZdmPUAwLP",
    "outputId": "bd25d3d3-0472-493a-ce6a-a6bdff8d22c7"
   },
   "outputs": [
    {
     "data": {
      "text/plain": [
       "0.20599888060138916"
      ]
     },
     "execution_count": 14,
     "metadata": {},
     "output_type": "execute_result"
    }
   ],
   "source": [
    "np.mean((np.abs(regressor.predict(x_test)-y_test))/y_test)"
   ]
  },
  {
   "cell_type": "code",
   "execution_count": 15,
   "metadata": {
    "colab": {
     "base_uri": "https://localhost:8080/"
    },
    "id": "j4p-Km0zAwLP",
    "outputId": "b8146309-9ffb-4fae-b797-89abf224c266"
   },
   "outputs": [
    {
     "data": {
      "text/plain": [
       "0.12831217801626765"
      ]
     },
     "execution_count": 15,
     "metadata": {},
     "output_type": "execute_result"
    }
   ],
   "source": [
    "np.mean((np.abs(regressor.predict(x_stest)-y_stest))/y_stest)"
   ]
  },
  {
   "cell_type": "code",
   "execution_count": 16,
   "metadata": {
    "colab": {
     "base_uri": "https://localhost:8080/",
     "height": 447
    },
    "id": "eDuPSghZAwLP",
    "outputId": "2b0904c8-3f07-4adc-b553-0790852fce3d"
   },
   "outputs": [
    {
     "data": {
      "text/plain": [
       "[<matplotlib.lines.Line2D at 0x7fc30b13bbb0>]"
      ]
     },
     "execution_count": 16,
     "metadata": {},
     "output_type": "execute_result"
    },
    {
     "data": {
      "image/png": "[encoded data removed]",
      "text/plain": [
       "<Figure size 640x480 with 1 Axes>"
      ]
     },
     "metadata": {},
     "output_type": "display_data"
    }
   ],
   "source": [
    "fig,ax=plt.subplots()\n",
    "ax.scatter(regressor.predict(x_train),y_train,c=\"blue\")\n",
    "ax.scatter(regressor.predict(x_test),y_test,c=\"red\")\n",
    "ax.scatter(regressor.predict(x_stest),y_stest,c=\"orange\")\n",
    "ax.set_xlim([0,2100])\n",
    "ax.set_ylim([0,2100])\n",
    "ax.plot(np.linspace(0,2000),np.linspace(0,2000),color='black')"
   ]
  },
  {
   "cell_type": "markdown",
   "metadata": {
    "id": "-uQSYiG2Ju0g"
   },
   "source": [
    "## **Improvement Discharge Model**"
   ]
  },
  {
   "cell_type": "code",
   "execution_count": 21,
   "metadata": {
    "colab": {
     "base_uri": "https://localhost:8080/"
    },
    "id": "ZF9haffoURZN",
    "outputId": "7f6cff0d-d1de-48b0-b20f-c2e3c003f00d"
   },
   "outputs": [
    {
     "name": "stdout",
     "output_type": "stream",
     "text": [
      "[3.33445375 3.15654915 3.03100428 2.93951925 2.89652622 2.85672889\n",
      " 2.93298082 2.89652622 2.74741181 3.00732095 2.93951925 2.93449845\n",
      " 2.85064624 2.86391738 2.87040391 2.84757266 2.79028516 2.98497713\n",
      " 2.84633711 2.78958071 2.47712125 2.64147411 2.64738297 2.7084209\n",
      " 2.67851838 2.68394713 2.69372695 2.66370093 2.68930886 2.72181062\n",
      " 2.66370093 2.67024585 2.69722934 2.6919651  2.71600334 2.66558099\n",
      " 2.6794279  2.66181269 2.63245729 2.66464198 2.68752896]\n"
     ]
    }
   ],
   "source": [
    "# use indices [1:11] if only consdering variables from \"discharge model\"\n",
    "# use [1:] if considering variables from \"full model\"\n",
    "x_train = data[train_ind,1:11]\n",
    "y_train = data[train_ind,0]\n",
    "y_train = np.log10(y_train) #tried with np.log10 as well\n",
    "\n",
    "x_test = data[test_ind,1:11]\n",
    "y_test = data[test_ind,0]\n",
    "y_test = np.log10(y_test)\n",
    "\n",
    "x_stest = data[secondary_ind,1:11]\n",
    "y_stest = data[secondary_ind,0]\n",
    "y_stest = np.log10(y_stest)\n",
    "print(y_train)"
   ]
  },
  {
   "cell_type": "code",
   "execution_count": 224,
   "metadata": {
    "colab": {
     "base_uri": "https://localhost:8080/",
     "height": 482
    },
    "id": "l45qKlcKJxYn",
    "outputId": "3bccb087-d378-4213-cc38-344ec0bd96e1"
   },
   "outputs": [
    {
     "name": "stdout",
     "output_type": "stream",
     "text": [
      "[3.33445375 3.15654915 3.03100428 2.93951925 2.89652622 2.85672889\n",
      " 2.93298082 2.89652622 2.74741181 3.00732095 2.93951925 2.93449845\n",
      " 2.85064624 2.86391738 2.87040391 2.84757266 2.79028516 2.98497713\n",
      " 2.84633711 2.78958071 2.47712125 2.64147411 2.64738297 2.7084209\n",
      " 2.67851838 2.68394713 2.69372695 2.66370093 2.68930886 2.72181062\n",
      " 2.66370093 2.67024585 2.69722934 2.6919651  2.71600334 2.66558099\n",
      " 2.6794279  2.66181269 2.63245729 2.66464198 2.68752896]\n",
      "RandomizedSearchCV(cv=KFold(n_splits=4, random_state=42, shuffle=True),\n",
      "                   estimator=ElasticNet(), n_iter=20000, n_jobs=-1,\n",
      "                   param_distributions={'alpha': array([1.00000000e-06, 1.00138264e-06, 1.00276720e-06, ...,\n",
      "       9.97240436e-01, 9.98619265e-01, 1.00000000e+00]),\n",
      "                                        'l1_ratio': array([0.97723722, 0.97723745, 0.97723767, ..., 0.99999954, 0.99999977,\n",
      "       1.        ])},\n",
      "                   random_state=42, return_train_score=True,\n",
      "                   scoring=make_scorer(loss, greater_is_better=False),\n",
      "                   verbose=2)\n",
      "Fitting 4 folds for each of 20000 candidates, totalling 80000 fits\n"
     ]
    },
    {
     "data": {
      "text/plain": [
       "RandomizedSearchCV(cv=KFold(n_splits=4, random_state=42, shuffle=True),\n",
       "                   estimator=ElasticNet(), n_iter=20000, n_jobs=-1,\n",
       "                   param_distributions={'alpha': array([1.00000000e-06, 1.00138264e-06, 1.00276720e-06, ...,\n",
       "       9.97240436e-01, 9.98619265e-01, 1.00000000e+00]),\n",
       "                                        'l1_ratio': array([0.97723722, 0.97723745, 0.97723767, ..., 0.99999954, 0.99999977,\n",
       "       1.        ])},\n",
       "                   random_state=42, return_train_score=True,\n",
       "                   scoring=make_scorer(loss, greater_is_better=False),\n",
       "                   verbose=2)"
      ]
     },
     "execution_count": 224,
     "metadata": {},
     "output_type": "execute_result"
    }
   ],
   "source": [
    "# Create the random grid\n",
    "def loss(ground_truth, predictions):\n",
    "    diff = np.sqrt(np.mean((10**ground_truth - 10**predictions)**2))\n",
    "    return diff\n",
    "\n",
    "my_scorer = make_scorer(loss, greater_is_better=False)\n",
    "\n",
    "regressor = ElasticNet()\n",
    "param_grid = {\n",
    "    'alpha': np.logspace(-6, 0, 10000),  # Range of alpha values to explore\n",
    "    'l1_ratio': np.logspace(-0.01, 0, 100000)\n",
    "}\n",
    "print(y_train)\n",
    "folds = KFold(n_splits=4, shuffle=True, random_state=42)\n",
    "model = RandomizedSearchCV(\n",
    "    estimator=regressor,\n",
    "    n_iter=20000,\n",
    "    cv=folds,\n",
    "    param_distributions=param_grid,\n",
    "    scoring=my_scorer,\n",
    "    random_state=42,\n",
    "    verbose=2,\n",
    "    return_train_score=True,\n",
    "    n_jobs=-1\n",
    ")\n",
    "print(model)\n",
    "model.fit(x_train, (y_train))"
   ]
  },
  {
   "cell_type": "code",
   "execution_count": 225,
   "metadata": {
    "id": "5RwdV3X9QFiI"
   },
   "outputs": [],
   "source": [
    "regressor = ElasticNet(l1_ratio=model.best_params_[\"l1_ratio\"], alpha=model.best_params_['alpha'])"
   ]
  },
  {
   "cell_type": "code",
   "execution_count": 226,
   "metadata": {
    "colab": {
     "base_uri": "https://localhost:8080/",
     "height": 75
    },
    "id": "V15OluWAQJWP",
    "outputId": "41340982-6e4a-4d64-f9b0-06e4a9f97061"
   },
   "outputs": [
    {
     "data": {
      "text/plain": [
       "ElasticNet(alpha=9.554281212853748e-05, l1_ratio=0.999988256767545)"
      ]
     },
     "execution_count": 226,
     "metadata": {},
     "output_type": "execute_result"
    }
   ],
   "source": [
    "regressor.fit(x_train,y_train)"
   ]
  },
  {
   "cell_type": "code",
   "execution_count": 227,
   "metadata": {
    "colab": {
     "base_uri": "https://localhost:8080/"
    },
    "id": "Xdg5zh2ZQozP",
    "outputId": "97f8fd59-7b91-48e7-d0e9-d39167f8eb92"
   },
   "outputs": [
    {
     "name": "stdout",
     "output_type": "stream",
     "text": [
      "RMSE on Train Data:  95.06091830480328\n"
     ]
    }
   ],
   "source": [
    "print(\"RMSE on Train Data: \", np.sqrt(np.mean( (np.power(10,regressor.predict(x_train))-np.power(10,y_train))**2) ))"
   ]
  },
  {
   "cell_type": "code",
   "execution_count": 228,
   "metadata": {
    "colab": {
     "base_uri": "https://localhost:8080/"
    },
    "id": "cLULocVuQwhp",
    "outputId": "6040812a-8967-46a5-ad86-7346de2d269d"
   },
   "outputs": [
    {
     "name": "stdout",
     "output_type": "stream",
     "text": [
      "RMSE on Primary Test:  121.93710996333739\n"
     ]
    }
   ],
   "source": [
    "print(\"RMSE on Primary Test: \", np.sqrt(np.mean( (np.power(10,regressor.predict(x_test))-np.power(10,y_test))**2) ))\n",
    "# 1 is the best score"
   ]
  },
  {
   "cell_type": "code",
   "execution_count": 229,
   "metadata": {
    "colab": {
     "base_uri": "https://localhost:8080/"
    },
    "id": "iHjOobihTutN",
    "outputId": "323d3ba0-f342-4b08-a46b-2abed7865129"
   },
   "outputs": [
    {
     "name": "stdout",
     "output_type": "stream",
     "text": [
      "RMSE on Secondary Test:  255.47837233800485\n"
     ]
    }
   ],
   "source": [
    "print(\"RMSE on Secondary Test: \", np.sqrt(np.mean( (np.power(10,regressor.predict(x_stest))-np.power(10,y_stest))**2) ))\n",
    "# 1 is the best score"
   ]
  },
  {
   "cell_type": "code",
   "execution_count": 230,
   "metadata": {},
   "outputs": [
    {
     "name": "stdout",
     "output_type": "stream",
     "text": [
      "MPE on Train Data:  0.12638156961675356\n"
     ]
    }
   ],
   "source": [
    "print(\"MPE on Train Data: \",np.average(np.abs((10**regressor.predict(x_train)-10**y_train)/10**y_train)))"
   ]
  },
  {
   "cell_type": "code",
   "execution_count": 231,
   "metadata": {},
   "outputs": [
    {
     "name": "stdout",
     "output_type": "stream",
     "text": [
      "MPE on Primary Test:  0.16025788101593696\n"
     ]
    }
   ],
   "source": [
    "print(\"MPE on Primary Test: \",np.average(np.abs((10**regressor.predict(x_test)-10**y_test)/10**y_test)))"
   ]
  },
  {
   "cell_type": "code",
   "execution_count": 232,
   "metadata": {},
   "outputs": [
    {
     "data": {
      "text/plain": [
       "array([-137.86028139, -304.07139119, -266.42531046,   69.52888027,\n",
       "       -171.07239092,  -28.764638  ,   67.42161461, -117.45891491,\n",
       "        -76.2582312 , -128.15261072,    3.6924047 ,  -90.82901713,\n",
       "       -172.26465353,  -64.70127203,  -50.3610809 ,  -50.54981591,\n",
       "        -19.49738242,  -44.92059518,  -75.34581804,  -54.89839827,\n",
       "        -65.83234583,  121.89956743,  -39.29861899,   64.49695814,\n",
       "        -12.58752605,   -8.54646945,   64.10494708,   86.42717505,\n",
       "        159.02197262,   92.07355881,  353.51264519,  101.05510468,\n",
       "        175.50328452,  144.75748584,  104.31988963,  170.58873119,\n",
       "         36.58317423,   70.13860117,   62.25042845,  106.9724176 ,\n",
       "         33.29023851,   31.8158324 ,  -44.70807123])"
      ]
     },
     "execution_count": 232,
     "metadata": {},
     "output_type": "execute_result"
    }
   ],
   "source": [
    "10**regressor.predict(x_test) - 10**y_test"
   ]
  },
  {
   "cell_type": "code",
   "execution_count": 233,
   "metadata": {},
   "outputs": [
    {
     "name": "stdout",
     "output_type": "stream",
     "text": [
      "MPE on Secondary Test:  0.15612348724846492\n"
     ]
    }
   ],
   "source": [
    "print(\"MPE on Secondary Test: \",np.average(np.abs((10**regressor.predict(x_stest)-10**y_stest)/10**y_stest)))"
   ]
  },
  {
   "cell_type": "code",
   "execution_count": 27,
   "metadata": {
    "colab": {
     "base_uri": "https://localhost:8080/"
    },
    "id": "Ox4wXYjU1IBE",
    "outputId": "567173ec-d5ae-48b8-9a75-4f2298cf8a8c"
   },
   "outputs": [
    {
     "data": {
      "text/plain": [
       "array([-0.59697388, -5.58325526, -0.12161725,  0.05302606, -9.94423141,\n",
       "        6.57453647, -0.28911146,  3.50069761, -0.18423248, -5.68454454])"
      ]
     },
     "execution_count": 27,
     "metadata": {},
     "output_type": "execute_result"
    }
   ],
   "source": [
    "regressor.coef_"
   ]
  },
  {
   "cell_type": "markdown",
   "metadata": {
    "id": "TIij1wtS3zXf"
   },
   "source": []
  },
  {
   "cell_type": "markdown",
   "metadata": {
    "id": "GuyX3QFb31L4"
   },
   "source": [
    "## **Full Model**"
   ]
  },
  {
   "cell_type": "code",
   "execution_count": 294,
   "metadata": {
    "colab": {
     "base_uri": "https://localhost:8080/"
    },
    "id": "9IWoCEfs4JTI",
    "outputId": "419791ac-f147-42f5-86b6-79bba857a18b"
   },
   "outputs": [
    {
     "name": "stdout",
     "output_type": "stream",
     "text": [
      "[3.33445375 3.15654915 3.03100428 2.93951925 2.89652622 2.85672889\n",
      " 2.93298082 2.89652622 2.74741181 3.00732095 2.93951925 2.93449845\n",
      " 2.85064624 2.86391738 2.87040391 2.84757266 2.79028516 2.98497713\n",
      " 2.84633711 2.78958071 2.47712125 2.64147411 2.64738297 2.7084209\n",
      " 2.67851838 2.68394713 2.69372695 2.66370093 2.68930886 2.72181062\n",
      " 2.66370093 2.67024585 2.69722934 2.6919651  2.71600334 2.66558099\n",
      " 2.6794279  2.66181269 2.63245729 2.66464198 2.68752896]\n"
     ]
    }
   ],
   "source": [
    "# use indices [1:11] if only consdering variables from \"discharge model\"\n",
    "# use [1:] if considering variables from \"full model\"\n",
    "x_train = data[train_ind,1:]\n",
    "y_train = data[train_ind,0]\n",
    "y_train = np.log10(y_train) #tried with np.log10 as well\n",
    "\n",
    "x_test = data[test_ind,1:]\n",
    "y_test = data[test_ind,0]\n",
    "y_test = np.log10(y_test)\n",
    "\n",
    "x_stest = data[secondary_ind,1:]\n",
    "y_stest = data[secondary_ind,0]\n",
    "y_stest = np.log10(y_stest)\n",
    "print(y_train)"
   ]
  },
  {
   "cell_type": "code",
   "execution_count": 259,
   "metadata": {
    "colab": {
     "base_uri": "https://localhost:8080/",
     "height": 257
    },
    "id": "nffO_FWQ4Pym",
    "outputId": "a7814219-70c2-4ed7-caf7-c6abd0af5a04"
   },
   "outputs": [
    {
     "name": "stdout",
     "output_type": "stream",
     "text": [
      "[3.33445375 3.15654915 3.03100428 2.93951925 2.89652622 2.85672889\n",
      " 2.93298082 2.89652622 2.74741181 3.00732095 2.93951925 2.93449845\n",
      " 2.85064624 2.86391738 2.87040391 2.84757266 2.79028516 2.98497713\n",
      " 2.84633711 2.78958071 2.47712125 2.64147411 2.64738297 2.7084209\n",
      " 2.67851838 2.68394713 2.69372695 2.66370093 2.68930886 2.72181062\n",
      " 2.66370093 2.67024585 2.69722934 2.6919651  2.71600334 2.66558099\n",
      " 2.6794279  2.66181269 2.63245729 2.66464198 2.68752896]\n",
      "Fitting 4 folds for each of 20000 candidates, totalling 80000 fits\n"
     ]
    },
    {
     "data": {
      "text/plain": [
       "RandomizedSearchCV(cv=KFold(n_splits=4, random_state=42, shuffle=True),\n",
       "                   estimator=ElasticNet(), n_iter=20000, n_jobs=-1,\n",
       "                   param_distributions={'alpha': array([3.16227766e-04, 3.18789129e-04, 3.21371239e-04, 3.23974263e-04,\n",
       "       3.26598371e-04, 3.29243733e-04, 3.31910523e-04, 3.34598912e-04,\n",
       "       3.37309077e-04, 3.40041193e-04, 3.42795439e-04, 3.45571994e-04,\n",
       "       3.48371038e-04, 3.51...\n",
       "       9.15085053e-01, 9.22497005e-01, 9.29968993e-01, 9.37501502e-01,\n",
       "       9.45095022e-01, 9.52750047e-01, 9.60467077e-01, 9.68246612e-01,\n",
       "       9.76089159e-01, 9.83995230e-01, 9.91965337e-01, 1.00000000e+00]),\n",
       "                                        'l1_ratio': array([0.56234133, 0.5623737 , 0.56240608, ..., 0.99988487, 0.99994243,\n",
       "       1.        ])},\n",
       "                   random_state=42, return_train_score=True,\n",
       "                   scoring=make_scorer(loss, greater_is_better=False),\n",
       "                   verbose=2)"
      ]
     },
     "execution_count": 259,
     "metadata": {},
     "output_type": "execute_result"
    }
   ],
   "source": [
    "regressor = ElasticNet()\n",
    "param_grid = {\n",
    "    'alpha': np.logspace(-3.5, 0, 1000),  # Range of alpha values to explore\n",
    "    'l1_ratio': np.logspace(-0.25, 0, 10000)\n",
    "}\n",
    "print(y_train)\n",
    "folds = KFold(n_splits=4, shuffle=True, random_state=42)\n",
    "model = RandomizedSearchCV(\n",
    "    estimator=regressor,\n",
    "    n_iter=20000,\n",
    "    cv=folds,\n",
    "    param_distributions=param_grid,\n",
    "    scoring=my_scorer,\n",
    "    random_state=42,\n",
    "    verbose=2,\n",
    "    return_train_score=True,\n",
    "    n_jobs=-1\n",
    ")\n",
    "\n",
    "model.fit(x_train, y_train)"
   ]
  },
  {
   "cell_type": "code",
   "execution_count": 295,
   "metadata": {
    "id": "or-rAKOU4n4Q"
   },
   "outputs": [],
   "source": [
    "regressor = ElasticNet(l1_ratio=model.best_params_[\"l1_ratio\"], alpha=model.best_params_['alpha'])"
   ]
  },
  {
   "cell_type": "code",
   "execution_count": 296,
   "metadata": {
    "colab": {
     "base_uri": "https://localhost:8080/",
     "height": 75
    },
    "id": "-3BnkM9v4rjw",
    "outputId": "ee2757c6-371f-4207-e731-0486da8d4f44"
   },
   "outputs": [
    {
     "data": {
      "text/plain": [
       "ElasticNet(alpha=0.00031622776601683794, l1_ratio=0.5635404474953676)"
      ]
     },
     "execution_count": 296,
     "metadata": {},
     "output_type": "execute_result"
    }
   ],
   "source": [
    "regressor.fit(x_train,y_train)"
   ]
  },
  {
   "cell_type": "code",
   "execution_count": 297,
   "metadata": {
    "colab": {
     "base_uri": "https://localhost:8080/"
    },
    "id": "v22Dugs04trB",
    "outputId": "eda2fdc1-98f2-4d6c-eac4-fd22385dedaa"
   },
   "outputs": [
    {
     "name": "stdout",
     "output_type": "stream",
     "text": [
      "RMSE on Train Data:  100.42920318521466\n"
     ]
    }
   ],
   "source": [
    "print(\"RMSE on Train Data: \", np.sqrt(np.mean((np.power(10,regressor.predict(x_train))-np.power(10,y_train))**2) ))"
   ]
  },
  {
   "cell_type": "code",
   "execution_count": 298,
   "metadata": {
    "colab": {
     "base_uri": "https://localhost:8080/"
    },
    "id": "CyM1_dHp4vpA",
    "outputId": "8d4c222d-5a7e-4827-c6f7-c7f165cadc70"
   },
   "outputs": [
    {
     "name": "stdout",
     "output_type": "stream",
     "text": [
      "RMSE on Primary Test:  123.0712962400579\n"
     ]
    }
   ],
   "source": [
    "print(\"RMSE on Primary Test: \", np.sqrt(np.mean((np.power(10,regressor.predict(x_test))-np.power(10,y_test))**2) ))\n"
   ]
  },
  {
   "cell_type": "code",
   "execution_count": 299,
   "metadata": {
    "colab": {
     "base_uri": "https://localhost:8080/"
    },
    "id": "xBzncv5v4wqg",
    "outputId": "fa8959bc-739c-44aa-e52e-4de0fda595ea"
   },
   "outputs": [
    {
     "name": "stdout",
     "output_type": "stream",
     "text": [
      "RMSE on Secondary Test:  328.7998521851137\n"
     ]
    }
   ],
   "source": [
    "print(\"RMSE on Secondary Test: \", np.sqrt(np.mean((np.power(10,regressor.predict(x_stest))-np.power(10,y_stest))**2) ))"
   ]
  },
  {
   "cell_type": "code",
   "execution_count": 300,
   "metadata": {},
   "outputs": [
    {
     "name": "stdout",
     "output_type": "stream",
     "text": [
      "MPE on Train Data:  0.12792368067035403\n",
      "MPE on Primary Test:  0.14775039078071572\n",
      "MPE on Secondary Test:  0.21197033906142188\n"
     ]
    }
   ],
   "source": [
    "print(\"MPE on Train Data: \",np.average(np.abs((10**regressor.predict(x_train)-10**y_train)/10**y_train)))\n",
    "print(\"MPE on Primary Test: \",np.average(np.abs((10**regressor.predict(x_test)-10**y_test)/10**y_test)))\n",
    "print(\"MPE on Secondary Test: \",np.average(np.abs((10**regressor.predict(x_stest)-10**y_stest)/10**y_stest)))"
   ]
  },
  {
   "cell_type": "markdown",
   "metadata": {
    "id": "dzg43vG__Ibr"
   },
   "source": [
    "## **Variance Model**"
   ]
  },
  {
   "cell_type": "code",
   "execution_count": 301,
   "metadata": {
    "id": "qWew0ayw_H5L"
   },
   "outputs": [],
   "source": [
    "data = np.loadtxt('../Data/vardQ_.6f.csv',delimiter=',') # skip row for column names"
   ]
  },
  {
   "cell_type": "code",
   "execution_count": 302,
   "metadata": {},
   "outputs": [],
   "source": [
    "test_ind = np.array([ 0,  2,  4,  6,  8, 10, 12, 14, 16, 18, 20, 22, 24, 26, 28, 30, 32,\n",
    "       34, 36, 38, 40, 42, 44, 46, 48, 50, 52, 54, 56, 58, 60, 62, 64, 66,\n",
    "       68, 70, 72, 74, 76, 78, 80, 82, 83])\n",
    "\n",
    "train_ind = np.array([ 1,  3,  5,  7,  9, 11, 13, 15, 17, 19, 21, 23, 25, 27, 29, 31, 33,\n",
    "       35, 37, 39, 41, 43, 45, 47, 49, 51, 53, 55, 57, 59, 61, 63, 65, 67,\n",
    "       69, 71, 73, 75, 77, 79, 81])\n",
    "\n",
    "secondary_ind = np.array([ 84,  85,  86,  87,  88,  89,  90,  91,  92,  93,  94,  95,  96,\n",
    "        97,  98,  99, 100, 101, 102, 103, 104, 105, 106, 107, 108, 109,\n",
    "       110, 111, 112, 113, 114, 115, 116, 117, 118, 119, 120, 121, 122,\n",
    "       123])"
   ]
  },
  {
   "cell_type": "code",
   "execution_count": 303,
   "metadata": {},
   "outputs": [],
   "source": [
    "x_train = data[:, 0][train_ind]\n",
    "y_train = data[:, 1][train_ind]\n",
    "\n",
    "x_test = data[:, 0][test_ind]\n",
    "y_test = data[:, 1][test_ind]\n",
    "\n",
    "x_stest = data[:, 0][secondary_ind]\n",
    "y_stest = data[:, 1][secondary_ind]\n",
    "\n",
    "regressor = SVR()\n",
    "# regressor.fit(x_train.reshape(-1, 1),y_train)"
   ]
  },
  {
   "cell_type": "code",
   "execution_count": 283,
   "metadata": {},
   "outputs": [
    {
     "name": "stdout",
     "output_type": "stream",
     "text": [
      "[3.334454 3.156549 3.031004 2.939519 2.896526 2.856729 2.932981 2.896526\n",
      " 2.747412 3.007321 2.939519 2.934498 2.850646 2.863917 2.870404 2.847573\n",
      " 2.790285 2.984977 2.846337 2.789581 2.477121 2.641474 2.647383 2.708421\n",
      " 2.678518 2.683947 2.693727 2.663701 2.689309 2.721811 2.663701 2.670246\n",
      " 2.697229 2.691965 2.716003 2.665581 2.679428 2.661813 2.632457 2.664642\n",
      " 2.687529]\n",
      "Fitting 4 folds for each of 20000 candidates, totalling 80000 fits\n"
     ]
    },
    {
     "data": {
      "text/plain": [
       "RandomizedSearchCV(cv=KFold(n_splits=4, random_state=42, shuffle=True),\n",
       "                   estimator=ElasticNet(), n_iter=20000, n_jobs=-1,\n",
       "                   param_distributions={'alpha': array([1.00000000e-07, 1.01626509e-07, 1.03279473e-07, 1.04959323e-07,\n",
       "       1.06666496e-07, 1.08401436e-07, 1.10164595e-07, 1.11956432e-07,\n",
       "       1.13777413e-07, 1.15628013e-07, 1.17508713e-07, 1.19420003e-07,\n",
       "       1.21362380e-07, 1.23...\n",
       "       8.37380654e-01, 8.51000725e-01, 8.64842328e-01, 8.78909065e-01,\n",
       "       8.93204600e-01, 9.07732653e-01, 9.22497005e-01, 9.37501502e-01,\n",
       "       9.52750047e-01, 9.68246612e-01, 9.83995230e-01, 1.00000000e+00]),\n",
       "                                        'l1_ratio': array([1.00000000e-07, 1.00161327e-07, 1.00322914e-07, ...,\n",
       "       9.96781250e-01, 9.98389328e-01, 1.00000000e+00])},\n",
       "                   random_state=42, return_train_score=True,\n",
       "                   scoring=make_scorer(loss, greater_is_better=False),\n",
       "                   verbose=2)"
      ]
     },
     "execution_count": 283,
     "metadata": {},
     "output_type": "execute_result"
    }
   ],
   "source": [
    "regressor = ElasticNet()\n",
    "param_grid = {\n",
    "    'alpha': np.logspace(-7, 0, 1000),  # Range of alpha values to explore\n",
    "    'l1_ratio': np.logspace(-7, 0, 10000)\n",
    "}\n",
    "print(y_train)\n",
    "folds = KFold(n_splits=4, shuffle=True, random_state=42)\n",
    "model = RandomizedSearchCV(\n",
    "    estimator=regressor,\n",
    "    n_iter=20000,\n",
    "    cv=folds,\n",
    "    param_distributions=param_grid,\n",
    "    scoring=my_scorer,\n",
    "    random_state=42,\n",
    "    verbose=2,\n",
    "    return_train_score=True,\n",
    "    n_jobs=-1\n",
    ")\n",
    "\n",
    "model.fit(x_train.reshape(-1, 1), y_train)"
   ]
  },
  {
   "cell_type": "code",
   "execution_count": 284,
   "metadata": {},
   "outputs": [
    {
     "data": {
      "text/plain": [
       "[<matplotlib.lines.Line2D at 0x7fdde10889d0>]"
      ]
     },
     "execution_count": 284,
     "metadata": {},
     "output_type": "execute_result"
    },
    {
     "data": {
      "image/png": "[encoded data removed]",
      "text/plain": [
       "<Figure size 432x288 with 1 Axes>"
      ]
     },
     "metadata": {
      "needs_background": "light"
     },
     "output_type": "display_data"
    }
   ],
   "source": [
    "plt.scatter(x_train,y_train)\n",
    "plt.plot(x_train, model.predict(x_train.reshape(-1,1)))"
   ]
  },
  {
   "cell_type": "code",
   "execution_count": 285,
   "metadata": {},
   "outputs": [
    {
     "name": "stdout",
     "output_type": "stream",
     "text": [
      "Best RMS score:  -122.72639035379655\n",
      "Best hyperparameters:  {'l1_ratio': 1.0614574517283599e-07, 'alpha': 1e-07}\n"
     ]
    }
   ],
   "source": [
    "print(\"Best RMS score: \", model.best_score_)\n",
    "print(\"Best hyperparameters: \", model.best_params_)"
   ]
  },
  {
   "cell_type": "code",
   "execution_count": 304,
   "metadata": {},
   "outputs": [
    {
     "data": {
      "text/plain": [
       "ElasticNet(alpha=1e-07, l1_ratio=1.0614574517283599e-07)"
      ]
     },
     "execution_count": 304,
     "metadata": {},
     "output_type": "execute_result"
    }
   ],
   "source": [
    "regressor = ElasticNet(l1_ratio=model.best_params_[\"l1_ratio\"], alpha=model.best_params_['alpha'])\n",
    "regressor.fit(x_train.reshape(-1,1),y_train)"
   ]
  },
  {
   "cell_type": "code",
   "execution_count": 305,
   "metadata": {},
   "outputs": [
    {
     "name": "stdout",
     "output_type": "stream",
     "text": [
      "RMSE on Train Data:  116.53949370982102\n"
     ]
    }
   ],
   "source": [
    "print(\"RMSE on Train Data: \", np.sqrt(np.mean((np.power(10,regressor.predict(x_train.reshape(-1,1)))-\n",
    "                                               np.power(10,y_train))**2) ))"
   ]
  },
  {
   "cell_type": "code",
   "execution_count": 306,
   "metadata": {},
   "outputs": [
    {
     "name": "stdout",
     "output_type": "stream",
     "text": [
      "RMSE on Primary Test:  137.59110258821548\n"
     ]
    }
   ],
   "source": [
    "print(\"RMSE on Primary Test: \", np.sqrt(np.mean((np.power(10,regressor.predict(x_test.reshape(-1,1)))-np.power(10,y_test))**2) ))"
   ]
  },
  {
   "cell_type": "code",
   "execution_count": 307,
   "metadata": {},
   "outputs": [
    {
     "name": "stdout",
     "output_type": "stream",
     "text": [
      "RMSE on Secondary Test:  212.66469540987137\n"
     ]
    }
   ],
   "source": [
    "print(\"RMSE on Secondary Test: \", np.sqrt(np.mean((np.power(10,regressor.predict(x_stest.reshape(-1,1)))-np.power(10,y_stest))**2) ))"
   ]
  },
  {
   "cell_type": "code",
   "execution_count": 309,
   "metadata": {},
   "outputs": [
    {
     "name": "stdout",
     "output_type": "stream",
     "text": [
      "MPE on Train Data:  0.15783086062145\n",
      "MPE on Primary Test:  0.1662940377224816\n",
      "MPE on Secondary Test:  0.12478569537147885\n"
     ]
    }
   ],
   "source": [
    "print(\"MPE on Train Data: \",np.average(np.abs((10**regressor.predict(x_train.reshape(-1,1))-10**y_train)/10**y_train)))\n",
    "print(\"MPE on Primary Test: \",np.average(np.abs((10**regressor.predict(x_test.reshape(-1,1))-10**y_test)/10**y_test)))\n",
    "print(\"MPE on Secondary Test: \",np.average(np.abs((10**regressor.predict(x_stest.reshape(-1,1))-10**y_stest)/10**y_stest)))"
   ]
  },
  {
   "cell_type": "code",
   "execution_count": null,
   "metadata": {},
   "outputs": [],
   "source": []
  }
 ],
 "metadata": {
  "colab": {
   "provenance": []
  },
  "kernelspec": {
   "display_name": "Python 3",
   "language": "python",
   "name": "python3"
  },
  "language_info": {
   "codemirror_mode": {
    "name": "ipython",
    "version": 3
   },
   "file_extension": ".py",
   "mimetype": "text/x-python",
   "name": "python",
   "nbconvert_exporter": "python",
   "pygments_lexer": "ipython3",
   "version": "3.8.8"
  }
 },
 "nbformat": 4,
 "nbformat_minor": 1
}
