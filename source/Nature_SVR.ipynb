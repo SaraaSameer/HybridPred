{
  "cells": [
    {
      "cell_type": "code",
      "execution_count": 1,
      "id": "75d7b175",
      "metadata": {
        "id": "75d7b175"
      },
      "outputs": [],
      "source": [
        "from sklearn.svm import SVR\n",
        "from sklearn.svm import LinearSVR\n",
        "import numpy as np\n",
        "import matplotlib.pyplot as plt\n",
        "from sklearn.model_selection import *\n",
        "from sklearn import preprocessing\n",
        "from sklearn.metrics import make_scorer\n"
      ]
    },
    {
      "cell_type": "markdown",
      "source": [
        "### **Variance Model**"
      ],
      "metadata": {
        "id": "pRkbjy6Pd6kf"
      },
      "id": "pRkbjy6Pd6kf"
    },
    {
      "cell_type": "code",
      "execution_count": 25,
      "id": "3681a99d",
      "metadata": {
        "id": "3681a99d"
      },
      "outputs": [],
      "source": [
        "data = np.loadtxt('/content/vardQ_.6f.csv',delimiter=',',skiprows=1) # skip row for column names"
      ]
    },
    {
      "cell_type": "code",
      "source": [
        "test_ind = np.array([ 0,  2,  4,  6,  8, 10, 12, 14, 16, 18, 20, 22, 24, 26, 28, 30, 32,\n",
        "       34, 36, 38, 40, 42, 44, 46, 48, 50, 52, 54, 56, 58, 60, 62, 64, 66,\n",
        "       68, 70, 72, 74, 76, 78, 80, 82, 83])\n",
        "\n",
        "train_ind = np.array([ 1,  3,  5,  7,  9, 11, 13, 15, 17, 19, 21, 23, 25, 27, 29, 31, 33,\n",
        "       35, 37, 39, 41, 43, 45, 47, 49, 51, 53, 55, 57, 59, 61, 63, 65, 67,\n",
        "       69, 71, 73, 75, 77, 79, 81])\n",
        "\n",
        "secondary_ind = np.array([ 84,  85,  86,  87,  88,  89,  90,  91,  92,  93,  94,  95,  96,\n",
        "        97,  98,  99, 100, 101, 102, 103, 104, 105, 106, 107, 108, 109,\n",
        "       110, 111, 112, 113, 114, 115, 116, 117, 118, 119, 120, 121, 122])"
      ],
      "metadata": {
        "id": "GhVdTKNxMVpb"
      },
      "id": "GhVdTKNxMVpb",
      "execution_count": 28,
      "outputs": []
    },
    {
      "cell_type": "code",
      "source": [
        "x_train = data[:, 0][train_ind]\n",
        "y_train = data[:, 1][train_ind]\n",
        "\n",
        "x_test = data[:, 0][test_ind]\n",
        "y_test = data[:, 1][test_ind]\n",
        "\n",
        "x_stest = data[:, 0][secondary_ind]\n",
        "y_stest = data[:, 1][secondary_ind]\n",
        "\n",
        "regressor = SVR()"
      ],
      "metadata": {
        "id": "qfMSqFNMMYQK"
      },
      "id": "qfMSqFNMMYQK",
      "execution_count": 31,
      "outputs": []
    },
    {
      "cell_type": "code",
      "source": [
        "# Create the random grid\n",
        "# Create the random grid\n",
        "def loss(ground_truth, predictions):\n",
        "    diff = np.sqrt(np.mean((10**ground_truth - 10**predictions)**2))\n",
        "    return diff\n",
        "\n",
        "my_scorer = make_scorer(loss, greater_is_better=False)\n",
        "\n",
        "param_grid = {'C': np.logspace(-5, 1, base=10, num=1000),\n",
        "              'kernel': ['rbf', 'sigmoid'],\n",
        "              'gamma': np.logspace(-5, 0, base=10, num=50),  #changed from -5,1\n",
        "              'epsilon': np.logspace(-5, 1, base=10, num=50)} #changed from #-5,1\n",
        "print(y_train)\n",
        "folds = KFold(n_splits = 4, shuffle = True, random_state = 42)\n",
        "model= RandomizedSearchCV(estimator= regressor, n_iter = 10000, cv=folds, param_distributions = param_grid ,scoring=my_scorer, random_state=42,verbose=2, return_train_score=True, n_jobs = -1)\n",
        "print(model)\n",
        "model.fit(x_train.reshape(-1, 1),y_train)"
      ],
      "metadata": {
        "colab": {
          "base_uri": "https://localhost:8080/",
          "height": 534
        },
        "id": "3k1W72IPNN9k",
        "outputId": "db752974-930a-4601-84d5-dd4d12e7968c"
      },
      "id": "3k1W72IPNN9k",
      "execution_count": 57,
      "outputs": [
        {
          "output_type": "stream",
          "name": "stdout",
          "text": [
            "[3.349666 3.232742 2.803457 3.022841 2.944483 2.935507 2.839478 2.727541\n",
            " 3.006038 2.931458 2.925312 2.962369 2.942504 2.879096 2.846955 2.811575\n",
            " 2.79588  3.021603 2.813581 2.777427 2.170262 2.525045 2.681241 2.748963\n",
            " 2.660865 2.685742 2.687529 2.700704 2.710117 2.694605 2.673021 2.706718\n",
            " 2.682145 2.715167 2.698101 2.728354 2.667453 2.698101 2.668386 2.659916\n",
            " 2.632457]\n",
            "RandomizedSearchCV(cv=KFold(n_splits=4, random_state=42, shuffle=True),\n",
            "                   estimator=SVR(C=1.9023011886689458,\n",
            "                                 epsilon=4.094915062380427e-05,\n",
            "                                 gamma=0.3727593720314938),\n",
            "                   n_iter=10000, n_jobs=-1,\n",
            "                   param_distributions={'C': array([1.00000000e-05, 1.01392541e-05, 1.02804473e-05, 1.04236067e-05,\n",
            "       1.05687597e-05, 1.07159340e-05, 1.08651577e-05, 1.10164595e-05,\n",
            "       1.11698682e-05,...\n",
            "       1.84206997e-02, 2.32995181e-02, 2.94705170e-02, 3.72759372e-02,\n",
            "       4.71486636e-02, 5.96362332e-02, 7.54312006e-02, 9.54095476e-02,\n",
            "       1.20679264e-01, 1.52641797e-01, 1.93069773e-01, 2.44205309e-01,\n",
            "       3.08884360e-01, 3.90693994e-01, 4.94171336e-01, 6.25055193e-01,\n",
            "       7.90604321e-01, 1.00000000e+00]),\n",
            "                                        'kernel': ['rbf', 'sigmoid']},\n",
            "                   random_state=42, return_train_score=True,\n",
            "                   scoring=make_scorer(loss, greater_is_better=False),\n",
            "                   verbose=2)\n",
            "Fitting 4 folds for each of 10000 candidates, totalling 40000 fits\n"
          ]
        },
        {
          "output_type": "execute_result",
          "data": {
            "text/plain": [
              "RandomizedSearchCV(cv=KFold(n_splits=4, random_state=42, shuffle=True),\n",
              "                   estimator=SVR(C=1.9023011886689458,\n",
              "                                 epsilon=4.094915062380427e-05,\n",
              "                                 gamma=0.3727593720314938),\n",
              "                   n_iter=10000, n_jobs=-1,\n",
              "                   param_distributions={'C': array([1.00000000e-05, 1.01392541e-05, 1.02804473e-05, 1.04236067e-05,\n",
              "       1.05687597e-05, 1.07159340e-05, 1.08651577e-05, 1.10164595e-05,\n",
              "       1.11698682e-05,...\n",
              "       1.84206997e-02, 2.32995181e-02, 2.94705170e-02, 3.72759372e-02,\n",
              "       4.71486636e-02, 5.96362332e-02, 7.54312006e-02, 9.54095476e-02,\n",
              "       1.20679264e-01, 1.52641797e-01, 1.93069773e-01, 2.44205309e-01,\n",
              "       3.08884360e-01, 3.90693994e-01, 4.94171336e-01, 6.25055193e-01,\n",
              "       7.90604321e-01, 1.00000000e+00]),\n",
              "                                        'kernel': ['rbf', 'sigmoid']},\n",
              "                   random_state=42, return_train_score=True,\n",
              "                   scoring=make_scorer(loss, greater_is_better=False),\n",
              "                   verbose=2)"
            ],
            "text/html": [
              "<style>#sk-container-id-10 {color: black;background-color: white;}#sk-container-id-10 pre{padding: 0;}#sk-container-id-10 div.sk-toggleable {background-color: white;}#sk-container-id-10 label.sk-toggleable__label {cursor: pointer;display: block;width: 100%;margin-bottom: 0;padding: 0.3em;box-sizing: border-box;text-align: center;}#sk-container-id-10 label.sk-toggleable__label-arrow:before {content: \"▸\";float: left;margin-right: 0.25em;color: #696969;}#sk-container-id-10 label.sk-toggleable__label-arrow:hover:before {color: black;}#sk-container-id-10 div.sk-estimator:hover label.sk-toggleable__label-arrow:before {color: black;}#sk-container-id-10 div.sk-toggleable__content {max-height: 0;max-width: 0;overflow: hidden;text-align: left;background-color: #f0f8ff;}#sk-container-id-10 div.sk-toggleable__content pre {margin: 0.2em;color: black;border-radius: 0.25em;background-color: #f0f8ff;}#sk-container-id-10 input.sk-toggleable__control:checked~div.sk-toggleable__content {max-height: 200px;max-width: 100%;overflow: auto;}#sk-container-id-10 input.sk-toggleable__control:checked~label.sk-toggleable__label-arrow:before {content: \"▾\";}#sk-container-id-10 div.sk-estimator input.sk-toggleable__control:checked~label.sk-toggleable__label {background-color: #d4ebff;}#sk-container-id-10 div.sk-label input.sk-toggleable__control:checked~label.sk-toggleable__label {background-color: #d4ebff;}#sk-container-id-10 input.sk-hidden--visually {border: 0;clip: rect(1px 1px 1px 1px);clip: rect(1px, 1px, 1px, 1px);height: 1px;margin: -1px;overflow: hidden;padding: 0;position: absolute;width: 1px;}#sk-container-id-10 div.sk-estimator {font-family: monospace;background-color: #f0f8ff;border: 1px dotted black;border-radius: 0.25em;box-sizing: border-box;margin-bottom: 0.5em;}#sk-container-id-10 div.sk-estimator:hover {background-color: #d4ebff;}#sk-container-id-10 div.sk-parallel-item::after {content: \"\";width: 100%;border-bottom: 1px solid gray;flex-grow: 1;}#sk-container-id-10 div.sk-label:hover label.sk-toggleable__label {background-color: #d4ebff;}#sk-container-id-10 div.sk-serial::before {content: \"\";position: absolute;border-left: 1px solid gray;box-sizing: border-box;top: 0;bottom: 0;left: 50%;z-index: 0;}#sk-container-id-10 div.sk-serial {display: flex;flex-direction: column;align-items: center;background-color: white;padding-right: 0.2em;padding-left: 0.2em;position: relative;}#sk-container-id-10 div.sk-item {position: relative;z-index: 1;}#sk-container-id-10 div.sk-parallel {display: flex;align-items: stretch;justify-content: center;background-color: white;position: relative;}#sk-container-id-10 div.sk-item::before, #sk-container-id-10 div.sk-parallel-item::before {content: \"\";position: absolute;border-left: 1px solid gray;box-sizing: border-box;top: 0;bottom: 0;left: 50%;z-index: -1;}#sk-container-id-10 div.sk-parallel-item {display: flex;flex-direction: column;z-index: 1;position: relative;background-color: white;}#sk-container-id-10 div.sk-parallel-item:first-child::after {align-self: flex-end;width: 50%;}#sk-container-id-10 div.sk-parallel-item:last-child::after {align-self: flex-start;width: 50%;}#sk-container-id-10 div.sk-parallel-item:only-child::after {width: 0;}#sk-container-id-10 div.sk-dashed-wrapped {border: 1px dashed gray;margin: 0 0.4em 0.5em 0.4em;box-sizing: border-box;padding-bottom: 0.4em;background-color: white;}#sk-container-id-10 div.sk-label label {font-family: monospace;font-weight: bold;display: inline-block;line-height: 1.2em;}#sk-container-id-10 div.sk-label-container {text-align: center;}#sk-container-id-10 div.sk-container {/* jupyter's `normalize.less` sets `[hidden] { display: none; }` but bootstrap.min.css set `[hidden] { display: none !important; }` so we also need the `!important` here to be able to override the default hidden behavior on the sphinx rendered scikit-learn.org. See: https://github.com/scikit-learn/scikit-learn/issues/21755 */display: inline-block !important;position: relative;}#sk-container-id-10 div.sk-text-repr-fallback {display: none;}</style><div id=\"sk-container-id-10\" class=\"sk-top-container\"><div class=\"sk-text-repr-fallback\"><pre>RandomizedSearchCV(cv=KFold(n_splits=4, random_state=42, shuffle=True),\n",
              "                   estimator=SVR(C=1.9023011886689458,\n",
              "                                 epsilon=4.094915062380427e-05,\n",
              "                                 gamma=0.3727593720314938),\n",
              "                   n_iter=10000, n_jobs=-1,\n",
              "                   param_distributions={&#x27;C&#x27;: array([1.00000000e-05, 1.01392541e-05, 1.02804473e-05, 1.04236067e-05,\n",
              "       1.05687597e-05, 1.07159340e-05, 1.08651577e-05, 1.10164595e-05,\n",
              "       1.11698682e-05,...\n",
              "       1.84206997e-02, 2.32995181e-02, 2.94705170e-02, 3.72759372e-02,\n",
              "       4.71486636e-02, 5.96362332e-02, 7.54312006e-02, 9.54095476e-02,\n",
              "       1.20679264e-01, 1.52641797e-01, 1.93069773e-01, 2.44205309e-01,\n",
              "       3.08884360e-01, 3.90693994e-01, 4.94171336e-01, 6.25055193e-01,\n",
              "       7.90604321e-01, 1.00000000e+00]),\n",
              "                                        &#x27;kernel&#x27;: [&#x27;rbf&#x27;, &#x27;sigmoid&#x27;]},\n",
              "                   random_state=42, return_train_score=True,\n",
              "                   scoring=make_scorer(loss, greater_is_better=False),\n",
              "                   verbose=2)</pre><b>In a Jupyter environment, please rerun this cell to show the HTML representation or trust the notebook. <br />On GitHub, the HTML representation is unable to render, please try loading this page with nbviewer.org.</b></div><div class=\"sk-container\" hidden><div class=\"sk-item sk-dashed-wrapped\"><div class=\"sk-label-container\"><div class=\"sk-label sk-toggleable\"><input class=\"sk-toggleable__control sk-hidden--visually\" id=\"sk-estimator-id-20\" type=\"checkbox\" ><label for=\"sk-estimator-id-20\" class=\"sk-toggleable__label sk-toggleable__label-arrow\">RandomizedSearchCV</label><div class=\"sk-toggleable__content\"><pre>RandomizedSearchCV(cv=KFold(n_splits=4, random_state=42, shuffle=True),\n",
              "                   estimator=SVR(C=1.9023011886689458,\n",
              "                                 epsilon=4.094915062380427e-05,\n",
              "                                 gamma=0.3727593720314938),\n",
              "                   n_iter=10000, n_jobs=-1,\n",
              "                   param_distributions={&#x27;C&#x27;: array([1.00000000e-05, 1.01392541e-05, 1.02804473e-05, 1.04236067e-05,\n",
              "       1.05687597e-05, 1.07159340e-05, 1.08651577e-05, 1.10164595e-05,\n",
              "       1.11698682e-05,...\n",
              "       1.84206997e-02, 2.32995181e-02, 2.94705170e-02, 3.72759372e-02,\n",
              "       4.71486636e-02, 5.96362332e-02, 7.54312006e-02, 9.54095476e-02,\n",
              "       1.20679264e-01, 1.52641797e-01, 1.93069773e-01, 2.44205309e-01,\n",
              "       3.08884360e-01, 3.90693994e-01, 4.94171336e-01, 6.25055193e-01,\n",
              "       7.90604321e-01, 1.00000000e+00]),\n",
              "                                        &#x27;kernel&#x27;: [&#x27;rbf&#x27;, &#x27;sigmoid&#x27;]},\n",
              "                   random_state=42, return_train_score=True,\n",
              "                   scoring=make_scorer(loss, greater_is_better=False),\n",
              "                   verbose=2)</pre></div></div></div><div class=\"sk-parallel\"><div class=\"sk-parallel-item\"><div class=\"sk-item\"><div class=\"sk-label-container\"><div class=\"sk-label sk-toggleable\"><input class=\"sk-toggleable__control sk-hidden--visually\" id=\"sk-estimator-id-21\" type=\"checkbox\" ><label for=\"sk-estimator-id-21\" class=\"sk-toggleable__label sk-toggleable__label-arrow\">estimator: SVR</label><div class=\"sk-toggleable__content\"><pre>SVR(C=1.9023011886689458, epsilon=4.094915062380427e-05,\n",
              "    gamma=0.3727593720314938)</pre></div></div></div><div class=\"sk-serial\"><div class=\"sk-item\"><div class=\"sk-estimator sk-toggleable\"><input class=\"sk-toggleable__control sk-hidden--visually\" id=\"sk-estimator-id-22\" type=\"checkbox\" ><label for=\"sk-estimator-id-22\" class=\"sk-toggleable__label sk-toggleable__label-arrow\">SVR</label><div class=\"sk-toggleable__content\"><pre>SVR(C=1.9023011886689458, epsilon=4.094915062380427e-05,\n",
              "    gamma=0.3727593720314938)</pre></div></div></div></div></div></div></div></div></div></div>"
            ]
          },
          "metadata": {},
          "execution_count": 57
        }
      ]
    },
    {
      "cell_type": "code",
      "source": [
        "plt.scatter(x_train,y_train)\n",
        "plt.plot(x_train, model.predict(x_train.reshape(-1,1)))"
      ],
      "metadata": {
        "colab": {
          "base_uri": "https://localhost:8080/",
          "height": 450
        },
        "id": "poKYD3XePQWP",
        "outputId": "49d7522f-ff2f-4f1f-afe7-b5f048f977c6"
      },
      "id": "poKYD3XePQWP",
      "execution_count": 42,
      "outputs": [
        {
          "output_type": "execute_result",
          "data": {
            "text/plain": [
              "[<matplotlib.lines.Line2D at 0x7f7e38134340>]"
            ]
          },
          "metadata": {},
          "execution_count": 42
        },
        {
          "output_type": "display_data",
          "data": {
            "text/plain": [
              "<Figure size 640x480 with 1 Axes>"
            ],
            "image/png": "[encoded data removed]"
          },
          "metadata": {}
        }
      ]
    },
    {
      "cell_type": "code",
      "source": [
        "print(\"Best RMS score: \", model.best_score_)\n",
        "print(\"Best hyperparameters: \", model.best_params_)"
      ],
      "metadata": {
        "colab": {
          "base_uri": "https://localhost:8080/"
        },
        "id": "u-SuQqjbNiOu",
        "outputId": "2d5bc484-03ed-49d9-d24a-3a34f452958e"
      },
      "id": "u-SuQqjbNiOu",
      "execution_count": 58,
      "outputs": [
        {
          "output_type": "stream",
          "name": "stdout",
          "text": [
            "Best RMS score:  -107.44589284946795\n",
            "Best hyperparameters:  {'kernel': 'rbf', 'gamma': 0.09540954763499944, 'epsilon': 0.020235896477251575, 'C': 6.162966255132942}\n"
          ]
        }
      ]
    },
    {
      "cell_type": "code",
      "source": [
        "regressor = SVR(kernel=model.best_params_['kernel'],epsilon=model.best_params_['epsilon'], gamma = model.best_params_['gamma'], C=model.best_params_['C'])\n",
        "regressor.fit(x_train.reshape(-1,1),y_train)"
      ],
      "metadata": {
        "colab": {
          "base_uri": "https://localhost:8080/",
          "height": 92
        },
        "id": "xm3WfbWbPVm-",
        "outputId": "0f96e95d-099f-464e-a4bf-62dd92d72f16"
      },
      "id": "xm3WfbWbPVm-",
      "execution_count": 59,
      "outputs": [
        {
          "output_type": "execute_result",
          "data": {
            "text/plain": [
              "SVR(C=6.162966255132942, epsilon=0.020235896477251575,\n",
              "    gamma=0.09540954763499944)"
            ],
            "text/html": [
              "<style>#sk-container-id-11 {color: black;background-color: white;}#sk-container-id-11 pre{padding: 0;}#sk-container-id-11 div.sk-toggleable {background-color: white;}#sk-container-id-11 label.sk-toggleable__label {cursor: pointer;display: block;width: 100%;margin-bottom: 0;padding: 0.3em;box-sizing: border-box;text-align: center;}#sk-container-id-11 label.sk-toggleable__label-arrow:before {content: \"▸\";float: left;margin-right: 0.25em;color: #696969;}#sk-container-id-11 label.sk-toggleable__label-arrow:hover:before {color: black;}#sk-container-id-11 div.sk-estimator:hover label.sk-toggleable__label-arrow:before {color: black;}#sk-container-id-11 div.sk-toggleable__content {max-height: 0;max-width: 0;overflow: hidden;text-align: left;background-color: #f0f8ff;}#sk-container-id-11 div.sk-toggleable__content pre {margin: 0.2em;color: black;border-radius: 0.25em;background-color: #f0f8ff;}#sk-container-id-11 input.sk-toggleable__control:checked~div.sk-toggleable__content {max-height: 200px;max-width: 100%;overflow: auto;}#sk-container-id-11 input.sk-toggleable__control:checked~label.sk-toggleable__label-arrow:before {content: \"▾\";}#sk-container-id-11 div.sk-estimator input.sk-toggleable__control:checked~label.sk-toggleable__label {background-color: #d4ebff;}#sk-container-id-11 div.sk-label input.sk-toggleable__control:checked~label.sk-toggleable__label {background-color: #d4ebff;}#sk-container-id-11 input.sk-hidden--visually {border: 0;clip: rect(1px 1px 1px 1px);clip: rect(1px, 1px, 1px, 1px);height: 1px;margin: -1px;overflow: hidden;padding: 0;position: absolute;width: 1px;}#sk-container-id-11 div.sk-estimator {font-family: monospace;background-color: #f0f8ff;border: 1px dotted black;border-radius: 0.25em;box-sizing: border-box;margin-bottom: 0.5em;}#sk-container-id-11 div.sk-estimator:hover {background-color: #d4ebff;}#sk-container-id-11 div.sk-parallel-item::after {content: \"\";width: 100%;border-bottom: 1px solid gray;flex-grow: 1;}#sk-container-id-11 div.sk-label:hover label.sk-toggleable__label {background-color: #d4ebff;}#sk-container-id-11 div.sk-serial::before {content: \"\";position: absolute;border-left: 1px solid gray;box-sizing: border-box;top: 0;bottom: 0;left: 50%;z-index: 0;}#sk-container-id-11 div.sk-serial {display: flex;flex-direction: column;align-items: center;background-color: white;padding-right: 0.2em;padding-left: 0.2em;position: relative;}#sk-container-id-11 div.sk-item {position: relative;z-index: 1;}#sk-container-id-11 div.sk-parallel {display: flex;align-items: stretch;justify-content: center;background-color: white;position: relative;}#sk-container-id-11 div.sk-item::before, #sk-container-id-11 div.sk-parallel-item::before {content: \"\";position: absolute;border-left: 1px solid gray;box-sizing: border-box;top: 0;bottom: 0;left: 50%;z-index: -1;}#sk-container-id-11 div.sk-parallel-item {display: flex;flex-direction: column;z-index: 1;position: relative;background-color: white;}#sk-container-id-11 div.sk-parallel-item:first-child::after {align-self: flex-end;width: 50%;}#sk-container-id-11 div.sk-parallel-item:last-child::after {align-self: flex-start;width: 50%;}#sk-container-id-11 div.sk-parallel-item:only-child::after {width: 0;}#sk-container-id-11 div.sk-dashed-wrapped {border: 1px dashed gray;margin: 0 0.4em 0.5em 0.4em;box-sizing: border-box;padding-bottom: 0.4em;background-color: white;}#sk-container-id-11 div.sk-label label {font-family: monospace;font-weight: bold;display: inline-block;line-height: 1.2em;}#sk-container-id-11 div.sk-label-container {text-align: center;}#sk-container-id-11 div.sk-container {/* jupyter's `normalize.less` sets `[hidden] { display: none; }` but bootstrap.min.css set `[hidden] { display: none !important; }` so we also need the `!important` here to be able to override the default hidden behavior on the sphinx rendered scikit-learn.org. See: https://github.com/scikit-learn/scikit-learn/issues/21755 */display: inline-block !important;position: relative;}#sk-container-id-11 div.sk-text-repr-fallback {display: none;}</style><div id=\"sk-container-id-11\" class=\"sk-top-container\"><div class=\"sk-text-repr-fallback\"><pre>SVR(C=6.162966255132942, epsilon=0.020235896477251575,\n",
              "    gamma=0.09540954763499944)</pre><b>In a Jupyter environment, please rerun this cell to show the HTML representation or trust the notebook. <br />On GitHub, the HTML representation is unable to render, please try loading this page with nbviewer.org.</b></div><div class=\"sk-container\" hidden><div class=\"sk-item\"><div class=\"sk-estimator sk-toggleable\"><input class=\"sk-toggleable__control sk-hidden--visually\" id=\"sk-estimator-id-23\" type=\"checkbox\" checked><label for=\"sk-estimator-id-23\" class=\"sk-toggleable__label sk-toggleable__label-arrow\">SVR</label><div class=\"sk-toggleable__content\"><pre>SVR(C=6.162966255132942, epsilon=0.020235896477251575,\n",
              "    gamma=0.09540954763499944)</pre></div></div></div></div></div>"
            ]
          },
          "metadata": {},
          "execution_count": 59
        }
      ]
    },
    {
      "cell_type": "code",
      "source": [
        "print(\"RMSE on Train Data: \", np.sqrt(np.mean((np.power(10,regressor.predict(x_train.reshape(-1,1)))-\n",
        "                                               np.power(10,y_train))**2) ))"
      ],
      "metadata": {
        "colab": {
          "base_uri": "https://localhost:8080/"
        },
        "id": "6erZSyzbR8mf",
        "outputId": "bbc64eeb-0c21-44c5-d495-bcab26c85be9"
      },
      "id": "6erZSyzbR8mf",
      "execution_count": 60,
      "outputs": [
        {
          "output_type": "stream",
          "name": "stdout",
          "text": [
            "RMSE on Train Data:  106.14744085834597\n"
          ]
        }
      ]
    },
    {
      "cell_type": "code",
      "source": [
        "print(\"RMSE on Primary Test: \", np.sqrt(np.mean((np.power(10,regressor.predict(x_test.reshape(-1,1)))-np.power(10,y_test))**2) ))"
      ],
      "metadata": {
        "colab": {
          "base_uri": "https://localhost:8080/"
        },
        "id": "S6hyYoQ7R_db",
        "outputId": "78a082a6-482a-4cc9-cb7e-cbcfe7c4993a"
      },
      "id": "S6hyYoQ7R_db",
      "execution_count": 61,
      "outputs": [
        {
          "output_type": "stream",
          "name": "stdout",
          "text": [
            "RMSE on Primary Test:  135.80478350682196\n"
          ]
        }
      ]
    },
    {
      "cell_type": "code",
      "source": [
        "print(\"RMSE on Secondary Test: \", np.sqrt(np.mean((np.power(10,regressor.predict(x_stest.reshape(-1,1)))-np.power(10,y_stest))**2)))"
      ],
      "metadata": {
        "colab": {
          "base_uri": "https://localhost:8080/"
        },
        "id": "pDNrHQtqSJ1z",
        "outputId": "2577ecbc-3d0f-4d62-fed2-570582c051eb"
      },
      "id": "pDNrHQtqSJ1z",
      "execution_count": 62,
      "outputs": [
        {
          "output_type": "stream",
          "name": "stdout",
          "text": [
            "RMSE on Secondary Test:  205.80560239723107\n"
          ]
        }
      ]
    },
    {
      "cell_type": "code",
      "source": [
        "print(\"MPE on Train Data: \",np.average(np.abs((10**regressor.predict(x_train.reshape(-1,1))-10**y_train)/10**y_train)))\n",
        "print(\"MPE on Primary Test: \",np.average(np.abs((10**regressor.predict(x_test.reshape(-1,1))-10**y_test)/10**y_test)))\n",
        "print(\"MPE on Secondary Test: \",np.average(np.abs((10**regressor.predict(x_stest.reshape(-1,1))-10**y_stest)/10**y_stest)))"
      ],
      "metadata": {
        "colab": {
          "base_uri": "https://localhost:8080/"
        },
        "id": "UAo4R1edSMJD",
        "outputId": "1b729f3c-4a0e-456a-ae04-34614414a4a7"
      },
      "id": "UAo4R1edSMJD",
      "execution_count": 56,
      "outputs": [
        {
          "output_type": "stream",
          "name": "stdout",
          "text": [
            "MPE on Train Data:  0.150218315028155\n",
            "MPE on Primary Test:  0.15565932897956947\n",
            "MPE on Secondary Test:  0.15841675294323923\n"
          ]
        }
      ]
    },
    {
      "cell_type": "markdown",
      "source": [
        "### **Full Model**"
      ],
      "metadata": {
        "id": "37KOY1b8d9fV"
      },
      "id": "37KOY1b8d9fV"
    },
    {
      "cell_type": "code",
      "source": [
        "data = np.loadtxt('/content/features.csv',delimiter=',',skiprows=1)"
      ],
      "metadata": {
        "id": "K3ruHUpqeJTu"
      },
      "id": "K3ruHUpqeJTu",
      "execution_count": 5,
      "outputs": []
    },
    {
      "cell_type": "code",
      "execution_count": 7,
      "id": "d492cfe8",
      "metadata": {
        "id": "d492cfe8"
      },
      "outputs": [],
      "source": [
        "test_ind = np.array([ 0,  2,  4,  6,  8, 10, 12, 14, 16, 18, 20, 22, 24, 26, 28, 30, 32,\n",
        "       34, 36, 38, 40, 42, 44, 46, 48, 50, 52, 54, 56, 58, 60, 62, 64, 66,\n",
        "       68, 70, 72, 74, 76, 78, 80, 82, 83])\n",
        "\n",
        "train_ind = np.array([ 1,  3,  5,  7,  9, 11, 13, 15, 17, 19, 21, 23, 25, 27, 29, 31, 33,\n",
        "       35, 37, 39, 41, 43, 45, 47, 49, 51, 53, 55, 57, 59, 61, 63, 65, 67,\n",
        "       69, 71, 73, 75, 77, 79, 81])\n",
        "\n",
        "secondary_ind = np.array([ 84,  85,  86,  87,  88,  89,  90,  91,  92,  93,  94,  95,  96,\n",
        "        97,  98,  99, 100, 101, 102, 103, 104, 105, 106, 107, 108, 109,\n",
        "       110, 111, 112, 113, 114, 115, 116, 117, 118, 119, 120, 121, 122,\n",
        "       123])"
      ]
    },
    {
      "cell_type": "code",
      "execution_count": null,
      "id": "d9b4c8b3",
      "metadata": {
        "colab": {
          "base_uri": "https://localhost:8080/"
        },
        "id": "d9b4c8b3",
        "outputId": "01f8bb76-fd5f-41d8-b14a-8e6f28d99b1f"
      },
      "outputs": [
        {
          "output_type": "stream",
          "name": "stdout",
          "text": [
            "[3.33445375 3.15654915 3.03100428 2.93951925 2.89652622 2.85672889\n",
            " 2.93298082 2.89652622 2.74741181 3.00732095 2.93951925 2.93449845\n",
            " 2.85064624 2.86391738 2.87040391 2.84757266 2.79028516 2.98497713\n",
            " 2.84633711 2.78958071 2.47712125 2.64147411 2.64738297 2.7084209\n",
            " 2.67851838 2.68394713 2.69372695 2.66370093 2.68930886 2.72181062\n",
            " 2.66370093 2.67024585 2.69722934 2.6919651  2.71600334 2.66558099\n",
            " 2.6794279  2.66181269 2.63245729 2.66464198 2.68752896]\n"
          ]
        }
      ],
      "source": [
        "x_train = data[train_ind,1:]\n",
        "y_train = data[train_ind,0]\n",
        "y_train = np.log10(y_train) #tried with np.log10 as well\n",
        "\n",
        "x_test = data[test_ind,1:]\n",
        "y_test = data[test_ind,0]\n",
        "y_test = np.log10(y_test)\n",
        "\n",
        "x_stest = data[secondary_ind,1:]\n",
        "y_stest = data[secondary_ind,0]\n",
        "y_stest = np.log10(y_stest)\n",
        "print(y_train)\n",
        "\n",
        "regressor = SVR()\n",
        "# regressor.fit(x_train.reshape(-1, 1),y_train)"
      ]
    },
    {
      "cell_type": "code",
      "execution_count": null,
      "id": "61bf6a68",
      "metadata": {
        "colab": {
          "base_uri": "https://localhost:8080/",
          "height": 517
        },
        "id": "61bf6a68",
        "outputId": "aee31570-37d5-41d8-fdcc-d4f839bb2ffb"
      },
      "outputs": [
        {
          "output_type": "stream",
          "name": "stdout",
          "text": [
            "[3.33445375 3.15654915 3.03100428 2.93951925 2.89652622 2.85672889\n",
            " 2.93298082 2.89652622 2.74741181 3.00732095 2.93951925 2.93449845\n",
            " 2.85064624 2.86391738 2.87040391 2.84757266 2.79028516 2.98497713\n",
            " 2.84633711 2.78958071 2.47712125 2.64147411 2.64738297 2.7084209\n",
            " 2.67851838 2.68394713 2.69372695 2.66370093 2.68930886 2.72181062\n",
            " 2.66370093 2.67024585 2.69722934 2.6919651  2.71600334 2.66558099\n",
            " 2.6794279  2.66181269 2.63245729 2.66464198 2.68752896]\n",
            "RandomizedSearchCV(cv=KFold(n_splits=4, random_state=42, shuffle=True),\n",
            "                   estimator=SVR(), n_iter=10000, n_jobs=-1,\n",
            "                   param_distributions={'C': array([1.00000000e-05, 1.01392541e-05, 1.02804473e-05, 1.04236067e-05,\n",
            "       1.05687597e-05, 1.07159340e-05, 1.08651577e-05, 1.10164595e-05,\n",
            "       1.11698682e-05, 1.13254132e-05, 1.14831241e-05, 1.16430313e-05,\n",
            "       1.18051653e-05, 1.19695570e-05,...\n",
            "       8.28642773e-02, 1.09854114e-01, 1.45634848e-01, 1.93069773e-01,\n",
            "       2.55954792e-01, 3.39322177e-01, 4.49843267e-01, 5.96362332e-01,\n",
            "       7.90604321e-01, 1.04811313e+00, 1.38949549e+00, 1.84206997e+00,\n",
            "       2.44205309e+00, 3.23745754e+00, 4.29193426e+00, 5.68986603e+00,\n",
            "       7.54312006e+00, 1.00000000e+01]),\n",
            "                                        'kernel': ['linear', 'rbf', 'sigmoid']},\n",
            "                   random_state=42, return_train_score=True,\n",
            "                   scoring=make_scorer(loss, greater_is_better=False),\n",
            "                   verbose=2)\n",
            "Fitting 4 folds for each of 10000 candidates, totalling 40000 fits\n"
          ]
        },
        {
          "output_type": "execute_result",
          "data": {
            "text/plain": [
              "RandomizedSearchCV(cv=KFold(n_splits=4, random_state=42, shuffle=True),\n",
              "                   estimator=SVR(), n_iter=10000, n_jobs=-1,\n",
              "                   param_distributions={'C': array([1.00000000e-05, 1.01392541e-05, 1.02804473e-05, 1.04236067e-05,\n",
              "       1.05687597e-05, 1.07159340e-05, 1.08651577e-05, 1.10164595e-05,\n",
              "       1.11698682e-05, 1.13254132e-05, 1.14831241e-05, 1.16430313e-05,\n",
              "       1.18051653e-05, 1.19695570e-05,...\n",
              "       8.28642773e-02, 1.09854114e-01, 1.45634848e-01, 1.93069773e-01,\n",
              "       2.55954792e-01, 3.39322177e-01, 4.49843267e-01, 5.96362332e-01,\n",
              "       7.90604321e-01, 1.04811313e+00, 1.38949549e+00, 1.84206997e+00,\n",
              "       2.44205309e+00, 3.23745754e+00, 4.29193426e+00, 5.68986603e+00,\n",
              "       7.54312006e+00, 1.00000000e+01]),\n",
              "                                        'kernel': ['linear', 'rbf', 'sigmoid']},\n",
              "                   random_state=42, return_train_score=True,\n",
              "                   scoring=make_scorer(loss, greater_is_better=False),\n",
              "                   verbose=2)"
            ],
            "text/html": [
              "<style>#sk-container-id-1 {color: black;background-color: white;}#sk-container-id-1 pre{padding: 0;}#sk-container-id-1 div.sk-toggleable {background-color: white;}#sk-container-id-1 label.sk-toggleable__label {cursor: pointer;display: block;width: 100%;margin-bottom: 0;padding: 0.3em;box-sizing: border-box;text-align: center;}#sk-container-id-1 label.sk-toggleable__label-arrow:before {content: \"▸\";float: left;margin-right: 0.25em;color: #696969;}#sk-container-id-1 label.sk-toggleable__label-arrow:hover:before {color: black;}#sk-container-id-1 div.sk-estimator:hover label.sk-toggleable__label-arrow:before {color: black;}#sk-container-id-1 div.sk-toggleable__content {max-height: 0;max-width: 0;overflow: hidden;text-align: left;background-color: #f0f8ff;}#sk-container-id-1 div.sk-toggleable__content pre {margin: 0.2em;color: black;border-radius: 0.25em;background-color: #f0f8ff;}#sk-container-id-1 input.sk-toggleable__control:checked~div.sk-toggleable__content {max-height: 200px;max-width: 100%;overflow: auto;}#sk-container-id-1 input.sk-toggleable__control:checked~label.sk-toggleable__label-arrow:before {content: \"▾\";}#sk-container-id-1 div.sk-estimator input.sk-toggleable__control:checked~label.sk-toggleable__label {background-color: #d4ebff;}#sk-container-id-1 div.sk-label input.sk-toggleable__control:checked~label.sk-toggleable__label {background-color: #d4ebff;}#sk-container-id-1 input.sk-hidden--visually {border: 0;clip: rect(1px 1px 1px 1px);clip: rect(1px, 1px, 1px, 1px);height: 1px;margin: -1px;overflow: hidden;padding: 0;position: absolute;width: 1px;}#sk-container-id-1 div.sk-estimator {font-family: monospace;background-color: #f0f8ff;border: 1px dotted black;border-radius: 0.25em;box-sizing: border-box;margin-bottom: 0.5em;}#sk-container-id-1 div.sk-estimator:hover {background-color: #d4ebff;}#sk-container-id-1 div.sk-parallel-item::after {content: \"\";width: 100%;border-bottom: 1px solid gray;flex-grow: 1;}#sk-container-id-1 div.sk-label:hover label.sk-toggleable__label {background-color: #d4ebff;}#sk-container-id-1 div.sk-serial::before {content: \"\";position: absolute;border-left: 1px solid gray;box-sizing: border-box;top: 0;bottom: 0;left: 50%;z-index: 0;}#sk-container-id-1 div.sk-serial {display: flex;flex-direction: column;align-items: center;background-color: white;padding-right: 0.2em;padding-left: 0.2em;position: relative;}#sk-container-id-1 div.sk-item {position: relative;z-index: 1;}#sk-container-id-1 div.sk-parallel {display: flex;align-items: stretch;justify-content: center;background-color: white;position: relative;}#sk-container-id-1 div.sk-item::before, #sk-container-id-1 div.sk-parallel-item::before {content: \"\";position: absolute;border-left: 1px solid gray;box-sizing: border-box;top: 0;bottom: 0;left: 50%;z-index: -1;}#sk-container-id-1 div.sk-parallel-item {display: flex;flex-direction: column;z-index: 1;position: relative;background-color: white;}#sk-container-id-1 div.sk-parallel-item:first-child::after {align-self: flex-end;width: 50%;}#sk-container-id-1 div.sk-parallel-item:last-child::after {align-self: flex-start;width: 50%;}#sk-container-id-1 div.sk-parallel-item:only-child::after {width: 0;}#sk-container-id-1 div.sk-dashed-wrapped {border: 1px dashed gray;margin: 0 0.4em 0.5em 0.4em;box-sizing: border-box;padding-bottom: 0.4em;background-color: white;}#sk-container-id-1 div.sk-label label {font-family: monospace;font-weight: bold;display: inline-block;line-height: 1.2em;}#sk-container-id-1 div.sk-label-container {text-align: center;}#sk-container-id-1 div.sk-container {/* jupyter's `normalize.less` sets `[hidden] { display: none; }` but bootstrap.min.css set `[hidden] { display: none !important; }` so we also need the `!important` here to be able to override the default hidden behavior on the sphinx rendered scikit-learn.org. See: https://github.com/scikit-learn/scikit-learn/issues/21755 */display: inline-block !important;position: relative;}#sk-container-id-1 div.sk-text-repr-fallback {display: none;}</style><div id=\"sk-container-id-1\" class=\"sk-top-container\"><div class=\"sk-text-repr-fallback\"><pre>RandomizedSearchCV(cv=KFold(n_splits=4, random_state=42, shuffle=True),\n",
              "                   estimator=SVR(), n_iter=10000, n_jobs=-1,\n",
              "                   param_distributions={&#x27;C&#x27;: array([1.00000000e-05, 1.01392541e-05, 1.02804473e-05, 1.04236067e-05,\n",
              "       1.05687597e-05, 1.07159340e-05, 1.08651577e-05, 1.10164595e-05,\n",
              "       1.11698682e-05, 1.13254132e-05, 1.14831241e-05, 1.16430313e-05,\n",
              "       1.18051653e-05, 1.19695570e-05,...\n",
              "       8.28642773e-02, 1.09854114e-01, 1.45634848e-01, 1.93069773e-01,\n",
              "       2.55954792e-01, 3.39322177e-01, 4.49843267e-01, 5.96362332e-01,\n",
              "       7.90604321e-01, 1.04811313e+00, 1.38949549e+00, 1.84206997e+00,\n",
              "       2.44205309e+00, 3.23745754e+00, 4.29193426e+00, 5.68986603e+00,\n",
              "       7.54312006e+00, 1.00000000e+01]),\n",
              "                                        &#x27;kernel&#x27;: [&#x27;linear&#x27;, &#x27;rbf&#x27;, &#x27;sigmoid&#x27;]},\n",
              "                   random_state=42, return_train_score=True,\n",
              "                   scoring=make_scorer(loss, greater_is_better=False),\n",
              "                   verbose=2)</pre><b>In a Jupyter environment, please rerun this cell to show the HTML representation or trust the notebook. <br />On GitHub, the HTML representation is unable to render, please try loading this page with nbviewer.org.</b></div><div class=\"sk-container\" hidden><div class=\"sk-item sk-dashed-wrapped\"><div class=\"sk-label-container\"><div class=\"sk-label sk-toggleable\"><input class=\"sk-toggleable__control sk-hidden--visually\" id=\"sk-estimator-id-1\" type=\"checkbox\" ><label for=\"sk-estimator-id-1\" class=\"sk-toggleable__label sk-toggleable__label-arrow\">RandomizedSearchCV</label><div class=\"sk-toggleable__content\"><pre>RandomizedSearchCV(cv=KFold(n_splits=4, random_state=42, shuffle=True),\n",
              "                   estimator=SVR(), n_iter=10000, n_jobs=-1,\n",
              "                   param_distributions={&#x27;C&#x27;: array([1.00000000e-05, 1.01392541e-05, 1.02804473e-05, 1.04236067e-05,\n",
              "       1.05687597e-05, 1.07159340e-05, 1.08651577e-05, 1.10164595e-05,\n",
              "       1.11698682e-05, 1.13254132e-05, 1.14831241e-05, 1.16430313e-05,\n",
              "       1.18051653e-05, 1.19695570e-05,...\n",
              "       8.28642773e-02, 1.09854114e-01, 1.45634848e-01, 1.93069773e-01,\n",
              "       2.55954792e-01, 3.39322177e-01, 4.49843267e-01, 5.96362332e-01,\n",
              "       7.90604321e-01, 1.04811313e+00, 1.38949549e+00, 1.84206997e+00,\n",
              "       2.44205309e+00, 3.23745754e+00, 4.29193426e+00, 5.68986603e+00,\n",
              "       7.54312006e+00, 1.00000000e+01]),\n",
              "                                        &#x27;kernel&#x27;: [&#x27;linear&#x27;, &#x27;rbf&#x27;, &#x27;sigmoid&#x27;]},\n",
              "                   random_state=42, return_train_score=True,\n",
              "                   scoring=make_scorer(loss, greater_is_better=False),\n",
              "                   verbose=2)</pre></div></div></div><div class=\"sk-parallel\"><div class=\"sk-parallel-item\"><div class=\"sk-item\"><div class=\"sk-label-container\"><div class=\"sk-label sk-toggleable\"><input class=\"sk-toggleable__control sk-hidden--visually\" id=\"sk-estimator-id-2\" type=\"checkbox\" ><label for=\"sk-estimator-id-2\" class=\"sk-toggleable__label sk-toggleable__label-arrow\">estimator: SVR</label><div class=\"sk-toggleable__content\"><pre>SVR()</pre></div></div></div><div class=\"sk-serial\"><div class=\"sk-item\"><div class=\"sk-estimator sk-toggleable\"><input class=\"sk-toggleable__control sk-hidden--visually\" id=\"sk-estimator-id-3\" type=\"checkbox\" ><label for=\"sk-estimator-id-3\" class=\"sk-toggleable__label sk-toggleable__label-arrow\">SVR</label><div class=\"sk-toggleable__content\"><pre>SVR()</pre></div></div></div></div></div></div></div></div></div></div>"
            ]
          },
          "metadata": {},
          "execution_count": 6
        }
      ],
      "source": [
        "# Create the random grid\n",
        "# Create the random grid\n",
        "def loss(ground_truth, predictions):\n",
        "    diff = np.sqrt(np.mean((10**ground_truth - 10**predictions)**2))\n",
        "    return diff\n",
        "\n",
        "my_scorer = make_scorer(loss, greater_is_better=False)\n",
        "\n",
        "param_grid = {'C': np.logspace(-5, 1, base=10, num=1000),\n",
        "              'kernel': ['linear','rbf', 'sigmoid'],\n",
        "              'gamma': np.logspace(-5, 1, base=10, num=50),  #changed from -5,1\n",
        "              'epsilon': np.logspace(-5, 1, base=10, num=50)} #changed from #-5,1\n",
        "print(y_train)\n",
        "folds = KFold(n_splits = 4, shuffle = True, random_state = 42)\n",
        "model= RandomizedSearchCV(estimator= regressor, n_iter = 10000, cv=folds, param_distributions = param_grid ,scoring=my_scorer, random_state=42,verbose=2, return_train_score=True, n_jobs = -1)\n",
        "print(model)\n",
        "model.fit(x_train,y_train)"
      ]
    },
    {
      "cell_type": "code",
      "execution_count": null,
      "id": "eedcfa3d",
      "metadata": {
        "colab": {
          "base_uri": "https://localhost:8080/"
        },
        "id": "eedcfa3d",
        "outputId": "4df94ebc-181c-44e9-bd11-2fb47e01efd2"
      },
      "outputs": [
        {
          "output_type": "stream",
          "name": "stdout",
          "text": [
            "Best RMS score:  -112.17295040076827\n",
            "Best hyperparameters:  {'kernel': 'linear', 'gamma': 1.3257113655901082e-05, 'epsilon': 0.04714866363457394, 'C': 6.604193962330306}\n"
          ]
        }
      ],
      "source": [
        "print(\"Best RMS score: \", model.best_score_)\n",
        "print(\"Best hyperparameters: \", model.best_params_)"
      ]
    },
    {
      "cell_type": "code",
      "execution_count": null,
      "id": "48a82e71",
      "metadata": {
        "colab": {
          "base_uri": "https://localhost:8080/",
          "height": 92
        },
        "id": "48a82e71",
        "outputId": "1963f6a6-a6b8-412c-a32f-dfc8971f3e97"
      },
      "outputs": [
        {
          "output_type": "execute_result",
          "data": {
            "text/plain": [
              "SVR(C=6.604193962330306, epsilon=0.04714866363457394,\n",
              "    gamma=1.3257113655901082e-05, kernel='linear')"
            ],
            "text/html": [
              "<style>#sk-container-id-2 {color: black;background-color: white;}#sk-container-id-2 pre{padding: 0;}#sk-container-id-2 div.sk-toggleable {background-color: white;}#sk-container-id-2 label.sk-toggleable__label {cursor: pointer;display: block;width: 100%;margin-bottom: 0;padding: 0.3em;box-sizing: border-box;text-align: center;}#sk-container-id-2 label.sk-toggleable__label-arrow:before {content: \"▸\";float: left;margin-right: 0.25em;color: #696969;}#sk-container-id-2 label.sk-toggleable__label-arrow:hover:before {color: black;}#sk-container-id-2 div.sk-estimator:hover label.sk-toggleable__label-arrow:before {color: black;}#sk-container-id-2 div.sk-toggleable__content {max-height: 0;max-width: 0;overflow: hidden;text-align: left;background-color: #f0f8ff;}#sk-container-id-2 div.sk-toggleable__content pre {margin: 0.2em;color: black;border-radius: 0.25em;background-color: #f0f8ff;}#sk-container-id-2 input.sk-toggleable__control:checked~div.sk-toggleable__content {max-height: 200px;max-width: 100%;overflow: auto;}#sk-container-id-2 input.sk-toggleable__control:checked~label.sk-toggleable__label-arrow:before {content: \"▾\";}#sk-container-id-2 div.sk-estimator input.sk-toggleable__control:checked~label.sk-toggleable__label {background-color: #d4ebff;}#sk-container-id-2 div.sk-label input.sk-toggleable__control:checked~label.sk-toggleable__label {background-color: #d4ebff;}#sk-container-id-2 input.sk-hidden--visually {border: 0;clip: rect(1px 1px 1px 1px);clip: rect(1px, 1px, 1px, 1px);height: 1px;margin: -1px;overflow: hidden;padding: 0;position: absolute;width: 1px;}#sk-container-id-2 div.sk-estimator {font-family: monospace;background-color: #f0f8ff;border: 1px dotted black;border-radius: 0.25em;box-sizing: border-box;margin-bottom: 0.5em;}#sk-container-id-2 div.sk-estimator:hover {background-color: #d4ebff;}#sk-container-id-2 div.sk-parallel-item::after {content: \"\";width: 100%;border-bottom: 1px solid gray;flex-grow: 1;}#sk-container-id-2 div.sk-label:hover label.sk-toggleable__label {background-color: #d4ebff;}#sk-container-id-2 div.sk-serial::before {content: \"\";position: absolute;border-left: 1px solid gray;box-sizing: border-box;top: 0;bottom: 0;left: 50%;z-index: 0;}#sk-container-id-2 div.sk-serial {display: flex;flex-direction: column;align-items: center;background-color: white;padding-right: 0.2em;padding-left: 0.2em;position: relative;}#sk-container-id-2 div.sk-item {position: relative;z-index: 1;}#sk-container-id-2 div.sk-parallel {display: flex;align-items: stretch;justify-content: center;background-color: white;position: relative;}#sk-container-id-2 div.sk-item::before, #sk-container-id-2 div.sk-parallel-item::before {content: \"\";position: absolute;border-left: 1px solid gray;box-sizing: border-box;top: 0;bottom: 0;left: 50%;z-index: -1;}#sk-container-id-2 div.sk-parallel-item {display: flex;flex-direction: column;z-index: 1;position: relative;background-color: white;}#sk-container-id-2 div.sk-parallel-item:first-child::after {align-self: flex-end;width: 50%;}#sk-container-id-2 div.sk-parallel-item:last-child::after {align-self: flex-start;width: 50%;}#sk-container-id-2 div.sk-parallel-item:only-child::after {width: 0;}#sk-container-id-2 div.sk-dashed-wrapped {border: 1px dashed gray;margin: 0 0.4em 0.5em 0.4em;box-sizing: border-box;padding-bottom: 0.4em;background-color: white;}#sk-container-id-2 div.sk-label label {font-family: monospace;font-weight: bold;display: inline-block;line-height: 1.2em;}#sk-container-id-2 div.sk-label-container {text-align: center;}#sk-container-id-2 div.sk-container {/* jupyter's `normalize.less` sets `[hidden] { display: none; }` but bootstrap.min.css set `[hidden] { display: none !important; }` so we also need the `!important` here to be able to override the default hidden behavior on the sphinx rendered scikit-learn.org. See: https://github.com/scikit-learn/scikit-learn/issues/21755 */display: inline-block !important;position: relative;}#sk-container-id-2 div.sk-text-repr-fallback {display: none;}</style><div id=\"sk-container-id-2\" class=\"sk-top-container\"><div class=\"sk-text-repr-fallback\"><pre>SVR(C=6.604193962330306, epsilon=0.04714866363457394,\n",
              "    gamma=1.3257113655901082e-05, kernel=&#x27;linear&#x27;)</pre><b>In a Jupyter environment, please rerun this cell to show the HTML representation or trust the notebook. <br />On GitHub, the HTML representation is unable to render, please try loading this page with nbviewer.org.</b></div><div class=\"sk-container\" hidden><div class=\"sk-item\"><div class=\"sk-estimator sk-toggleable\"><input class=\"sk-toggleable__control sk-hidden--visually\" id=\"sk-estimator-id-4\" type=\"checkbox\" checked><label for=\"sk-estimator-id-4\" class=\"sk-toggleable__label sk-toggleable__label-arrow\">SVR</label><div class=\"sk-toggleable__content\"><pre>SVR(C=6.604193962330306, epsilon=0.04714866363457394,\n",
              "    gamma=1.3257113655901082e-05, kernel=&#x27;linear&#x27;)</pre></div></div></div></div></div>"
            ]
          },
          "metadata": {},
          "execution_count": 8
        }
      ],
      "source": [
        "regressor = SVR(kernel=model.best_params_['kernel'],epsilon=model.best_params_['epsilon'], gamma = model.best_params_['gamma'], C=model.best_params_['C'])\n",
        "regressor.fit(x_train,y_train)"
      ]
    },
    {
      "cell_type": "code",
      "source": [
        "print(\"RMSE on Train Data: \", np.sqrt(np.mean( (np.power(10,regressor.predict(x_train))-np.power(10,y_train))**2) ))"
      ],
      "metadata": {
        "colab": {
          "base_uri": "https://localhost:8080/"
        },
        "id": "V9E_Ns3Ehzzj",
        "outputId": "711458ac-3cc2-45ef-9991-66593ac696c0"
      },
      "id": "V9E_Ns3Ehzzj",
      "execution_count": null,
      "outputs": [
        {
          "output_type": "stream",
          "name": "stdout",
          "text": [
            "RMSE on Train Data:  102.91007092044997\n"
          ]
        }
      ]
    },
    {
      "cell_type": "code",
      "execution_count": null,
      "id": "b2a4cbea",
      "metadata": {
        "colab": {
          "base_uri": "https://localhost:8080/"
        },
        "id": "b2a4cbea",
        "outputId": "4ad85271-03ce-48b4-c4d0-728ee86d4596"
      },
      "outputs": [
        {
          "output_type": "stream",
          "name": "stdout",
          "text": [
            "RMSE:  114.2611463221902\n"
          ]
        }
      ],
      "source": [
        "print(\"RMSE: \", np.sqrt(np.mean( (np.power(10,regressor.predict(x_test))-np.power(10,y_test))**2) )) # 1 is the best score"
      ]
    },
    {
      "cell_type": "code",
      "execution_count": null,
      "id": "788ce26c",
      "metadata": {
        "colab": {
          "base_uri": "https://localhost:8080/"
        },
        "id": "788ce26c",
        "outputId": "1ddbc9e3-665d-480b-9574-910c7ff379cf"
      },
      "outputs": [
        {
          "output_type": "stream",
          "name": "stdout",
          "text": [
            "RMSE:  268.608728646589\n"
          ]
        }
      ],
      "source": [
        "print(\"RMSE: \", np.sqrt(np.mean( (np.power(10,regressor.predict(x_stest))-np.power(10,y_stest))**2) )) # 1 is the best score"
      ]
    },
    {
      "cell_type": "code",
      "source": [
        "print(\"MPE on Train Data: \",np.average(np.abs((10**regressor.predict(x_train)-10**y_train)/10**y_train)))"
      ],
      "metadata": {
        "colab": {
          "base_uri": "https://localhost:8080/"
        },
        "id": "PXDL9Q9LKLiO",
        "outputId": "585dd5da-6139-437c-f2c7-827c1b1b3af8"
      },
      "id": "PXDL9Q9LKLiO",
      "execution_count": null,
      "outputs": [
        {
          "output_type": "stream",
          "name": "stdout",
          "text": [
            "MPE on Train Data:  0.13091759204555328\n"
          ]
        }
      ]
    },
    {
      "cell_type": "code",
      "source": [
        "print(\"MPE on Primary Test: \",np.average(np.abs((10**regressor.predict(x_test)-10**y_test)/10**y_test)))\n"
      ],
      "metadata": {
        "colab": {
          "base_uri": "https://localhost:8080/"
        },
        "id": "oKvLmQgMKWQx",
        "outputId": "ed16f4a3-0b67-45a5-f651-5d9e5233b02e"
      },
      "id": "oKvLmQgMKWQx",
      "execution_count": null,
      "outputs": [
        {
          "output_type": "stream",
          "name": "stdout",
          "text": [
            "MPE on Primary Test:  0.1569256687322638\n"
          ]
        }
      ]
    },
    {
      "cell_type": "code",
      "source": [
        "print(\"MPE on Secondary Test: \",np.average(np.abs((10**regressor.predict(x_stest)-10**y_stest)/10**y_stest)))"
      ],
      "metadata": {
        "colab": {
          "base_uri": "https://localhost:8080/"
        },
        "id": "cTKcuEmuKbs5",
        "outputId": "9a402adc-e7f5-43e3-cb88-aab62e79a44b"
      },
      "id": "cTKcuEmuKbs5",
      "execution_count": null,
      "outputs": [
        {
          "output_type": "stream",
          "name": "stdout",
          "text": [
            "MPE on Secondary Test:  0.16749236573802442\n"
          ]
        }
      ]
    },
    {
      "cell_type": "markdown",
      "source": [
        "### **Discharge Model**"
      ],
      "metadata": {
        "id": "4C694Cf-AdUq"
      },
      "id": "4C694Cf-AdUq"
    },
    {
      "cell_type": "code",
      "source": [
        "x_train = data[train_ind,1:11]\n",
        "y_train = data[train_ind,0]\n",
        "y_train = np.log10(y_train) #tried with np.log10 as well\n",
        "\n",
        "x_test = data[test_ind,1:11]\n",
        "y_test = data[test_ind,0]\n",
        "y_test = np.log10(y_test)\n",
        "\n",
        "x_stest = data[secondary_ind,1:11]\n",
        "y_stest = data[secondary_ind,0]\n",
        "y_stest = np.log10(y_stest)\n",
        "print(y_train)\n",
        "\n",
        "regressor = SVR()"
      ],
      "metadata": {
        "colab": {
          "base_uri": "https://localhost:8080/"
        },
        "id": "AwgiU4H8MTLd",
        "outputId": "89740148-de60-4238-a21c-e60df9832cb9"
      },
      "id": "AwgiU4H8MTLd",
      "execution_count": 8,
      "outputs": [
        {
          "output_type": "stream",
          "name": "stdout",
          "text": [
            "[3.33445375 3.15654915 3.03100428 2.93951925 2.89652622 2.85672889\n",
            " 2.93298082 2.89652622 2.74741181 3.00732095 2.93951925 2.93449845\n",
            " 2.85064624 2.86391738 2.87040391 2.84757266 2.79028516 2.98497713\n",
            " 2.84633711 2.78958071 2.47712125 2.64147411 2.64738297 2.7084209\n",
            " 2.67851838 2.68394713 2.69372695 2.66370093 2.68930886 2.72181062\n",
            " 2.66370093 2.67024585 2.69722934 2.6919651  2.71600334 2.66558099\n",
            " 2.6794279  2.66181269 2.63245729 2.66464198 2.68752896]\n"
          ]
        }
      ]
    },
    {
      "cell_type": "code",
      "source": [
        "#Create the random grid\n",
        "# Create the random grid\n",
        "def loss(ground_truth, predictions):\n",
        "    diff = np.sqrt(np.mean((10**ground_truth - 10**predictions)**2))\n",
        "    return diff\n",
        "\n",
        "my_scorer = make_scorer(loss, greater_is_better=False)\n",
        "\n",
        "param_grid = {'C': np.logspace(-6, 1, base=10, num=1000),\n",
        "              'kernel': ['rbf', 'sigmoid'],\n",
        "              'gamma': np.logspace(-6, 1.5, base=10, num=50),  #changed from -5,1\n",
        "              'epsilon': np.logspace(-6, 1, base=10, num=50)} #changed from #-5,1\n",
        "print(y_train)\n",
        "folds = KFold(n_splits = 4, shuffle = True, random_state = 42)\n",
        "model= RandomizedSearchCV(estimator= regressor, n_iter = 10000, cv=folds, param_distributions = param_grid ,scoring=my_scorer, random_state=42,verbose=2, return_train_score=True, n_jobs = -1)\n",
        "print(model)\n",
        "model.fit(x_train.reshape(-1,1),y_train)"
      ],
      "metadata": {
        "colab": {
          "base_uri": "https://localhost:8080/",
          "height": 534
        },
        "id": "aUaXYUO8Af6z",
        "outputId": "5d3f492c-2294-431c-f4aa-e52b62edeb24"
      },
      "id": "aUaXYUO8Af6z",
      "execution_count": 219,
      "outputs": [
        {
          "output_type": "stream",
          "name": "stdout",
          "text": [
            "[3.349666 3.232742 2.803457 3.022841 2.944483 2.935507 2.839478 2.727541\n",
            " 3.006038 2.931458 2.925312 2.962369 2.942504 2.879096 2.846955 2.811575\n",
            " 2.79588  3.021603 2.813581 2.777427 2.170262 2.525045 2.681241 2.748963\n",
            " 2.660865 2.685742 2.687529 2.700704 2.710117 2.694605 2.673021 2.706718\n",
            " 2.682145 2.715167 2.698101 2.728354 2.667453 2.698101 2.668386 2.659916\n",
            " 2.632457]\n",
            "RandomizedSearchCV(cv=KFold(n_splits=4, random_state=42, shuffle=True),\n",
            "                   estimator=SVR(C=0.8829699955494082,\n",
            "                                 epsilon=0.003727593720314938,\n",
            "                                 gamma=0.655128556859551),\n",
            "                   n_iter=10000, n_jobs=-1,\n",
            "                   param_distributions={'C': array([1.00000000e-06, 1.01626509e-06, 1.03279473e-06, 1.04959323e-06,\n",
            "       1.06666496e-06, 1.08401436e-06, 1.10164595e-06, 1.11956432e-06,\n",
            "       1.13777413e-06, 1....\n",
            "       7.90604321e-02, 1.12465782e-01, 1.59985872e-01, 2.27584593e-01,\n",
            "       3.23745754e-01, 4.60537826e-01, 6.55128557e-01, 9.31939576e-01,\n",
            "       1.32571137e+00, 1.88586328e+00, 2.68269580e+00, 3.81621341e+00,\n",
            "       5.42867544e+00, 7.72244995e+00, 1.09854114e+01, 1.56270698e+01,\n",
            "       2.22299648e+01, 3.16227766e+01]),\n",
            "                                        'kernel': ['rbf', 'sigmoid']},\n",
            "                   random_state=42, return_train_score=True,\n",
            "                   scoring=make_scorer(loss, greater_is_better=False),\n",
            "                   verbose=2)\n",
            "Fitting 4 folds for each of 10000 candidates, totalling 40000 fits\n"
          ]
        },
        {
          "output_type": "execute_result",
          "data": {
            "text/plain": [
              "RandomizedSearchCV(cv=KFold(n_splits=4, random_state=42, shuffle=True),\n",
              "                   estimator=SVR(C=0.8829699955494082,\n",
              "                                 epsilon=0.003727593720314938,\n",
              "                                 gamma=0.655128556859551),\n",
              "                   n_iter=10000, n_jobs=-1,\n",
              "                   param_distributions={'C': array([1.00000000e-06, 1.01626509e-06, 1.03279473e-06, 1.04959323e-06,\n",
              "       1.06666496e-06, 1.08401436e-06, 1.10164595e-06, 1.11956432e-06,\n",
              "       1.13777413e-06, 1....\n",
              "       7.90604321e-02, 1.12465782e-01, 1.59985872e-01, 2.27584593e-01,\n",
              "       3.23745754e-01, 4.60537826e-01, 6.55128557e-01, 9.31939576e-01,\n",
              "       1.32571137e+00, 1.88586328e+00, 2.68269580e+00, 3.81621341e+00,\n",
              "       5.42867544e+00, 7.72244995e+00, 1.09854114e+01, 1.56270698e+01,\n",
              "       2.22299648e+01, 3.16227766e+01]),\n",
              "                                        'kernel': ['rbf', 'sigmoid']},\n",
              "                   random_state=42, return_train_score=True,\n",
              "                   scoring=make_scorer(loss, greater_is_better=False),\n",
              "                   verbose=2)"
            ],
            "text/html": [
              "<style>#sk-container-id-55 {color: black;background-color: white;}#sk-container-id-55 pre{padding: 0;}#sk-container-id-55 div.sk-toggleable {background-color: white;}#sk-container-id-55 label.sk-toggleable__label {cursor: pointer;display: block;width: 100%;margin-bottom: 0;padding: 0.3em;box-sizing: border-box;text-align: center;}#sk-container-id-55 label.sk-toggleable__label-arrow:before {content: \"▸\";float: left;margin-right: 0.25em;color: #696969;}#sk-container-id-55 label.sk-toggleable__label-arrow:hover:before {color: black;}#sk-container-id-55 div.sk-estimator:hover label.sk-toggleable__label-arrow:before {color: black;}#sk-container-id-55 div.sk-toggleable__content {max-height: 0;max-width: 0;overflow: hidden;text-align: left;background-color: #f0f8ff;}#sk-container-id-55 div.sk-toggleable__content pre {margin: 0.2em;color: black;border-radius: 0.25em;background-color: #f0f8ff;}#sk-container-id-55 input.sk-toggleable__control:checked~div.sk-toggleable__content {max-height: 200px;max-width: 100%;overflow: auto;}#sk-container-id-55 input.sk-toggleable__control:checked~label.sk-toggleable__label-arrow:before {content: \"▾\";}#sk-container-id-55 div.sk-estimator input.sk-toggleable__control:checked~label.sk-toggleable__label {background-color: #d4ebff;}#sk-container-id-55 div.sk-label input.sk-toggleable__control:checked~label.sk-toggleable__label {background-color: #d4ebff;}#sk-container-id-55 input.sk-hidden--visually {border: 0;clip: rect(1px 1px 1px 1px);clip: rect(1px, 1px, 1px, 1px);height: 1px;margin: -1px;overflow: hidden;padding: 0;position: absolute;width: 1px;}#sk-container-id-55 div.sk-estimator {font-family: monospace;background-color: #f0f8ff;border: 1px dotted black;border-radius: 0.25em;box-sizing: border-box;margin-bottom: 0.5em;}#sk-container-id-55 div.sk-estimator:hover {background-color: #d4ebff;}#sk-container-id-55 div.sk-parallel-item::after {content: \"\";width: 100%;border-bottom: 1px solid gray;flex-grow: 1;}#sk-container-id-55 div.sk-label:hover label.sk-toggleable__label {background-color: #d4ebff;}#sk-container-id-55 div.sk-serial::before {content: \"\";position: absolute;border-left: 1px solid gray;box-sizing: border-box;top: 0;bottom: 0;left: 50%;z-index: 0;}#sk-container-id-55 div.sk-serial {display: flex;flex-direction: column;align-items: center;background-color: white;padding-right: 0.2em;padding-left: 0.2em;position: relative;}#sk-container-id-55 div.sk-item {position: relative;z-index: 1;}#sk-container-id-55 div.sk-parallel {display: flex;align-items: stretch;justify-content: center;background-color: white;position: relative;}#sk-container-id-55 div.sk-item::before, #sk-container-id-55 div.sk-parallel-item::before {content: \"\";position: absolute;border-left: 1px solid gray;box-sizing: border-box;top: 0;bottom: 0;left: 50%;z-index: -1;}#sk-container-id-55 div.sk-parallel-item {display: flex;flex-direction: column;z-index: 1;position: relative;background-color: white;}#sk-container-id-55 div.sk-parallel-item:first-child::after {align-self: flex-end;width: 50%;}#sk-container-id-55 div.sk-parallel-item:last-child::after {align-self: flex-start;width: 50%;}#sk-container-id-55 div.sk-parallel-item:only-child::after {width: 0;}#sk-container-id-55 div.sk-dashed-wrapped {border: 1px dashed gray;margin: 0 0.4em 0.5em 0.4em;box-sizing: border-box;padding-bottom: 0.4em;background-color: white;}#sk-container-id-55 div.sk-label label {font-family: monospace;font-weight: bold;display: inline-block;line-height: 1.2em;}#sk-container-id-55 div.sk-label-container {text-align: center;}#sk-container-id-55 div.sk-container {/* jupyter's `normalize.less` sets `[hidden] { display: none; }` but bootstrap.min.css set `[hidden] { display: none !important; }` so we also need the `!important` here to be able to override the default hidden behavior on the sphinx rendered scikit-learn.org. See: https://github.com/scikit-learn/scikit-learn/issues/21755 */display: inline-block !important;position: relative;}#sk-container-id-55 div.sk-text-repr-fallback {display: none;}</style><div id=\"sk-container-id-55\" class=\"sk-top-container\"><div class=\"sk-text-repr-fallback\"><pre>RandomizedSearchCV(cv=KFold(n_splits=4, random_state=42, shuffle=True),\n",
              "                   estimator=SVR(C=0.8829699955494082,\n",
              "                                 epsilon=0.003727593720314938,\n",
              "                                 gamma=0.655128556859551),\n",
              "                   n_iter=10000, n_jobs=-1,\n",
              "                   param_distributions={&#x27;C&#x27;: array([1.00000000e-06, 1.01626509e-06, 1.03279473e-06, 1.04959323e-06,\n",
              "       1.06666496e-06, 1.08401436e-06, 1.10164595e-06, 1.11956432e-06,\n",
              "       1.13777413e-06, 1....\n",
              "       7.90604321e-02, 1.12465782e-01, 1.59985872e-01, 2.27584593e-01,\n",
              "       3.23745754e-01, 4.60537826e-01, 6.55128557e-01, 9.31939576e-01,\n",
              "       1.32571137e+00, 1.88586328e+00, 2.68269580e+00, 3.81621341e+00,\n",
              "       5.42867544e+00, 7.72244995e+00, 1.09854114e+01, 1.56270698e+01,\n",
              "       2.22299648e+01, 3.16227766e+01]),\n",
              "                                        &#x27;kernel&#x27;: [&#x27;rbf&#x27;, &#x27;sigmoid&#x27;]},\n",
              "                   random_state=42, return_train_score=True,\n",
              "                   scoring=make_scorer(loss, greater_is_better=False),\n",
              "                   verbose=2)</pre><b>In a Jupyter environment, please rerun this cell to show the HTML representation or trust the notebook. <br />On GitHub, the HTML representation is unable to render, please try loading this page with nbviewer.org.</b></div><div class=\"sk-container\" hidden><div class=\"sk-item sk-dashed-wrapped\"><div class=\"sk-label-container\"><div class=\"sk-label sk-toggleable\"><input class=\"sk-toggleable__control sk-hidden--visually\" id=\"sk-estimator-id-109\" type=\"checkbox\" ><label for=\"sk-estimator-id-109\" class=\"sk-toggleable__label sk-toggleable__label-arrow\">RandomizedSearchCV</label><div class=\"sk-toggleable__content\"><pre>RandomizedSearchCV(cv=KFold(n_splits=4, random_state=42, shuffle=True),\n",
              "                   estimator=SVR(C=0.8829699955494082,\n",
              "                                 epsilon=0.003727593720314938,\n",
              "                                 gamma=0.655128556859551),\n",
              "                   n_iter=10000, n_jobs=-1,\n",
              "                   param_distributions={&#x27;C&#x27;: array([1.00000000e-06, 1.01626509e-06, 1.03279473e-06, 1.04959323e-06,\n",
              "       1.06666496e-06, 1.08401436e-06, 1.10164595e-06, 1.11956432e-06,\n",
              "       1.13777413e-06, 1....\n",
              "       7.90604321e-02, 1.12465782e-01, 1.59985872e-01, 2.27584593e-01,\n",
              "       3.23745754e-01, 4.60537826e-01, 6.55128557e-01, 9.31939576e-01,\n",
              "       1.32571137e+00, 1.88586328e+00, 2.68269580e+00, 3.81621341e+00,\n",
              "       5.42867544e+00, 7.72244995e+00, 1.09854114e+01, 1.56270698e+01,\n",
              "       2.22299648e+01, 3.16227766e+01]),\n",
              "                                        &#x27;kernel&#x27;: [&#x27;rbf&#x27;, &#x27;sigmoid&#x27;]},\n",
              "                   random_state=42, return_train_score=True,\n",
              "                   scoring=make_scorer(loss, greater_is_better=False),\n",
              "                   verbose=2)</pre></div></div></div><div class=\"sk-parallel\"><div class=\"sk-parallel-item\"><div class=\"sk-item\"><div class=\"sk-label-container\"><div class=\"sk-label sk-toggleable\"><input class=\"sk-toggleable__control sk-hidden--visually\" id=\"sk-estimator-id-110\" type=\"checkbox\" ><label for=\"sk-estimator-id-110\" class=\"sk-toggleable__label sk-toggleable__label-arrow\">estimator: SVR</label><div class=\"sk-toggleable__content\"><pre>SVR(C=0.8829699955494082, epsilon=0.003727593720314938, gamma=0.655128556859551)</pre></div></div></div><div class=\"sk-serial\"><div class=\"sk-item\"><div class=\"sk-estimator sk-toggleable\"><input class=\"sk-toggleable__control sk-hidden--visually\" id=\"sk-estimator-id-111\" type=\"checkbox\" ><label for=\"sk-estimator-id-111\" class=\"sk-toggleable__label sk-toggleable__label-arrow\">SVR</label><div class=\"sk-toggleable__content\"><pre>SVR(C=0.8829699955494082, epsilon=0.003727593720314938, gamma=0.655128556859551)</pre></div></div></div></div></div></div></div></div></div></div>"
            ]
          },
          "metadata": {},
          "execution_count": 219
        }
      ]
    },
    {
      "cell_type": "code",
      "source": [
        "print(\"Best RMS score: \", model.best_score_)\n",
        "print(\"Best hyperparameters: \", model.best_params_)"
      ],
      "metadata": {
        "colab": {
          "base_uri": "https://localhost:8080/"
        },
        "id": "ZYGzyrv-MQT0",
        "outputId": "8fe4a65e-5103-46b0-9d31-73e2d4feb7f2"
      },
      "id": "ZYGzyrv-MQT0",
      "execution_count": 220,
      "outputs": [
        {
          "output_type": "stream",
          "name": "stdout",
          "text": [
            "Best RMS score:  -107.8290247830752\n",
            "Best hyperparameters:  {'kernel': 'rbf', 'gamma': 0.32374575428176466, 'epsilon': 1.9306977288832496e-05, 'C': 1.5388177500383464}\n"
          ]
        }
      ]
    },
    {
      "cell_type": "code",
      "source": [
        "regressor = SVR(kernel='rbf',epsilon=model.best_params_['epsilon'], gamma = model.best_params_['gamma'], C=model.best_params_['C'] )\n",
        "regressor.fit(x_train.reshape(-1,1),y_train)"
      ],
      "metadata": {
        "colab": {
          "base_uri": "https://localhost:8080/",
          "height": 92
        },
        "id": "AAnJvaW2Mdi0",
        "outputId": "2d158401-005f-470d-b8e5-010c8b189478"
      },
      "id": "AAnJvaW2Mdi0",
      "execution_count": 221,
      "outputs": [
        {
          "output_type": "execute_result",
          "data": {
            "text/plain": [
              "SVR(C=1.5388177500383464, epsilon=1.9306977288832496e-05,\n",
              "    gamma=0.32374575428176466)"
            ],
            "text/html": [
              "<style>#sk-container-id-56 {color: black;background-color: white;}#sk-container-id-56 pre{padding: 0;}#sk-container-id-56 div.sk-toggleable {background-color: white;}#sk-container-id-56 label.sk-toggleable__label {cursor: pointer;display: block;width: 100%;margin-bottom: 0;padding: 0.3em;box-sizing: border-box;text-align: center;}#sk-container-id-56 label.sk-toggleable__label-arrow:before {content: \"▸\";float: left;margin-right: 0.25em;color: #696969;}#sk-container-id-56 label.sk-toggleable__label-arrow:hover:before {color: black;}#sk-container-id-56 div.sk-estimator:hover label.sk-toggleable__label-arrow:before {color: black;}#sk-container-id-56 div.sk-toggleable__content {max-height: 0;max-width: 0;overflow: hidden;text-align: left;background-color: #f0f8ff;}#sk-container-id-56 div.sk-toggleable__content pre {margin: 0.2em;color: black;border-radius: 0.25em;background-color: #f0f8ff;}#sk-container-id-56 input.sk-toggleable__control:checked~div.sk-toggleable__content {max-height: 200px;max-width: 100%;overflow: auto;}#sk-container-id-56 input.sk-toggleable__control:checked~label.sk-toggleable__label-arrow:before {content: \"▾\";}#sk-container-id-56 div.sk-estimator input.sk-toggleable__control:checked~label.sk-toggleable__label {background-color: #d4ebff;}#sk-container-id-56 div.sk-label input.sk-toggleable__control:checked~label.sk-toggleable__label {background-color: #d4ebff;}#sk-container-id-56 input.sk-hidden--visually {border: 0;clip: rect(1px 1px 1px 1px);clip: rect(1px, 1px, 1px, 1px);height: 1px;margin: -1px;overflow: hidden;padding: 0;position: absolute;width: 1px;}#sk-container-id-56 div.sk-estimator {font-family: monospace;background-color: #f0f8ff;border: 1px dotted black;border-radius: 0.25em;box-sizing: border-box;margin-bottom: 0.5em;}#sk-container-id-56 div.sk-estimator:hover {background-color: #d4ebff;}#sk-container-id-56 div.sk-parallel-item::after {content: \"\";width: 100%;border-bottom: 1px solid gray;flex-grow: 1;}#sk-container-id-56 div.sk-label:hover label.sk-toggleable__label {background-color: #d4ebff;}#sk-container-id-56 div.sk-serial::before {content: \"\";position: absolute;border-left: 1px solid gray;box-sizing: border-box;top: 0;bottom: 0;left: 50%;z-index: 0;}#sk-container-id-56 div.sk-serial {display: flex;flex-direction: column;align-items: center;background-color: white;padding-right: 0.2em;padding-left: 0.2em;position: relative;}#sk-container-id-56 div.sk-item {position: relative;z-index: 1;}#sk-container-id-56 div.sk-parallel {display: flex;align-items: stretch;justify-content: center;background-color: white;position: relative;}#sk-container-id-56 div.sk-item::before, #sk-container-id-56 div.sk-parallel-item::before {content: \"\";position: absolute;border-left: 1px solid gray;box-sizing: border-box;top: 0;bottom: 0;left: 50%;z-index: -1;}#sk-container-id-56 div.sk-parallel-item {display: flex;flex-direction: column;z-index: 1;position: relative;background-color: white;}#sk-container-id-56 div.sk-parallel-item:first-child::after {align-self: flex-end;width: 50%;}#sk-container-id-56 div.sk-parallel-item:last-child::after {align-self: flex-start;width: 50%;}#sk-container-id-56 div.sk-parallel-item:only-child::after {width: 0;}#sk-container-id-56 div.sk-dashed-wrapped {border: 1px dashed gray;margin: 0 0.4em 0.5em 0.4em;box-sizing: border-box;padding-bottom: 0.4em;background-color: white;}#sk-container-id-56 div.sk-label label {font-family: monospace;font-weight: bold;display: inline-block;line-height: 1.2em;}#sk-container-id-56 div.sk-label-container {text-align: center;}#sk-container-id-56 div.sk-container {/* jupyter's `normalize.less` sets `[hidden] { display: none; }` but bootstrap.min.css set `[hidden] { display: none !important; }` so we also need the `!important` here to be able to override the default hidden behavior on the sphinx rendered scikit-learn.org. See: https://github.com/scikit-learn/scikit-learn/issues/21755 */display: inline-block !important;position: relative;}#sk-container-id-56 div.sk-text-repr-fallback {display: none;}</style><div id=\"sk-container-id-56\" class=\"sk-top-container\"><div class=\"sk-text-repr-fallback\"><pre>SVR(C=1.5388177500383464, epsilon=1.9306977288832496e-05,\n",
              "    gamma=0.32374575428176466)</pre><b>In a Jupyter environment, please rerun this cell to show the HTML representation or trust the notebook. <br />On GitHub, the HTML representation is unable to render, please try loading this page with nbviewer.org.</b></div><div class=\"sk-container\" hidden><div class=\"sk-item\"><div class=\"sk-estimator sk-toggleable\"><input class=\"sk-toggleable__control sk-hidden--visually\" id=\"sk-estimator-id-112\" type=\"checkbox\" checked><label for=\"sk-estimator-id-112\" class=\"sk-toggleable__label sk-toggleable__label-arrow\">SVR</label><div class=\"sk-toggleable__content\"><pre>SVR(C=1.5388177500383464, epsilon=1.9306977288832496e-05,\n",
              "    gamma=0.32374575428176466)</pre></div></div></div></div></div>"
            ]
          },
          "metadata": {},
          "execution_count": 221
        }
      ]
    },
    {
      "cell_type": "code",
      "source": [
        "print(\"RMSE on Train Data: \", np.sqrt(np.mean((np.power(10,regressor.predict(x_train.reshape(-1,1)))-\n",
        "                                               np.power(10,y_train))**2) )) # 1 is the best score"
      ],
      "metadata": {
        "colab": {
          "base_uri": "https://localhost:8080/"
        },
        "id": "MaUjISc7hAju",
        "outputId": "108c4dc0-e3bc-414e-bf3e-92c4c4ec1d41"
      },
      "id": "MaUjISc7hAju",
      "execution_count": 222,
      "outputs": [
        {
          "output_type": "stream",
          "name": "stdout",
          "text": [
            "RMSE on Train Data:  107.99077436829451\n"
          ]
        }
      ]
    },
    {
      "cell_type": "code",
      "source": [
        "print(\"RMSE on Primary Test: \", np.sqrt(np.mean((np.power(10,regressor.predict(x_test.reshape(-1,1)))-np.power(10,y_test))**2) ))"
      ],
      "metadata": {
        "colab": {
          "base_uri": "https://localhost:8080/"
        },
        "id": "7HHStBujhDYl",
        "outputId": "fee7dbcb-a455-45aa-c322-d9f310633d35"
      },
      "id": "7HHStBujhDYl",
      "execution_count": 223,
      "outputs": [
        {
          "output_type": "stream",
          "name": "stdout",
          "text": [
            "RMSE on Primary Test:  132.67565092347803\n"
          ]
        }
      ]
    },
    {
      "cell_type": "code",
      "source": [
        "print(\"RMSE on Secondary Test: \", np.sqrt(np.mean((np.power(10,regressor.predict(x_stest.reshape(-1,1)))-np.power(10,y_stest))**2) ))"
      ],
      "metadata": {
        "id": "uJAJzR3tbvkz",
        "outputId": "2c712f25-c651-4306-b21d-67ace8dbef02",
        "colab": {
          "base_uri": "https://localhost:8080/"
        }
      },
      "id": "uJAJzR3tbvkz",
      "execution_count": 224,
      "outputs": [
        {
          "output_type": "stream",
          "name": "stdout",
          "text": [
            "RMSE on Secondary Test:  212.6519706701066\n"
          ]
        }
      ]
    },
    {
      "cell_type": "code",
      "source": [
        "print(\"MPE on Train Data: \",np.average(np.abs((10**regressor.predict(x_train.reshape(-1,1))-10**y_train)/10**y_train)))\n",
        "print(\"MPE on Primary Test: \",np.average(np.abs((10**regressor.predict(x_test.reshape(-1,1))-10**y_test)/10**y_test)))\n",
        "print(\"MPE on Secondary Test: \",np.average(np.abs((10**regressor.predict(x_stest.reshape(-1,1))-10**y_stest)/10**y_stest)))"
      ],
      "metadata": {
        "colab": {
          "base_uri": "https://localhost:8080/"
        },
        "id": "ysAChYklhF19",
        "outputId": "5f7209fc-4cdb-408e-e41b-13767c01555d"
      },
      "id": "ysAChYklhF19",
      "execution_count": 225,
      "outputs": [
        {
          "output_type": "stream",
          "name": "stdout",
          "text": [
            "MPE on Train Data:  0.15082100116291322\n",
            "MPE on Primary Test:  0.15612318626158994\n",
            "MPE on Secondary Test:  0.1590369439126576\n"
          ]
        }
      ]
    },
    {
      "cell_type": "markdown",
      "source": [
        "### **Exploratory Analysis**"
      ],
      "metadata": {
        "id": "9luU2uy8ktUV"
      },
      "id": "9luU2uy8ktUV"
    },
    {
      "cell_type": "code",
      "execution_count": null,
      "id": "6a84dda0",
      "metadata": {
        "id": "6a84dda0"
      },
      "outputs": [],
      "source": [
        "cycle_life = np.log10(data[:,0])\n",
        "DeltaQ_logVar = data[:,1]\n",
        "DeltaQ_Min = np.log10(-data[:, 2])\n",
        "DeltaQ_Skew = data[:, 3]\n",
        "DeltaQ_Kurt = data[:, 4]\n",
        "QD_Max_2 = data[:, 5]\n",
        "QD_2 = data[:, 6]\n",
        "slope_capacity_fade_2_100 = data[:, 7]\n",
        "intercept_capacity_fade_2_100 = data[:, 8]\n",
        "slope_capacity_fade_91_100 = data[:, 9]\n",
        "intercept_capacity_91_100 = data[:, 10]\n",
        "init_avg_charge_time = data[:, 11]\n",
        "avg_T = data[:, 12]\n",
        "min_IR = data[:, 13]\n",
        "IR_100_2 = data[:, 14]"
      ]
    },
    {
      "cell_type": "code",
      "execution_count": null,
      "id": "45e10a00",
      "metadata": {
        "id": "45e10a00",
        "outputId": "eed21e6c-af02-4944-edd8-5c813325953f"
      },
      "outputs": [
        {
          "data": {
            "text/plain": [
              "<matplotlib.collections.PathCollection at 0x7fb7899ccb80>"
            ]
          },
          "execution_count": 1408,
          "metadata": {},
          "output_type": "execute_result"
        },
        {
          "data": {
            "image/png": "[encoded data removed]",
            "text/plain": [
              "<Figure size 432x288 with 1 Axes>"
            ]
          },
          "metadata": {
            "needs_background": "light"
          },
          "output_type": "display_data"
        }
      ],
      "source": [
        "plt.scatter(cycle_life, DeltaQ_Min)"
      ]
    }
  ],
  "metadata": {
    "kernelspec": {
      "display_name": "Python 3",
      "language": "python",
      "name": "python3"
    },
    "language_info": {
      "codemirror_mode": {
        "name": "ipython",
        "version": 3
      },
      "file_extension": ".py",
      "mimetype": "text/x-python",
      "name": "python",
      "nbconvert_exporter": "python",
      "pygments_lexer": "ipython3",
      "version": "3.8.8"
    },
    "colab": {
      "provenance": []
    }
  },
  "nbformat": 4,
  "nbformat_minor": 5
}