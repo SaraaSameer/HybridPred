{
 "cells": [
  {
   "cell_type": "code",
   "execution_count": 4,
   "id": "41259671",
   "metadata": {},
   "outputs": [],
   "source": [
    "data = np.loadtxt('../Data/vardQ_.6f.csv',delimiter=',')"
   ]
  },
  {
   "cell_type": "code",
   "execution_count": 6,
   "id": "9c6173fe",
   "metadata": {},
   "outputs": [],
   "source": [
    "test_ind = np.array([ 0,  2,  4,  6,  8, 10, 12, 14, 16, 18, 20, 22, 24, 26, 28, 30, 32,\n",
    "       34, 36, 38, 40, 42, 44, 46, 48, 50, 52, 54, 56, 58, 60, 62, 64, 66,\n",
    "       68, 70, 72, 74, 76, 78, 80, 82, 83])\n",
    "\n",
    "train_ind = np.array([ 1,  3,  5,  7,  9, 11, 13, 15, 17, 19, 21, 23, 25, 27, 29, 31, 33,\n",
    "       35, 37, 39, 41, 43, 45, 47, 49, 51, 53, 55, 57, 59, 61, 63, 65, 67,\n",
    "       69, 71, 73, 75, 77, 79, 81])\n",
    "\n",
    "secondary_ind = np.array([ 84,  85,  86,  87,  88,  89,  90,  91,  92,  93,  94,  95,  96,\n",
    "        97,  98,  99, 100, 101, 102, 103, 104, 105, 106, 107, 108, 109,\n",
    "       110, 111, 112, 113, 114, 115, 116, 117, 118, 119, 120, 121, 122,\n",
    "       123])"
   ]
  },
  {
   "cell_type": "code",
   "execution_count": 41,
   "id": "333b476d",
   "metadata": {},
   "outputs": [
    {
     "name": "stdout",
     "output_type": "stream",
     "text": [
      "[2160.00123767 1433.99950032 1073.99930419  869.99949394  787.99960538\n",
      "  719.00018148  857.0003514   787.99960538  559.00024728 1017.00011024\n",
      "  869.99949394  859.99910644  708.99961606  730.99936551  742.00016183\n",
      "  704.00055254  616.99976696  965.99971881  701.99981875  616.00040826\n",
      "  299.99982405  437.99988855  444.00003055  511.0001175   476.99958369\n",
      "  482.99985458  494.0000581   461.0000792   489.00015862  527.00046693\n",
      "  461.0000792   468.00015833  497.99960696  491.99988358  519.99958855\n",
      "  463.00000958  478.00011379  459.00033235  428.99971138  462.000026\n",
      "  487.00004349]\n"
     ]
    }
   ],
   "source": [
    "x_train = 10**data[:, 0][train_ind]\n",
    "y_train = 10**data[:, 1][train_ind]\n",
    "\n",
    "x_test = 10**data[:, 0][test_ind]\n",
    "y_test = 10**data[:, 1][test_ind]\n",
    "\n",
    "x_stest = 10**data[:, 0][secondary_ind]\n",
    "y_stest = 10**data[:, 1][secondary_ind]"
   ]
  },
  {
   "cell_type": "code",
   "execution_count": 144,
   "id": "3bf996c3",
   "metadata": {},
   "outputs": [],
   "source": [
    "import numpy as np\n",
    "from pyesmda import ESMDA, ESMDA_RS\n",
    "import matplotlib.pyplot as plt\n",
    "\n",
    "\n",
    "def exponential(p, x):\n",
    "    \"\"\"\n",
    "    Simple exponential function with an amplitude and change factor.\n",
    "\n",
    "    Parameters\n",
    "    ----------\n",
    "    p : tuple, list\n",
    "        Parameters vector: amplitude i.e. initial value and change factor.\n",
    "    x : np.array\n",
    "        Independent variable (e.g. time).\n",
    "\n",
    "    Returns\n",
    "    -------\n",
    "    np.array\n",
    "        Result.\n",
    "\n",
    "    \"\"\"\n",
    "    return p[0] + p[1]*np.exp(p[2]*x)\n",
    "\n",
    "\n",
    "def forward_model(m_ensemble, x):\n",
    "    \"\"\"\n",
    "    Wrap the non-linear observation model (forward model).\n",
    "\n",
    "    Function calling the non-linear observation model (forward model).\n",
    "    for all ensemble members and returning the predicted data for\n",
    "    each ensemble member.\n",
    "\n",
    "    Parameters\n",
    "    ----------\n",
    "    m_ensemble : np.array\n",
    "        Initial ensemble of N_{e} parameters vector..\n",
    "    x : np.array\n",
    "        Independent variable (e.g. time).\n",
    "\n",
    "    Returns\n",
    "    -------\n",
    "    d_pred: np.array\n",
    "        Predicted data for each ensemble member.\n",
    "    \"\"\"\n",
    "    # Initiate an array of predicted results.\n",
    "    d_pred = np.zeros([m_ensemble.shape[0], x.shape[0]])\n",
    "    for j in range(m_ensemble.shape[0]):\n",
    "        # Calling the forward model for each member of the ensemble\n",
    "        d_pred[j, :] = exponential(m_ensemble[j, :], x)\n",
    "    return d_pred"
   ]
  },
  {
   "cell_type": "code",
   "execution_count": 146,
   "id": "d1a0c00a",
   "metadata": {},
   "outputs": [
    {
     "name": "stdout",
     "output_type": "stream",
     "text": [
      "Assimilation # 1\n",
      "Assimilation # 2\n",
      "Assimilation # 3\n",
      "Assimilation # 4\n",
      "Assimilation # 5\n",
      "Assimilation # 6\n",
      "Assimilation # 7\n",
      "Assimilation # 8\n",
      "Assimilation # 9\n",
      "Assimilation # 10\n",
      "Assimilation # 11\n",
      "Assimilation # 12\n",
      "Assimilation # 13\n",
      "Assimilation # 14\n",
      "Assimilation # 15\n",
      "Assimilation # 16\n",
      "Assimilation # 17\n",
      "Assimilation # 18\n",
      "Assimilation # 19\n",
      "Assimilation # 20\n",
      "Assimilation # 21\n",
      "Assimilation # 22\n",
      "Assimilation # 23\n",
      "Assimilation # 24\n",
      "Assimilation # 25\n",
      "Assimilation # 26\n",
      "Assimilation # 27\n",
      "Assimilation # 28\n",
      "Assimilation # 29\n",
      "Assimilation # 30\n",
      "a = 503.32470 +/- 4.4803E-01\n",
      "b = 1842.05847 +/-  2.256063E+00\n",
      "c = -15114.24136 +/-  2.612038E+01\n"
     ]
    }
   ],
   "source": [
    "# seed for the reproductibility\n",
    "seed = 0\n",
    "rng = np.random.default_rng(seed=seed)\n",
    "\n",
    "a = 10.0\n",
    "b = 2\n",
    "c=-2\n",
    "# timesteps\n",
    "x = x_train\n",
    "obs = y_train\n",
    "# Initiate an ensemble of (a, b) parameters\n",
    "n_ensemble = 10000  # size of the ensemble\n",
    "# Uniform law for the parameter a ensemble\n",
    "ma = rng.uniform(low=-10000.0, high=5000.0, size=n_ensemble)\n",
    "# Uniform law for the parameter b ensemble\n",
    "mb = rng.uniform(low=2, high=10000, size=n_ensemble)\n",
    "\n",
    "# Uniform law for the parameter b ensemble\n",
    "mc = rng.uniform(low=-50000, high=-1, size=n_ensemble)\n",
    "\n",
    "# Prior ensemble\n",
    "m_ensemble = np.stack((ma, mb, mc), axis=1)\n",
    "\n",
    "# Observation error covariance matrix\n",
    "cov_obs = np.diag([1.0] * obs.shape[0])\n",
    "\n",
    "# Bounds on parameters (size m * 2)\n",
    "m_bounds = np.array([[-10000.0, 5000.0], [2, 10000.0], [-50000, -1]])\n",
    "\n",
    "# Number of assimilations\n",
    "n_assimilations = 30\n",
    "\n",
    "# Use a geometric suite (see procedure un evensen 2018) to compte alphas.\n",
    "# Also explained in Torrado 2021 (see her PhD manuscript.)\n",
    "cov_obs_inflation_geo = 1.2\n",
    "cov_obs_inflation_factors = [1.1]\n",
    "for l in range(1, n_assimilations):\n",
    "    cov_obs_inflation_factors.append(\n",
    "        cov_obs_inflation_factors[l - 1] / cov_obs_inflation_geo\n",
    "    )\n",
    "scaling_factor: float = np.sum(1 / np.array(cov_obs_inflation_factors))\n",
    "cov_obs_inflation_factors = [\n",
    "    alpha * scaling_factor for alpha in cov_obs_inflation_factors\n",
    "]\n",
    "\n",
    "np.testing.assert_almost_equal(sum(1.0 / np.array(cov_obs_inflation_factors)), 1.0)\n",
    "\n",
    "# This is just for the test\n",
    "cov_mm_inflation_factors= [1.2] * n_assimilations\n",
    "\n",
    "solver = ESMDA(\n",
    "    obs,\n",
    "    m_ensemble,\n",
    "    cov_obs,\n",
    "    forward_model,\n",
    "    forward_model_args=(x,),\n",
    "    forward_model_kwargs={},\n",
    "    n_assimilations=n_assimilations,\n",
    "    cov_obs_inflation_factors=cov_obs_inflation_factors,\n",
    "    cov_mm_inflation_factors=cov_mm_inflation_factors,\n",
    "    m_bounds=m_bounds,\n",
    "    save_ensembles_history=True,\n",
    "    seed=seed\n",
    ")\n",
    "# Call the ES-MDA solver\n",
    "solver.solve()\n",
    "\n",
    "# Assert that the parameters are found with a 5% accuracy.\n",
    "#assert np.isclose(np.average(solver.m_prior, axis=0), np.array([a, b]), rtol=5e-2).all()\n",
    "\n",
    "# Get the approximated parameters\n",
    "a_approx, b_approx, c_approx = np.average(solver.m_prior, axis=0)\n",
    "\n",
    "# Get the uncertainty on the parameters\n",
    "a_std, b_std, c_std = np.sqrt(np.diagonal(solver.cov_mm))\n",
    "\n",
    "\n",
    "print(f\"a = {a_approx:.5f} +/- {a_std:.4E}\")\n",
    "print(f\"b = {b_approx:.5f} +/- {b_std: 4E}\")\n",
    "print(f\"c = {c_approx:.5f} +/- {c_std: 4E}\")"
   ]
  },
  {
   "cell_type": "code",
   "execution_count": 147,
   "id": "cb94ba3c",
   "metadata": {},
   "outputs": [
    {
     "data": {
      "text/plain": [
       "<matplotlib.collections.PathCollection at 0x7feee6469b20>"
      ]
     },
     "execution_count": 147,
     "metadata": {},
     "output_type": "execute_result"
    },
    {
     "data": {
      "image/png": "[encoded data removed]",
      "text/plain": [
       "<Figure size 640x480 with 1 Axes>"
      ]
     },
     "metadata": {},
     "output_type": "display_data"
    }
   ],
   "source": [
    "plt.scatter(x_train, y_train)\n",
    "plt.scatter(x_train, a_approx + b_approx*np.exp(c_approx*x_train), color=\"red\")"
   ]
  },
  {
   "cell_type": "code",
   "execution_count": 148,
   "id": "f9352f47",
   "metadata": {},
   "outputs": [
    {
     "name": "stdout",
     "output_type": "stream",
     "text": [
      "RMSE:  133.2239794327999\n"
     ]
    }
   ],
   "source": [
    "print(\"RMSE: \", np.sqrt(np.average(((a_approx + b_approx*np.exp(c_approx*x_test)) - y_test)**2)))"
   ]
  },
  {
   "cell_type": "code",
   "execution_count": 149,
   "id": "088d4eb5",
   "metadata": {},
   "outputs": [
    {
     "name": "stdout",
     "output_type": "stream",
     "text": [
      "RMSE:  233.54029584397816\n"
     ]
    }
   ],
   "source": [
    "print(\"RMSE: \", np.sqrt(np.average(((a_approx + b_approx*np.exp(c_approx*x_stest)) - y_stest)**2)))"
   ]
  },
  {
   "cell_type": "code",
   "execution_count": 150,
   "id": "2a350bae",
   "metadata": {},
   "outputs": [
    {
     "data": {
      "text/plain": [
       "<matplotlib.collections.PathCollection at 0x7fee9a5c8e20>"
      ]
     },
     "execution_count": 150,
     "metadata": {},
     "output_type": "execute_result"
    },
    {
     "data": {
      "image/png": "[encoded data removed]",
      "text/plain": [
       "<Figure size 640x480 with 1 Axes>"
      ]
     },
     "metadata": {},
     "output_type": "display_data"
    }
   ],
   "source": [
    "plt.scatter(x_stest, y_stest)\n",
    "plt.scatter(x_stest, a_approx + b_approx*np.exp(c_approx*x_stest), color=\"red\")"
   ]
  },
  {
   "cell_type": "code",
   "execution_count": null,
   "id": "1d40c9ad",
   "metadata": {},
   "outputs": [],
   "source": []
  }
 ],
 "metadata": {
  "kernelspec": {
   "display_name": "Python 3 (ipykernel)",
   "language": "python",
   "name": "python3"
  },
  "language_info": {
   "codemirror_mode": {
    "name": "ipython",
    "version": 3
   },
   "file_extension": ".py",
   "mimetype": "text/x-python",
   "name": "python",
   "nbconvert_exporter": "python",
   "pygments_lexer": "ipython3",
   "version": "3.8.8"
  }
 },
 "nbformat": 4,
 "nbformat_minor": 5
}
