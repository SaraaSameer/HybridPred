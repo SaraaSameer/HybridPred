{
 "cells": [
  {
   "cell_type": "code",
   "execution_count": 1,
   "metadata": {},
   "outputs": [],
   "source": [
    "import numpy as np\n",
    "import math\n",
    "import matplotlib.pyplot as plt\n",
    "import pandas as pd\n",
    "import pickle\n",
    "import torch\n",
    "import torch.nn as nn\n",
    "from torch.utils.data import DataLoader, TensorDataset\n",
    "\n",
    "from models import *\n",
    "from data_split import *"
   ]
  },
  {
   "cell_type": "code",
   "execution_count": 2,
   "metadata": {},
   "outputs": [],
   "source": [
    "data = pickle.load(open(r'../Data/deltaQ_cycles_v3.pkl', 'rb'))"
   ]
  },
  {
   "cell_type": "code",
   "execution_count": 10,
   "metadata": {},
   "outputs": [],
   "source": [
    "n_cycles = 98\n",
    "cut_start = 0\n",
    "\n",
    "features = [\n",
    "    \"DeltaQ_logVars\",\n",
    "    \"DeltaQ_mins\",\n",
    "    # \"DeltaQ_means\",\n",
    "    \"DeltaT_max\",\n",
    "    # \"DeltaT_var\",\n",
    "]\n",
    "\n",
    "n_cycles = n_cycles - cut_start\n",
    "y = np.zeros(124)\n",
    "x = np.zeros((124, n_cycles*len(features)))\n",
    "\n",
    "for i, cell in enumerate(data.keys()):\n",
    "    for j, feature in enumerate(features):\n",
    "        x[i, j*n_cycles:(j+1)*n_cycles] = data[cell][feature][cut_start:]\n",
    "    y[i] = np.log10(data[cell][\"cycle_life\"])\n",
    "\n",
    "# convert to tensors and concatenate features and labels\n",
    "x = torch.Tensor(x)\n",
    "y = torch.Tensor(y)"
   ]
  },
  {
   "cell_type": "code",
   "execution_count": 11,
   "metadata": {},
   "outputs": [],
   "source": [
    "test_ind = np.array([ 0,  2,  4,  6,  8, 10, 12, 14, 16, 18, 20, 22, 24, 26, 28, 30, 32,\n",
    "       34, 36, 38, 40, 42, 44, 46, 48, 50, 52, 54, 56, 58, 60, 62, 64, 66,\n",
    "       68, 70, 72, 74, 76, 78, 80, 82, 83])\n",
    "\n",
    "train_ind = np.array([ 1,  3, 5,  7,  9, 11, 13, 15, 17, 19, 21, 23, 25, 27, 29, 31, 33,\n",
    "       35, 37, 39, 41, 43, 45, 47, 49, 51, 53, 55, 57, 59, 61, 63, 65, 67,\n",
    "       69, 71, 73, 75, 77, 79, 81])\n",
    "\n",
    "secondary_ind = np.array([ 84,  85,  86,  87,  88,  89,  90,  91,  92,  93,  94,  95,  96,\n",
    "        97,  98,  99, 100, 101, 102, 103, 104, 105, 106, 107, 108, 109,\n",
    "       110, 111, 112, 113, 114, 115, 116, 117, 118, 119, 120, 121, 122,\n",
    "       123])"
   ]
  },
  {
   "cell_type": "code",
   "execution_count": 12,
   "metadata": {},
   "outputs": [],
   "source": [
    "train = TensorDataset(torch.Tensor(x[train_ind]),torch.Tensor(y[train_ind]))\n",
    "test = TensorDataset(torch.Tensor(x[test_ind]),torch.Tensor(y[test_ind]))\n",
    "stest = TensorDataset(torch.Tensor(x[secondary_ind]),torch.Tensor(y[secondary_ind]))"
   ]
  },
  {
   "cell_type": "code",
   "execution_count": 6,
   "metadata": {},
   "outputs": [],
   "source": [
    "class AutoEncoder(nn.Module):\n",
    "    def __init__(self, n_features, n_cycles=98):\n",
    "        super(AutoEncoder, self).__init__()\n",
    "\n",
    "        self.n_features = n_features\n",
    "        self.n_cycles = n_cycles\n",
    "\n",
    "        self.encoder = nn.Sequential(\n",
    "            nn.Linear(n_features*n_cycles, n_features*32),\n",
    "            nn.ReLU(),\n",
    "            nn.Linear(n_features*32, n_features*16),\n",
    "            #nn.ReLU(),\n",
    "            #nn.Linear(n_features*16, n_features*8),\n",
    "            nn.ReLU()\n",
    "        )\n",
    "\n",
    "        self.decoder = nn.Sequential(\n",
    "            #nn.Linear(n_features*8, n_features*16),\n",
    "            #nn.ReLU(),\n",
    "            nn.Linear(n_features*16, n_features*32),\n",
    "            nn.ReLU(),\n",
    "            nn.Linear(n_features*32, n_features*n_cycles)\n",
    "        )\n",
    "\n",
    "    def forward(self, x):\n",
    "        self.eval()\n",
    "        encoded = self.encoder(x)\n",
    "        decoded = self.decoder(encoded)\n",
    "        return encoded,decoded"
   ]
  },
  {
   "cell_type": "code",
   "execution_count": 21,
   "metadata": {},
   "outputs": [],
   "source": [
    "class FullModel(nn.Module):\n",
    "    def __init__(self, d_model, n_features, n_cycles=98, attn_model=\"softmax\", skip_connect=0):\n",
    "        super(FullModel, self).__init__()\n",
    "\n",
    "        self.autoencoder = AutoEncoder(n_features=n_features,n_cycles=n_cycles)\n",
    "        self.attn = AttentionModel2(d_model=d_model, feat_dim=1, n_cycle=n_features*16, attn_model=attn_model, skip_connect=skip_connect)\n",
    "\n",
    "    def forward(self, x): \n",
    "        \n",
    "        encoded, decoded = self.autoencoder(x)# batch_size*seq_len\n",
    "        output = self.attn(encoded)\n",
    "        return output,decoded"
   ]
  },
  {
   "cell_type": "code",
   "execution_count": 22,
   "metadata": {},
   "outputs": [],
   "source": [
    "d_model = 2\n",
    "n_features = 3\n",
    "lr = 0.0001\n",
    "nepoch = 500\n",
    "batch_size = 1\n",
    "alpha = 0.5"
   ]
  },
  {
   "cell_type": "code",
   "execution_count": 9,
   "metadata": {},
   "outputs": [],
   "source": [
    "use_cuda = torch.cuda.is_available()\n",
    "device = torch.device(\"cuda\" if use_cuda else \"cpu\")"
   ]
  },
  {
   "cell_type": "code",
   "execution_count": 23,
   "metadata": {},
   "outputs": [
    {
     "name": "stderr",
     "output_type": "stream",
     "text": [
      "c:\\Users\\kyan3\\miniconda3\\envs\\toyota\\lib\\site-packages\\torch\\nn\\modules\\loss.py:536: UserWarning: Using a target size (torch.Size([1])) that is different to the input size (torch.Size([1, 1, 1])). This will likely lead to incorrect results due to broadcasting. Please ensure they have the same size.\n",
      "  return F.mse_loss(input, target, reduction=self.reduction)\n"
     ]
    },
    {
     "name": "stdout",
     "output_type": "stream",
     "text": [
      "Epochs: 50 | rmse:  96.098 | rmse_test:  115.972 | rmse_stest:  362.849\n",
      "Epochs: 100 | rmse:  90.376 | rmse_test:  306.855 | rmse_stest:  580.253\n",
      "Epochs: 150 | rmse:  67.092 | rmse_test:  107.821 | rmse_stest:  364.389\n",
      "Epochs: 200 | rmse:  87.483 | rmse_test:  171.597 | rmse_stest:  459.341\n",
      "Epochs: 250 | rmse:  80.067 | rmse_test:  109.991 | rmse_stest:  368.588\n",
      "Epochs: 300 | rmse:  60.183 | rmse_test:  110.112 | rmse_stest:  378.835\n",
      "Epochs: 350 | rmse:  49.652 | rmse_test:  113.820 | rmse_stest:  395.327\n",
      "Epochs: 400 | rmse:  46.664 | rmse_test:  116.512 | rmse_stest:  357.745\n",
      "Epochs: 450 | rmse:  74.639 | rmse_test:  167.256 | rmse_stest:  309.497\n",
      "Epochs: 500 | rmse:  84.427 | rmse_test:  107.524 | rmse_stest:  380.937\n"
     ]
    }
   ],
   "source": [
    "# Load nodel, loss function, and optimizer\n",
    "model = FullModel(d_model=d_model, n_features=n_features, skip_connect=1)\n",
    "criterion = nn.MSELoss().to(device)\n",
    "optimizer = torch.optim.Adam(model.parameters(), lr=lr, weight_decay=10e-6)\n",
    "\n",
    "model.train()\n",
    "\n",
    "# Training loop\n",
    "for i in range(nepoch):\n",
    "    total_loss_train = 0.0\n",
    "    total_loss_test = 0.0\n",
    "    total_loss_stest = 0.0\n",
    "\n",
    "    train_batched = DataLoader(train,batch_size=batch_size,shuffle=True)\n",
    "    test_batched = DataLoader(test,batch_size=1)\n",
    "    stest_batched = DataLoader(stest,batch_size=1)\n",
    "\n",
    "    for j,batch in enumerate(train_batched):\n",
    "        optimizer.zero_grad()\n",
    "        train_input, train_label = batch\n",
    "        output,decoded = model(train_input.to(device))\n",
    "        \n",
    "        pred_loss = criterion(10**output, 10**train_label)\n",
    "        loss = pred_loss + alpha*criterion(train_input,decoded)\n",
    "        total_loss_train += pred_loss.item()\n",
    "\n",
    "        loss.backward()\n",
    "        optimizer.step()\n",
    "\n",
    "    for cell in test_batched:\n",
    "        test_input, test_label = cell\n",
    "        test_output,_ = model(test_input.to(device))\n",
    "        test_loss = criterion(10**test_output, 10**test_label)\n",
    "\n",
    "        total_loss_test += test_loss.item()\n",
    "\n",
    "    for cell in stest_batched:\n",
    "        stest_input, stest_label = cell\n",
    "        stest_output,_ = model(stest_input.to(device))\n",
    "        stest_loss = criterion(10**stest_output, 10**stest_label)\n",
    "        \n",
    "\n",
    "        # print(i, output, train_label, loss)\n",
    "        total_loss_stest += stest_loss.item()\n",
    "\n",
    "    rmse_train = np.sqrt(total_loss_train / (j+1))\n",
    "    rmse_test = np.sqrt(total_loss_test / len(test))\n",
    "    rmse_stest = np.sqrt(total_loss_stest / len(stest))\n",
    "    #wandb.log({\"Epoch\": i+1, \"RMSE_train\": rmse_train, \"RMSE_test\": rmse_test, \"RMSE_stest\": rmse_stest})\n",
    "    if (i+1)%50 == 0: \n",
    "        print(f'Epochs: {i + 1} | rmse: {rmse_train: .3f} | rmse_test: {rmse_test: .3f} | rmse_stest: {rmse_stest: .3f}')\n",
    "\n",
    "#wandb.finish()"
   ]
  },
  {
   "cell_type": "code",
   "execution_count": 60,
   "metadata": {},
   "outputs": [],
   "source": [
    "plt.style.use(\"seaborn-v0_8\")\n",
    "from matplotlib.patches import Patch"
   ]
  },
  {
   "cell_type": "code",
   "execution_count": 96,
   "metadata": {},
   "outputs": [
    {
     "name": "stdout",
     "output_type": "stream",
     "text": [
      "76.51348859710056\n",
      "90.97172663234227\n",
      "270.1632909498226\n"
     ]
    },
    {
     "data": {
      "text/plain": [
       "(0.0, 2500.0)"
      ]
     },
     "execution_count": 96,
     "metadata": {},
     "output_type": "execute_result"
    },
    {
     "data": {
      "image/png": "[encoded data removed]",
      "text/plain": [
       "<Figure size 800x550 with 1 Axes>"
      ]
     },
     "metadata": {},
     "output_type": "display_data"
    }
   ],
   "source": [
    "fig,ax = plt.subplots()\n",
    "colors = [\"blue\",\"red\",\"orange\"]\n",
    "for i,dataset in enumerate([train,test,stest]):\n",
    "    predicted =[]\n",
    "    labels = []\n",
    "    for cell in dataset:\n",
    "        input, label = cell\n",
    "        predicted.append(10**model(input[None,:].to(device))[0].detach().numpy()[0,0])\n",
    "        labels.append(10**label)\n",
    "    print(np.sqrt(np.mean(np.power(np.array(predicted)-np.array(labels),2))))\n",
    "\n",
    "    ax.plot(labels, predicted, \".\",color=colors[i])\n",
    "    ax.set_xlabel(\"Truth\")\n",
    "    ax.set_ylabel(\"Predicted\")\n",
    "\n",
    "ax.plot(np.linspace(250,2250),np.linspace(250,2250),color=\"black\")\n",
    "ax.set_title(\"Battery Life Predictions by Transformer\",fontweight=\"semibold\")\n",
    "\n",
    "legend_elements = [Patch(facecolor='blue', label='Train'),\n",
    "                   Patch(facecolor='red', label='Test'),\n",
    "                   Patch(facecolor='orange', label='Secondary test')]\n",
    "ax.legend(handles=legend_elements)\n",
    "ax.set_ylim([0,2500])\n",
    "#plt.savefig(\"../images/transformer_output.png\",dpi=300)"
   ]
  },
  {
   "cell_type": "code",
   "execution_count": null,
   "metadata": {},
   "outputs": [],
   "source": []
  }
 ],
 "metadata": {
  "kernelspec": {
   "display_name": "toyota",
   "language": "python",
   "name": "python3"
  },
  "language_info": {
   "codemirror_mode": {
    "name": "ipython",
    "version": 3
   },
   "file_extension": ".py",
   "mimetype": "text/x-python",
   "name": "python",
   "nbconvert_exporter": "python",
   "pygments_lexer": "ipython3",
   "version": "3.10.11"
  },
  "orig_nbformat": 4
 },
 "nbformat": 4,
 "nbformat_minor": 2
}
