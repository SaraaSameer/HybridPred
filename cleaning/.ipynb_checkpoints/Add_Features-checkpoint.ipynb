{
 "cells": [
  {
   "cell_type": "code",
   "execution_count": 6,
   "metadata": {
    "collapsed": true
   },
   "outputs": [],
   "source": [
    "import numpy as np\n",
    "import matplotlib.pyplot as plt\n",
    "from scipy.interpolate import UnivariateSpline\n",
    "import pickle\n",
    "import pandas as pd"
   ]
  },
  {
   "cell_type": "markdown",
   "metadata": {},
   "source": [
    "## Load and combine raw data from all three batches"
   ]
  },
  {
   "cell_type": "code",
   "execution_count": 7,
   "metadata": {},
   "outputs": [],
   "source": [
    "batch1 = pickle.load(open(r'..\\Data\\batch1.pkl', 'rb'))\n",
    "#remove batteries that do not reach 80% capacity\n",
    "del batch1['b1c8']\n",
    "del batch1['b1c10']\n",
    "del batch1['b1c12']\n",
    "del batch1['b1c13']\n",
    "del batch1['b1c22']"
   ]
  },
  {
   "cell_type": "code",
   "execution_count": 8,
   "metadata": {},
   "outputs": [
    {
     "data": {
      "text/plain": [
       "41"
      ]
     },
     "execution_count": 8,
     "metadata": {},
     "output_type": "execute_result"
    }
   ],
   "source": [
    "numBat1 = len(batch1.keys())\n",
    "numBat1"
   ]
  },
  {
   "cell_type": "code",
   "execution_count": 9,
   "metadata": {},
   "outputs": [],
   "source": [
    "batch2 = pickle.load(open(r'..\\Data\\batch2.pkl','rb'))"
   ]
  },
  {
   "cell_type": "code",
   "execution_count": 10,
   "metadata": {
    "collapsed": true
   },
   "outputs": [],
   "source": [
    "# There are four cells from batch1 that carried into batch2, we'll remove the data from batch2\n",
    "# and put it with the correct cell from batch1\n",
    "batch2_keys = ['b2c7', 'b2c8', 'b2c9', 'b2c15', 'b2c16']\n",
    "batch1_keys = ['b1c0', 'b1c1', 'b1c2', 'b1c3', 'b1c4']\n",
    "add_len = [662, 981, 1060, 208, 482];"
   ]
  },
  {
   "cell_type": "code",
   "execution_count": 11,
   "metadata": {},
   "outputs": [],
   "source": [
    "for i, bk in enumerate(batch1_keys):\n",
    "    batch1[bk]['cycle_life'] = batch1[bk]['cycle_life'] + add_len[i]\n",
    "    for j in batch1[bk]['summary'].keys():\n",
    "        if j == 'cycle':\n",
    "            batch1[bk]['summary'][j] = np.hstack((batch1[bk]['summary'][j], batch2[batch2_keys[i]]['summary'][j] + len(batch1[bk]['summary'][j])))\n",
    "        else:\n",
    "            batch1[bk]['summary'][j] = np.hstack((batch1[bk]['summary'][j], batch2[batch2_keys[i]]['summary'][j]))\n",
    "    last_cycle = len(batch1[bk]['cycles'].keys())\n",
    "    for j, jk in enumerate(batch2[batch2_keys[i]]['cycles'].keys()):\n",
    "        batch1[bk]['cycles'][str(last_cycle + j)] = batch2[batch2_keys[i]]['cycles'][jk]"
   ]
  },
  {
   "cell_type": "code",
   "execution_count": 12,
   "metadata": {
    "collapsed": true
   },
   "outputs": [],
   "source": [
    "del batch2['b2c7']\n",
    "del batch2['b2c8']\n",
    "del batch2['b2c9']\n",
    "del batch2['b2c15']\n",
    "del batch2['b2c16']"
   ]
  },
  {
   "cell_type": "code",
   "execution_count": 13,
   "metadata": {},
   "outputs": [
    {
     "data": {
      "text/plain": [
       "43"
      ]
     },
     "execution_count": 13,
     "metadata": {},
     "output_type": "execute_result"
    }
   ],
   "source": [
    "numBat2 = len(batch2.keys())\n",
    "numBat2"
   ]
  },
  {
   "cell_type": "code",
   "execution_count": 14,
   "metadata": {
    "collapsed": true
   },
   "outputs": [],
   "source": [
    "batch3 = pickle.load(open(r'..\\Data\\batch3.pkl','rb'))\n",
    "# remove noisy channels from batch3\n",
    "del batch3['b3c37']\n",
    "del batch3['b3c2']\n",
    "del batch3['b3c23']\n",
    "del batch3['b3c32']\n",
    "del batch3['b3c42']\n",
    "del batch3['b3c43']"
   ]
  },
  {
   "cell_type": "code",
   "execution_count": 15,
   "metadata": {},
   "outputs": [
    {
     "data": {
      "text/plain": [
       "40"
      ]
     },
     "execution_count": 15,
     "metadata": {},
     "output_type": "execute_result"
    }
   ],
   "source": [
    "numBat3 = len(batch3.keys())\n",
    "numBat3"
   ]
  },
  {
   "cell_type": "code",
   "execution_count": 16,
   "metadata": {},
   "outputs": [
    {
     "data": {
      "text/plain": [
       "124"
      ]
     },
     "execution_count": 16,
     "metadata": {},
     "output_type": "execute_result"
    }
   ],
   "source": [
    "numBat = numBat1 + numBat2 + numBat3\n",
    "numBat"
   ]
  },
  {
   "cell_type": "code",
   "execution_count": 17,
   "metadata": {
    "collapsed": true
   },
   "outputs": [],
   "source": [
    "bat_dict = {**batch1, **batch2, **batch3}"
   ]
  },
  {
   "cell_type": "markdown",
   "metadata": {},
   "source": [
    "## Build dictionary "
   ]
  },
  {
   "cell_type": "code",
   "execution_count": 143,
   "metadata": {},
   "outputs": [],
   "source": [
    "feature_dict = {}\n",
    "for id in bat_dict.keys():\n",
    "    feature_dict[id] = {\"cycle_life\":bat_dict[id][\"cycle_life\"][0][0]}"
   ]
  },
  {
   "cell_type": "markdown",
   "metadata": {},
   "source": [
    "## Calculate $\\Delta Q_{100 - 10}$ features"
   ]
  },
  {
   "cell_type": "code",
   "execution_count": 144,
   "metadata": {},
   "outputs": [],
   "source": [
    "def crop_data(id,cycle):\n",
    "    # isolate discharging data\n",
    "    cropped = np.array([[Q, V] for Q, V in zip(bat_dict[id][\"cycles\"][cycle][\"Qd\"], bat_dict[id][\"cycles\"][cycle][\"V\"]) if Q > 1e-5])\n",
    "    for i, datapoint in enumerate(cropped):\n",
    "        if datapoint[1] < cropped[i+1, 1]:\n",
    "            if datapoint[1] < 2.2: # identify where discharging ends\n",
    "                end = i+1\n",
    "                break\n",
    "            else: # this is an anomalous increase in voltage; remove so voltage is decreasing\n",
    "                cropped[i+1, 1] = cropped[i, 1]\n",
    "    cropped = cropped[:end]    \n",
    "    x = np.flip(cropped[:, 1])\n",
    "    y = np.flip(cropped[:, 0])\n",
    "    return x,y"
   ]
  },
  {
   "cell_type": "code",
   "execution_count": 139,
   "metadata": {},
   "outputs": [],
   "source": [
    "from scipy.stats import skew, kurtosis\n",
    "\n",
    "xs = np.linspace(2,3.5,1000)\n",
    "\n",
    "def interpolate_spline(id):\n",
    "    x_100,y_100 = crop_data(id,\"100\")\n",
    "    x_10,y_10 = crop_data(id,\"10\")\n",
    "\n",
    "    cs_100 = UnivariateSpline(x_100,y_100,s=0.001)\n",
    "    cs_10 = UnivariateSpline(x_10,y_10,s=0.001)\n",
    "    return cs_10, cs_100\n",
    "\n",
    "def get_var(id):\n",
    "    cs_10, cs_100 = interpolate_spline(id)\n",
    "    return np.log10(np.var(cs_100(xs) - cs_10(xs)))\n",
    "\n",
    "def get_min(id):\n",
    "    cs_10, cs_100 = interpolate_spline(id)\n",
    "    return np.min(cs_100(xs) - cs_10(xs))\n",
    "\n",
    "def get_skew(id):\n",
    "    cs_10, cs_100 = interpolate_spline(id)\n",
    "    return skew(cs_100(xs) - cs_10(xs))\n",
    "\n",
    "def get_kurt(id):\n",
    "    cs_10, cs_100 = interpolate_spline(id)\n",
    "    return kurtosis(cs_100(xs) - cs_10(xs))"
   ]
  },
  {
   "cell_type": "code",
   "execution_count": 145,
   "metadata": {},
   "outputs": [],
   "source": [
    "for id in bat_dict.keys():\n",
    "    feature_dict[id][\"DeltaQ_logVar\"] = get_var(id)\n",
    "    feature_dict[id][\"DeltaQ_Min\"] = get_min(id)\n",
    "    feature_dict[id][\"DeltaQ_Skew\"] = get_skew(id)\n",
    "    feature_dict[id][\"DeltaQ_Kurt\"] = get_kurt(id)"
   ]
  },
  {
   "cell_type": "markdown",
   "metadata": {},
   "source": [
    "## Discharge capacity curve features"
   ]
  },
  {
   "cell_type": "code",
   "execution_count": 150,
   "metadata": {},
   "outputs": [],
   "source": [
    "for id in bat_dict.keys():\n",
    "    # difference between max discharge capacity and cycle 2\n",
    "    feature_dict[id][\"QD_Max-2\"] = (np.max(bat_dict[id][\"summary\"][\"QD\"])-bat_dict[id][\"summary\"][\"QD\"][1])\n",
    "\n",
    "    # discharge capacity at cycle 2\n",
    "    feature_dict[id][\"QD_2\"] = bat_dict[id][\"summary\"][\"QD\"][1]\n",
    "\n",
    "    # slope of linear fit to capacity fade curve, cycles 2 to 100\n",
    "    linear_fit = np.polyfit(np.linspace(2,100,99),bat_dict[id][\"summary\"][\"QD\"][1:100],deg=1)\n",
    "    feature_dict[id][\"slope_capacity_fade_2-100\"] = linear_fit[0]\n",
    "\n",
    "    # intercept of linear fit to capacity fade curve, cycles 2 to 100\n",
    "    feature_dict[id][\"intercept_capacity_fade_2-100\"] = linear_fit[1]\n",
    "\n",
    "    # slope of linear fit to capacity fade curve, cycles 91 to 100\n",
    "    linear_fit_2 = np.polyfit(np.linspace(91,100,10),bat_dict[id][\"summary\"][\"QD\"][90:100],deg=1)\n",
    "    feature_dict[id][\"slope_capacity_fade_91-100\"] = linear_fit_2[0]\n",
    "\n",
    "    # intercept of linear fit to capacity fade curve, cycles 91 to 100\n",
    "    feature_dict[id][\"intercept_capacity_91-100\"] = linear_fit_2[1]\n"
   ]
  },
  {
   "cell_type": "markdown",
   "metadata": {},
   "source": [
    "## Other Features"
   ]
  },
  {
   "cell_type": "code",
   "execution_count": 157,
   "metadata": {},
   "outputs": [],
   "source": [
    "for id in bat_dict.keys():\n",
    "    # average charge time, first five cycles\n",
    "    feature_dict[id][\"init_avg_charge_time\"] = np.mean(bat_dict[id][\"summary\"][\"chargetime\"][1:6])\n",
    "\n",
    "    # average temperature over time, cycles 2 through 100\n",
    "    feature_dict[id][\"avg_T\"] = np.mean(bat_dict[id][\"summary\"][\"Tavg\"][1:100])\n",
    "\n",
    "    # minimum internal resistance, cycles 2 through 100\n",
    "    feature_dict[id][\"min_IR\"] = np.min(bat_dict[id][\"summary\"][\"IR\"][1:100])\n",
    "\n",
    "    # internal resistance, difference between cycle 100 and cycle 2\n",
    "    feature_dict[id][\"IR_100-2\"] = bat_dict[id][\"summary\"][\"IR\"][99]-bat_dict[id][\"summary\"][\"IR\"][1]"
   ]
  },
  {
   "cell_type": "code",
   "execution_count": 158,
   "metadata": {},
   "outputs": [],
   "source": [
    "feature_df = pd.DataFrame.from_dict(feature_dict,orient=\"index\")"
   ]
  },
  {
   "cell_type": "code",
   "execution_count": 160,
   "metadata": {},
   "outputs": [],
   "source": [
    "feature_df.to_csv(\"../Data/features.csv\")"
   ]
  },
  {
   "cell_type": "markdown",
   "metadata": {},
   "source": [
    "## To read data"
   ]
  },
  {
   "cell_type": "code",
   "execution_count": 161,
   "metadata": {},
   "outputs": [
    {
     "data": {
      "text/html": [
       "<div>\n",
       "<style scoped>\n",
       "    .dataframe tbody tr th:only-of-type {\n",
       "        vertical-align: middle;\n",
       "    }\n",
       "\n",
       "    .dataframe tbody tr th {\n",
       "        vertical-align: top;\n",
       "    }\n",
       "\n",
       "    .dataframe thead th {\n",
       "        text-align: right;\n",
       "    }\n",
       "</style>\n",
       "<table border=\"1\" class=\"dataframe\">\n",
       "  <thead>\n",
       "    <tr style=\"text-align: right;\">\n",
       "      <th></th>\n",
       "      <th>Unnamed: 0</th>\n",
       "      <th>cycle_life</th>\n",
       "      <th>DeltaQ_logVar</th>\n",
       "      <th>DeltaQ_Min</th>\n",
       "      <th>DeltaQ_Skew</th>\n",
       "      <th>DeltaQ_Kurt</th>\n",
       "      <th>QD_Max-2</th>\n",
       "      <th>QD_2</th>\n",
       "      <th>slope_capacity_fade_2-100</th>\n",
       "      <th>intercept_capacity_fade_2-100</th>\n",
       "      <th>slope_capacity_fade_91-100</th>\n",
       "      <th>intercept_capacity_91-100</th>\n",
       "      <th>init_avg_charge_time</th>\n",
       "      <th>avg_T</th>\n",
       "      <th>min_IR</th>\n",
       "      <th>IR_100-2</th>\n",
       "    </tr>\n",
       "  </thead>\n",
       "  <tbody>\n",
       "    <tr>\n",
       "      <th>0</th>\n",
       "      <td>b1c0</td>\n",
       "      <td>1852.0</td>\n",
       "      <td>-4.836170</td>\n",
       "      <td>-0.009054</td>\n",
       "      <td>0.443416</td>\n",
       "      <td>0.342752</td>\n",
       "      <td>0.468365</td>\n",
       "      <td>1.070689</td>\n",
       "      <td>-0.000207</td>\n",
       "      <td>1.091144</td>\n",
       "      <td>0.000035</td>\n",
       "      <td>1.072425</td>\n",
       "      <td>13.374894</td>\n",
       "      <td>31.603747</td>\n",
       "      <td>0.016444</td>\n",
       "      <td>-0.000075</td>\n",
       "    </tr>\n",
       "    <tr>\n",
       "      <th>1</th>\n",
       "      <td>b1c1</td>\n",
       "      <td>2160.0</td>\n",
       "      <td>-4.988991</td>\n",
       "      <td>-0.010529</td>\n",
       "      <td>0.072319</td>\n",
       "      <td>-0.156308</td>\n",
       "      <td>0.009288</td>\n",
       "      <td>1.075301</td>\n",
       "      <td>0.000006</td>\n",
       "      <td>1.080965</td>\n",
       "      <td>-0.000041</td>\n",
       "      <td>1.084767</td>\n",
       "      <td>13.409150</td>\n",
       "      <td>31.330314</td>\n",
       "      <td>0.000000</td>\n",
       "      <td>-0.000042</td>\n",
       "    </tr>\n",
       "    <tr>\n",
       "      <th>2</th>\n",
       "      <td>b1c2</td>\n",
       "      <td>2237.0</td>\n",
       "      <td>-4.812421</td>\n",
       "      <td>-0.013186</td>\n",
       "      <td>0.059164</td>\n",
       "      <td>0.621248</td>\n",
       "      <td>0.008131</td>\n",
       "      <td>1.079922</td>\n",
       "      <td>0.000010</td>\n",
       "      <td>1.084846</td>\n",
       "      <td>-0.000044</td>\n",
       "      <td>1.089364</td>\n",
       "      <td>13.358242</td>\n",
       "      <td>31.479584</td>\n",
       "      <td>0.000000</td>\n",
       "      <td>-0.000014</td>\n",
       "    </tr>\n",
       "    <tr>\n",
       "      <th>3</th>\n",
       "      <td>b1c3</td>\n",
       "      <td>1434.0</td>\n",
       "      <td>-4.371544</td>\n",
       "      <td>-0.018933</td>\n",
       "      <td>-0.353850</td>\n",
       "      <td>-1.072029</td>\n",
       "      <td>0.006530</td>\n",
       "      <td>1.079723</td>\n",
       "      <td>0.000017</td>\n",
       "      <td>1.084075</td>\n",
       "      <td>-0.000004</td>\n",
       "      <td>1.085131</td>\n",
       "      <td>12.025140</td>\n",
       "      <td>29.942199</td>\n",
       "      <td>0.000000</td>\n",
       "      <td>0.000039</td>\n",
       "    </tr>\n",
       "    <tr>\n",
       "      <th>4</th>\n",
       "      <td>b1c4</td>\n",
       "      <td>1709.0</td>\n",
       "      <td>-4.533900</td>\n",
       "      <td>-0.017832</td>\n",
       "      <td>-0.257654</td>\n",
       "      <td>-0.549822</td>\n",
       "      <td>0.005900</td>\n",
       "      <td>1.078417</td>\n",
       "      <td>0.000019</td>\n",
       "      <td>1.081875</td>\n",
       "      <td>-0.000029</td>\n",
       "      <td>1.085538</td>\n",
       "      <td>12.041851</td>\n",
       "      <td>31.448884</td>\n",
       "      <td>0.000000</td>\n",
       "      <td>-0.000053</td>\n",
       "    </tr>\n",
       "  </tbody>\n",
       "</table>\n",
       "</div>"
      ],
      "text/plain": [
       "  Unnamed: 0  cycle_life  DeltaQ_logVar  DeltaQ_Min  DeltaQ_Skew  DeltaQ_Kurt  \\\n",
       "0       b1c0      1852.0      -4.836170   -0.009054     0.443416     0.342752   \n",
       "1       b1c1      2160.0      -4.988991   -0.010529     0.072319    -0.156308   \n",
       "2       b1c2      2237.0      -4.812421   -0.013186     0.059164     0.621248   \n",
       "3       b1c3      1434.0      -4.371544   -0.018933    -0.353850    -1.072029   \n",
       "4       b1c4      1709.0      -4.533900   -0.017832    -0.257654    -0.549822   \n",
       "\n",
       "   QD_Max-2      QD_2  slope_capacity_fade_2-100  \\\n",
       "0  0.468365  1.070689                  -0.000207   \n",
       "1  0.009288  1.075301                   0.000006   \n",
       "2  0.008131  1.079922                   0.000010   \n",
       "3  0.006530  1.079723                   0.000017   \n",
       "4  0.005900  1.078417                   0.000019   \n",
       "\n",
       "   intercept_capacity_fade_2-100  slope_capacity_fade_91-100  \\\n",
       "0                       1.091144                    0.000035   \n",
       "1                       1.080965                   -0.000041   \n",
       "2                       1.084846                   -0.000044   \n",
       "3                       1.084075                   -0.000004   \n",
       "4                       1.081875                   -0.000029   \n",
       "\n",
       "   intercept_capacity_91-100  init_avg_charge_time      avg_T    min_IR  \\\n",
       "0                   1.072425             13.374894  31.603747  0.016444   \n",
       "1                   1.084767             13.409150  31.330314  0.000000   \n",
       "2                   1.089364             13.358242  31.479584  0.000000   \n",
       "3                   1.085131             12.025140  29.942199  0.000000   \n",
       "4                   1.085538             12.041851  31.448884  0.000000   \n",
       "\n",
       "   IR_100-2  \n",
       "0 -0.000075  \n",
       "1 -0.000042  \n",
       "2 -0.000014  \n",
       "3  0.000039  \n",
       "4 -0.000053  "
      ]
     },
     "execution_count": 161,
     "metadata": {},
     "output_type": "execute_result"
    }
   ],
   "source": [
    "loaded_df = pd.read_csv(\"../Data/features.csv\")\n",
    "loaded_df.head()"
   ]
  },
  {
   "cell_type": "code",
   "execution_count": null,
   "metadata": {},
   "outputs": [],
   "source": []
  }
 ],
 "metadata": {
  "kernelspec": {
   "display_name": "Python 3 (ipykernel)",
   "language": "python",
   "name": "python3"
  },
  "language_info": {
   "codemirror_mode": {
    "name": "ipython",
    "version": 3
   },
   "file_extension": ".py",
   "mimetype": "text/x-python",
   "name": "python",
   "nbconvert_exporter": "python",
   "pygments_lexer": "ipython3",
   "version": "3.8.8"
  }
 },
 "nbformat": 4,
 "nbformat_minor": 2
}
